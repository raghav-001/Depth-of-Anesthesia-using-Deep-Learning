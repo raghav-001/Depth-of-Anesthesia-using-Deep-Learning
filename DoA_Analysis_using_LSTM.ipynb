{
  "nbformat": 4,
  "nbformat_minor": 0,
  "metadata": {
    "colab": {
      "provenance": [],
      "collapsed_sections": []
    },
    "kernelspec": {
      "name": "python3",
      "display_name": "Python 3"
    },
    "language_info": {
      "name": "python"
    },
    "gpuClass": "standard",
    "accelerator": "GPU"
  },
  "cells": [
    {
      "cell_type": "code",
      "execution_count": null,
      "metadata": {
        "id": "LWodXV_z0A9v"
      },
      "outputs": [],
      "source": [
        "import numpy as np\n",
        "import pandas as pd\n",
        "import os\n",
        "import matplotlib.pyplot as plt"
      ]
    },
    {
      "cell_type": "code",
      "source": [
        "os.chdir('/content/drive/MyDrive/PATIENTS DATA')"
      ],
      "metadata": {
        "id": "O1O2SzJ80W4m"
      },
      "execution_count": null,
      "outputs": []
    },
    {
      "cell_type": "code",
      "source": [
        "len(os.listdir(os.chdir('/content/drive/MyDrive/PATIENTS DATA')))"
      ],
      "metadata": {
        "colab": {
          "base_uri": "https://localhost:8080/"
        },
        "id": "i3hA1Xar0W9y",
        "outputId": "29146bad-1fea-4923-8a0d-747570e9c581"
      },
      "execution_count": null,
      "outputs": [
        {
          "output_type": "execute_result",
          "data": {
            "text/plain": [
              "50"
            ]
          },
          "metadata": {},
          "execution_count": 3
        }
      ]
    },
    {
      "cell_type": "code",
      "source": [
        "def get_eeg(path):\n",
        "  f=open(\"EEG.txt\",\"r\")\n",
        "  lines=f.readlines()\n",
        "  result=[]\n",
        "  for x in lines:\n",
        "      result.append(x.split('\\t')[1])\n",
        "  f.close()\n",
        "  len(result)\n",
        "  rep = []\n",
        "  for x in result:\n",
        "      rep.append(x.replace(\"\\n\", \"\"))\n",
        "  x = [int(i) for i in rep]\n",
        "  return x"
      ],
      "metadata": {
        "id": "ZqetuRlJ1_kw"
      },
      "execution_count": null,
      "outputs": []
    },
    {
      "cell_type": "code",
      "source": [
        "def slice_eeg(start_index,x):\n",
        "  x=x[start_index:]\n",
        "  x=x[:len(x)-len(x)%640]\n",
        "  return x"
      ],
      "metadata": {
        "id": "pT9p0yZc0XJx"
      },
      "execution_count": null,
      "outputs": []
    },
    {
      "cell_type": "code",
      "source": [
        "def get_BIS(x):\n",
        "  df=pd.read_csv(\"NumData.csv\")\n",
        "  df=df[:int(len(x)/640)]\n",
        "  y=df[\"BIS\"]\n",
        "  y = [int(i) for i in y]\n",
        "  return y"
      ],
      "metadata": {
        "id": "I72Hw64M-ekA"
      },
      "execution_count": null,
      "outputs": []
    },
    {
      "cell_type": "code",
      "source": [
        "def create_sequence(x,y):\n",
        "  l=[]\n",
        "  count=0\n",
        "  index=0\n",
        "  for i in range(0,len(x)):\n",
        "      l.append(x[i])\n",
        "      count+=1\n",
        "      if count==640:\n",
        "          l.append(y[index])\n",
        "          index+=1\n",
        "          count=0\n",
        "  return l"
      ],
      "metadata": {
        "id": "hzwN2WnQ_N-u"
      },
      "execution_count": null,
      "outputs": []
    },
    {
      "cell_type": "code",
      "source": [
        "L=[]"
      ],
      "metadata": {
        "id": "4uw_39PJAg4a"
      },
      "execution_count": null,
      "outputs": []
    },
    {
      "cell_type": "markdown",
      "source": [
        "**PATIENT-1**"
      ],
      "metadata": {
        "id": "YHlCgOd-2EEg"
      }
    },
    {
      "cell_type": "code",
      "source": [
        "os.chdir('/content/drive/MyDrive/PATIENTS DATA/Patient 1')\n",
        "start_index=18848\n",
        "x=get_eeg('/content/drive/MyDrive/PATIENTS DATA/Patient 1')\n",
        "x=slice_eeg(start_index,x)\n",
        "df=pd.read_csv(\"NumData.csv\")\n",
        "y=get_BIS(x)\n",
        "print(len(x),len(y))"
      ],
      "metadata": {
        "colab": {
          "base_uri": "https://localhost:8080/"
        },
        "id": "4MJtdDQO0XAW",
        "outputId": "3b5f078d-5e11-4b36-d506-7eecba8d5d88"
      },
      "execution_count": null,
      "outputs": [
        {
          "output_type": "stream",
          "name": "stdout",
          "text": [
            "1929600 3015\n"
          ]
        }
      ]
    },
    {
      "cell_type": "code",
      "source": [
        "l=create_sequence(x,y)\n",
        "for i in l:\n",
        "  L.append(i)\n",
        "print(len(L))"
      ],
      "metadata": {
        "colab": {
          "base_uri": "https://localhost:8080/"
        },
        "id": "XbP9DdjA6L4F",
        "outputId": "484c9da7-eb3a-4b12-8573-aa30f805f8b7"
      },
      "execution_count": null,
      "outputs": [
        {
          "output_type": "stream",
          "name": "stdout",
          "text": [
            "1932615\n"
          ]
        }
      ]
    },
    {
      "cell_type": "markdown",
      "source": [
        "**PATIENT-2**"
      ],
      "metadata": {
        "id": "8Zu16gZ-8jhF"
      }
    },
    {
      "cell_type": "code",
      "source": [
        "os.chdir('/content/drive/MyDrive/PATIENTS DATA/Patient 2')\n",
        "start_index=161160\n",
        "x=get_eeg('/content/drive/MyDrive/PATIENTS DATA/Patient 2')\n",
        "x=slice_eeg(start_index,x)\n",
        "df=pd.read_csv(\"NumData.csv\")\n",
        "y=get_BIS(x)\n",
        "print(len(x),len(y))"
      ],
      "metadata": {
        "colab": {
          "base_uri": "https://localhost:8080/"
        },
        "id": "FHzCDeTe6Lqg",
        "outputId": "1a675cdd-76a5-4420-a6f7-d1e7c1da7512"
      },
      "execution_count": null,
      "outputs": [
        {
          "output_type": "stream",
          "name": "stdout",
          "text": [
            "714880 1117\n"
          ]
        }
      ]
    },
    {
      "cell_type": "code",
      "source": [
        "l=create_sequence(x,y)\n",
        "for i in l:\n",
        "  L.append(i)\n",
        "print(len(L))"
      ],
      "metadata": {
        "colab": {
          "base_uri": "https://localhost:8080/"
        },
        "id": "WXARsLWl6ddp",
        "outputId": "bfa62be2-c2e8-4c71-a22a-23973d46020a"
      },
      "execution_count": null,
      "outputs": [
        {
          "output_type": "stream",
          "name": "stdout",
          "text": [
            "2648612\n"
          ]
        }
      ]
    },
    {
      "cell_type": "markdown",
      "source": [
        "**PATIENT-3**"
      ],
      "metadata": {
        "id": "NL0CNbnYB3GO"
      }
    },
    {
      "cell_type": "code",
      "source": [
        "os.chdir('/content/drive/MyDrive/PATIENTS DATA/Patient 3')\n",
        "start_index=10656\n",
        "x=get_eeg('/content/drive/MyDrive/PATIENTS DATA/Patient 3')\n",
        "x=slice_eeg(start_index,x)\n",
        "df=pd.read_csv(\"NumData.csv\")\n",
        "y=get_BIS(x)\n",
        "print(len(x),len(y))"
      ],
      "metadata": {
        "colab": {
          "base_uri": "https://localhost:8080/"
        },
        "id": "e6vNJKscBlvZ",
        "outputId": "99c6fd5a-d779-45fd-e319-ebe51b16ee4a"
      },
      "execution_count": null,
      "outputs": [
        {
          "output_type": "stream",
          "name": "stdout",
          "text": [
            "839680 1312\n"
          ]
        }
      ]
    },
    {
      "cell_type": "code",
      "source": [
        "l=create_sequence(x,y)\n",
        "for i in l:\n",
        "  L.append(i)\n",
        "print(len(L))"
      ],
      "metadata": {
        "colab": {
          "base_uri": "https://localhost:8080/"
        },
        "id": "fk2lL_e_BlY9",
        "outputId": "dcb7b1d0-3377-4cf3-f0ee-18b75f061a6a"
      },
      "execution_count": null,
      "outputs": [
        {
          "output_type": "stream",
          "name": "stdout",
          "text": [
            "3489604\n"
          ]
        }
      ]
    },
    {
      "cell_type": "markdown",
      "source": [
        "**PATIENT-4**"
      ],
      "metadata": {
        "id": "9BPD--iQDX83"
      }
    },
    {
      "cell_type": "code",
      "source": [
        "os.chdir('/content/drive/MyDrive/PATIENTS DATA/Patient 4')\n",
        "start_index=640\n",
        "x=get_eeg('/content/drive/MyDrive/PATIENTS DATA/Patient 4')\n",
        "x=slice_eeg(start_index,x)\n",
        "df=pd.read_csv(\"NumData.csv\")\n",
        "y=get_BIS(x)\n",
        "print(len(x),len(y))"
      ],
      "metadata": {
        "colab": {
          "base_uri": "https://localhost:8080/"
        },
        "id": "jHkKGMey6dQ1",
        "outputId": "4e571e26-6d89-4ffa-aff5-df7367f715aa"
      },
      "execution_count": null,
      "outputs": [
        {
          "output_type": "stream",
          "name": "stdout",
          "text": [
            "720640 1126\n"
          ]
        }
      ]
    },
    {
      "cell_type": "code",
      "source": [
        "l=create_sequence(x,y)\n",
        "for i in l:\n",
        "  L.append(i)\n",
        "print(len(L))"
      ],
      "metadata": {
        "colab": {
          "base_uri": "https://localhost:8080/"
        },
        "id": "AnNotCEF6dOU",
        "outputId": "9784326d-fbd1-432d-e925-d583ba97e677"
      },
      "execution_count": null,
      "outputs": [
        {
          "output_type": "stream",
          "name": "stdout",
          "text": [
            "4211370\n"
          ]
        }
      ]
    },
    {
      "cell_type": "markdown",
      "source": [
        "**PATIENT-5**"
      ],
      "metadata": {
        "id": "uHsXEW2yDxT3"
      }
    },
    {
      "cell_type": "code",
      "source": [
        "os.chdir('/content/drive/MyDrive/PATIENTS DATA/Patient 5')\n",
        "start_index=8288\n",
        "x=get_eeg('/content/drive/MyDrive/PATIENTS DATA/Patient 5')\n",
        "x=slice_eeg(start_index,x)\n",
        "df=pd.read_csv(\"NumData.csv\")\n",
        "y=get_BIS(x)\n",
        "print(len(x),len(y))"
      ],
      "metadata": {
        "colab": {
          "base_uri": "https://localhost:8080/"
        },
        "id": "Elu57v3g6dL7",
        "outputId": "98e876e2-e65d-44ff-a648-9b8747e12641"
      },
      "execution_count": null,
      "outputs": [
        {
          "output_type": "stream",
          "name": "stdout",
          "text": [
            "1308800 2045\n"
          ]
        }
      ]
    },
    {
      "cell_type": "code",
      "source": [
        "l=create_sequence(x,y)\n",
        "for i in l:\n",
        "  L.append(i)\n",
        "print(len(L))"
      ],
      "metadata": {
        "colab": {
          "base_uri": "https://localhost:8080/"
        },
        "id": "NxUjt2te6dJn",
        "outputId": "bff13c76-c69c-433e-bb9e-5bd71a44544f"
      },
      "execution_count": null,
      "outputs": [
        {
          "output_type": "stream",
          "name": "stdout",
          "text": [
            "5522215\n"
          ]
        }
      ]
    },
    {
      "cell_type": "markdown",
      "source": [
        "**PATIENT-6**"
      ],
      "metadata": {
        "id": "hXsbg5kyD9Np"
      }
    },
    {
      "cell_type": "code",
      "source": [
        "os.chdir('/content/drive/MyDrive/PATIENTS DATA/Patient 6')\n",
        "start_index=5920\n",
        "x=get_eeg('/content/drive/MyDrive/PATIENTS DATA/Patient 6')\n",
        "x=slice_eeg(start_index,x)\n",
        "df=pd.read_csv(\"NumData.csv\")\n",
        "y=get_BIS(x)\n",
        "print(len(x),len(y))"
      ],
      "metadata": {
        "colab": {
          "base_uri": "https://localhost:8080/"
        },
        "id": "8vRopiKd6dGt",
        "outputId": "8a1e411b-93c3-4eae-b35f-754ac457b9c2"
      },
      "execution_count": null,
      "outputs": [
        {
          "output_type": "stream",
          "name": "stdout",
          "text": [
            "967040 1511\n"
          ]
        }
      ]
    },
    {
      "cell_type": "code",
      "source": [
        "l=create_sequence(x,y)\n",
        "for i in l:\n",
        "  L.append(i)\n",
        "print(len(L))"
      ],
      "metadata": {
        "colab": {
          "base_uri": "https://localhost:8080/"
        },
        "id": "fPMTbiX86dEH",
        "outputId": "222b4f8b-4abc-4248-d289-56b65967c222"
      },
      "execution_count": null,
      "outputs": [
        {
          "output_type": "stream",
          "name": "stdout",
          "text": [
            "6490766\n"
          ]
        }
      ]
    },
    {
      "cell_type": "markdown",
      "source": [
        "**PATIENT-7**"
      ],
      "metadata": {
        "id": "axt5m3TPF1pY"
      }
    },
    {
      "cell_type": "code",
      "source": [
        "os.chdir('/content/drive/MyDrive/PATIENTS DATA/Patient 7')\n",
        "start_index=59264\n",
        "x=get_eeg('/content/drive/MyDrive/PATIENTS DATA/Patient 7')\n",
        "x=slice_eeg(start_index,x)\n",
        "df=pd.read_csv(\"NumData.csv\")\n",
        "y=get_BIS(x)\n",
        "print(len(x),len(y))"
      ],
      "metadata": {
        "colab": {
          "base_uri": "https://localhost:8080/"
        },
        "id": "XYDIv-b96dBt",
        "outputId": "455950f3-fb85-4853-c030-ad77b38fb5ce"
      },
      "execution_count": null,
      "outputs": [
        {
          "output_type": "stream",
          "name": "stdout",
          "text": [
            "1172480 1832\n"
          ]
        }
      ]
    },
    {
      "cell_type": "code",
      "source": [
        "l=create_sequence(x,y)\n",
        "for i in l:\n",
        "  L.append(i)\n",
        "print(len(L))"
      ],
      "metadata": {
        "colab": {
          "base_uri": "https://localhost:8080/"
        },
        "id": "qKnmgCh66c-8",
        "outputId": "ad0fabc4-b09a-45ec-9194-8408957ce04d"
      },
      "execution_count": null,
      "outputs": [
        {
          "output_type": "stream",
          "name": "stdout",
          "text": [
            "7665078\n"
          ]
        }
      ]
    },
    {
      "cell_type": "markdown",
      "source": [
        "**PATIENT-8**"
      ],
      "metadata": {
        "id": "NygdJCekGlkD"
      }
    },
    {
      "cell_type": "code",
      "source": [
        "os.chdir('/content/drive/MyDrive/PATIENTS DATA/Patient 8')\n",
        "start_index=39160\n",
        "x=get_eeg('/content/drive/MyDrive/PATIENTS DATA/Patient 8')\n",
        "x=slice_eeg(start_index,x)\n",
        "df=pd.read_csv(\"NumData.csv\")\n",
        "y=get_BIS(x)\n",
        "print(len(x),len(y))"
      ],
      "metadata": {
        "colab": {
          "base_uri": "https://localhost:8080/"
        },
        "id": "Vwvlhpoi6c8j",
        "outputId": "31a28c08-c78a-4bb3-d1b8-9c0e5ca240af"
      },
      "execution_count": null,
      "outputs": [
        {
          "output_type": "stream",
          "name": "stdout",
          "text": [
            "1220480 1907\n"
          ]
        }
      ]
    },
    {
      "cell_type": "code",
      "source": [
        "l=create_sequence(x,y)\n",
        "for i in l:\n",
        "  L.append(i)\n",
        "print(len(L))"
      ],
      "metadata": {
        "colab": {
          "base_uri": "https://localhost:8080/"
        },
        "id": "V1r9Pe8-6c6G",
        "outputId": "58b42804-5984-41e1-9f4a-928f2fffa36e"
      },
      "execution_count": null,
      "outputs": [
        {
          "output_type": "stream",
          "name": "stdout",
          "text": [
            "8887465\n"
          ]
        }
      ]
    },
    {
      "cell_type": "markdown",
      "source": [
        "**PATIENT-9**"
      ],
      "metadata": {
        "id": "KrPJW2dKHAPv"
      }
    },
    {
      "cell_type": "code",
      "source": [
        "os.chdir('/content/drive/MyDrive/PATIENTS DATA/Patient 9')\n",
        "start_index=7456\n",
        "x=get_eeg('/content/drive/MyDrive/PATIENTS DATA/Patient 9')\n",
        "x=slice_eeg(start_index,x)\n",
        "df=pd.read_csv(\"NumData.csv\")\n",
        "y=get_BIS(x)\n",
        "print(len(x),len(y))"
      ],
      "metadata": {
        "colab": {
          "base_uri": "https://localhost:8080/"
        },
        "id": "B8tiF5oc6c3s",
        "outputId": "6a642354-5bf9-4411-bc79-ef3e534fa56c"
      },
      "execution_count": null,
      "outputs": [
        {
          "output_type": "stream",
          "name": "stdout",
          "text": [
            "830080 1297\n"
          ]
        }
      ]
    },
    {
      "cell_type": "code",
      "source": [
        "l=create_sequence(x,y)\n",
        "for i in l:\n",
        "  L.append(i)\n",
        "print(len(L))"
      ],
      "metadata": {
        "colab": {
          "base_uri": "https://localhost:8080/"
        },
        "id": "pbEej7Fm6c1V",
        "outputId": "661f5518-6a0e-446b-9818-24ca630bfacf"
      },
      "execution_count": null,
      "outputs": [
        {
          "output_type": "stream",
          "name": "stdout",
          "text": [
            "9718842\n"
          ]
        }
      ]
    },
    {
      "cell_type": "markdown",
      "source": [
        "**PATIENT-10**"
      ],
      "metadata": {
        "id": "YnLi3C_GHba0"
      }
    },
    {
      "cell_type": "code",
      "source": [
        "os.chdir('/content/drive/MyDrive/PATIENTS DATA/Patient 10')\n",
        "start_index=29344\n",
        "x=get_eeg('/content/drive/MyDrive/PATIENTS DATA/Patient 10')\n",
        "x=slice_eeg(start_index,x)\n",
        "df=pd.read_csv(\"NumData.csv\")\n",
        "y=get_BIS(x)\n",
        "print(len(x),len(y))"
      ],
      "metadata": {
        "colab": {
          "base_uri": "https://localhost:8080/"
        },
        "id": "yx05RfCG6cy9",
        "outputId": "aa8e0ee7-f904-49f7-a90a-666303c86ee4"
      },
      "execution_count": null,
      "outputs": [
        {
          "output_type": "stream",
          "name": "stdout",
          "text": [
            "819840 1281\n"
          ]
        }
      ]
    },
    {
      "cell_type": "code",
      "source": [
        "l=create_sequence(x,y)\n",
        "for i in l:\n",
        "  L.append(i)\n",
        "print(len(L))"
      ],
      "metadata": {
        "colab": {
          "base_uri": "https://localhost:8080/"
        },
        "id": "tLXVs3uXHF_1",
        "outputId": "dde2cd8d-0c79-4728-8e84-7886dd1d8f58"
      },
      "execution_count": null,
      "outputs": [
        {
          "output_type": "stream",
          "name": "stdout",
          "text": [
            "10539963\n"
          ]
        }
      ]
    },
    {
      "cell_type": "markdown",
      "source": [
        "**PATIENT-11**"
      ],
      "metadata": {
        "id": "ycSSOJVWH_4p"
      }
    },
    {
      "cell_type": "code",
      "source": [
        "os.chdir('/content/drive/MyDrive/PATIENTS DATA/Patient 11')\n",
        "start_index=15008\n",
        "x=get_eeg('/content/drive/MyDrive/PATIENTS DATA/Patient 11')\n",
        "x=slice_eeg(start_index,x)\n",
        "df=pd.read_csv(\"NumData.csv\")\n",
        "y=get_BIS(x)\n",
        "print(len(x),len(y))"
      ],
      "metadata": {
        "colab": {
          "base_uri": "https://localhost:8080/"
        },
        "id": "smcehpAyHGzU",
        "outputId": "b7d54bd7-6917-4164-d90d-553092eae4e2"
      },
      "execution_count": null,
      "outputs": [
        {
          "output_type": "stream",
          "name": "stdout",
          "text": [
            "1098240 1716\n"
          ]
        }
      ]
    },
    {
      "cell_type": "code",
      "source": [
        "l=create_sequence(x,y)\n",
        "for i in l:\n",
        "  L.append(i)\n",
        "print(len(L))"
      ],
      "metadata": {
        "colab": {
          "base_uri": "https://localhost:8080/"
        },
        "id": "VoyYjC1kHGrb",
        "outputId": "7048a6e6-11eb-42c1-fdc0-7d15141e49de"
      },
      "execution_count": null,
      "outputs": [
        {
          "output_type": "stream",
          "name": "stdout",
          "text": [
            "11639919\n"
          ]
        }
      ]
    },
    {
      "cell_type": "markdown",
      "source": [
        "**PATIENT-12**"
      ],
      "metadata": {
        "id": "4f4UnxYbIYAY"
      }
    },
    {
      "cell_type": "code",
      "source": [
        "os.chdir('/content/drive/MyDrive/PATIENTS DATA/Patient 12')\n",
        "start_index=15968\n",
        "x=get_eeg('/content/drive/MyDrive/PATIENTS DATA/Patient 12')\n",
        "x=slice_eeg(start_index,x)\n",
        "df=pd.read_csv(\"NumData.csv\")\n",
        "y=get_BIS(x)\n",
        "print(len(x),len(y))"
      ],
      "metadata": {
        "colab": {
          "base_uri": "https://localhost:8080/"
        },
        "id": "vHfifIDp6cwj",
        "outputId": "badf6f84-8095-4e6a-c42d-de49f66195c2"
      },
      "execution_count": null,
      "outputs": [
        {
          "output_type": "stream",
          "name": "stdout",
          "text": [
            "1157120 1808\n"
          ]
        }
      ]
    },
    {
      "cell_type": "code",
      "source": [
        "l=create_sequence(x,y)\n",
        "for i in l:\n",
        "  L.append(i)\n",
        "print(len(L))"
      ],
      "metadata": {
        "colab": {
          "base_uri": "https://localhost:8080/"
        },
        "id": "F3_uQCFH6cuN",
        "outputId": "fda8f4e7-c504-4f4b-c7f8-39fd905a6386"
      },
      "execution_count": null,
      "outputs": [
        {
          "output_type": "stream",
          "name": "stdout",
          "text": [
            "12798847\n"
          ]
        }
      ]
    },
    {
      "cell_type": "markdown",
      "source": [
        "**PATIENT-13**"
      ],
      "metadata": {
        "id": "BCSk9SrbIuN0"
      }
    },
    {
      "cell_type": "markdown",
      "source": [
        "Insufficient data"
      ],
      "metadata": {
        "id": "bP4FcqHgJHED"
      }
    },
    {
      "cell_type": "markdown",
      "source": [
        "**PATIENT-14**"
      ],
      "metadata": {
        "id": "YKjN9weoJKtX"
      }
    },
    {
      "cell_type": "code",
      "source": [
        "os.chdir('/content/drive/MyDrive/PATIENTS DATA/Patient 14')\n",
        "start_index=512\n",
        "x=get_eeg('/content/drive/MyDrive/PATIENTS DATA/Patient 14')\n",
        "x=slice_eeg(start_index,x)\n",
        "df=pd.read_csv(\"NumData.csv\")\n",
        "y=get_BIS(x)\n",
        "print(len(x),len(y))"
      ],
      "metadata": {
        "colab": {
          "base_uri": "https://localhost:8080/"
        },
        "id": "gcHPCnyq6crr",
        "outputId": "8d966dc7-df11-4a05-aeb7-acd955e04534"
      },
      "execution_count": null,
      "outputs": [
        {
          "output_type": "stream",
          "name": "stdout",
          "text": [
            "830080 1297\n"
          ]
        }
      ]
    },
    {
      "cell_type": "code",
      "source": [
        "l=create_sequence(x,y)\n",
        "for i in l:\n",
        "  L.append(i)\n",
        "print(len(L))"
      ],
      "metadata": {
        "colab": {
          "base_uri": "https://localhost:8080/"
        },
        "id": "ERdYGJIk6cpf",
        "outputId": "13eb4094-9455-4253-ed19-fb66e2a0c133"
      },
      "execution_count": null,
      "outputs": [
        {
          "output_type": "stream",
          "name": "stdout",
          "text": [
            "13630224\n"
          ]
        }
      ]
    },
    {
      "cell_type": "markdown",
      "source": [
        "**PATIENT-15**"
      ],
      "metadata": {
        "id": "T4iR1lQaJ_cM"
      }
    },
    {
      "cell_type": "code",
      "source": [
        "os.chdir('/content/drive/MyDrive/PATIENTS DATA/Patient 15')\n",
        "start_index=576\n",
        "x=get_eeg('/content/drive/MyDrive/PATIENTS DATA/Patient 15')\n",
        "x=slice_eeg(start_index,x)\n",
        "df=pd.read_csv(\"NumData.csv\")\n",
        "y=get_BIS(x)\n",
        "print(len(x),len(y))"
      ],
      "metadata": {
        "colab": {
          "base_uri": "https://localhost:8080/"
        },
        "id": "Mv_KsaVT6ces",
        "outputId": "b1c7e06a-0ff8-4aaa-9c5d-fc4898907c2b"
      },
      "execution_count": null,
      "outputs": [
        {
          "output_type": "stream",
          "name": "stdout",
          "text": [
            "736640 1151\n"
          ]
        }
      ]
    },
    {
      "cell_type": "code",
      "source": [
        "l=create_sequence(x,y)\n",
        "for i in l:\n",
        "  L.append(i)\n",
        "print(len(L))"
      ],
      "metadata": {
        "colab": {
          "base_uri": "https://localhost:8080/"
        },
        "id": "uKolUg356ccE",
        "outputId": "0b597d2e-b108-4c41-959b-98790f7c8255"
      },
      "execution_count": null,
      "outputs": [
        {
          "output_type": "stream",
          "name": "stdout",
          "text": [
            "14368015\n"
          ]
        }
      ]
    },
    {
      "cell_type": "markdown",
      "source": [
        "**PATIENT-16**"
      ],
      "metadata": {
        "id": "D7Q7-nYnKShn"
      }
    },
    {
      "cell_type": "code",
      "source": [
        "os.chdir('/content/drive/MyDrive/PATIENTS DATA/Patient 16')\n",
        "start_index=1280\n",
        "x=get_eeg('/content/drive/MyDrive/PATIENTS DATA/Patient 16')\n",
        "x=slice_eeg(start_index,x)\n",
        "df=pd.read_csv(\"NumData.csv\")\n",
        "y=get_BIS(x)\n",
        "print(len(x),len(y))"
      ],
      "metadata": {
        "colab": {
          "base_uri": "https://localhost:8080/"
        },
        "id": "3dXHqawtHFKq",
        "outputId": "f9067809-9342-4f0a-a17e-f0e99c925a0a"
      },
      "execution_count": null,
      "outputs": [
        {
          "output_type": "stream",
          "name": "stdout",
          "text": [
            "1028480 1607\n"
          ]
        }
      ]
    },
    {
      "cell_type": "code",
      "source": [
        "l=create_sequence(x,y)\n",
        "for i in l:\n",
        "  L.append(i)\n",
        "print(len(L))"
      ],
      "metadata": {
        "colab": {
          "base_uri": "https://localhost:8080/"
        },
        "id": "xzb1D_nbHFIM",
        "outputId": "567f85f6-1aec-4b89-ce3b-537ce9555eed"
      },
      "execution_count": null,
      "outputs": [
        {
          "output_type": "stream",
          "name": "stdout",
          "text": [
            "15398102\n"
          ]
        }
      ]
    },
    {
      "cell_type": "markdown",
      "source": [
        "**PATIENT-17**"
      ],
      "metadata": {
        "id": "JP5_4nV_K3jQ"
      }
    },
    {
      "cell_type": "code",
      "source": [
        "os.chdir('/content/drive/MyDrive/PATIENTS DATA/Patient 17')\n",
        "start_index=40328\n",
        "x=get_eeg('/content/drive/MyDrive/PATIENTS DATA/Patient 17')\n",
        "x=slice_eeg(start_index,x)\n",
        "df=pd.read_csv(\"NumData.csv\")\n",
        "y=get_BIS(x)\n",
        "print(len(x),len(y))"
      ],
      "metadata": {
        "colab": {
          "base_uri": "https://localhost:8080/"
        },
        "id": "aN38x5loHFFy",
        "outputId": "e6161ae8-861f-4e15-c450-a51b48f874de"
      },
      "execution_count": null,
      "outputs": [
        {
          "output_type": "stream",
          "name": "stdout",
          "text": [
            "1647360 2574\n"
          ]
        }
      ]
    },
    {
      "cell_type": "code",
      "source": [
        "l=create_sequence(x,y)\n",
        "for i in l:\n",
        "  L.append(i)\n",
        "print(len(L))"
      ],
      "metadata": {
        "colab": {
          "base_uri": "https://localhost:8080/"
        },
        "id": "tFW8GYl_HFDA",
        "outputId": "c2b4098e-7561-47d5-f082-f07f7174cabf"
      },
      "execution_count": null,
      "outputs": [
        {
          "output_type": "stream",
          "name": "stdout",
          "text": [
            "17048036\n"
          ]
        }
      ]
    },
    {
      "cell_type": "markdown",
      "source": [
        "**PATIENT-18**"
      ],
      "metadata": {
        "id": "ZEXnJOFrLUXW"
      }
    },
    {
      "cell_type": "code",
      "source": [
        "os.chdir('/content/drive/MyDrive/PATIENTS DATA/Patient 18')\n",
        "start_index=480\n",
        "x=get_eeg('/content/drive/MyDrive/PATIENTS DATA/Patient 18')\n",
        "x=slice_eeg(start_index,x)\n",
        "df=pd.read_csv(\"NumData.csv\")\n",
        "y=get_BIS(x)\n",
        "print(len(x),len(y))"
      ],
      "metadata": {
        "colab": {
          "base_uri": "https://localhost:8080/"
        },
        "id": "speagrLoHFAI",
        "outputId": "8bdeb013-5311-41a0-e994-22f80768b537"
      },
      "execution_count": null,
      "outputs": [
        {
          "output_type": "stream",
          "name": "stdout",
          "text": [
            "192640 301\n"
          ]
        }
      ]
    },
    {
      "cell_type": "code",
      "source": [
        "l=create_sequence(x,y)\n",
        "for i in l:\n",
        "  L.append(i)\n",
        "print(len(L))"
      ],
      "metadata": {
        "colab": {
          "base_uri": "https://localhost:8080/"
        },
        "id": "OPB7dJ2rNJzd",
        "outputId": "4042915d-e6da-40ff-f3e3-0b5f599aa45b"
      },
      "execution_count": null,
      "outputs": [
        {
          "output_type": "stream",
          "name": "stdout",
          "text": [
            "17240977\n"
          ]
        }
      ]
    },
    {
      "cell_type": "markdown",
      "source": [
        "**PATIENT-19**"
      ],
      "metadata": {
        "id": "1ElU0V_4L0ba"
      }
    },
    {
      "cell_type": "code",
      "source": [
        "os.chdir('/content/drive/MyDrive/PATIENTS DATA/Patient 19')\n",
        "start_index=0\n",
        "x=get_eeg('/content/drive/MyDrive/PATIENTS DATA/Patient 19')\n",
        "x=slice_eeg(start_index,x)\n",
        "df=pd.read_csv(\"NumData.csv\")\n",
        "y=get_BIS(x)\n",
        "print(len(x),len(y))"
      ],
      "metadata": {
        "colab": {
          "base_uri": "https://localhost:8080/"
        },
        "id": "54C39jEQHE9W",
        "outputId": "ee641378-f111-4f09-f849-bc34d38f73c2"
      },
      "execution_count": null,
      "outputs": [
        {
          "output_type": "stream",
          "name": "stdout",
          "text": [
            "1220480 1907\n"
          ]
        }
      ]
    },
    {
      "cell_type": "code",
      "source": [
        "l=create_sequence(x,y)\n",
        "for i in l:\n",
        "  L.append(i)\n",
        "print(len(L))"
      ],
      "metadata": {
        "colab": {
          "base_uri": "https://localhost:8080/"
        },
        "id": "okHlenFDHE7M",
        "outputId": "5a6c1f7e-4344-458e-d8e4-c2c889d3c3d5"
      },
      "execution_count": null,
      "outputs": [
        {
          "output_type": "stream",
          "name": "stdout",
          "text": [
            "18463364\n"
          ]
        }
      ]
    },
    {
      "cell_type": "markdown",
      "source": [
        "**PATIENT-20**"
      ],
      "metadata": {
        "id": "GhSpeanwNh3r"
      }
    },
    {
      "cell_type": "code",
      "source": [
        "os.chdir('/content/drive/MyDrive/PATIENTS DATA/Patient 20')\n",
        "start_index=27520\n",
        "x=get_eeg('/content/drive/MyDrive/PATIENTS DATA/Patient 20')\n",
        "x=slice_eeg(start_index,x)\n",
        "df=pd.read_csv(\"NumData.csv\")\n",
        "y=get_BIS(x)\n",
        "print(len(x),len(y))"
      ],
      "metadata": {
        "colab": {
          "base_uri": "https://localhost:8080/"
        },
        "id": "BL05CJ-cHE4k",
        "outputId": "4c7e5aca-4859-44ee-c838-8acb3a3b14f2"
      },
      "execution_count": null,
      "outputs": [
        {
          "output_type": "stream",
          "name": "stdout",
          "text": [
            "1037440 1621\n"
          ]
        }
      ]
    },
    {
      "cell_type": "code",
      "source": [
        "l=create_sequence(x,y)\n",
        "for i in l:\n",
        "  L.append(i)\n",
        "print(len(L))"
      ],
      "metadata": {
        "colab": {
          "base_uri": "https://localhost:8080/"
        },
        "id": "wrAEwgQyHExM",
        "outputId": "f401cf3d-cf49-4c04-a6c9-8ce4874b97dd"
      },
      "execution_count": null,
      "outputs": [
        {
          "output_type": "stream",
          "name": "stdout",
          "text": [
            "19502425\n"
          ]
        }
      ]
    },
    {
      "cell_type": "markdown",
      "source": [
        "**PATIENT-21**"
      ],
      "metadata": {
        "id": "Hu0ycU2_OJLj"
      }
    },
    {
      "cell_type": "code",
      "source": [
        "os.chdir('/content/drive/MyDrive/PATIENTS DATA/Patient 21')\n",
        "start_index=11072\n",
        "x=get_eeg('/content/drive/MyDrive/PATIENTS DATA/Patient 21')\n",
        "x=slice_eeg(start_index,x)\n",
        "df=pd.read_csv(\"NumData.csv\")\n",
        "y=get_BIS(x)\n",
        "print(len(x),len(y))"
      ],
      "metadata": {
        "colab": {
          "base_uri": "https://localhost:8080/"
        },
        "id": "VOTwZdhPKbuy",
        "outputId": "a356f158-bc65-4882-e907-08177c22cc4b"
      },
      "execution_count": null,
      "outputs": [
        {
          "output_type": "stream",
          "name": "stdout",
          "text": [
            "1194240 1866\n"
          ]
        }
      ]
    },
    {
      "cell_type": "code",
      "source": [
        "l=create_sequence(x,y)\n",
        "for i in l:\n",
        "  L.append(i)\n",
        "print(len(L))"
      ],
      "metadata": {
        "colab": {
          "base_uri": "https://localhost:8080/"
        },
        "id": "a6MWoYMwKbsP",
        "outputId": "be9e1e6a-9e16-4b55-c91d-bec40d013558"
      },
      "execution_count": null,
      "outputs": [
        {
          "output_type": "stream",
          "name": "stdout",
          "text": [
            "20698531\n"
          ]
        }
      ]
    },
    {
      "cell_type": "markdown",
      "source": [
        "**PATIENT-22**"
      ],
      "metadata": {
        "id": "RlU9G7CJOcql"
      }
    },
    {
      "cell_type": "code",
      "source": [
        "os.chdir('/content/drive/MyDrive/PATIENTS DATA/Patient 22')\n",
        "start_index=11776\n",
        "x=get_eeg('/content/drive/MyDrive/PATIENTS DATA/Patient 22')\n",
        "x=slice_eeg(start_index,x)\n",
        "df=pd.read_csv(\"NumData.csv\")\n",
        "y=get_BIS(x)\n",
        "print(len(x),len(y))"
      ],
      "metadata": {
        "colab": {
          "base_uri": "https://localhost:8080/"
        },
        "id": "wwEgFJhlKbpX",
        "outputId": "2b4946f4-abf3-489f-dc74-26837ad1b62f"
      },
      "execution_count": null,
      "outputs": [
        {
          "output_type": "stream",
          "name": "stdout",
          "text": [
            "623360 974\n"
          ]
        }
      ]
    },
    {
      "cell_type": "code",
      "source": [
        "l=create_sequence(x,y)\n",
        "for i in l:\n",
        "  L.append(i)\n",
        "print(len(L))"
      ],
      "metadata": {
        "colab": {
          "base_uri": "https://localhost:8080/"
        },
        "id": "DcdNZO2yKbmg",
        "outputId": "158603cd-7712-4de0-bcc9-05b7a41f9f37"
      },
      "execution_count": null,
      "outputs": [
        {
          "output_type": "stream",
          "name": "stdout",
          "text": [
            "21322865\n"
          ]
        }
      ]
    },
    {
      "cell_type": "markdown",
      "source": [
        "**PATIENT-23**"
      ],
      "metadata": {
        "id": "uQkF2jtzPAUi"
      }
    },
    {
      "cell_type": "code",
      "source": [
        "os.chdir('/content/drive/MyDrive/PATIENTS DATA/Patient 23')\n",
        "start_index=22368\n",
        "x=get_eeg('/content/drive/MyDrive/PATIENTS DATA/Patient 23')\n",
        "x=slice_eeg(start_index,x)\n",
        "df=pd.read_csv(\"NumData.csv\")\n",
        "y=get_BIS(x)\n",
        "print(len(x),len(y))"
      ],
      "metadata": {
        "colab": {
          "base_uri": "https://localhost:8080/"
        },
        "id": "GXa117zAKbj2",
        "outputId": "01511fb6-c719-4bb3-f020-6338e9c98f31"
      },
      "execution_count": null,
      "outputs": [
        {
          "output_type": "stream",
          "name": "stdout",
          "text": [
            "666880 1042\n"
          ]
        }
      ]
    },
    {
      "cell_type": "code",
      "source": [
        "l=create_sequence(x,y)\n",
        "for i in l:\n",
        "  L.append(i)\n",
        "print(len(L))"
      ],
      "metadata": {
        "colab": {
          "base_uri": "https://localhost:8080/"
        },
        "id": "3NtO-qcoKbhH",
        "outputId": "0a9898ad-a7a1-43e8-eded-3b58bc7f5e34"
      },
      "execution_count": null,
      "outputs": [
        {
          "output_type": "stream",
          "name": "stdout",
          "text": [
            "21990787\n"
          ]
        }
      ]
    },
    {
      "cell_type": "markdown",
      "source": [
        "**PATIENT-24**"
      ],
      "metadata": {
        "id": "xdR308gSPbCO"
      }
    },
    {
      "cell_type": "code",
      "source": [
        "os.chdir('/content/drive/MyDrive/PATIENTS DATA/Patient 24')\n",
        "start_index=5632\n",
        "x=get_eeg('/content/drive/MyDrive/PATIENTS DATA/Patient 24')\n",
        "x=slice_eeg(start_index,x)\n",
        "df=pd.read_csv(\"NumData.csv\")\n",
        "y=get_BIS(x)\n",
        "print(len(x),len(y))"
      ],
      "metadata": {
        "colab": {
          "base_uri": "https://localhost:8080/"
        },
        "id": "KQDRvp0tKbeb",
        "outputId": "688c97de-c515-4fb1-ce24-19a3bd1ed930"
      },
      "execution_count": null,
      "outputs": [
        {
          "output_type": "stream",
          "name": "stdout",
          "text": [
            "1691520 2643\n"
          ]
        }
      ]
    },
    {
      "cell_type": "code",
      "source": [
        "l=create_sequence(x,y)\n",
        "for i in l:\n",
        "  L.append(i)\n",
        "print(len(L))"
      ],
      "metadata": {
        "colab": {
          "base_uri": "https://localhost:8080/"
        },
        "id": "h-8LxqmFKbb4",
        "outputId": "e1d8f578-b4d8-4f23-be9e-2a94b2ac1484"
      },
      "execution_count": null,
      "outputs": [
        {
          "output_type": "stream",
          "name": "stdout",
          "text": [
            "23684950\n"
          ]
        }
      ]
    },
    {
      "cell_type": "markdown",
      "source": [
        "**PATIENT-25**"
      ],
      "metadata": {
        "id": "CIqV9pKkPwfz"
      }
    },
    {
      "cell_type": "code",
      "source": [
        "os.chdir('/content/drive/MyDrive/PATIENTS DATA/Patient 25')\n",
        "start_index=70152\n",
        "x=get_eeg('/content/drive/MyDrive/PATIENTS DATA/Patient 25')\n",
        "x=slice_eeg(start_index,x)\n",
        "df=pd.read_csv(\"NumData.csv\")\n",
        "y=get_BIS(x)\n",
        "print(len(x),len(y))"
      ],
      "metadata": {
        "colab": {
          "base_uri": "https://localhost:8080/"
        },
        "id": "GpRVMgRCKbZb",
        "outputId": "59ac223d-f294-4cb5-ea58-2d0a24cee314"
      },
      "execution_count": null,
      "outputs": [
        {
          "output_type": "stream",
          "name": "stdout",
          "text": [
            "671360 1049\n"
          ]
        }
      ]
    },
    {
      "cell_type": "code",
      "source": [
        "l=create_sequence(x,y)\n",
        "for i in l:\n",
        "  L.append(i)\n",
        "print(len(L))"
      ],
      "metadata": {
        "colab": {
          "base_uri": "https://localhost:8080/"
        },
        "id": "j29q2220KbW3",
        "outputId": "b18a9c0f-808b-4f88-a353-2b1ccd7e8a03"
      },
      "execution_count": null,
      "outputs": [
        {
          "output_type": "stream",
          "name": "stdout",
          "text": [
            "24357359\n"
          ]
        }
      ]
    },
    {
      "cell_type": "markdown",
      "source": [
        "**PATIENT-26**"
      ],
      "metadata": {
        "id": "cNvE3L75QB_G"
      }
    },
    {
      "cell_type": "code",
      "source": [
        "os.chdir('/content/drive/MyDrive/PATIENTS DATA/Patient 26')\n",
        "start_index=30944\n",
        "x=get_eeg('/content/drive/MyDrive/PATIENTS DATA/Patient 26')\n",
        "x=slice_eeg(start_index,x)\n",
        "df=pd.read_csv(\"NumData.csv\")\n",
        "y=get_BIS(x)\n",
        "print(len(x),len(y))"
      ],
      "metadata": {
        "colab": {
          "base_uri": "https://localhost:8080/"
        },
        "id": "zX2qMY6cKbUS",
        "outputId": "6bbe61ab-e879-443f-90dc-bcce2c7296a0"
      },
      "execution_count": null,
      "outputs": [
        {
          "output_type": "stream",
          "name": "stdout",
          "text": [
            "386560 604\n"
          ]
        }
      ]
    },
    {
      "cell_type": "code",
      "source": [
        "l=create_sequence(x,y)\n",
        "for i in l:\n",
        "  L.append(i)\n",
        "print(len(L))"
      ],
      "metadata": {
        "colab": {
          "base_uri": "https://localhost:8080/"
        },
        "id": "Ii26FX8lKbSQ",
        "outputId": "46899f53-8648-465e-f2ac-29a6a3000bd1"
      },
      "execution_count": null,
      "outputs": [
        {
          "output_type": "stream",
          "name": "stdout",
          "text": [
            "24744523\n"
          ]
        }
      ]
    },
    {
      "cell_type": "markdown",
      "source": [
        "**PATIENT-27**"
      ],
      "metadata": {
        "id": "moPzG59gVi2h"
      }
    },
    {
      "cell_type": "code",
      "source": [
        "os.chdir('/content/drive/MyDrive/PATIENTS DATA/Patient 27')\n",
        "start_index=7776\n",
        "x=get_eeg('/content/drive/MyDrive/PATIENTS DATA/Patient 27')\n",
        "x=slice_eeg(start_index,x)\n",
        "df=pd.read_csv(\"NumData.csv\")\n",
        "y=get_BIS(x)\n",
        "print(len(x),len(y))"
      ],
      "metadata": {
        "colab": {
          "base_uri": "https://localhost:8080/"
        },
        "id": "jxWexAg9KbPh",
        "outputId": "0ae790d1-25d8-485b-ae71-1a143a7f2039"
      },
      "execution_count": null,
      "outputs": [
        {
          "output_type": "stream",
          "name": "stdout",
          "text": [
            "925440 1446\n"
          ]
        }
      ]
    },
    {
      "cell_type": "code",
      "source": [
        "l=create_sequence(x,y)\n",
        "for i in l:\n",
        "  L.append(i)\n",
        "print(len(L))"
      ],
      "metadata": {
        "colab": {
          "base_uri": "https://localhost:8080/"
        },
        "id": "x8ukF60VKbNC",
        "outputId": "0f298885-70a4-46dc-be8f-58e124d27ed9"
      },
      "execution_count": null,
      "outputs": [
        {
          "output_type": "stream",
          "name": "stdout",
          "text": [
            "25671409\n"
          ]
        }
      ]
    },
    {
      "cell_type": "markdown",
      "source": [
        "**PATIENT-28**"
      ],
      "metadata": {
        "id": "5HvpXCQqV6SY"
      }
    },
    {
      "cell_type": "markdown",
      "source": [
        "Insufficient data"
      ],
      "metadata": {
        "id": "88Rv-jclWRal"
      }
    },
    {
      "cell_type": "markdown",
      "source": [
        "**PATIENT-29**"
      ],
      "metadata": {
        "id": "Vb4QeWC5WU2h"
      }
    },
    {
      "cell_type": "code",
      "source": [
        "os.chdir('/content/drive/MyDrive/PATIENTS DATA/Patient 29')\n",
        "start_index=0\n",
        "x=get_eeg('/content/drive/MyDrive/PATIENTS DATA/Patient 29')\n",
        "x=slice_eeg(start_index,x)\n",
        "df=pd.read_csv(\"NumData.csv\")\n",
        "y=get_BIS(x)\n",
        "print(len(x),len(y))"
      ],
      "metadata": {
        "colab": {
          "base_uri": "https://localhost:8080/"
        },
        "id": "gHY4Fy33KbKX",
        "outputId": "d7bcd0db-8df4-4704-a573-48398d8cc9d7"
      },
      "execution_count": null,
      "outputs": [
        {
          "output_type": "stream",
          "name": "stdout",
          "text": [
            "718080 1122\n"
          ]
        }
      ]
    },
    {
      "cell_type": "code",
      "source": [
        "l=create_sequence(x,y)\n",
        "for i in l:\n",
        "  L.append(i)\n",
        "print(len(L))"
      ],
      "metadata": {
        "colab": {
          "base_uri": "https://localhost:8080/"
        },
        "id": "8nAXtFo7KbIB",
        "outputId": "06b350b7-e4b1-4d13-f131-d4fcbee3ed3f"
      },
      "execution_count": null,
      "outputs": [
        {
          "output_type": "stream",
          "name": "stdout",
          "text": [
            "26390611\n"
          ]
        }
      ]
    },
    {
      "cell_type": "markdown",
      "source": [
        "**PATIENT-30**"
      ],
      "metadata": {
        "id": "53HR-JPWW-BM"
      }
    },
    {
      "cell_type": "code",
      "source": [
        "os.chdir('/content/drive/MyDrive/PATIENTS DATA/Patient 30')\n",
        "start_index=104532\n",
        "x=get_eeg('/content/drive/MyDrive/PATIENTS DATA/Patient 30')\n",
        "x=slice_eeg(start_index,x)\n",
        "df=pd.read_csv(\"NumData.csv\")\n",
        "y=get_BIS(x)\n",
        "print(len(x),len(y))"
      ],
      "metadata": {
        "colab": {
          "base_uri": "https://localhost:8080/"
        },
        "id": "qagxyO3AKbFP",
        "outputId": "15fa3733-beae-48c7-f76c-4e076dc3c5ed"
      },
      "execution_count": null,
      "outputs": [
        {
          "output_type": "stream",
          "name": "stdout",
          "text": [
            "755840 1181\n"
          ]
        }
      ]
    },
    {
      "cell_type": "code",
      "source": [
        "l=create_sequence(x,y)\n",
        "for i in l:\n",
        "  L.append(i)\n",
        "print(len(L))"
      ],
      "metadata": {
        "colab": {
          "base_uri": "https://localhost:8080/"
        },
        "id": "B1oH-DJsKbCq",
        "outputId": "1661b90d-f4af-4b63-e73f-68fd4cc3caf0"
      },
      "execution_count": null,
      "outputs": [
        {
          "output_type": "stream",
          "name": "stdout",
          "text": [
            "27147632\n"
          ]
        }
      ]
    },
    {
      "cell_type": "markdown",
      "source": [
        "**PATIENT-31**"
      ],
      "metadata": {
        "id": "syEsF7HgXnzA"
      }
    },
    {
      "cell_type": "code",
      "source": [
        "os.chdir('/content/drive/MyDrive/PATIENTS DATA/Patient 31')\n",
        "start_index=7712\n",
        "x=get_eeg('/content/drive/MyDrive/PATIENTS DATA/Patient 31')\n",
        "x=slice_eeg(start_index,x)\n",
        "df=pd.read_csv(\"NumData.csv\")\n",
        "y=get_BIS(x)\n",
        "print(len(x),len(y))"
      ],
      "metadata": {
        "colab": {
          "base_uri": "https://localhost:8080/"
        },
        "id": "ZwJE4okZXnm_",
        "outputId": "21e55e0e-e407-4b82-fcb5-9a8358ebb6c5"
      },
      "execution_count": null,
      "outputs": [
        {
          "output_type": "stream",
          "name": "stdout",
          "text": [
            "579840 906\n"
          ]
        }
      ]
    },
    {
      "cell_type": "code",
      "source": [
        "l=create_sequence(x,y)\n",
        "for i in l:\n",
        "  L.append(i)\n",
        "print(len(L))"
      ],
      "metadata": {
        "colab": {
          "base_uri": "https://localhost:8080/"
        },
        "id": "9Su7RdU0XnkY",
        "outputId": "2a3eb179-e5be-46fe-8996-b50c6146d980"
      },
      "execution_count": null,
      "outputs": [
        {
          "output_type": "stream",
          "name": "stdout",
          "text": [
            "27728378\n"
          ]
        }
      ]
    },
    {
      "cell_type": "markdown",
      "source": [
        "**PATIENT-32**"
      ],
      "metadata": {
        "id": "gzpPrhJ0X9nI"
      }
    },
    {
      "cell_type": "code",
      "source": [
        "os.chdir('/content/drive/MyDrive/PATIENTS DATA/Patient 32')\n",
        "start_index=292448\n",
        "x=get_eeg('/content/drive/MyDrive/PATIENTS DATA/Patient 32')\n",
        "x=slice_eeg(start_index,x)\n",
        "df=pd.read_csv(\"NumData.csv\")\n",
        "y=get_BIS(x)\n",
        "print(len(x),len(y))"
      ],
      "metadata": {
        "colab": {
          "base_uri": "https://localhost:8080/"
        },
        "id": "8PyzE-VbXniz",
        "outputId": "9a838487-d137-4b9f-8976-58507acf777a"
      },
      "execution_count": null,
      "outputs": [
        {
          "output_type": "stream",
          "name": "stdout",
          "text": [
            "1137920 1778\n"
          ]
        }
      ]
    },
    {
      "cell_type": "code",
      "source": [
        "l=create_sequence(x,y)\n",
        "for i in l:\n",
        "  L.append(i)\n",
        "print(len(L))"
      ],
      "metadata": {
        "colab": {
          "base_uri": "https://localhost:8080/"
        },
        "id": "f_IaI4VfXngC",
        "outputId": "b80dfdc4-0634-4603-a964-46d6679a7642"
      },
      "execution_count": null,
      "outputs": [
        {
          "output_type": "stream",
          "name": "stdout",
          "text": [
            "28868076\n"
          ]
        }
      ]
    },
    {
      "cell_type": "markdown",
      "source": [
        "**PATIENT-33**"
      ],
      "metadata": {
        "id": "Hw0_h1BGYdLc"
      }
    },
    {
      "cell_type": "code",
      "source": [
        "os.chdir('/content/drive/MyDrive/PATIENTS DATA/Patient 33')\n",
        "start_index=608\n",
        "x=get_eeg('/content/drive/MyDrive/PATIENTS DATA/Patient 33')\n",
        "x=slice_eeg(start_index,x)\n",
        "df=pd.read_csv(\"NumData.csv\")\n",
        "y=get_BIS(x)\n",
        "print(len(x),len(y))"
      ],
      "metadata": {
        "colab": {
          "base_uri": "https://localhost:8080/"
        },
        "id": "90W9VjuRXndq",
        "outputId": "de90a293-b537-45ba-f981-4c217f284354"
      },
      "execution_count": null,
      "outputs": [
        {
          "output_type": "stream",
          "name": "stdout",
          "text": [
            "904960 1414\n"
          ]
        }
      ]
    },
    {
      "cell_type": "code",
      "source": [
        "l=create_sequence(x,y)\n",
        "for i in l:\n",
        "  L.append(i)\n",
        "print(len(L))"
      ],
      "metadata": {
        "colab": {
          "base_uri": "https://localhost:8080/"
        },
        "id": "wsi6e701Xnav",
        "outputId": "e5ccd23b-74dc-41a5-ac03-60f9c394af1c"
      },
      "execution_count": null,
      "outputs": [
        {
          "output_type": "stream",
          "name": "stdout",
          "text": [
            "29774450\n"
          ]
        }
      ]
    },
    {
      "cell_type": "markdown",
      "source": [
        "**PATIENT-34**"
      ],
      "metadata": {
        "id": "XgGJKgLjYw1Q"
      }
    },
    {
      "cell_type": "code",
      "source": [
        "os.chdir('/content/drive/MyDrive/PATIENTS DATA/Patient 34')\n",
        "start_index=0\n",
        "x=get_eeg('/content/drive/MyDrive/PATIENTS DATA/Patient 34')\n",
        "x=slice_eeg(start_index,x)\n",
        "df=pd.read_csv(\"NumData.csv\")\n",
        "y=get_BIS(x)\n",
        "print(len(x),len(y))"
      ],
      "metadata": {
        "colab": {
          "base_uri": "https://localhost:8080/"
        },
        "id": "WgQCpoUDYgVx",
        "outputId": "64cc0eb1-7f07-4451-b33e-cc7d3526fce2"
      },
      "execution_count": null,
      "outputs": [
        {
          "output_type": "stream",
          "name": "stdout",
          "text": [
            "1258880 1967\n"
          ]
        }
      ]
    },
    {
      "cell_type": "code",
      "source": [
        "l=create_sequence(x,y)\n",
        "for i in l:\n",
        "  L.append(i)\n",
        "print(len(L))"
      ],
      "metadata": {
        "colab": {
          "base_uri": "https://localhost:8080/"
        },
        "id": "6pr_nooXYgTA",
        "outputId": "99a42559-5e50-480a-e461-bb4162c1f209"
      },
      "execution_count": null,
      "outputs": [
        {
          "output_type": "stream",
          "name": "stdout",
          "text": [
            "31035297\n"
          ]
        }
      ]
    },
    {
      "cell_type": "markdown",
      "source": [
        "**PATIENT-35**"
      ],
      "metadata": {
        "id": "D_YoKisLZWIE"
      }
    },
    {
      "cell_type": "code",
      "source": [
        "os.chdir('/content/drive/MyDrive/PATIENTS DATA/Patient 35')\n",
        "start_index=16672\n",
        "x=get_eeg('/content/drive/MyDrive/PATIENTS DATA/Patient 35')\n",
        "x=slice_eeg(start_index,x)\n",
        "df=pd.read_csv(\"NumData.csv\")\n",
        "y=get_BIS(x)\n",
        "print(len(x),len(y))"
      ],
      "metadata": {
        "colab": {
          "base_uri": "https://localhost:8080/"
        },
        "id": "HvN_7EVYYgQO",
        "outputId": "f09b4fe7-a4b1-489a-f9c5-01dc147b9e3e"
      },
      "execution_count": null,
      "outputs": [
        {
          "output_type": "stream",
          "name": "stdout",
          "text": [
            "673920 1053\n"
          ]
        }
      ]
    },
    {
      "cell_type": "code",
      "source": [
        "l=create_sequence(x,y)\n",
        "for i in l:\n",
        "  L.append(i)\n",
        "print(len(L))"
      ],
      "metadata": {
        "colab": {
          "base_uri": "https://localhost:8080/"
        },
        "id": "P-sHiZlVYgNt",
        "outputId": "a9958c32-3509-410b-ec35-d0596244bdcf"
      },
      "execution_count": null,
      "outputs": [
        {
          "output_type": "stream",
          "name": "stdout",
          "text": [
            "31710270\n"
          ]
        }
      ]
    },
    {
      "cell_type": "markdown",
      "source": [
        "**PATIENT-36**"
      ],
      "metadata": {
        "id": "T1u4b0gdZr0E"
      }
    },
    {
      "cell_type": "code",
      "source": [
        "os.chdir('/content/drive/MyDrive/PATIENTS DATA/Patient 36')\n",
        "start_index=14972\n",
        "x=get_eeg('/content/drive/MyDrive/PATIENTS DATA/Patient 36')\n",
        "x=slice_eeg(start_index,x)\n",
        "df=pd.read_csv(\"NumData.csv\")\n",
        "y=get_BIS(x)\n",
        "print(len(x),len(y))"
      ],
      "metadata": {
        "colab": {
          "base_uri": "https://localhost:8080/"
        },
        "id": "U8VG2QSNYgLu",
        "outputId": "603950cd-4236-4568-9637-07cc55f4855c"
      },
      "execution_count": null,
      "outputs": [
        {
          "output_type": "stream",
          "name": "stdout",
          "text": [
            "488960 764\n"
          ]
        }
      ]
    },
    {
      "cell_type": "code",
      "source": [
        "l=create_sequence(x,y)\n",
        "for i in l:\n",
        "  L.append(i)\n",
        "print(len(L))"
      ],
      "metadata": {
        "colab": {
          "base_uri": "https://localhost:8080/"
        },
        "id": "CfF9bwyvYgJY",
        "outputId": "e6c6910a-b75c-4a82-d71f-7b0c3ef31d03"
      },
      "execution_count": null,
      "outputs": [
        {
          "output_type": "stream",
          "name": "stdout",
          "text": [
            "32199994\n"
          ]
        }
      ]
    },
    {
      "cell_type": "markdown",
      "source": [
        "**PATIENT-37**"
      ],
      "metadata": {
        "id": "M9b0XTlOZ-tc"
      }
    },
    {
      "cell_type": "code",
      "source": [
        "os.chdir('/content/drive/MyDrive/PATIENTS DATA/Patient 37')\n",
        "start_index=4384\n",
        "x=get_eeg('/content/drive/MyDrive/PATIENTS DATA/Patient 37')\n",
        "x=slice_eeg(start_index,x)\n",
        "df=pd.read_csv(\"NumData.csv\")\n",
        "y=get_BIS(x)\n",
        "print(len(x),len(y))"
      ],
      "metadata": {
        "colab": {
          "base_uri": "https://localhost:8080/"
        },
        "id": "z2X52g4QYgHP",
        "outputId": "1d01dec1-e610-43ad-8dfa-da147dafb4b0"
      },
      "execution_count": null,
      "outputs": [
        {
          "output_type": "stream",
          "name": "stdout",
          "text": [
            "1110400 1735\n"
          ]
        }
      ]
    },
    {
      "cell_type": "code",
      "source": [
        "l=create_sequence(x,y)\n",
        "for i in l:\n",
        "  L.append(i)\n",
        "print(len(L))"
      ],
      "metadata": {
        "colab": {
          "base_uri": "https://localhost:8080/"
        },
        "id": "siXw0Gc7YgEc",
        "outputId": "db173b2d-211b-4b14-e5a3-1b7c7378c1be"
      },
      "execution_count": null,
      "outputs": [
        {
          "output_type": "stream",
          "name": "stdout",
          "text": [
            "33312129\n"
          ]
        }
      ]
    },
    {
      "cell_type": "markdown",
      "source": [
        "**PATIENT-38**"
      ],
      "metadata": {
        "id": "0sonicIaaQJ_"
      }
    },
    {
      "cell_type": "code",
      "source": [
        "os.chdir('/content/drive/MyDrive/PATIENTS DATA/Patient 38')\n",
        "start_index=12544\n",
        "x=get_eeg('/content/drive/MyDrive/PATIENTS DATA/Patient 38')\n",
        "x=slice_eeg(start_index,x)\n",
        "df=pd.read_csv(\"NumData.csv\")\n",
        "y=get_BIS(x)\n",
        "print(len(x),len(y))"
      ],
      "metadata": {
        "colab": {
          "base_uri": "https://localhost:8080/"
        },
        "id": "K45SKXEuYgB5",
        "outputId": "0268f072-ef14-4d5b-fc4a-924525cec960"
      },
      "execution_count": null,
      "outputs": [
        {
          "output_type": "stream",
          "name": "stdout",
          "text": [
            "697600 1090\n"
          ]
        }
      ]
    },
    {
      "cell_type": "code",
      "source": [
        "l=create_sequence(x,y)\n",
        "for i in l:\n",
        "  L.append(i)\n",
        "print(len(L))"
      ],
      "metadata": {
        "colab": {
          "base_uri": "https://localhost:8080/"
        },
        "id": "NuLqwBcJYf_A",
        "outputId": "f58ca957-02c3-489c-c6ee-0bc3baf0cd75"
      },
      "execution_count": null,
      "outputs": [
        {
          "output_type": "stream",
          "name": "stdout",
          "text": [
            "34010819\n"
          ]
        }
      ]
    },
    {
      "cell_type": "markdown",
      "source": [
        "**PATIENT-39**"
      ],
      "metadata": {
        "id": "ZV2pw53IajF7"
      }
    },
    {
      "cell_type": "code",
      "source": [
        "os.chdir('/content/drive/MyDrive/PATIENTS DATA/Patient 39')\n",
        "start_index=28848\n",
        "x=get_eeg('/content/drive/MyDrive/PATIENTS DATA/Patient 39')\n",
        "x=slice_eeg(start_index,x)\n",
        "df=pd.read_csv(\"NumData.csv\")\n",
        "y=get_BIS(x)\n",
        "print(len(x),len(y))"
      ],
      "metadata": {
        "colab": {
          "base_uri": "https://localhost:8080/"
        },
        "id": "q9mGWWG0XnYw",
        "outputId": "be4244b0-4af3-47e4-a72c-1ffde3c550d3"
      },
      "execution_count": null,
      "outputs": [
        {
          "output_type": "stream",
          "name": "stdout",
          "text": [
            "846720 1323\n"
          ]
        }
      ]
    },
    {
      "cell_type": "code",
      "source": [
        "l=create_sequence(x,y)\n",
        "for i in l:\n",
        "  L.append(i)\n",
        "print(len(L))"
      ],
      "metadata": {
        "colab": {
          "base_uri": "https://localhost:8080/"
        },
        "id": "33rzDJnnXnV4",
        "outputId": "8fb91e32-8c80-4465-e3cf-8d96259db610"
      },
      "execution_count": null,
      "outputs": [
        {
          "output_type": "stream",
          "name": "stdout",
          "text": [
            "34858862\n"
          ]
        }
      ]
    },
    {
      "cell_type": "markdown",
      "source": [
        "**PATIENT-40**"
      ],
      "metadata": {
        "id": "H7eewVqpbAQb"
      }
    },
    {
      "cell_type": "code",
      "source": [
        "os.chdir('/content/drive/MyDrive/PATIENTS DATA/Patient 40')\n",
        "start_index=192\n",
        "x=get_eeg('/content/drive/MyDrive/PATIENTS DATA/Patient 40')\n",
        "x=slice_eeg(start_index,x)\n",
        "df=pd.read_csv(\"NumData.csv\")\n",
        "y=get_BIS(x)\n",
        "print(len(x),len(y))"
      ],
      "metadata": {
        "colab": {
          "base_uri": "https://localhost:8080/"
        },
        "id": "vDcR0vIJXnTg",
        "outputId": "59498bbd-79f9-4151-bf30-deb2434c2fd3"
      },
      "execution_count": null,
      "outputs": [
        {
          "output_type": "stream",
          "name": "stdout",
          "text": [
            "1027840 1606\n"
          ]
        }
      ]
    },
    {
      "cell_type": "code",
      "source": [
        "l=create_sequence(x,y)\n",
        "for i in l:\n",
        "  L.append(i)\n",
        "print(len(L))"
      ],
      "metadata": {
        "colab": {
          "base_uri": "https://localhost:8080/"
        },
        "id": "gf0zrFzXXnRF",
        "outputId": "a10e1a02-42d5-4aba-914a-d797197cf7a8"
      },
      "execution_count": null,
      "outputs": [
        {
          "output_type": "stream",
          "name": "stdout",
          "text": [
            "35888308\n"
          ]
        }
      ]
    },
    {
      "cell_type": "markdown",
      "source": [
        "**PATIENT-41**"
      ],
      "metadata": {
        "id": "sKh_exzlbY3P"
      }
    },
    {
      "cell_type": "code",
      "source": [
        "os.chdir('/content/drive/MyDrive/PATIENTS DATA/Patient 41')\n",
        "start_index=36\n",
        "x=get_eeg('/content/drive/MyDrive/PATIENTS DATA/Patient 41')\n",
        "x=slice_eeg(start_index,x)\n",
        "df=pd.read_csv(\"NumData.csv\")\n",
        "y=get_BIS(x)\n",
        "print(len(x),len(y))"
      ],
      "metadata": {
        "colab": {
          "base_uri": "https://localhost:8080/"
        },
        "id": "S29NHT-MKbAL",
        "outputId": "e3a66ecd-8173-462c-e762-739d749c5bd2"
      },
      "execution_count": null,
      "outputs": [
        {
          "output_type": "stream",
          "name": "stdout",
          "text": [
            "456320 713\n"
          ]
        }
      ]
    },
    {
      "cell_type": "code",
      "source": [
        "l=create_sequence(x,y)\n",
        "for i in l:\n",
        "  L.append(i)\n",
        "print(len(L))"
      ],
      "metadata": {
        "colab": {
          "base_uri": "https://localhost:8080/"
        },
        "id": "qUx3YrKkKa90",
        "outputId": "1052ab5c-a730-4460-e54b-a3fad944c610"
      },
      "execution_count": null,
      "outputs": [
        {
          "output_type": "stream",
          "name": "stdout",
          "text": [
            "36345341\n"
          ]
        }
      ]
    },
    {
      "cell_type": "markdown",
      "source": [
        "**PATIENT-42**"
      ],
      "metadata": {
        "id": "3lHC1F1mbzpb"
      }
    },
    {
      "cell_type": "markdown",
      "source": [
        "Insufficient data"
      ],
      "metadata": {
        "id": "bQQMUfzCcif-"
      }
    },
    {
      "cell_type": "markdown",
      "source": [
        "**PATIENT-43**"
      ],
      "metadata": {
        "id": "r5WaY2Pmckoz"
      }
    },
    {
      "cell_type": "code",
      "source": [
        "os.chdir('/content/drive/MyDrive/PATIENTS DATA/Patient 43')\n",
        "start_index=525\n",
        "x=get_eeg('/content/drive/MyDrive/PATIENTS DATA/Patient 43')\n",
        "x=slice_eeg(start_index,x)\n",
        "df=pd.read_csv(\"NumData.csv\")\n",
        "y=get_BIS(x)\n",
        "print(len(x),len(y))"
      ],
      "metadata": {
        "colab": {
          "base_uri": "https://localhost:8080/"
        },
        "id": "S6YUUsMMKa7o",
        "outputId": "ce2fcd0a-701f-4640-d80d-b7014a7b1765"
      },
      "execution_count": null,
      "outputs": [
        {
          "output_type": "stream",
          "name": "stdout",
          "text": [
            "1575680 2462\n"
          ]
        }
      ]
    },
    {
      "cell_type": "code",
      "source": [
        "l=create_sequence(x,y)\n",
        "for i in l:\n",
        "  L.append(i)\n",
        "print(len(L))"
      ],
      "metadata": {
        "colab": {
          "base_uri": "https://localhost:8080/"
        },
        "id": "ldHuhEKNKa5f",
        "outputId": "b82a7fac-7db1-4510-f8a9-7fe6d0a21b23"
      },
      "execution_count": null,
      "outputs": [
        {
          "output_type": "stream",
          "name": "stdout",
          "text": [
            "37923483\n"
          ]
        }
      ]
    },
    {
      "cell_type": "markdown",
      "source": [
        "**PATIENT-44**"
      ],
      "metadata": {
        "id": "NJ9TWq2hdId7"
      }
    },
    {
      "cell_type": "code",
      "source": [
        "os.chdir('/content/drive/MyDrive/PATIENTS DATA/Patient 44')\n",
        "start_index=0\n",
        "x=get_eeg('/content/drive/MyDrive/PATIENTS DATA/Patient 44')\n",
        "x=slice_eeg(start_index,x)\n",
        "df=pd.read_csv(\"NumData.csv\")\n",
        "y=get_BIS(x)\n",
        "x=x[:696320]\n",
        "print(len(x),len(y))"
      ],
      "metadata": {
        "colab": {
          "base_uri": "https://localhost:8080/"
        },
        "id": "GvyNjKc-Kay1",
        "outputId": "c1e6127c-1496-4aa5-9de7-60e7516d446a"
      },
      "execution_count": null,
      "outputs": [
        {
          "output_type": "stream",
          "name": "stdout",
          "text": [
            "696320 1088\n"
          ]
        }
      ]
    },
    {
      "cell_type": "code",
      "source": [
        "l=create_sequence(x,y)\n",
        "for i in l:\n",
        "  L.append(i)\n",
        "print(len(L))"
      ],
      "metadata": {
        "colab": {
          "base_uri": "https://localhost:8080/"
        },
        "id": "AmwkBTNIb0LJ",
        "outputId": "d3ebe6f9-9974-44ce-e9c4-7d9d2da76e43"
      },
      "execution_count": null,
      "outputs": [
        {
          "output_type": "stream",
          "name": "stdout",
          "text": [
            "38620891\n"
          ]
        }
      ]
    },
    {
      "cell_type": "markdown",
      "source": [
        "**PATIENT-45**"
      ],
      "metadata": {
        "id": "jtHCB8tvd5BR"
      }
    },
    {
      "cell_type": "code",
      "source": [
        "os.chdir('/content/drive/MyDrive/PATIENTS DATA/Patient 45')\n",
        "start_index=8480\n",
        "x=get_eeg('/content/drive/MyDrive/PATIENTS DATA/Patient 45')\n",
        "x=slice_eeg(start_index,x)\n",
        "df=pd.read_csv(\"NumData.csv\")\n",
        "y=get_BIS(x)\n",
        "print(len(x),len(y))"
      ],
      "metadata": {
        "colab": {
          "base_uri": "https://localhost:8080/"
        },
        "id": "tPAD9Oclb05F",
        "outputId": "589b826e-f026-4a40-e8a3-c4486cc6fcb6"
      },
      "execution_count": null,
      "outputs": [
        {
          "output_type": "stream",
          "name": "stdout",
          "text": [
            "751360 1174\n"
          ]
        }
      ]
    },
    {
      "cell_type": "code",
      "source": [
        "l=create_sequence(x,y)\n",
        "for i in l:\n",
        "  L.append(i)\n",
        "print(len(L))"
      ],
      "metadata": {
        "colab": {
          "base_uri": "https://localhost:8080/"
        },
        "id": "be4ItclTb01z",
        "outputId": "05a81c3f-ba13-40d9-d96b-370f388c5dd4"
      },
      "execution_count": null,
      "outputs": [
        {
          "output_type": "stream",
          "name": "stdout",
          "text": [
            "39373425\n"
          ]
        }
      ]
    },
    {
      "cell_type": "markdown",
      "source": [
        "**PATIENT-46**"
      ],
      "metadata": {
        "id": "IBEkOHM0eQ0_"
      }
    },
    {
      "cell_type": "code",
      "source": [
        "os.chdir('/content/drive/MyDrive/PATIENTS DATA/Patient 46')\n",
        "start_index=34908\n",
        "x=get_eeg('/content/drive/MyDrive/PATIENTS DATA/Patient 46')\n",
        "x=slice_eeg(start_index,x)\n",
        "df=pd.read_csv(\"NumData.csv\")\n",
        "y=get_BIS(x)\n",
        "x=x[:1337600]\n",
        "print(len(x),len(y))"
      ],
      "metadata": {
        "colab": {
          "base_uri": "https://localhost:8080/"
        },
        "id": "QeA6umdqb00E",
        "outputId": "dd70b23b-a5d5-41bc-fdc9-790bca74bdc4"
      },
      "execution_count": null,
      "outputs": [
        {
          "output_type": "stream",
          "name": "stdout",
          "text": [
            "1337600 2090\n"
          ]
        }
      ]
    },
    {
      "cell_type": "code",
      "source": [
        "l=create_sequence(x,y)\n",
        "for i in l:\n",
        "  L.append(i)\n",
        "print(len(L))"
      ],
      "metadata": {
        "colab": {
          "base_uri": "https://localhost:8080/"
        },
        "id": "NKWDO4I0b0w3",
        "outputId": "6a5fe9e5-e130-41c1-dc3c-b26736a8edac"
      },
      "execution_count": null,
      "outputs": [
        {
          "output_type": "stream",
          "name": "stdout",
          "text": [
            "40713115\n"
          ]
        }
      ]
    },
    {
      "cell_type": "markdown",
      "source": [
        "**PATIENT-47**"
      ],
      "metadata": {
        "id": "KHKWujMmeqYr"
      }
    },
    {
      "cell_type": "code",
      "source": [
        "os.chdir('/content/drive/MyDrive/PATIENTS DATA/Patient 47')\n",
        "start_index=12704\n",
        "x=get_eeg('/content/drive/MyDrive/PATIENTS DATA/Patient 47')\n",
        "x=slice_eeg(start_index,x)\n",
        "df=pd.read_csv(\"NumData.csv\")\n",
        "y=get_BIS(x)\n",
        "print(len(x),len(y))"
      ],
      "metadata": {
        "colab": {
          "base_uri": "https://localhost:8080/"
        },
        "id": "66HTMqc0b0uO",
        "outputId": "5053e02b-09d6-4c5f-93c8-f4ff79e0f076"
      },
      "execution_count": null,
      "outputs": [
        {
          "output_type": "stream",
          "name": "stdout",
          "text": [
            "721920 1128\n"
          ]
        }
      ]
    },
    {
      "cell_type": "code",
      "source": [
        "l=create_sequence(x,y)\n",
        "for i in l:\n",
        "  L.append(i)\n",
        "print(len(L))"
      ],
      "metadata": {
        "colab": {
          "base_uri": "https://localhost:8080/"
        },
        "id": "aTLR82Xsb0sb",
        "outputId": "12b0684b-e2f6-48bb-b5f8-06bfc6e4ac5b"
      },
      "execution_count": null,
      "outputs": [
        {
          "output_type": "stream",
          "name": "stdout",
          "text": [
            "41436163\n"
          ]
        }
      ]
    },
    {
      "cell_type": "markdown",
      "source": [
        "**PATIENT-48**"
      ],
      "metadata": {
        "id": "hrAigs3qe89r"
      }
    },
    {
      "cell_type": "code",
      "source": [
        "os.chdir('/content/drive/MyDrive/PATIENTS DATA/Patient 48')\n",
        "start_index=0\n",
        "x=get_eeg('/content/drive/MyDrive/PATIENTS DATA/Patient 48')\n",
        "x=slice_eeg(start_index,x)\n",
        "df=pd.read_csv(\"NumData.csv\")\n",
        "y=get_BIS(x)\n",
        "print(len(x),len(y))"
      ],
      "metadata": {
        "colab": {
          "base_uri": "https://localhost:8080/"
        },
        "id": "HUpE9Ehsb0mr",
        "outputId": "5393f9af-6fd5-4684-e4ec-95f88aa600f6"
      },
      "execution_count": null,
      "outputs": [
        {
          "output_type": "stream",
          "name": "stdout",
          "text": [
            "555520 868\n"
          ]
        }
      ]
    },
    {
      "cell_type": "code",
      "source": [
        "l=create_sequence(x,y)\n",
        "for i in l:\n",
        "  L.append(i)\n",
        "print(len(L))"
      ],
      "metadata": {
        "colab": {
          "base_uri": "https://localhost:8080/"
        },
        "id": "DQZ-hMUpb0jh",
        "outputId": "1f0794e6-dbf4-4ae5-d032-f81b2edac9b6"
      },
      "execution_count": null,
      "outputs": [
        {
          "output_type": "stream",
          "name": "stdout",
          "text": [
            "41992551\n"
          ]
        }
      ]
    },
    {
      "cell_type": "markdown",
      "source": [
        "**PATIENT-49**"
      ],
      "metadata": {
        "id": "QyWNUfP-fRME"
      }
    },
    {
      "cell_type": "code",
      "source": [
        "os.chdir('/content/drive/MyDrive/PATIENTS DATA/Patient 49')\n",
        "start_index=36800\n",
        "x=get_eeg('/content/drive/MyDrive/PATIENTS DATA/Patient 49')\n",
        "x=slice_eeg(start_index,x)\n",
        "df=pd.read_csv(\"NumData.csv\")\n",
        "y=get_BIS(x)\n",
        "print(len(x),len(y))"
      ],
      "metadata": {
        "colab": {
          "base_uri": "https://localhost:8080/"
        },
        "id": "UjXZotRIb0gp",
        "outputId": "e1332599-7e16-4660-99d3-7092c3bd0ee5"
      },
      "execution_count": null,
      "outputs": [
        {
          "output_type": "stream",
          "name": "stdout",
          "text": [
            "736640 1151\n"
          ]
        }
      ]
    },
    {
      "cell_type": "code",
      "source": [
        "l=create_sequence(x,y)\n",
        "for i in l:\n",
        "  L.append(i)\n",
        "print(len(L))"
      ],
      "metadata": {
        "colab": {
          "base_uri": "https://localhost:8080/"
        },
        "id": "LOZx0q7Fb0e9",
        "outputId": "d78e72b5-8152-4050-b27e-240d885523d6"
      },
      "execution_count": null,
      "outputs": [
        {
          "output_type": "stream",
          "name": "stdout",
          "text": [
            "42730342\n"
          ]
        }
      ]
    },
    {
      "cell_type": "markdown",
      "source": [
        "**PATIENT-50**"
      ],
      "metadata": {
        "id": "d1PxYvzofkjk"
      }
    },
    {
      "cell_type": "code",
      "source": [
        "os.chdir('/content/drive/MyDrive/PATIENTS DATA/Patient 50')\n",
        "start_index=0\n",
        "x=get_eeg('/content/drive/MyDrive/PATIENTS DATA/Patient 50')\n",
        "x=slice_eeg(start_index,x)\n",
        "df=pd.read_csv(\"NumData.csv\")\n",
        "y=get_BIS(x)\n",
        "x=x[:696320]\n",
        "print(len(x),len(y))"
      ],
      "metadata": {
        "colab": {
          "base_uri": "https://localhost:8080/"
        },
        "id": "dajn5ai-b0bj",
        "outputId": "3955bd28-8360-45af-b547-3fa7cb72258e"
      },
      "execution_count": null,
      "outputs": [
        {
          "output_type": "stream",
          "name": "stdout",
          "text": [
            "696320 1088\n"
          ]
        }
      ]
    },
    {
      "cell_type": "code",
      "source": [
        "l=create_sequence(x,y)\n",
        "for i in l:\n",
        "  L.append(i)\n",
        "print(len(L))"
      ],
      "metadata": {
        "colab": {
          "base_uri": "https://localhost:8080/"
        },
        "id": "agHxomjnb0Y_",
        "outputId": "6940588f-b941-4669-c75c-260df22f7f41"
      },
      "execution_count": null,
      "outputs": [
        {
          "output_type": "stream",
          "name": "stdout",
          "text": [
            "43427750\n"
          ]
        }
      ]
    },
    {
      "cell_type": "code",
      "source": [
        "from sklearn import preprocessing\n",
        "#norm_l = preprocessing.normalize([L])\n",
        "#L=norm_l[0]"
      ],
      "metadata": {
        "id": "VHSBhwUPfR5u"
      },
      "execution_count": null,
      "outputs": []
    },
    {
      "cell_type": "code",
      "source": [
        "# split a univariate sequence into samples\n",
        "# multi-step data preparation\n",
        "from numpy import array\n",
        "def split_sequence(sequence, n_steps_in, n_steps_out):\n",
        "    X, Y = list(), list()\n",
        "    for i in range(0,len(sequence),641):\n",
        "        # find the end of this pattern\n",
        "        end_ix = i + n_steps_in \n",
        "        out_end_ix = end_ix + n_steps_out \n",
        "        # check if we are beyond the sequence\n",
        "        if out_end_ix > len(sequence):\n",
        "            break\n",
        "        # gather input and output parts of the pattern\n",
        "        #if i==0:\n",
        "        seq_x, seq_y = sequence[i:end_ix], sequence[end_ix:out_end_ix]\n",
        "        #else:\n",
        "        #    seq_x, seq_y = sequence[i-1:end_ix], sequence[end_ix:out_end_ix]\n",
        "        X.append(seq_x)\n",
        "        Y.append(seq_y)\n",
        "    return array(X), array(Y)"
      ],
      "metadata": {
        "id": "WV31ZG8pfSMu"
      },
      "execution_count": null,
      "outputs": []
    },
    {
      "cell_type": "code",
      "source": [
        "n_steps_in, n_steps_out = 640, 1\n",
        "# split into samples\n",
        "X, Y = split_sequence(L, n_steps_in, n_steps_out)"
      ],
      "metadata": {
        "id": "Yv00dRqwfSKU"
      },
      "execution_count": null,
      "outputs": []
    },
    {
      "cell_type": "code",
      "source": [
        "X"
      ],
      "metadata": {
        "colab": {
          "base_uri": "https://localhost:8080/"
        },
        "id": "TtOLkZzXfSH_",
        "outputId": "49099692-bdcb-4a6e-d3a9-ec3da6b1a312"
      },
      "execution_count": null,
      "outputs": [
        {
          "output_type": "execute_result",
          "data": {
            "text/plain": [
              "array([[2768, 1589, 1556, ..., 2113, 1261, 2670],\n",
              "       [1032, 2277, 2965, ..., 2179, 2736, 2146],\n",
              "       [2179, 1490, 2179, ..., 1949, 3522, 2408],\n",
              "       ...,\n",
              "       [ 901,  802, 1163, ..., 2441, 2408, 2244],\n",
              "       [2113, 2048, 1785, ...,  704,  770,  802],\n",
              "       [ 901,  999, 1130, ..., 2867, 2834, 3063]])"
            ]
          },
          "metadata": {},
          "execution_count": 106
        }
      ]
    },
    {
      "cell_type": "code",
      "source": [
        "Y"
      ],
      "metadata": {
        "colab": {
          "base_uri": "https://localhost:8080/"
        },
        "id": "d57WyigefR-5",
        "outputId": "d9da7f72-b5ad-4711-dcad-f713bef815b6"
      },
      "execution_count": null,
      "outputs": [
        {
          "output_type": "execute_result",
          "data": {
            "text/plain": [
              "array([[96],\n",
              "       [96],\n",
              "       [96],\n",
              "       ...,\n",
              "       [44],\n",
              "       [44],\n",
              "       [43]])"
            ]
          },
          "metadata": {},
          "execution_count": 107
        }
      ]
    },
    {
      "cell_type": "code",
      "source": [
        "n_features = 1\n",
        "X = X.reshape((X.shape[0], X.shape[1], n_features))"
      ],
      "metadata": {
        "id": "xvglygfUb0Po"
      },
      "execution_count": null,
      "outputs": []
    },
    {
      "cell_type": "code",
      "source": [
        "X_train, X_validate, X_test = np.split(X, [int(.8*len(X)), int(.9*len(X))])\n",
        "Y_train, Y_validate, Y_test = np.split(Y, [int(.8*len(Y)), int(.9*len(Y))])"
      ],
      "metadata": {
        "id": "s6qavnafUDFb"
      },
      "execution_count": null,
      "outputs": []
    },
    {
      "cell_type": "code",
      "source": [
        "len(X_train)"
      ],
      "metadata": {
        "colab": {
          "base_uri": "https://localhost:8080/"
        },
        "id": "Wy0EKBXjVC4x",
        "outputId": "96eed0ab-dc15-46a2-d36e-58347f9a20ac"
      },
      "execution_count": null,
      "outputs": [
        {
          "output_type": "execute_result",
          "data": {
            "text/plain": [
              "54200"
            ]
          },
          "metadata": {},
          "execution_count": 110
        }
      ]
    },
    {
      "cell_type": "code",
      "source": [
        "len(X_validate)"
      ],
      "metadata": {
        "colab": {
          "base_uri": "https://localhost:8080/"
        },
        "id": "FyY6fSoyVIZg",
        "outputId": "f56718bc-f4f0-462e-a953-fda208ed758a"
      },
      "execution_count": null,
      "outputs": [
        {
          "output_type": "execute_result",
          "data": {
            "text/plain": [
              "6775"
            ]
          },
          "metadata": {},
          "execution_count": 111
        }
      ]
    },
    {
      "cell_type": "code",
      "source": [
        "len(X_test)"
      ],
      "metadata": {
        "colab": {
          "base_uri": "https://localhost:8080/"
        },
        "id": "W_LHAn6cVINg",
        "outputId": "361d1c69-a7c8-47ab-9c99-e0e79513661b"
      },
      "execution_count": null,
      "outputs": [
        {
          "output_type": "execute_result",
          "data": {
            "text/plain": [
              "6775"
            ]
          },
          "metadata": {},
          "execution_count": 112
        }
      ]
    },
    {
      "cell_type": "markdown",
      "source": [
        "***GPU ACCELERATED MODEL***"
      ],
      "metadata": {
        "id": "87blTCMDhdvS"
      }
    },
    {
      "cell_type": "code",
      "source": [
        "import numpy as np\n",
        "from keras.preprocessing import sequence\n",
        "from keras.models import Sequential\n",
        "from keras.layers import Dense, Dropout, Embedding, LSTM, Bidirectional\n",
        "from keras.datasets import imdb \n",
        "# define model\n",
        "function='tanh'\n",
        "model = Sequential()\n",
        "model.add(LSTM(100, activation=function, recurrent_activation='sigmoid', return_sequences=True, input_shape=(n_steps_in, n_features)))\n",
        "model.add(LSTM(100, activation=function, return_sequences=True))\n",
        "model.add(LSTM(100, activation=function, return_sequences=True))\n",
        "model.add(LSTM(100, activation=function))\n",
        "model.add(Dense(n_steps_out))\n",
        "model.compile(optimizer='adam', loss='mae')"
      ],
      "metadata": {
        "id": "TALnUFNphV6M"
      },
      "execution_count": null,
      "outputs": []
    },
    {
      "cell_type": "code",
      "source": [
        "history=model.fit(X_train, Y_train, epochs=15, verbose=2, batch_size=128, validation_data=(X_validate,Y_validate))"
      ],
      "metadata": {
        "colab": {
          "base_uri": "https://localhost:8080/",
          "height": 363
        },
        "id": "kU-qbXROhV3Y",
        "outputId": "676f1591-d923-4007-b5cc-b38e7502671b"
      },
      "execution_count": null,
      "outputs": [
        {
          "output_type": "stream",
          "name": "stdout",
          "text": [
            "Epoch 1/15\n",
            "424/424 - 69s - loss: 17.0721 - val_loss: 8.2623 - 69s/epoch - 162ms/step\n",
            "Epoch 2/15\n"
          ]
        },
        {
          "output_type": "error",
          "ename": "KeyboardInterrupt",
          "evalue": "ignored",
          "traceback": [
            "\u001b[0;31m---------------------------------------------------------------------------\u001b[0m",
            "\u001b[0;31mKeyboardInterrupt\u001b[0m                         Traceback (most recent call last)",
            "\u001b[0;32m<ipython-input-114-5c7ed2ec55f7>\u001b[0m in \u001b[0;36m<module>\u001b[0;34m\u001b[0m\n\u001b[0;32m----> 1\u001b[0;31m \u001b[0mhistory\u001b[0m\u001b[0;34m=\u001b[0m\u001b[0mmodel\u001b[0m\u001b[0;34m.\u001b[0m\u001b[0mfit\u001b[0m\u001b[0;34m(\u001b[0m\u001b[0mX_train\u001b[0m\u001b[0;34m,\u001b[0m \u001b[0mY_train\u001b[0m\u001b[0;34m,\u001b[0m \u001b[0mepochs\u001b[0m\u001b[0;34m=\u001b[0m\u001b[0;36m15\u001b[0m\u001b[0;34m,\u001b[0m \u001b[0mverbose\u001b[0m\u001b[0;34m=\u001b[0m\u001b[0;36m2\u001b[0m\u001b[0;34m,\u001b[0m \u001b[0mbatch_size\u001b[0m\u001b[0;34m=\u001b[0m\u001b[0;36m128\u001b[0m\u001b[0;34m,\u001b[0m \u001b[0mvalidation_data\u001b[0m\u001b[0;34m=\u001b[0m\u001b[0;34m(\u001b[0m\u001b[0mX_validate\u001b[0m\u001b[0;34m,\u001b[0m\u001b[0mY_validate\u001b[0m\u001b[0;34m)\u001b[0m\u001b[0;34m)\u001b[0m\u001b[0;34m\u001b[0m\u001b[0;34m\u001b[0m\u001b[0m\n\u001b[0m",
            "\u001b[0;32m/usr/local/lib/python3.7/dist-packages/keras/utils/traceback_utils.py\u001b[0m in \u001b[0;36merror_handler\u001b[0;34m(*args, **kwargs)\u001b[0m\n\u001b[1;32m     62\u001b[0m     \u001b[0mfiltered_tb\u001b[0m \u001b[0;34m=\u001b[0m \u001b[0;32mNone\u001b[0m\u001b[0;34m\u001b[0m\u001b[0;34m\u001b[0m\u001b[0m\n\u001b[1;32m     63\u001b[0m     \u001b[0;32mtry\u001b[0m\u001b[0;34m:\u001b[0m\u001b[0;34m\u001b[0m\u001b[0;34m\u001b[0m\u001b[0m\n\u001b[0;32m---> 64\u001b[0;31m       \u001b[0;32mreturn\u001b[0m \u001b[0mfn\u001b[0m\u001b[0;34m(\u001b[0m\u001b[0;34m*\u001b[0m\u001b[0margs\u001b[0m\u001b[0;34m,\u001b[0m \u001b[0;34m**\u001b[0m\u001b[0mkwargs\u001b[0m\u001b[0;34m)\u001b[0m\u001b[0;34m\u001b[0m\u001b[0;34m\u001b[0m\u001b[0m\n\u001b[0m\u001b[1;32m     65\u001b[0m     \u001b[0;32mexcept\u001b[0m \u001b[0mException\u001b[0m \u001b[0;32mas\u001b[0m \u001b[0me\u001b[0m\u001b[0;34m:\u001b[0m  \u001b[0;31m# pylint: disable=broad-except\u001b[0m\u001b[0;34m\u001b[0m\u001b[0;34m\u001b[0m\u001b[0m\n\u001b[1;32m     66\u001b[0m       \u001b[0mfiltered_tb\u001b[0m \u001b[0;34m=\u001b[0m \u001b[0m_process_traceback_frames\u001b[0m\u001b[0;34m(\u001b[0m\u001b[0me\u001b[0m\u001b[0;34m.\u001b[0m\u001b[0m__traceback__\u001b[0m\u001b[0;34m)\u001b[0m\u001b[0;34m\u001b[0m\u001b[0;34m\u001b[0m\u001b[0m\n",
            "\u001b[0;32m/usr/local/lib/python3.7/dist-packages/keras/engine/training.py\u001b[0m in \u001b[0;36mfit\u001b[0;34m(self, x, y, batch_size, epochs, verbose, callbacks, validation_split, validation_data, shuffle, class_weight, sample_weight, initial_epoch, steps_per_epoch, validation_steps, validation_batch_size, validation_freq, max_queue_size, workers, use_multiprocessing)\u001b[0m\n\u001b[1;32m   1382\u001b[0m                 _r=1):\n\u001b[1;32m   1383\u001b[0m               \u001b[0mcallbacks\u001b[0m\u001b[0;34m.\u001b[0m\u001b[0mon_train_batch_begin\u001b[0m\u001b[0;34m(\u001b[0m\u001b[0mstep\u001b[0m\u001b[0;34m)\u001b[0m\u001b[0;34m\u001b[0m\u001b[0;34m\u001b[0m\u001b[0m\n\u001b[0;32m-> 1384\u001b[0;31m               \u001b[0mtmp_logs\u001b[0m \u001b[0;34m=\u001b[0m \u001b[0mself\u001b[0m\u001b[0;34m.\u001b[0m\u001b[0mtrain_function\u001b[0m\u001b[0;34m(\u001b[0m\u001b[0miterator\u001b[0m\u001b[0;34m)\u001b[0m\u001b[0;34m\u001b[0m\u001b[0;34m\u001b[0m\u001b[0m\n\u001b[0m\u001b[1;32m   1385\u001b[0m               \u001b[0;32mif\u001b[0m \u001b[0mdata_handler\u001b[0m\u001b[0;34m.\u001b[0m\u001b[0mshould_sync\u001b[0m\u001b[0;34m:\u001b[0m\u001b[0;34m\u001b[0m\u001b[0;34m\u001b[0m\u001b[0m\n\u001b[1;32m   1386\u001b[0m                 \u001b[0mcontext\u001b[0m\u001b[0;34m.\u001b[0m\u001b[0masync_wait\u001b[0m\u001b[0;34m(\u001b[0m\u001b[0;34m)\u001b[0m\u001b[0;34m\u001b[0m\u001b[0;34m\u001b[0m\u001b[0m\n",
            "\u001b[0;32m/usr/local/lib/python3.7/dist-packages/tensorflow/python/util/traceback_utils.py\u001b[0m in \u001b[0;36merror_handler\u001b[0;34m(*args, **kwargs)\u001b[0m\n\u001b[1;32m    148\u001b[0m     \u001b[0mfiltered_tb\u001b[0m \u001b[0;34m=\u001b[0m \u001b[0;32mNone\u001b[0m\u001b[0;34m\u001b[0m\u001b[0;34m\u001b[0m\u001b[0m\n\u001b[1;32m    149\u001b[0m     \u001b[0;32mtry\u001b[0m\u001b[0;34m:\u001b[0m\u001b[0;34m\u001b[0m\u001b[0;34m\u001b[0m\u001b[0m\n\u001b[0;32m--> 150\u001b[0;31m       \u001b[0;32mreturn\u001b[0m \u001b[0mfn\u001b[0m\u001b[0;34m(\u001b[0m\u001b[0;34m*\u001b[0m\u001b[0margs\u001b[0m\u001b[0;34m,\u001b[0m \u001b[0;34m**\u001b[0m\u001b[0mkwargs\u001b[0m\u001b[0;34m)\u001b[0m\u001b[0;34m\u001b[0m\u001b[0;34m\u001b[0m\u001b[0m\n\u001b[0m\u001b[1;32m    151\u001b[0m     \u001b[0;32mexcept\u001b[0m \u001b[0mException\u001b[0m \u001b[0;32mas\u001b[0m \u001b[0me\u001b[0m\u001b[0;34m:\u001b[0m\u001b[0;34m\u001b[0m\u001b[0;34m\u001b[0m\u001b[0m\n\u001b[1;32m    152\u001b[0m       \u001b[0mfiltered_tb\u001b[0m \u001b[0;34m=\u001b[0m \u001b[0m_process_traceback_frames\u001b[0m\u001b[0;34m(\u001b[0m\u001b[0me\u001b[0m\u001b[0;34m.\u001b[0m\u001b[0m__traceback__\u001b[0m\u001b[0;34m)\u001b[0m\u001b[0;34m\u001b[0m\u001b[0;34m\u001b[0m\u001b[0m\n",
            "\u001b[0;32m/usr/local/lib/python3.7/dist-packages/tensorflow/python/eager/def_function.py\u001b[0m in \u001b[0;36m__call__\u001b[0;34m(self, *args, **kwds)\u001b[0m\n\u001b[1;32m    913\u001b[0m \u001b[0;34m\u001b[0m\u001b[0m\n\u001b[1;32m    914\u001b[0m       \u001b[0;32mwith\u001b[0m \u001b[0mOptionalXlaContext\u001b[0m\u001b[0;34m(\u001b[0m\u001b[0mself\u001b[0m\u001b[0;34m.\u001b[0m\u001b[0m_jit_compile\u001b[0m\u001b[0;34m)\u001b[0m\u001b[0;34m:\u001b[0m\u001b[0;34m\u001b[0m\u001b[0;34m\u001b[0m\u001b[0m\n\u001b[0;32m--> 915\u001b[0;31m         \u001b[0mresult\u001b[0m \u001b[0;34m=\u001b[0m \u001b[0mself\u001b[0m\u001b[0;34m.\u001b[0m\u001b[0m_call\u001b[0m\u001b[0;34m(\u001b[0m\u001b[0;34m*\u001b[0m\u001b[0margs\u001b[0m\u001b[0;34m,\u001b[0m \u001b[0;34m**\u001b[0m\u001b[0mkwds\u001b[0m\u001b[0;34m)\u001b[0m\u001b[0;34m\u001b[0m\u001b[0;34m\u001b[0m\u001b[0m\n\u001b[0m\u001b[1;32m    916\u001b[0m \u001b[0;34m\u001b[0m\u001b[0m\n\u001b[1;32m    917\u001b[0m       \u001b[0mnew_tracing_count\u001b[0m \u001b[0;34m=\u001b[0m \u001b[0mself\u001b[0m\u001b[0;34m.\u001b[0m\u001b[0mexperimental_get_tracing_count\u001b[0m\u001b[0;34m(\u001b[0m\u001b[0;34m)\u001b[0m\u001b[0;34m\u001b[0m\u001b[0;34m\u001b[0m\u001b[0m\n",
            "\u001b[0;32m/usr/local/lib/python3.7/dist-packages/tensorflow/python/eager/def_function.py\u001b[0m in \u001b[0;36m_call\u001b[0;34m(self, *args, **kwds)\u001b[0m\n\u001b[1;32m    945\u001b[0m       \u001b[0;31m# In this case we have created variables on the first call, so we run the\u001b[0m\u001b[0;34m\u001b[0m\u001b[0;34m\u001b[0m\u001b[0;34m\u001b[0m\u001b[0m\n\u001b[1;32m    946\u001b[0m       \u001b[0;31m# defunned version which is guaranteed to never create variables.\u001b[0m\u001b[0;34m\u001b[0m\u001b[0;34m\u001b[0m\u001b[0;34m\u001b[0m\u001b[0m\n\u001b[0;32m--> 947\u001b[0;31m       \u001b[0;32mreturn\u001b[0m \u001b[0mself\u001b[0m\u001b[0;34m.\u001b[0m\u001b[0m_stateless_fn\u001b[0m\u001b[0;34m(\u001b[0m\u001b[0;34m*\u001b[0m\u001b[0margs\u001b[0m\u001b[0;34m,\u001b[0m \u001b[0;34m**\u001b[0m\u001b[0mkwds\u001b[0m\u001b[0;34m)\u001b[0m  \u001b[0;31m# pylint: disable=not-callable\u001b[0m\u001b[0;34m\u001b[0m\u001b[0;34m\u001b[0m\u001b[0m\n\u001b[0m\u001b[1;32m    948\u001b[0m     \u001b[0;32melif\u001b[0m \u001b[0mself\u001b[0m\u001b[0;34m.\u001b[0m\u001b[0m_stateful_fn\u001b[0m \u001b[0;32mis\u001b[0m \u001b[0;32mnot\u001b[0m \u001b[0;32mNone\u001b[0m\u001b[0;34m:\u001b[0m\u001b[0;34m\u001b[0m\u001b[0;34m\u001b[0m\u001b[0m\n\u001b[1;32m    949\u001b[0m       \u001b[0;31m# Release the lock early so that multiple threads can perform the call\u001b[0m\u001b[0;34m\u001b[0m\u001b[0;34m\u001b[0m\u001b[0;34m\u001b[0m\u001b[0m\n",
            "\u001b[0;32m/usr/local/lib/python3.7/dist-packages/tensorflow/python/eager/function.py\u001b[0m in \u001b[0;36m__call__\u001b[0;34m(self, *args, **kwargs)\u001b[0m\n\u001b[1;32m   2955\u001b[0m        filtered_flat_args) = self._maybe_define_function(args, kwargs)\n\u001b[1;32m   2956\u001b[0m     return graph_function._call_flat(\n\u001b[0;32m-> 2957\u001b[0;31m         filtered_flat_args, captured_inputs=graph_function.captured_inputs)  # pylint: disable=protected-access\n\u001b[0m\u001b[1;32m   2958\u001b[0m \u001b[0;34m\u001b[0m\u001b[0m\n\u001b[1;32m   2959\u001b[0m   \u001b[0;34m@\u001b[0m\u001b[0mproperty\u001b[0m\u001b[0;34m\u001b[0m\u001b[0;34m\u001b[0m\u001b[0m\n",
            "\u001b[0;32m/usr/local/lib/python3.7/dist-packages/tensorflow/python/eager/function.py\u001b[0m in \u001b[0;36m_call_flat\u001b[0;34m(self, args, captured_inputs, cancellation_manager)\u001b[0m\n\u001b[1;32m   1852\u001b[0m       \u001b[0;31m# No tape is watching; skip to running the function.\u001b[0m\u001b[0;34m\u001b[0m\u001b[0;34m\u001b[0m\u001b[0;34m\u001b[0m\u001b[0m\n\u001b[1;32m   1853\u001b[0m       return self._build_call_outputs(self._inference_function.call(\n\u001b[0;32m-> 1854\u001b[0;31m           ctx, args, cancellation_manager=cancellation_manager))\n\u001b[0m\u001b[1;32m   1855\u001b[0m     forward_backward = self._select_forward_and_backward_functions(\n\u001b[1;32m   1856\u001b[0m         \u001b[0margs\u001b[0m\u001b[0;34m,\u001b[0m\u001b[0;34m\u001b[0m\u001b[0;34m\u001b[0m\u001b[0m\n",
            "\u001b[0;32m/usr/local/lib/python3.7/dist-packages/tensorflow/python/eager/function.py\u001b[0m in \u001b[0;36mcall\u001b[0;34m(self, ctx, args, cancellation_manager)\u001b[0m\n\u001b[1;32m    502\u001b[0m               \u001b[0minputs\u001b[0m\u001b[0;34m=\u001b[0m\u001b[0margs\u001b[0m\u001b[0;34m,\u001b[0m\u001b[0;34m\u001b[0m\u001b[0;34m\u001b[0m\u001b[0m\n\u001b[1;32m    503\u001b[0m               \u001b[0mattrs\u001b[0m\u001b[0;34m=\u001b[0m\u001b[0mattrs\u001b[0m\u001b[0;34m,\u001b[0m\u001b[0;34m\u001b[0m\u001b[0;34m\u001b[0m\u001b[0m\n\u001b[0;32m--> 504\u001b[0;31m               ctx=ctx)\n\u001b[0m\u001b[1;32m    505\u001b[0m         \u001b[0;32melse\u001b[0m\u001b[0;34m:\u001b[0m\u001b[0;34m\u001b[0m\u001b[0;34m\u001b[0m\u001b[0m\n\u001b[1;32m    506\u001b[0m           outputs = execute.execute_with_cancellation(\n",
            "\u001b[0;32m/usr/local/lib/python3.7/dist-packages/tensorflow/python/eager/execute.py\u001b[0m in \u001b[0;36mquick_execute\u001b[0;34m(op_name, num_outputs, inputs, attrs, ctx, name)\u001b[0m\n\u001b[1;32m     53\u001b[0m     \u001b[0mctx\u001b[0m\u001b[0;34m.\u001b[0m\u001b[0mensure_initialized\u001b[0m\u001b[0;34m(\u001b[0m\u001b[0;34m)\u001b[0m\u001b[0;34m\u001b[0m\u001b[0;34m\u001b[0m\u001b[0m\n\u001b[1;32m     54\u001b[0m     tensors = pywrap_tfe.TFE_Py_Execute(ctx._handle, device_name, op_name,\n\u001b[0;32m---> 55\u001b[0;31m                                         inputs, attrs, num_outputs)\n\u001b[0m\u001b[1;32m     56\u001b[0m   \u001b[0;32mexcept\u001b[0m \u001b[0mcore\u001b[0m\u001b[0;34m.\u001b[0m\u001b[0m_NotOkStatusException\u001b[0m \u001b[0;32mas\u001b[0m \u001b[0me\u001b[0m\u001b[0;34m:\u001b[0m\u001b[0;34m\u001b[0m\u001b[0;34m\u001b[0m\u001b[0m\n\u001b[1;32m     57\u001b[0m     \u001b[0;32mif\u001b[0m \u001b[0mname\u001b[0m \u001b[0;32mis\u001b[0m \u001b[0;32mnot\u001b[0m \u001b[0;32mNone\u001b[0m\u001b[0;34m:\u001b[0m\u001b[0;34m\u001b[0m\u001b[0;34m\u001b[0m\u001b[0m\n",
            "\u001b[0;31mKeyboardInterrupt\u001b[0m: "
          ]
        }
      ]
    },
    {
      "cell_type": "code",
      "source": [
        "testPredict = model.predict(X_test)"
      ],
      "metadata": {
        "id": "q8WgmiTwVSvN"
      },
      "execution_count": null,
      "outputs": []
    },
    {
      "cell_type": "code",
      "source": [
        "mae_test_data=[]\n",
        "testPredict=list(testPredict)"
      ],
      "metadata": {
        "id": "tZxJ1gJAbXHT"
      },
      "execution_count": null,
      "outputs": []
    },
    {
      "cell_type": "code",
      "source": [
        "for i in range(len(testPredict)):\n",
        "  val=(testPredict[i][0]-Y_test[0])\n",
        "  mae_test_data.append(val)"
      ],
      "metadata": {
        "id": "ucBesh4YbXEK"
      },
      "execution_count": null,
      "outputs": []
    },
    {
      "cell_type": "code",
      "source": [
        "print(\"Loss in Testing data:\",sum(mae_test_data)/len(mae_test_data))"
      ],
      "metadata": {
        "id": "lOPoKJgaqTke"
      },
      "execution_count": null,
      "outputs": []
    },
    {
      "cell_type": "code",
      "source": [
        "training_loss = history.history['loss']\n",
        "val_loss = history.history['val_loss']\n",
        "# Create count of the number of epochs\n",
        "epoch_count = range(1, len(training_loss) + 1)\n",
        "# Visualize loss history\n",
        "plt.plot(epoch_count, training_loss, 'b')\n",
        "plt.plot(epoch_count, val_loss, 'orange')\n",
        "plt.legend(['Training Loss', 'Validation Loss'])\n",
        "plt.xlabel('Epoch')\n",
        "plt.ylabel('Loss')\n",
        "plt.show();"
      ],
      "metadata": {
        "id": "0OChxNBenqT8"
      },
      "execution_count": null,
      "outputs": []
    },
    {
      "cell_type": "code",
      "source": [
        "Y_test_labels=[]\n",
        "for i in Y_test:\n",
        "  if i[0]>=-1 and i[0]<40:\n",
        "    Y_test_labels.append(\"Anesthesia Deep\")\n",
        "  elif i[0]>=40 and i[0]<60:\n",
        "    Y_test_labels.append(\"Anesthesia Ok\")\n",
        "  elif i[0]>=60 and i[0]<=100:\n",
        "    Y_test_labels.append(\"Anesthesia Light\")"
      ],
      "metadata": {
        "id": "ZTkERyUsfX7A"
      },
      "execution_count": null,
      "outputs": []
    },
    {
      "cell_type": "code",
      "source": [
        "Y_predict_labels=[]\n",
        "for i in testPredict:\n",
        "  if i[0]>=0 and i[0]<40:\n",
        "    Y_predict_labels.append(\"Anesthesia Deep\")\n",
        "  elif i[0]>=40 and i[0]<60:\n",
        "    Y_predict_labels.append(\"Anesthesia Ok\")\n",
        "  elif i[0]>=60 and i[0]<=100:\n",
        "    Y_predict_labels.append(\"Anesthesia Light\")"
      ],
      "metadata": {
        "id": "CbC-cDlkfX44"
      },
      "execution_count": null,
      "outputs": []
    },
    {
      "cell_type": "code",
      "source": [
        "from sklearn import metrics\n",
        "Accuracy = metrics.accuracy_score(Y_test_labels,Y_predict_labels)\n",
        "Accuracy"
      ],
      "metadata": {
        "id": "zdwuz96_fXze"
      },
      "execution_count": null,
      "outputs": []
    },
    {
      "cell_type": "code",
      "source": [
        "from sklearn.metrics import confusion_matrix, ConfusionMatrixDisplay\n",
        "confusion_matrix(Y_test_labels,Y_predict_labels)\n",
        "#cmd = metrics.ConfusionMatrixDisplay(confusion_matrix, display_labels=['Anesthesia Light','Anesthesia Ok','Anesthesia Deep'])"
      ],
      "metadata": {
        "id": "i_gJJxI5jrqv"
      },
      "execution_count": null,
      "outputs": []
    },
    {
      "cell_type": "code",
      "source": [
        "Y_test"
      ],
      "metadata": {
        "id": "pXnDZqdRpNpW"
      },
      "execution_count": null,
      "outputs": []
    },
    {
      "cell_type": "code",
      "source": [
        "from sklearn.metrics import precision_score, recall_score\n",
        "precision_score(Y_test_labels,Y_predict_labels,average='micro')"
      ],
      "metadata": {
        "id": "xuUHda6Xjroe"
      },
      "execution_count": null,
      "outputs": []
    },
    {
      "cell_type": "code",
      "source": [
        "recall_score(Y_test_labels,Y_predict_labels,average='micro')"
      ],
      "metadata": {
        "id": "PlWGtRMQlr06"
      },
      "execution_count": null,
      "outputs": []
    },
    {
      "cell_type": "code",
      "source": [
        "from sklearn.metrics import f1_score\n",
        "f1_score(Y_test_labels,Y_predict_labels,average='micro')"
      ],
      "metadata": {
        "id": "6s_9ZylLlTYD"
      },
      "execution_count": null,
      "outputs": []
    },
    {
      "cell_type": "code",
      "source": [],
      "metadata": {
        "id": "zB5j20tolTVp"
      },
      "execution_count": null,
      "outputs": []
    },
    {
      "cell_type": "code",
      "source": [],
      "metadata": {
        "id": "-Mw-ASgzlTQu"
      },
      "execution_count": null,
      "outputs": []
    },
    {
      "cell_type": "code",
      "source": [
        "'''from sklearn.model_selection import StratifiedKFold\n",
        "kfold = StratifiedKFold(n_splits=3, shuffle=True, random_state=7)\n",
        "for train, test in kfold.split(X, Y):\n",
        "  function='tanh'\n",
        "  model = Sequential()\n",
        "  model.add(LSTM(100, activation=function, recurrent_activation='sigmoid', return_sequences=True, input_shape=(n_steps_in, n_features)))\n",
        "  model.add(LSTM(100, activation=function))\n",
        "  model.add(Dense(n_steps_out))\n",
        "  model.compile(optimizer='adam', loss='mse')\n",
        "  history=model.fit(X[train], Y[train], epochs=15, verbose=2, batch_size=128)\n",
        "  training_loss = history.history['loss']\n",
        "  # Create count of the number of epochs\n",
        "  epoch_count = range(1, len(training_loss) + 1)\n",
        "  # Visualize loss history\n",
        "  plt.plot(epoch_count, training_loss, 'b')\n",
        "  plt.legend(['Training Loss'])\n",
        "  plt.xlabel('Epoch')\n",
        "  plt.ylabel('Loss')\n",
        "  plt.show()\n",
        "  print(\"Test loss:\",model.evaluate(X[test], Y[test], verbose=2))\n",
        "  print()\n",
        "  print()'''"
      ],
      "metadata": {
        "colab": {
          "base_uri": "https://localhost:8080/",
          "height": 1000
        },
        "id": "vVCfDnIYd7YE",
        "outputId": "eace8477-d4ea-4b5f-d48c-8ecfad9654a9"
      },
      "execution_count": null,
      "outputs": [
        {
          "output_type": "stream",
          "name": "stdout",
          "text": [
            "Epoch 1/15\n",
            "353/353 - 28s - loss: 607.3019 - 28s/epoch - 79ms/step\n",
            "Epoch 2/15\n",
            "353/353 - 23s - loss: 248.0850 - 23s/epoch - 64ms/step\n",
            "Epoch 3/15\n",
            "353/353 - 24s - loss: 242.0515 - 24s/epoch - 67ms/step\n",
            "Epoch 4/15\n",
            "353/353 - 22s - loss: 242.0538 - 22s/epoch - 62ms/step\n",
            "Epoch 5/15\n",
            "353/353 - 22s - loss: 242.0637 - 22s/epoch - 63ms/step\n",
            "Epoch 6/15\n",
            "353/353 - 22s - loss: 242.0641 - 22s/epoch - 62ms/step\n",
            "Epoch 7/15\n",
            "353/353 - 23s - loss: 242.0748 - 23s/epoch - 65ms/step\n",
            "Epoch 8/15\n",
            "353/353 - 22s - loss: 242.0449 - 22s/epoch - 62ms/step\n",
            "Epoch 9/15\n",
            "353/353 - 22s - loss: 237.8377 - 22s/epoch - 63ms/step\n",
            "Epoch 10/15\n",
            "353/353 - 22s - loss: 232.4017 - 22s/epoch - 63ms/step\n",
            "Epoch 11/15\n",
            "353/353 - 22s - loss: 231.7179 - 22s/epoch - 63ms/step\n",
            "Epoch 12/15\n",
            "353/353 - 22s - loss: 233.1534 - 22s/epoch - 63ms/step\n",
            "Epoch 13/15\n",
            "353/353 - 23s - loss: 230.3892 - 23s/epoch - 65ms/step\n",
            "Epoch 14/15\n",
            "353/353 - 22s - loss: 228.4797 - 22s/epoch - 63ms/step\n",
            "Epoch 15/15\n",
            "353/353 - 22s - loss: 226.6852 - 22s/epoch - 63ms/step\n"
          ]
        },
        {
          "output_type": "display_data",
          "data": {
            "text/plain": [
              "<Figure size 432x288 with 1 Axes>"
            ],
            "image/png": "[encoded data removed]"
          },
          "metadata": {
            "needs_background": "light"
          }
        },
        {
          "output_type": "stream",
          "name": "stdout",
          "text": [
            "706/706 - 13s - loss: 227.3089 - 13s/epoch - 18ms/step\n",
            "Test loss: 227.30886840820312\n",
            "\n",
            "\n",
            "Epoch 1/15\n",
            "353/353 - 28s - loss: 617.2650 - 28s/epoch - 78ms/step\n",
            "Epoch 2/15\n",
            "353/353 - 22s - loss: 248.5954 - 22s/epoch - 63ms/step\n",
            "Epoch 3/15\n",
            "353/353 - 22s - loss: 242.1559 - 22s/epoch - 62ms/step\n",
            "Epoch 4/15\n",
            "353/353 - 22s - loss: 242.1580 - 22s/epoch - 62ms/step\n",
            "Epoch 5/15\n",
            "353/353 - 22s - loss: 242.1561 - 22s/epoch - 63ms/step\n",
            "Epoch 6/15\n",
            "353/353 - 22s - loss: 242.1295 - 22s/epoch - 63ms/step\n",
            "Epoch 7/15\n",
            "353/353 - 23s - loss: 242.0997 - 23s/epoch - 65ms/step\n",
            "Epoch 8/15\n",
            "353/353 - 22s - loss: 240.2233 - 22s/epoch - 64ms/step\n",
            "Epoch 9/15\n",
            "353/353 - 23s - loss: 236.1336 - 23s/epoch - 64ms/step\n",
            "Epoch 10/15\n",
            "353/353 - 22s - loss: 234.4890 - 22s/epoch - 63ms/step\n",
            "Epoch 11/15\n",
            "353/353 - 22s - loss: 232.4613 - 22s/epoch - 63ms/step\n",
            "Epoch 12/15\n",
            "353/353 - 22s - loss: 231.4030 - 22s/epoch - 63ms/step\n",
            "Epoch 13/15\n",
            "353/353 - 23s - loss: 232.0351 - 23s/epoch - 66ms/step\n",
            "Epoch 14/15\n",
            "353/353 - 22s - loss: 231.1875 - 22s/epoch - 64ms/step\n",
            "Epoch 15/15\n",
            "353/353 - 22s - loss: 229.9758 - 22s/epoch - 64ms/step\n"
          ]
        },
        {
          "output_type": "display_data",
          "data": {
            "text/plain": [
              "<Figure size 432x288 with 1 Axes>"
            ],
            "image/png": "[encoded data removed]"
          },
          "metadata": {
            "needs_background": "light"
          }
        },
        {
          "output_type": "stream",
          "name": "stdout",
          "text": [
            "706/706 - 12s - loss: 228.6158 - 12s/epoch - 18ms/step\n",
            "Test loss: 228.61575317382812\n",
            "\n",
            "\n",
            "Epoch 1/15\n",
            "353/353 - 26s - loss: 589.1644 - 26s/epoch - 74ms/step\n",
            "Epoch 2/15\n",
            "353/353 - 23s - loss: 247.1479 - 23s/epoch - 64ms/step\n",
            "Epoch 3/15\n",
            "353/353 - 22s - loss: 242.0681 - 22s/epoch - 63ms/step\n",
            "Epoch 4/15\n",
            "353/353 - 22s - loss: 241.7966 - 22s/epoch - 63ms/step\n",
            "Epoch 5/15\n",
            "353/353 - 22s - loss: 241.5674 - 22s/epoch - 64ms/step\n",
            "Epoch 6/15\n",
            "353/353 - 22s - loss: 238.9642 - 22s/epoch - 64ms/step\n",
            "Epoch 7/15\n",
            "353/353 - 23s - loss: 237.7280 - 23s/epoch - 65ms/step\n",
            "Epoch 8/15\n",
            "353/353 - 22s - loss: 240.0690 - 22s/epoch - 64ms/step\n",
            "Epoch 9/15\n",
            "353/353 - 23s - loss: 236.2659 - 23s/epoch - 64ms/step\n",
            "Epoch 10/15\n",
            "353/353 - 23s - loss: 234.2211 - 23s/epoch - 64ms/step\n",
            "Epoch 11/15\n",
            "353/353 - 23s - loss: 233.4632 - 23s/epoch - 64ms/step\n",
            "Epoch 12/15\n",
            "353/353 - 23s - loss: 233.0323 - 23s/epoch - 64ms/step\n",
            "Epoch 13/15\n",
            "353/353 - 23s - loss: 232.8694 - 23s/epoch - 66ms/step\n",
            "Epoch 14/15\n",
            "353/353 - 23s - loss: 231.7752 - 23s/epoch - 65ms/step\n",
            "Epoch 15/15\n",
            "353/353 - 29s - loss: 231.7087 - 29s/epoch - 82ms/step\n"
          ]
        },
        {
          "output_type": "display_data",
          "data": {
            "text/plain": [
              "<Figure size 432x288 with 1 Axes>"
            ],
            "image/png": "[encoded data removed]"
          },
          "metadata": {
            "needs_background": "light"
          }
        },
        {
          "output_type": "stream",
          "name": "stdout",
          "text": [
            "706/706 - 12s - loss: 232.9973 - 12s/epoch - 18ms/step\n",
            "Test loss: 232.99729919433594\n",
            "\n",
            "\n"
          ]
        }
      ]
    }
  ]
}