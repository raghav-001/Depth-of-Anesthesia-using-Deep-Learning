{
  "cells": [
    {
      "cell_type": "code",
      "execution_count": null,
      "metadata": {
        "id": "LWodXV_z0A9v"
      },
      "outputs": [],
      "source": [
        "import numpy as np\n",
        "import pandas as pd\n",
        "import os\n",
        "import matplotlib.pyplot as plt\n",
        "from sklearn import preprocessing\n",
        "from sklearn.preprocessing import StandardScaler\n",
        "from sklearn.preprocessing import MinMaxScaler"
      ]
    },
    {
      "cell_type": "code",
      "execution_count": null,
      "metadata": {
        "colab": {
          "base_uri": "https://localhost:8080/"
        },
        "id": "13Vrp2tnnuLz",
        "outputId": "69a6e875-eb10-4e95-c42b-57e82933c033"
      },
      "outputs": [
        {
          "output_type": "stream",
          "name": "stdout",
          "text": [
            "Mounted at /content/drive\n"
          ]
        }
      ],
      "source": [
        "from google.colab import drive\n",
        "drive.mount('/content/drive')"
      ]
    },
    {
      "cell_type": "code",
      "execution_count": null,
      "metadata": {
        "id": "1x_sVa4Rg96l"
      },
      "outputs": [],
      "source": []
    },
    {
      "cell_type": "code",
      "execution_count": null,
      "metadata": {
        "id": "O1O2SzJ80W4m"
      },
      "outputs": [],
      "source": [
        "os.chdir('/content/drive/MyDrive/PATIENTS DATA')"
      ]
    },
    {
      "cell_type": "code",
      "execution_count": null,
      "metadata": {
        "colab": {
          "base_uri": "https://localhost:8080/"
        },
        "id": "i3hA1Xar0W9y",
        "outputId": "23facdbb-f2e7-4b88-e8ba-6a1eebc8cff1"
      },
      "outputs": [
        {
          "output_type": "execute_result",
          "data": {
            "text/plain": [
              "59"
            ]
          },
          "metadata": {},
          "execution_count": 85
        }
      ],
      "source": [
        "len(os.listdir(os.chdir('/content/drive/MyDrive/PATIENTS DATA')))"
      ]
    },
    {
      "cell_type": "markdown",
      "source": [
        "# Inputting EEG"
      ],
      "metadata": {
        "id": "uK_8hN9tnbvv"
      }
    },
    {
      "cell_type": "code",
      "execution_count": null,
      "metadata": {
        "id": "ZqetuRlJ1_kw"
      },
      "outputs": [],
      "source": [
        "def get_eeg(path):\n",
        "  f=open(\"EEG.txt\",\"r\")\n",
        "  lines=f.readlines()\n",
        "  result=[]\n",
        "  for x in lines:\n",
        "      result.append(x.split('\\t')[1])\n",
        "  f.close()\n",
        "  len(result)\n",
        "  rep = []\n",
        "  for x in result:\n",
        "      rep.append(x.replace(\"\\n\", \"\"))\n",
        "  x = [int(i) for i in rep]\n",
        "  x=np.array(x)\n",
        "  x = x[(x>np.quantile(x,0.02))].tolist()\n",
        "  return x"
      ]
    },
    {
      "cell_type": "code",
      "execution_count": null,
      "metadata": {
        "id": "pT9p0yZc0XJx"
      },
      "outputs": [],
      "source": [
        "def slice_eeg(start_index,x):\n",
        "  x=x[start_index:]\n",
        "  x=x[:len(x)-len(x)%640]\n",
        "  return x"
      ]
    },
    {
      "cell_type": "code",
      "execution_count": null,
      "metadata": {
        "id": "I72Hw64M-ekA"
      },
      "outputs": [],
      "source": [
        "def get_BIS(x):\n",
        "  df=pd.read_csv(\"NumData.csv\")\n",
        "  df = df[df.BIS != -1]\n",
        "  df=df[:int(len(x)/640)]\n",
        "  y=df[\"BIS\"]\n",
        "  y = [int(i) for i in y]\n",
        "  return y"
      ]
    },
    {
      "cell_type": "code",
      "execution_count": null,
      "metadata": {
        "id": "hzwN2WnQ_N-u"
      },
      "outputs": [],
      "source": [
        "def create_sequence(x,y):\n",
        "  l=[]\n",
        "  count=0\n",
        "  index=0\n",
        "  for i in range(0,len(x)):\n",
        "      l.append(x[i])\n",
        "      count+=1\n",
        "      if count==640:\n",
        "          l.append(y[index])\n",
        "          index+=1\n",
        "          count=0\n",
        "  return l"
      ]
    },
    {
      "cell_type": "code",
      "execution_count": null,
      "metadata": {
        "id": "4uw_39PJAg4a"
      },
      "outputs": [],
      "source": [
        "L=[]"
      ]
    },
    {
      "cell_type": "markdown",
      "metadata": {
        "id": "YHlCgOd-2EEg"
      },
      "source": [
        "**PATIENT-1**"
      ]
    },
    {
      "cell_type": "code",
      "execution_count": null,
      "metadata": {
        "colab": {
          "base_uri": "https://localhost:8080/"
        },
        "id": "4MJtdDQO0XAW",
        "outputId": "f3635ee9-8ade-4622-a8f8-c0a2415652ae"
      },
      "outputs": [
        {
          "name": "stdout",
          "output_type": "stream",
          "text": [
            "1888640 2951\n"
          ]
        }
      ],
      "source": [
        "os.chdir('/content/drive/MyDrive/PATIENTS DATA/Patient 1')\n",
        "start_index=18848\n",
        "x=get_eeg('/content/drive/MyDrive/PATIENTS DATA/Patient 1')\n",
        "x=slice_eeg(start_index,x)\n",
        "df=pd.read_csv(\"NumData.csv\")\n",
        "y=get_BIS(x)\n",
        "print(len(x),len(y))"
      ]
    },
    {
      "cell_type": "code",
      "execution_count": null,
      "metadata": {
        "colab": {
          "base_uri": "https://localhost:8080/"
        },
        "id": "XbP9DdjA6L4F",
        "outputId": "fc104d98-7ceb-4cef-bf7c-10a7c5349077"
      },
      "outputs": [
        {
          "name": "stdout",
          "output_type": "stream",
          "text": [
            "1891591\n"
          ]
        }
      ],
      "source": [
        "l=create_sequence(x,y)\n",
        "for i in l:\n",
        "  L.append(i)\n",
        "print(len(L))"
      ]
    },
    {
      "cell_type": "markdown",
      "metadata": {
        "id": "8Zu16gZ-8jhF"
      },
      "source": [
        "**PATIENT-2**"
      ]
    },
    {
      "cell_type": "code",
      "execution_count": null,
      "metadata": {
        "colab": {
          "base_uri": "https://localhost:8080/"
        },
        "id": "FHzCDeTe6Lqg",
        "outputId": "fea1aac1-9c5f-43b4-c0b4-c928b2bdc4cd"
      },
      "outputs": [
        {
          "name": "stdout",
          "output_type": "stream",
          "text": [
            "696320 1088\n"
          ]
        }
      ],
      "source": [
        "os.chdir('/content/drive/MyDrive/PATIENTS DATA/Patient 2')\n",
        "start_index=161160\n",
        "x=get_eeg('/content/drive/MyDrive/PATIENTS DATA/Patient 2')\n",
        "x=slice_eeg(start_index,x)\n",
        "df=pd.read_csv(\"NumData.csv\")\n",
        "y=get_BIS(x)\n",
        "print(len(x),len(y))"
      ]
    },
    {
      "cell_type": "code",
      "execution_count": null,
      "metadata": {
        "colab": {
          "base_uri": "https://localhost:8080/"
        },
        "id": "WXARsLWl6ddp",
        "outputId": "ce4d639d-f32e-44de-cec9-aa2cf0ea139c"
      },
      "outputs": [
        {
          "name": "stdout",
          "output_type": "stream",
          "text": [
            "2588999\n"
          ]
        }
      ],
      "source": [
        "l=create_sequence(x,y)\n",
        "for i in l:\n",
        "  L.append(i)\n",
        "print(len(L))"
      ]
    },
    {
      "cell_type": "markdown",
      "metadata": {
        "id": "NL0CNbnYB3GO"
      },
      "source": [
        "**PATIENT-3**"
      ]
    },
    {
      "cell_type": "code",
      "execution_count": null,
      "metadata": {
        "colab": {
          "base_uri": "https://localhost:8080/"
        },
        "id": "e6vNJKscBlvZ",
        "outputId": "31eb4c0a-b4c4-4687-f282-d675f429024b"
      },
      "outputs": [
        {
          "name": "stdout",
          "output_type": "stream",
          "text": [
            "822400 1285\n"
          ]
        }
      ],
      "source": [
        "os.chdir('/content/drive/MyDrive/PATIENTS DATA/Patient 3')\n",
        "start_index=10656\n",
        "x=get_eeg('/content/drive/MyDrive/PATIENTS DATA/Patient 3')\n",
        "x=slice_eeg(start_index,x)\n",
        "df=pd.read_csv(\"NumData.csv\")\n",
        "y=get_BIS(x)\n",
        "print(len(x),len(y))"
      ]
    },
    {
      "cell_type": "code",
      "execution_count": null,
      "metadata": {
        "colab": {
          "base_uri": "https://localhost:8080/"
        },
        "id": "fk2lL_e_BlY9",
        "outputId": "7111a35c-8c44-433c-9a15-7ea98a2083a0"
      },
      "outputs": [
        {
          "name": "stdout",
          "output_type": "stream",
          "text": [
            "3412684\n"
          ]
        }
      ],
      "source": [
        "l=create_sequence(x,y)\n",
        "for i in l:\n",
        "  L.append(i)\n",
        "print(len(L))"
      ]
    },
    {
      "cell_type": "markdown",
      "metadata": {
        "id": "9BPD--iQDX83"
      },
      "source": [
        "**PATIENT-4**"
      ]
    },
    {
      "cell_type": "code",
      "execution_count": null,
      "metadata": {
        "colab": {
          "base_uri": "https://localhost:8080/"
        },
        "id": "jHkKGMey6dQ1",
        "outputId": "c9e45502-81e6-4a6b-fd77-e1cfd82fcb19"
      },
      "outputs": [
        {
          "name": "stdout",
          "output_type": "stream",
          "text": [
            "705920 1103\n"
          ]
        }
      ],
      "source": [
        "os.chdir('/content/drive/MyDrive/PATIENTS DATA/Patient 4')\n",
        "start_index=640\n",
        "x=get_eeg('/content/drive/MyDrive/PATIENTS DATA/Patient 4')\n",
        "x=slice_eeg(start_index,x)\n",
        "df=pd.read_csv(\"NumData.csv\")\n",
        "y=get_BIS(x)\n",
        "print(len(x),len(y))"
      ]
    },
    {
      "cell_type": "code",
      "execution_count": null,
      "metadata": {
        "colab": {
          "base_uri": "https://localhost:8080/"
        },
        "id": "AnNotCEF6dOU",
        "outputId": "bc786cdc-fe76-41bd-9b7b-e7357a2835f3"
      },
      "outputs": [
        {
          "name": "stdout",
          "output_type": "stream",
          "text": [
            "4119707\n"
          ]
        }
      ],
      "source": [
        "l=create_sequence(x,y)\n",
        "for i in l:\n",
        "  L.append(i)\n",
        "print(len(L))"
      ]
    },
    {
      "cell_type": "markdown",
      "metadata": {
        "id": "uHsXEW2yDxT3"
      },
      "source": [
        "**PATIENT-5**"
      ]
    },
    {
      "cell_type": "code",
      "execution_count": null,
      "metadata": {
        "colab": {
          "base_uri": "https://localhost:8080/"
        },
        "id": "Elu57v3g6dL7",
        "outputId": "19b0bc09-0ba9-4e2b-e75d-164f73450c21"
      },
      "outputs": [
        {
          "name": "stdout",
          "output_type": "stream",
          "text": [
            "1280000 2000\n"
          ]
        }
      ],
      "source": [
        "os.chdir('/content/drive/MyDrive/PATIENTS DATA/Patient 5')\n",
        "start_index=8288\n",
        "x=get_eeg('/content/drive/MyDrive/PATIENTS DATA/Patient 5')\n",
        "x=slice_eeg(start_index,x)\n",
        "df=pd.read_csv(\"NumData.csv\")\n",
        "y=get_BIS(x)\n",
        "print(len(x),len(y))"
      ]
    },
    {
      "cell_type": "code",
      "execution_count": null,
      "metadata": {
        "colab": {
          "base_uri": "https://localhost:8080/"
        },
        "id": "NxUjt2te6dJn",
        "outputId": "a67c733b-84ca-4c55-9732-4403f8e94f50"
      },
      "outputs": [
        {
          "name": "stdout",
          "output_type": "stream",
          "text": [
            "5401707\n"
          ]
        }
      ],
      "source": [
        "l=create_sequence(x,y)\n",
        "for i in l:\n",
        "  L.append(i)\n",
        "print(len(L))"
      ]
    },
    {
      "cell_type": "markdown",
      "metadata": {
        "id": "hXsbg5kyD9Np"
      },
      "source": [
        "**PATIENT-6**"
      ]
    },
    {
      "cell_type": "code",
      "execution_count": null,
      "metadata": {
        "colab": {
          "base_uri": "https://localhost:8080/"
        },
        "id": "8vRopiKd6dGt",
        "outputId": "0d1b4a5a-b212-4557-dcec-b437d883e674"
      },
      "outputs": [
        {
          "name": "stdout",
          "output_type": "stream",
          "text": [
            "946560 1479\n"
          ]
        }
      ],
      "source": [
        "os.chdir('/content/drive/MyDrive/PATIENTS DATA/Patient 6')\n",
        "start_index=5920\n",
        "x=get_eeg('/content/drive/MyDrive/PATIENTS DATA/Patient 6')\n",
        "x=slice_eeg(start_index,x)\n",
        "df=pd.read_csv(\"NumData.csv\")\n",
        "y=get_BIS(x)\n",
        "print(len(x),len(y))"
      ]
    },
    {
      "cell_type": "code",
      "execution_count": null,
      "metadata": {
        "colab": {
          "base_uri": "https://localhost:8080/"
        },
        "id": "fPMTbiX86dEH",
        "outputId": "7289d9f8-414f-45ce-a45a-63b679918abf"
      },
      "outputs": [
        {
          "name": "stdout",
          "output_type": "stream",
          "text": [
            "6349746\n"
          ]
        }
      ],
      "source": [
        "l=create_sequence(x,y)\n",
        "for i in l:\n",
        "  L.append(i)\n",
        "print(len(L))"
      ]
    },
    {
      "cell_type": "markdown",
      "metadata": {
        "id": "axt5m3TPF1pY"
      },
      "source": [
        "**PATIENT-7**"
      ]
    },
    {
      "cell_type": "code",
      "execution_count": null,
      "metadata": {
        "colab": {
          "base_uri": "https://localhost:8080/"
        },
        "id": "XYDIv-b96dBt",
        "outputId": "db501010-6a23-4e02-e3c4-8efed810eac3"
      },
      "outputs": [
        {
          "name": "stdout",
          "output_type": "stream",
          "text": [
            "1146240 1791\n"
          ]
        }
      ],
      "source": [
        "os.chdir('/content/drive/MyDrive/PATIENTS DATA/Patient 7')\n",
        "start_index=59264\n",
        "x=get_eeg('/content/drive/MyDrive/PATIENTS DATA/Patient 7')\n",
        "x=slice_eeg(start_index,x)\n",
        "df=pd.read_csv(\"NumData.csv\")\n",
        "y=get_BIS(x)\n",
        "print(len(x),len(y))"
      ]
    },
    {
      "cell_type": "code",
      "execution_count": null,
      "metadata": {
        "colab": {
          "base_uri": "https://localhost:8080/"
        },
        "id": "qKnmgCh66c-8",
        "outputId": "22bde9bf-1577-487e-852f-49e329e92b18"
      },
      "outputs": [
        {
          "name": "stdout",
          "output_type": "stream",
          "text": [
            "7497777\n"
          ]
        }
      ],
      "source": [
        "l=create_sequence(x,y)\n",
        "for i in l:\n",
        "  L.append(i)\n",
        "print(len(L))"
      ]
    },
    {
      "cell_type": "markdown",
      "metadata": {
        "id": "NygdJCekGlkD"
      },
      "source": [
        "**PATIENT-8**"
      ]
    },
    {
      "cell_type": "code",
      "execution_count": null,
      "metadata": {
        "colab": {
          "base_uri": "https://localhost:8080/"
        },
        "id": "Vwvlhpoi6c8j",
        "outputId": "9dec99ed-e1fb-4f98-a6d5-7b45e627f98d"
      },
      "outputs": [
        {
          "name": "stdout",
          "output_type": "stream",
          "text": [
            "1194880 1867\n"
          ]
        }
      ],
      "source": [
        "os.chdir('/content/drive/MyDrive/PATIENTS DATA/Patient 8')\n",
        "start_index=39160\n",
        "x=get_eeg('/content/drive/MyDrive/PATIENTS DATA/Patient 8')\n",
        "x=slice_eeg(start_index,x)\n",
        "df=pd.read_csv(\"NumData.csv\")\n",
        "y=get_BIS(x)\n",
        "print(len(x),len(y))"
      ]
    },
    {
      "cell_type": "code",
      "execution_count": null,
      "metadata": {
        "colab": {
          "base_uri": "https://localhost:8080/"
        },
        "id": "V1r9Pe8-6c6G",
        "outputId": "17ec934b-a61f-42bf-c96c-b047eaaff5c0"
      },
      "outputs": [
        {
          "name": "stdout",
          "output_type": "stream",
          "text": [
            "8694524\n"
          ]
        }
      ],
      "source": [
        "l=create_sequence(x,y)\n",
        "for i in l:\n",
        "  L.append(i)\n",
        "print(len(L))"
      ]
    },
    {
      "cell_type": "markdown",
      "metadata": {
        "id": "KrPJW2dKHAPv"
      },
      "source": [
        "**PATIENT-9**"
      ]
    },
    {
      "cell_type": "code",
      "execution_count": null,
      "metadata": {
        "colab": {
          "base_uri": "https://localhost:8080/"
        },
        "id": "B8tiF5oc6c3s",
        "outputId": "d5b70f2a-c9a1-4a9c-c5cc-7a57ce6186ad"
      },
      "outputs": [
        {
          "name": "stdout",
          "output_type": "stream",
          "text": [
            "812800 1270\n"
          ]
        }
      ],
      "source": [
        "os.chdir('/content/drive/MyDrive/PATIENTS DATA/Patient 9')\n",
        "start_index=7456\n",
        "x=get_eeg('/content/drive/MyDrive/PATIENTS DATA/Patient 9')\n",
        "x=slice_eeg(start_index,x)\n",
        "df=pd.read_csv(\"NumData.csv\")\n",
        "y=get_BIS(x)\n",
        "print(len(x),len(y))"
      ]
    },
    {
      "cell_type": "code",
      "execution_count": null,
      "metadata": {
        "colab": {
          "base_uri": "https://localhost:8080/"
        },
        "id": "pbEej7Fm6c1V",
        "outputId": "8a65d6ef-37ff-455d-bb8d-451fa8e4a312"
      },
      "outputs": [
        {
          "name": "stdout",
          "output_type": "stream",
          "text": [
            "9508594\n"
          ]
        }
      ],
      "source": [
        "l=create_sequence(x,y)\n",
        "for i in l:\n",
        "  L.append(i)\n",
        "print(len(L))"
      ]
    },
    {
      "cell_type": "markdown",
      "metadata": {
        "id": "YnLi3C_GHba0"
      },
      "source": [
        "**PATIENT-10**"
      ]
    },
    {
      "cell_type": "code",
      "execution_count": null,
      "metadata": {
        "colab": {
          "base_uri": "https://localhost:8080/"
        },
        "id": "yx05RfCG6cy9",
        "outputId": "6934b495-84ce-409c-92e0-2dc7b02b9c10"
      },
      "outputs": [
        {
          "name": "stdout",
          "output_type": "stream",
          "text": [
            "801280 1252\n"
          ]
        }
      ],
      "source": [
        "os.chdir('/content/drive/MyDrive/PATIENTS DATA/Patient 10')\n",
        "start_index=29344\n",
        "x=get_eeg('/content/drive/MyDrive/PATIENTS DATA/Patient 10')\n",
        "x=slice_eeg(start_index,x)\n",
        "df=pd.read_csv(\"NumData.csv\")\n",
        "y=get_BIS(x)\n",
        "print(len(x),len(y))"
      ]
    },
    {
      "cell_type": "code",
      "execution_count": null,
      "metadata": {
        "colab": {
          "base_uri": "https://localhost:8080/"
        },
        "id": "tLXVs3uXHF_1",
        "outputId": "93a4a7a5-f56a-4b04-b16f-16e3a114090d"
      },
      "outputs": [
        {
          "name": "stdout",
          "output_type": "stream",
          "text": [
            "10311126\n"
          ]
        }
      ],
      "source": [
        "l=create_sequence(x,y)\n",
        "for i in l:\n",
        "  L.append(i)\n",
        "print(len(L))"
      ]
    },
    {
      "cell_type": "markdown",
      "metadata": {
        "id": "ycSSOJVWH_4p"
      },
      "source": [
        "**PATIENT-11**"
      ]
    },
    {
      "cell_type": "code",
      "execution_count": null,
      "metadata": {
        "colab": {
          "base_uri": "https://localhost:8080/"
        },
        "id": "smcehpAyHGzU",
        "outputId": "e38f2a56-7ea0-4c6b-8c35-4e77f83e2155"
      },
      "outputs": [
        {
          "name": "stdout",
          "output_type": "stream",
          "text": [
            "1075200 1680\n"
          ]
        }
      ],
      "source": [
        "os.chdir('/content/drive/MyDrive/PATIENTS DATA/Patient 11')\n",
        "start_index=15008\n",
        "x=get_eeg('/content/drive/MyDrive/PATIENTS DATA/Patient 11')\n",
        "x=slice_eeg(start_index,x)\n",
        "df=pd.read_csv(\"NumData.csv\")\n",
        "y=get_BIS(x)\n",
        "print(len(x),len(y))"
      ]
    },
    {
      "cell_type": "code",
      "execution_count": null,
      "metadata": {
        "colab": {
          "base_uri": "https://localhost:8080/"
        },
        "id": "VoyYjC1kHGrb",
        "outputId": "3d9f072b-4494-4dc5-fe5b-63c487901c1b"
      },
      "outputs": [
        {
          "name": "stdout",
          "output_type": "stream",
          "text": [
            "11388006\n"
          ]
        }
      ],
      "source": [
        "l=create_sequence(x,y)\n",
        "for i in l:\n",
        "  L.append(i)\n",
        "print(len(L))"
      ]
    },
    {
      "cell_type": "markdown",
      "metadata": {
        "id": "4f4UnxYbIYAY"
      },
      "source": [
        "**PATIENT-12**"
      ]
    },
    {
      "cell_type": "code",
      "execution_count": null,
      "metadata": {
        "colab": {
          "base_uri": "https://localhost:8080/"
        },
        "id": "vHfifIDp6cwj",
        "outputId": "dbcf28e1-0985-4d09-b5b4-1647f7c8e913"
      },
      "outputs": [
        {
          "name": "stdout",
          "output_type": "stream",
          "text": [
            "1132800 1770\n"
          ]
        }
      ],
      "source": [
        "os.chdir('/content/drive/MyDrive/PATIENTS DATA/Patient 12')\n",
        "start_index=15968\n",
        "x=get_eeg('/content/drive/MyDrive/PATIENTS DATA/Patient 12')\n",
        "x=slice_eeg(start_index,x)\n",
        "df=pd.read_csv(\"NumData.csv\")\n",
        "y=get_BIS(x)\n",
        "print(len(x),len(y))"
      ]
    },
    {
      "cell_type": "code",
      "execution_count": null,
      "metadata": {
        "colab": {
          "base_uri": "https://localhost:8080/"
        },
        "id": "F3_uQCFH6cuN",
        "outputId": "351cba04-75c9-49da-ac98-3d5996abf715"
      },
      "outputs": [
        {
          "name": "stdout",
          "output_type": "stream",
          "text": [
            "12522576\n"
          ]
        }
      ],
      "source": [
        "l=create_sequence(x,y)\n",
        "for i in l:\n",
        "  L.append(i)\n",
        "print(len(L))"
      ]
    },
    {
      "cell_type": "markdown",
      "metadata": {
        "id": "BCSk9SrbIuN0"
      },
      "source": [
        "**PATIENT-13**"
      ]
    },
    {
      "cell_type": "markdown",
      "metadata": {
        "id": "bP4FcqHgJHED"
      },
      "source": [
        "Insufficient data"
      ]
    },
    {
      "cell_type": "markdown",
      "metadata": {
        "id": "YKjN9weoJKtX"
      },
      "source": [
        "**PATIENT-14**"
      ]
    },
    {
      "cell_type": "code",
      "execution_count": null,
      "metadata": {
        "colab": {
          "base_uri": "https://localhost:8080/"
        },
        "id": "gcHPCnyq6crr",
        "outputId": "726cc1fd-52ef-4316-9ad6-3b1d17f211b8"
      },
      "outputs": [
        {
          "name": "stdout",
          "output_type": "stream",
          "text": [
            "813440 1271\n"
          ]
        }
      ],
      "source": [
        "os.chdir('/content/drive/MyDrive/PATIENTS DATA/Patient 14')\n",
        "start_index=512\n",
        "x=get_eeg('/content/drive/MyDrive/PATIENTS DATA/Patient 14')\n",
        "x=slice_eeg(start_index,x)\n",
        "df=pd.read_csv(\"NumData.csv\")\n",
        "y=get_BIS(x)\n",
        "print(len(x),len(y))"
      ]
    },
    {
      "cell_type": "code",
      "execution_count": null,
      "metadata": {
        "colab": {
          "base_uri": "https://localhost:8080/"
        },
        "id": "ERdYGJIk6cpf",
        "outputId": "8e5a0be2-19d1-4f70-c3bb-31b961b22cb2"
      },
      "outputs": [
        {
          "name": "stdout",
          "output_type": "stream",
          "text": [
            "13337287\n"
          ]
        }
      ],
      "source": [
        "l=create_sequence(x,y)\n",
        "for i in l:\n",
        "  L.append(i)\n",
        "print(len(L))"
      ]
    },
    {
      "cell_type": "markdown",
      "metadata": {
        "id": "T4iR1lQaJ_cM"
      },
      "source": [
        "**PATIENT-15**"
      ]
    },
    {
      "cell_type": "code",
      "execution_count": null,
      "metadata": {
        "colab": {
          "base_uri": "https://localhost:8080/"
        },
        "id": "Mv_KsaVT6ces",
        "outputId": "9e819cbd-d486-4f83-f958-58365dfa403d"
      },
      "outputs": [
        {
          "name": "stdout",
          "output_type": "stream",
          "text": [
            "721280 1127\n"
          ]
        }
      ],
      "source": [
        "os.chdir('/content/drive/MyDrive/PATIENTS DATA/Patient 15')\n",
        "start_index=576\n",
        "x=get_eeg('/content/drive/MyDrive/PATIENTS DATA/Patient 15')\n",
        "x=slice_eeg(start_index,x)\n",
        "df=pd.read_csv(\"NumData.csv\")\n",
        "y=get_BIS(x)\n",
        "print(len(x),len(y))"
      ]
    },
    {
      "cell_type": "code",
      "execution_count": null,
      "metadata": {
        "colab": {
          "base_uri": "https://localhost:8080/"
        },
        "id": "uKolUg356ccE",
        "outputId": "236203cb-0272-4ba3-fc48-80212b71b012"
      },
      "outputs": [
        {
          "name": "stdout",
          "output_type": "stream",
          "text": [
            "14059694\n"
          ]
        }
      ],
      "source": [
        "l=create_sequence(x,y)\n",
        "for i in l:\n",
        "  L.append(i)\n",
        "print(len(L))"
      ]
    },
    {
      "cell_type": "markdown",
      "metadata": {
        "id": "D7Q7-nYnKShn"
      },
      "source": [
        "**PATIENT-16**"
      ]
    },
    {
      "cell_type": "code",
      "execution_count": null,
      "metadata": {
        "colab": {
          "base_uri": "https://localhost:8080/"
        },
        "id": "3dXHqawtHFKq",
        "outputId": "82964b5e-bc60-4240-ab0a-1682743f3e63"
      },
      "outputs": [
        {
          "name": "stdout",
          "output_type": "stream",
          "text": [
            "1005440 1571\n"
          ]
        }
      ],
      "source": [
        "os.chdir('/content/drive/MyDrive/PATIENTS DATA/Patient 16')\n",
        "start_index=1280\n",
        "x=get_eeg('/content/drive/MyDrive/PATIENTS DATA/Patient 16')\n",
        "x=slice_eeg(start_index,x)\n",
        "df=pd.read_csv(\"NumData.csv\")\n",
        "y=get_BIS(x)\n",
        "print(len(x),len(y))"
      ]
    },
    {
      "cell_type": "code",
      "execution_count": null,
      "metadata": {
        "colab": {
          "base_uri": "https://localhost:8080/"
        },
        "id": "xzb1D_nbHFIM",
        "outputId": "dbe24d84-185e-47d9-a394-189d8fc7d81f"
      },
      "outputs": [
        {
          "name": "stdout",
          "output_type": "stream",
          "text": [
            "15066705\n"
          ]
        }
      ],
      "source": [
        "l=create_sequence(x,y)\n",
        "for i in l:\n",
        "  L.append(i)\n",
        "print(len(L))"
      ]
    },
    {
      "cell_type": "markdown",
      "metadata": {
        "id": "JP5_4nV_K3jQ"
      },
      "source": [
        "**PATIENT-17**"
      ]
    },
    {
      "cell_type": "code",
      "execution_count": null,
      "metadata": {
        "colab": {
          "base_uri": "https://localhost:8080/"
        },
        "id": "aN38x5loHFFy",
        "outputId": "e9cf2078-348f-4965-9c07-a03ced9167c6"
      },
      "outputs": [
        {
          "name": "stdout",
          "output_type": "stream",
          "text": [
            "1612160 2519\n"
          ]
        }
      ],
      "source": [
        "os.chdir('/content/drive/MyDrive/PATIENTS DATA/Patient 17')\n",
        "start_index=40328\n",
        "x=get_eeg('/content/drive/MyDrive/PATIENTS DATA/Patient 17')\n",
        "x=slice_eeg(start_index,x)\n",
        "df=pd.read_csv(\"NumData.csv\")\n",
        "y=get_BIS(x)\n",
        "print(len(x),len(y))"
      ]
    },
    {
      "cell_type": "code",
      "execution_count": null,
      "metadata": {
        "colab": {
          "base_uri": "https://localhost:8080/"
        },
        "id": "tFW8GYl_HFDA",
        "outputId": "9d5c0f31-d689-4bdf-8827-888f62a7c821"
      },
      "outputs": [
        {
          "name": "stdout",
          "output_type": "stream",
          "text": [
            "16681384\n"
          ]
        }
      ],
      "source": [
        "l=create_sequence(x,y)\n",
        "for i in l:\n",
        "  L.append(i)\n",
        "print(len(L))"
      ]
    },
    {
      "cell_type": "markdown",
      "metadata": {
        "id": "ZEXnJOFrLUXW"
      },
      "source": [
        "**PATIENT-18**"
      ]
    },
    {
      "cell_type": "code",
      "execution_count": null,
      "metadata": {
        "colab": {
          "base_uri": "https://localhost:8080/"
        },
        "id": "speagrLoHFAI",
        "outputId": "0e4c7a69-9667-48b4-9dd5-480b88776602"
      },
      "outputs": [
        {
          "name": "stdout",
          "output_type": "stream",
          "text": [
            "188800 295\n"
          ]
        }
      ],
      "source": [
        "os.chdir('/content/drive/MyDrive/PATIENTS DATA/Patient 18')\n",
        "start_index=480\n",
        "x=get_eeg('/content/drive/MyDrive/PATIENTS DATA/Patient 18')\n",
        "x=slice_eeg(start_index,x)\n",
        "df=pd.read_csv(\"NumData.csv\")\n",
        "y=get_BIS(x)\n",
        "print(len(x),len(y))"
      ]
    },
    {
      "cell_type": "code",
      "execution_count": null,
      "metadata": {
        "colab": {
          "base_uri": "https://localhost:8080/"
        },
        "id": "OPB7dJ2rNJzd",
        "outputId": "06152392-1b22-4a10-da5f-307107fe2fe5"
      },
      "outputs": [
        {
          "name": "stdout",
          "output_type": "stream",
          "text": [
            "16870479\n"
          ]
        }
      ],
      "source": [
        "l=create_sequence(x,y)\n",
        "for i in l:\n",
        "  L.append(i)\n",
        "print(len(L))"
      ]
    },
    {
      "cell_type": "markdown",
      "metadata": {
        "id": "1ElU0V_4L0ba"
      },
      "source": [
        "**PATIENT-19**"
      ]
    },
    {
      "cell_type": "code",
      "execution_count": null,
      "metadata": {
        "colab": {
          "base_uri": "https://localhost:8080/"
        },
        "id": "54C39jEQHE9W",
        "outputId": "e206b550-9c3f-47bf-cdcb-ab7689f9aef4"
      },
      "outputs": [
        {
          "name": "stdout",
          "output_type": "stream",
          "text": [
            "1194880 1867\n"
          ]
        }
      ],
      "source": [
        "os.chdir('/content/drive/MyDrive/PATIENTS DATA/Patient 19')\n",
        "start_index=0\n",
        "x=get_eeg('/content/drive/MyDrive/PATIENTS DATA/Patient 19')\n",
        "x=slice_eeg(start_index,x)\n",
        "df=pd.read_csv(\"NumData.csv\")\n",
        "y=get_BIS(x)\n",
        "print(len(x),len(y))"
      ]
    },
    {
      "cell_type": "code",
      "execution_count": null,
      "metadata": {
        "colab": {
          "base_uri": "https://localhost:8080/"
        },
        "id": "okHlenFDHE7M",
        "outputId": "30ce5896-6b43-4bf5-f8b2-d2edb5a5af67"
      },
      "outputs": [
        {
          "name": "stdout",
          "output_type": "stream",
          "text": [
            "18067226\n"
          ]
        }
      ],
      "source": [
        "l=create_sequence(x,y)\n",
        "for i in l:\n",
        "  L.append(i)\n",
        "print(len(L))"
      ]
    },
    {
      "cell_type": "markdown",
      "metadata": {
        "id": "GhSpeanwNh3r"
      },
      "source": [
        "**PATIENT-20**"
      ]
    },
    {
      "cell_type": "code",
      "execution_count": null,
      "metadata": {
        "colab": {
          "base_uri": "https://localhost:8080/"
        },
        "id": "BL05CJ-cHE4k",
        "outputId": "3454c456-5c2c-4eff-f66c-99e563c0591a"
      },
      "outputs": [
        {
          "name": "stdout",
          "output_type": "stream",
          "text": [
            "1015680 1587\n"
          ]
        }
      ],
      "source": [
        "os.chdir('/content/drive/MyDrive/PATIENTS DATA/Patient 20')\n",
        "start_index=27520\n",
        "x=get_eeg('/content/drive/MyDrive/PATIENTS DATA/Patient 20')\n",
        "x=slice_eeg(start_index,x)\n",
        "df=pd.read_csv(\"NumData.csv\")\n",
        "y=get_BIS(x)\n",
        "print(len(x),len(y))"
      ]
    },
    {
      "cell_type": "code",
      "execution_count": null,
      "metadata": {
        "colab": {
          "base_uri": "https://localhost:8080/"
        },
        "id": "wrAEwgQyHExM",
        "outputId": "84a1de6b-b067-457b-a5f1-b612835e796e"
      },
      "outputs": [
        {
          "name": "stdout",
          "output_type": "stream",
          "text": [
            "19084493\n"
          ]
        }
      ],
      "source": [
        "l=create_sequence(x,y)\n",
        "for i in l:\n",
        "  L.append(i)\n",
        "print(len(L))"
      ]
    },
    {
      "cell_type": "markdown",
      "metadata": {
        "id": "Hu0ycU2_OJLj"
      },
      "source": [
        "**PATIENT-21**"
      ]
    },
    {
      "cell_type": "code",
      "execution_count": null,
      "metadata": {
        "colab": {
          "base_uri": "https://localhost:8080/"
        },
        "id": "VOTwZdhPKbuy",
        "outputId": "a559e96d-5cb0-487b-b2de-11985041a184"
      },
      "outputs": [
        {
          "name": "stdout",
          "output_type": "stream",
          "text": [
            "1168640 1826\n"
          ]
        }
      ],
      "source": [
        "os.chdir('/content/drive/MyDrive/PATIENTS DATA/Patient 21')\n",
        "start_index=11072\n",
        "x=get_eeg('/content/drive/MyDrive/PATIENTS DATA/Patient 21')\n",
        "x=slice_eeg(start_index,x)\n",
        "df=pd.read_csv(\"NumData.csv\")\n",
        "y=get_BIS(x)\n",
        "print(len(x),len(y))"
      ]
    },
    {
      "cell_type": "code",
      "execution_count": null,
      "metadata": {
        "colab": {
          "base_uri": "https://localhost:8080/"
        },
        "id": "a6MWoYMwKbsP",
        "outputId": "dc139c38-fced-4f93-ecce-1028ab8dc851"
      },
      "outputs": [
        {
          "name": "stdout",
          "output_type": "stream",
          "text": [
            "20254959\n"
          ]
        }
      ],
      "source": [
        "l=create_sequence(x,y)\n",
        "for i in l:\n",
        "  L.append(i)\n",
        "print(len(L))"
      ]
    },
    {
      "cell_type": "markdown",
      "metadata": {
        "id": "RlU9G7CJOcql"
      },
      "source": [
        "**PATIENT-22**"
      ]
    },
    {
      "cell_type": "code",
      "execution_count": null,
      "metadata": {
        "colab": {
          "base_uri": "https://localhost:8080/"
        },
        "id": "wwEgFJhlKbpX",
        "outputId": "891de7eb-bca8-4490-8572-00dbb60c0e0b"
      },
      "outputs": [
        {
          "name": "stdout",
          "output_type": "stream",
          "text": [
            "609920 953\n"
          ]
        }
      ],
      "source": [
        "os.chdir('/content/drive/MyDrive/PATIENTS DATA/Patient 22')\n",
        "start_index=11776\n",
        "x=get_eeg('/content/drive/MyDrive/PATIENTS DATA/Patient 22')\n",
        "x=slice_eeg(start_index,x)\n",
        "df=pd.read_csv(\"NumData.csv\")\n",
        "y=get_BIS(x)\n",
        "print(len(x),len(y))"
      ]
    },
    {
      "cell_type": "code",
      "execution_count": null,
      "metadata": {
        "colab": {
          "base_uri": "https://localhost:8080/"
        },
        "id": "DcdNZO2yKbmg",
        "outputId": "6be068a3-f5dc-4e3c-825c-1563ad9b38a3"
      },
      "outputs": [
        {
          "name": "stdout",
          "output_type": "stream",
          "text": [
            "20865832\n"
          ]
        }
      ],
      "source": [
        "l=create_sequence(x,y)\n",
        "for i in l:\n",
        "  L.append(i)\n",
        "print(len(L))"
      ]
    },
    {
      "cell_type": "markdown",
      "metadata": {
        "id": "uQkF2jtzPAUi"
      },
      "source": [
        "**PATIENT-23**"
      ]
    },
    {
      "cell_type": "code",
      "execution_count": null,
      "metadata": {
        "colab": {
          "base_uri": "https://localhost:8080/"
        },
        "id": "GXa117zAKbj2",
        "outputId": "b58cb637-6733-4c30-a467-d93be76ecdab"
      },
      "outputs": [
        {
          "name": "stdout",
          "output_type": "stream",
          "text": [
            "652800 1020\n"
          ]
        }
      ],
      "source": [
        "os.chdir('/content/drive/MyDrive/PATIENTS DATA/Patient 23')\n",
        "start_index=22368\n",
        "x=get_eeg('/content/drive/MyDrive/PATIENTS DATA/Patient 23')\n",
        "x=slice_eeg(start_index,x)\n",
        "df=pd.read_csv(\"NumData.csv\")\n",
        "y=get_BIS(x)\n",
        "print(len(x),len(y))"
      ]
    },
    {
      "cell_type": "code",
      "execution_count": null,
      "metadata": {
        "colab": {
          "base_uri": "https://localhost:8080/"
        },
        "id": "3NtO-qcoKbhH",
        "outputId": "3bed8a59-7898-48c8-9b4a-81d2c1e23bf3"
      },
      "outputs": [
        {
          "name": "stdout",
          "output_type": "stream",
          "text": [
            "21519652\n"
          ]
        }
      ],
      "source": [
        "l=create_sequence(x,y)\n",
        "for i in l:\n",
        "  L.append(i)\n",
        "print(len(L))"
      ]
    },
    {
      "cell_type": "markdown",
      "metadata": {
        "id": "xdR308gSPbCO"
      },
      "source": [
        "**PATIENT-24**"
      ]
    },
    {
      "cell_type": "code",
      "execution_count": null,
      "metadata": {
        "colab": {
          "base_uri": "https://localhost:8080/"
        },
        "id": "KQDRvp0tKbeb",
        "outputId": "71791eb6-5068-447c-aa64-0f8d274ccbb1"
      },
      "outputs": [
        {
          "name": "stdout",
          "output_type": "stream",
          "text": [
            "1655680 2587\n"
          ]
        }
      ],
      "source": [
        "os.chdir('/content/drive/MyDrive/PATIENTS DATA/Patient 24')\n",
        "start_index=5632\n",
        "x=get_eeg('/content/drive/MyDrive/PATIENTS DATA/Patient 24')\n",
        "x=slice_eeg(start_index,x)\n",
        "df=pd.read_csv(\"NumData.csv\")\n",
        "y=get_BIS(x)\n",
        "print(len(x),len(y))"
      ]
    },
    {
      "cell_type": "code",
      "execution_count": null,
      "metadata": {
        "colab": {
          "base_uri": "https://localhost:8080/"
        },
        "id": "h-8LxqmFKbb4",
        "outputId": "87637198-01f9-4e79-8bd0-8b338c28f867"
      },
      "outputs": [
        {
          "name": "stdout",
          "output_type": "stream",
          "text": [
            "23177919\n"
          ]
        }
      ],
      "source": [
        "l=create_sequence(x,y)\n",
        "for i in l:\n",
        "  L.append(i)\n",
        "print(len(L))"
      ]
    },
    {
      "cell_type": "markdown",
      "metadata": {
        "id": "CIqV9pKkPwfz"
      },
      "source": [
        "**PATIENT-25**"
      ]
    },
    {
      "cell_type": "code",
      "execution_count": null,
      "metadata": {
        "colab": {
          "base_uri": "https://localhost:8080/"
        },
        "id": "GpRVMgRCKbZb",
        "outputId": "2e2b8436-cf5c-4c0d-e43e-168d853170aa"
      },
      "outputs": [
        {
          "name": "stdout",
          "output_type": "stream",
          "text": [
            "656000 1025\n"
          ]
        }
      ],
      "source": [
        "os.chdir('/content/drive/MyDrive/PATIENTS DATA/Patient 25')\n",
        "start_index=70152\n",
        "x=get_eeg('/content/drive/MyDrive/PATIENTS DATA/Patient 25')\n",
        "x=slice_eeg(start_index,x)\n",
        "df=pd.read_csv(\"NumData.csv\")\n",
        "y=get_BIS(x)\n",
        "print(len(x),len(y))"
      ]
    },
    {
      "cell_type": "code",
      "execution_count": null,
      "metadata": {
        "colab": {
          "base_uri": "https://localhost:8080/"
        },
        "id": "j29q2220KbW3",
        "outputId": "07066293-10e0-4d6e-d68e-b661b6c054a0"
      },
      "outputs": [
        {
          "name": "stdout",
          "output_type": "stream",
          "text": [
            "23834944\n"
          ]
        }
      ],
      "source": [
        "l=create_sequence(x,y)\n",
        "for i in l:\n",
        "  L.append(i)\n",
        "print(len(L))"
      ]
    },
    {
      "cell_type": "markdown",
      "metadata": {
        "id": "cNvE3L75QB_G"
      },
      "source": [
        "**PATIENT-26**"
      ]
    },
    {
      "cell_type": "code",
      "execution_count": null,
      "metadata": {
        "colab": {
          "base_uri": "https://localhost:8080/"
        },
        "id": "zX2qMY6cKbUS",
        "outputId": "06f674a4-30c7-4464-824e-3365989e8636"
      },
      "outputs": [
        {
          "name": "stdout",
          "output_type": "stream",
          "text": [
            "377600 473\n"
          ]
        }
      ],
      "source": [
        "os.chdir('/content/drive/MyDrive/PATIENTS DATA/Patient 26')\n",
        "start_index=30944\n",
        "x=get_eeg('/content/drive/MyDrive/PATIENTS DATA/Patient 26')\n",
        "x=slice_eeg(start_index,x)\n",
        "df=pd.read_csv(\"NumData.csv\")\n",
        "y=get_BIS(x)\n",
        "print(len(x),len(y))"
      ]
    },
    {
      "cell_type": "code",
      "execution_count": null,
      "metadata": {
        "colab": {
          "base_uri": "https://localhost:8080/",
          "height": 35
        },
        "id": "Ii26FX8lKbSQ",
        "outputId": "1ff13def-f95a-4ecc-810d-716dcf2da2ff"
      },
      "outputs": [
        {
          "data": {
            "application/vnd.google.colaboratory.intrinsic+json": {
              "type": "string"
            },
            "text/plain": [
              "'l=create_sequence(x,y)\\nfor i in l:\\n  L.append(i)\\nprint(len(L))'"
            ]
          },
          "execution_count": 59,
          "metadata": {},
          "output_type": "execute_result"
        }
      ],
      "source": [
        "'''l=create_sequence(x,y)\n",
        "for i in l:\n",
        "  L.append(i)\n",
        "print(len(L))'''"
      ]
    },
    {
      "cell_type": "markdown",
      "metadata": {
        "id": "moPzG59gVi2h"
      },
      "source": [
        "**PATIENT-27**"
      ]
    },
    {
      "cell_type": "code",
      "execution_count": null,
      "metadata": {
        "colab": {
          "base_uri": "https://localhost:8080/"
        },
        "id": "jxWexAg9KbPh",
        "outputId": "865eb943-72b3-4dbb-9ca8-585822e3b22a"
      },
      "outputs": [
        {
          "name": "stdout",
          "output_type": "stream",
          "text": [
            "905600 1415\n"
          ]
        }
      ],
      "source": [
        "os.chdir('/content/drive/MyDrive/PATIENTS DATA/Patient 27')\n",
        "start_index=7776\n",
        "x=get_eeg('/content/drive/MyDrive/PATIENTS DATA/Patient 27')\n",
        "x=slice_eeg(start_index,x)\n",
        "df=pd.read_csv(\"NumData.csv\")\n",
        "y=get_BIS(x)\n",
        "print(len(x),len(y))"
      ]
    },
    {
      "cell_type": "code",
      "execution_count": null,
      "metadata": {
        "colab": {
          "base_uri": "https://localhost:8080/"
        },
        "id": "x8ukF60VKbNC",
        "outputId": "617d2489-c3a7-4d0e-9644-fa18f2ee0a20"
      },
      "outputs": [
        {
          "name": "stdout",
          "output_type": "stream",
          "text": [
            "24741959\n"
          ]
        }
      ],
      "source": [
        "l=create_sequence(x,y)\n",
        "for i in l:\n",
        "  L.append(i)\n",
        "print(len(L))"
      ]
    },
    {
      "cell_type": "markdown",
      "metadata": {
        "id": "5HvpXCQqV6SY"
      },
      "source": [
        "**PATIENT-28**"
      ]
    },
    {
      "cell_type": "markdown",
      "metadata": {
        "id": "88Rv-jclWRal"
      },
      "source": [
        "Insufficient data"
      ]
    },
    {
      "cell_type": "markdown",
      "metadata": {
        "id": "Vb4QeWC5WU2h"
      },
      "source": [
        "**PATIENT-29**"
      ]
    },
    {
      "cell_type": "code",
      "execution_count": null,
      "metadata": {
        "colab": {
          "base_uri": "https://localhost:8080/"
        },
        "id": "gHY4Fy33KbKX",
        "outputId": "0137346c-7e6c-4e11-fb05-0f0fce6d9b30"
      },
      "outputs": [
        {
          "name": "stdout",
          "output_type": "stream",
          "text": [
            "704000 1100\n"
          ]
        }
      ],
      "source": [
        "os.chdir('/content/drive/MyDrive/PATIENTS DATA/Patient 29')\n",
        "start_index=0\n",
        "x=get_eeg('/content/drive/MyDrive/PATIENTS DATA/Patient 29')\n",
        "x=slice_eeg(start_index,x)\n",
        "df=pd.read_csv(\"NumData.csv\")\n",
        "y=get_BIS(x)\n",
        "print(len(x),len(y))"
      ]
    },
    {
      "cell_type": "code",
      "execution_count": null,
      "metadata": {
        "colab": {
          "base_uri": "https://localhost:8080/"
        },
        "id": "8nAXtFo7KbIB",
        "outputId": "eb0db562-24c5-4fc9-f01e-56d2cb0d9203"
      },
      "outputs": [
        {
          "name": "stdout",
          "output_type": "stream",
          "text": [
            "25447059\n"
          ]
        }
      ],
      "source": [
        "l=create_sequence(x,y)\n",
        "for i in l:\n",
        "  L.append(i)\n",
        "print(len(L))"
      ]
    },
    {
      "cell_type": "markdown",
      "metadata": {
        "id": "53HR-JPWW-BM"
      },
      "source": [
        "**PATIENT-30**"
      ]
    },
    {
      "cell_type": "code",
      "execution_count": null,
      "metadata": {
        "colab": {
          "base_uri": "https://localhost:8080/"
        },
        "id": "qagxyO3AKbFP",
        "outputId": "8c916562-0511-493e-a52b-7841be91a517"
      },
      "outputs": [
        {
          "name": "stdout",
          "output_type": "stream",
          "text": [
            "737920 1134\n"
          ]
        }
      ],
      "source": [
        "os.chdir('/content/drive/MyDrive/PATIENTS DATA/Patient 30')\n",
        "start_index=104532\n",
        "x=get_eeg('/content/drive/MyDrive/PATIENTS DATA/Patient 30')\n",
        "x=slice_eeg(start_index,x)\n",
        "df=pd.read_csv(\"NumData.csv\")\n",
        "y=get_BIS(x)\n",
        "print(len(x),len(y))"
      ]
    },
    {
      "cell_type": "code",
      "execution_count": null,
      "metadata": {
        "colab": {
          "base_uri": "https://localhost:8080/",
          "height": 35
        },
        "id": "B1oH-DJsKbCq",
        "outputId": "549a02a5-ee85-47e8-aa8c-b3e3ed874b5a"
      },
      "outputs": [
        {
          "data": {
            "application/vnd.google.colaboratory.intrinsic+json": {
              "type": "string"
            },
            "text/plain": [
              "'l=create_sequence(x,y)\\nfor i in l:\\n  L.append(i)\\nprint(len(L))'"
            ]
          },
          "execution_count": 65,
          "metadata": {},
          "output_type": "execute_result"
        }
      ],
      "source": [
        "'''l=create_sequence(x,y)\n",
        "for i in l:\n",
        "  L.append(i)\n",
        "print(len(L))'''"
      ]
    },
    {
      "cell_type": "markdown",
      "metadata": {
        "id": "syEsF7HgXnzA"
      },
      "source": [
        "**PATIENT-31**"
      ]
    },
    {
      "cell_type": "code",
      "execution_count": null,
      "metadata": {
        "colab": {
          "base_uri": "https://localhost:8080/"
        },
        "id": "ZwJE4okZXnm_",
        "outputId": "fd115f29-7c09-426b-8f31-0fbb4d8c898a"
      },
      "outputs": [
        {
          "name": "stdout",
          "output_type": "stream",
          "text": [
            "568320 850\n"
          ]
        }
      ],
      "source": [
        "os.chdir('/content/drive/MyDrive/PATIENTS DATA/Patient 31')\n",
        "start_index=7712\n",
        "x=get_eeg('/content/drive/MyDrive/PATIENTS DATA/Patient 31')\n",
        "x=slice_eeg(start_index,x)\n",
        "df=pd.read_csv(\"NumData.csv\")\n",
        "y=get_BIS(x)\n",
        "print(len(x),len(y))"
      ]
    },
    {
      "cell_type": "code",
      "execution_count": null,
      "metadata": {
        "colab": {
          "base_uri": "https://localhost:8080/",
          "height": 35
        },
        "id": "9Su7RdU0XnkY",
        "outputId": "723524e7-1dea-4c9f-a5fb-0e71f5a5e44c"
      },
      "outputs": [
        {
          "data": {
            "application/vnd.google.colaboratory.intrinsic+json": {
              "type": "string"
            },
            "text/plain": [
              "'l=create_sequence(x,y)\\nfor i in l:\\n  L.append(i)\\nprint(len(L))'"
            ]
          },
          "execution_count": 67,
          "metadata": {},
          "output_type": "execute_result"
        }
      ],
      "source": [
        "'''l=create_sequence(x,y)\n",
        "for i in l:\n",
        "  L.append(i)\n",
        "print(len(L))'''"
      ]
    },
    {
      "cell_type": "markdown",
      "metadata": {
        "id": "gzpPrhJ0X9nI"
      },
      "source": [
        "**PATIENT-32**"
      ]
    },
    {
      "cell_type": "code",
      "execution_count": null,
      "metadata": {
        "colab": {
          "base_uri": "https://localhost:8080/"
        },
        "id": "8PyzE-VbXniz",
        "outputId": "6afff364-b761-4c6c-9534-716af43d29e7"
      },
      "outputs": [
        {
          "name": "stdout",
          "output_type": "stream",
          "text": [
            "1107840 1731\n"
          ]
        }
      ],
      "source": [
        "os.chdir('/content/drive/MyDrive/PATIENTS DATA/Patient 32')\n",
        "start_index=292448\n",
        "x=get_eeg('/content/drive/MyDrive/PATIENTS DATA/Patient 32')\n",
        "x=slice_eeg(start_index,x)\n",
        "df=pd.read_csv(\"NumData.csv\")\n",
        "y=get_BIS(x)\n",
        "print(len(x),len(y))"
      ]
    },
    {
      "cell_type": "code",
      "execution_count": null,
      "metadata": {
        "colab": {
          "base_uri": "https://localhost:8080/"
        },
        "id": "f_IaI4VfXngC",
        "outputId": "25dafcab-2908-46ae-ab73-ed1af361e3dd"
      },
      "outputs": [
        {
          "name": "stdout",
          "output_type": "stream",
          "text": [
            "26556630\n"
          ]
        }
      ],
      "source": [
        "l=create_sequence(x,y)\n",
        "for i in l:\n",
        "  L.append(i)\n",
        "print(len(L))"
      ]
    },
    {
      "cell_type": "markdown",
      "metadata": {
        "id": "Hw0_h1BGYdLc"
      },
      "source": [
        "**PATIENT-33**"
      ]
    },
    {
      "cell_type": "code",
      "execution_count": null,
      "metadata": {
        "colab": {
          "base_uri": "https://localhost:8080/"
        },
        "id": "90W9VjuRXndq",
        "outputId": "a689edbe-c1cf-4baf-cc59-6897ae01e9ea"
      },
      "outputs": [
        {
          "name": "stdout",
          "output_type": "stream",
          "text": [
            "886400 1385\n"
          ]
        }
      ],
      "source": [
        "os.chdir('/content/drive/MyDrive/PATIENTS DATA/Patient 33')\n",
        "start_index=608\n",
        "x=get_eeg('/content/drive/MyDrive/PATIENTS DATA/Patient 33')\n",
        "x=slice_eeg(start_index,x)\n",
        "df=pd.read_csv(\"NumData.csv\")\n",
        "y=get_BIS(x)\n",
        "print(len(x),len(y))"
      ]
    },
    {
      "cell_type": "code",
      "execution_count": null,
      "metadata": {
        "colab": {
          "base_uri": "https://localhost:8080/"
        },
        "id": "wsi6e701Xnav",
        "outputId": "96992138-a5f6-4506-e63e-32a13b4fbbf7"
      },
      "outputs": [
        {
          "name": "stdout",
          "output_type": "stream",
          "text": [
            "27444415\n"
          ]
        }
      ],
      "source": [
        "l=create_sequence(x,y)\n",
        "for i in l:\n",
        "  L.append(i)\n",
        "print(len(L))"
      ]
    },
    {
      "cell_type": "markdown",
      "metadata": {
        "id": "XgGJKgLjYw1Q"
      },
      "source": [
        "**PATIENT-34**"
      ]
    },
    {
      "cell_type": "code",
      "execution_count": null,
      "metadata": {
        "colab": {
          "base_uri": "https://localhost:8080/"
        },
        "id": "WgQCpoUDYgVx",
        "outputId": "33f0d82b-2854-4b82-ceba-6405c0d71def"
      },
      "outputs": [
        {
          "name": "stdout",
          "output_type": "stream",
          "text": [
            "1233280 1927\n"
          ]
        }
      ],
      "source": [
        "os.chdir('/content/drive/MyDrive/PATIENTS DATA/Patient 34')\n",
        "start_index=0\n",
        "x=get_eeg('/content/drive/MyDrive/PATIENTS DATA/Patient 34')\n",
        "x=slice_eeg(start_index,x)\n",
        "df=pd.read_csv(\"NumData.csv\")\n",
        "y=get_BIS(x)\n",
        "print(len(x),len(y))"
      ]
    },
    {
      "cell_type": "code",
      "execution_count": null,
      "metadata": {
        "colab": {
          "base_uri": "https://localhost:8080/"
        },
        "id": "6pr_nooXYgTA",
        "outputId": "ffe6f1b6-77b1-4e4e-8f06-0ad49653ebb0"
      },
      "outputs": [
        {
          "name": "stdout",
          "output_type": "stream",
          "text": [
            "28679622\n"
          ]
        }
      ],
      "source": [
        "l=create_sequence(x,y)\n",
        "for i in l:\n",
        "  L.append(i)\n",
        "print(len(L))"
      ]
    },
    {
      "cell_type": "markdown",
      "metadata": {
        "id": "D_YoKisLZWIE"
      },
      "source": [
        "**PATIENT-35**"
      ]
    },
    {
      "cell_type": "code",
      "execution_count": null,
      "metadata": {
        "colab": {
          "base_uri": "https://localhost:8080/"
        },
        "id": "HvN_7EVYYgQO",
        "outputId": "69f4d6b5-4094-4dd5-97f9-6f496fe6ad69"
      },
      "outputs": [
        {
          "name": "stdout",
          "output_type": "stream",
          "text": [
            "659840 1031\n"
          ]
        }
      ],
      "source": [
        "os.chdir('/content/drive/MyDrive/PATIENTS DATA/Patient 35')\n",
        "start_index=16672\n",
        "x=get_eeg('/content/drive/MyDrive/PATIENTS DATA/Patient 35')\n",
        "x=slice_eeg(start_index,x)\n",
        "df=pd.read_csv(\"NumData.csv\")\n",
        "y=get_BIS(x)\n",
        "print(len(x),len(y))"
      ]
    },
    {
      "cell_type": "code",
      "execution_count": null,
      "metadata": {
        "colab": {
          "base_uri": "https://localhost:8080/"
        },
        "id": "P-sHiZlVYgNt",
        "outputId": "194a8f9d-e3d4-4467-d766-6fbb28f0df2f"
      },
      "outputs": [
        {
          "name": "stdout",
          "output_type": "stream",
          "text": [
            "29340493\n"
          ]
        }
      ],
      "source": [
        "l=create_sequence(x,y)\n",
        "for i in l:\n",
        "  L.append(i)\n",
        "print(len(L))"
      ]
    },
    {
      "cell_type": "markdown",
      "metadata": {
        "id": "T1u4b0gdZr0E"
      },
      "source": [
        "**PATIENT-36**"
      ]
    },
    {
      "cell_type": "code",
      "execution_count": null,
      "metadata": {
        "colab": {
          "base_uri": "https://localhost:8080/"
        },
        "id": "U8VG2QSNYgLu",
        "outputId": "3043cfe5-b0ea-4874-9dbc-1a45f147a58e"
      },
      "outputs": [
        {
          "name": "stdout",
          "output_type": "stream",
          "text": [
            "478720 748\n"
          ]
        }
      ],
      "source": [
        "os.chdir('/content/drive/MyDrive/PATIENTS DATA/Patient 36')\n",
        "start_index=14972\n",
        "x=get_eeg('/content/drive/MyDrive/PATIENTS DATA/Patient 36')\n",
        "x=slice_eeg(start_index,x)\n",
        "df=pd.read_csv(\"NumData.csv\")\n",
        "y=get_BIS(x)\n",
        "print(len(x),len(y))"
      ]
    },
    {
      "cell_type": "code",
      "execution_count": null,
      "metadata": {
        "colab": {
          "base_uri": "https://localhost:8080/"
        },
        "id": "CfF9bwyvYgJY",
        "outputId": "9e85644f-63a4-49a9-f386-56778f3bdc8a"
      },
      "outputs": [
        {
          "name": "stdout",
          "output_type": "stream",
          "text": [
            "29819961\n"
          ]
        }
      ],
      "source": [
        "l=create_sequence(x,y)\n",
        "for i in l:\n",
        "  L.append(i)\n",
        "print(len(L))"
      ]
    },
    {
      "cell_type": "markdown",
      "metadata": {
        "id": "M9b0XTlOZ-tc"
      },
      "source": [
        "**PATIENT-37**"
      ]
    },
    {
      "cell_type": "code",
      "execution_count": null,
      "metadata": {
        "colab": {
          "base_uri": "https://localhost:8080/"
        },
        "id": "z2X52g4QYgHP",
        "outputId": "ff0884ce-2a47-43ad-9b03-a2f79bc9c24e"
      },
      "outputs": [
        {
          "name": "stdout",
          "output_type": "stream",
          "text": [
            "1086080 1697\n"
          ]
        }
      ],
      "source": [
        "os.chdir('/content/drive/MyDrive/PATIENTS DATA/Patient 37')\n",
        "start_index=4384\n",
        "x=get_eeg('/content/drive/MyDrive/PATIENTS DATA/Patient 37')\n",
        "x=slice_eeg(start_index,x)\n",
        "df=pd.read_csv(\"NumData.csv\")\n",
        "y=get_BIS(x)\n",
        "print(len(x),len(y))"
      ]
    },
    {
      "cell_type": "code",
      "execution_count": null,
      "metadata": {
        "colab": {
          "base_uri": "https://localhost:8080/"
        },
        "id": "siXw0Gc7YgEc",
        "outputId": "83ad5b46-248f-4172-e98b-970eb3aa51fb"
      },
      "outputs": [
        {
          "name": "stdout",
          "output_type": "stream",
          "text": [
            "30907738\n"
          ]
        }
      ],
      "source": [
        "l=create_sequence(x,y)\n",
        "for i in l:\n",
        "  L.append(i)\n",
        "print(len(L))"
      ]
    },
    {
      "cell_type": "markdown",
      "metadata": {
        "id": "0sonicIaaQJ_"
      },
      "source": [
        "**PATIENT-38**"
      ]
    },
    {
      "cell_type": "code",
      "execution_count": null,
      "metadata": {
        "colab": {
          "base_uri": "https://localhost:8080/"
        },
        "id": "K45SKXEuYgB5",
        "outputId": "66511292-2ab2-44ad-ac60-29902af4fe2f"
      },
      "outputs": [
        {
          "name": "stdout",
          "output_type": "stream",
          "text": [
            "683520 1068\n"
          ]
        }
      ],
      "source": [
        "os.chdir('/content/drive/MyDrive/PATIENTS DATA/Patient 38')\n",
        "start_index=12544\n",
        "x=get_eeg('/content/drive/MyDrive/PATIENTS DATA/Patient 38')\n",
        "x=slice_eeg(start_index,x)\n",
        "df=pd.read_csv(\"NumData.csv\")\n",
        "y=get_BIS(x)\n",
        "print(len(x),len(y))"
      ]
    },
    {
      "cell_type": "code",
      "execution_count": null,
      "metadata": {
        "colab": {
          "base_uri": "https://localhost:8080/"
        },
        "id": "NuLqwBcJYf_A",
        "outputId": "cc30ac5b-7b0e-4311-a887-886032efb13b"
      },
      "outputs": [
        {
          "name": "stdout",
          "output_type": "stream",
          "text": [
            "31592326\n"
          ]
        }
      ],
      "source": [
        "l=create_sequence(x,y)\n",
        "for i in l:\n",
        "  L.append(i)\n",
        "print(len(L))"
      ]
    },
    {
      "cell_type": "markdown",
      "metadata": {
        "id": "ZV2pw53IajF7"
      },
      "source": [
        "**PATIENT-39**"
      ]
    },
    {
      "cell_type": "code",
      "execution_count": null,
      "metadata": {
        "colab": {
          "base_uri": "https://localhost:8080/"
        },
        "id": "q9mGWWG0XnYw",
        "outputId": "1540c045-26c2-4416-81ed-5d52f5bcb284"
      },
      "outputs": [
        {
          "name": "stdout",
          "output_type": "stream",
          "text": [
            "828160 1294\n"
          ]
        }
      ],
      "source": [
        "os.chdir('/content/drive/MyDrive/PATIENTS DATA/Patient 39')\n",
        "start_index=28848\n",
        "x=get_eeg('/content/drive/MyDrive/PATIENTS DATA/Patient 39')\n",
        "x=slice_eeg(start_index,x)\n",
        "df=pd.read_csv(\"NumData.csv\")\n",
        "y=get_BIS(x)\n",
        "print(len(x),len(y))"
      ]
    },
    {
      "cell_type": "code",
      "execution_count": null,
      "metadata": {
        "colab": {
          "base_uri": "https://localhost:8080/"
        },
        "id": "33rzDJnnXnV4",
        "outputId": "9fd37dd7-4302-4347-deb4-479fdc16c1e4"
      },
      "outputs": [
        {
          "name": "stdout",
          "output_type": "stream",
          "text": [
            "32421780\n"
          ]
        }
      ],
      "source": [
        "l=create_sequence(x,y)\n",
        "for i in l:\n",
        "  L.append(i)\n",
        "print(len(L))"
      ]
    },
    {
      "cell_type": "markdown",
      "metadata": {
        "id": "H7eewVqpbAQb"
      },
      "source": [
        "**PATIENT-40**"
      ]
    },
    {
      "cell_type": "code",
      "execution_count": null,
      "metadata": {
        "colab": {
          "base_uri": "https://localhost:8080/"
        },
        "id": "vDcR0vIJXnTg",
        "outputId": "555b497e-5cb8-4a85-c3f7-30fc14291244"
      },
      "outputs": [
        {
          "name": "stdout",
          "output_type": "stream",
          "text": [
            "1006080 1572\n"
          ]
        }
      ],
      "source": [
        "os.chdir('/content/drive/MyDrive/PATIENTS DATA/Patient 40')\n",
        "start_index=192\n",
        "x=get_eeg('/content/drive/MyDrive/PATIENTS DATA/Patient 40')\n",
        "x=slice_eeg(start_index,x)\n",
        "df=pd.read_csv(\"NumData.csv\")\n",
        "y=get_BIS(x)\n",
        "print(len(x),len(y))"
      ]
    },
    {
      "cell_type": "code",
      "execution_count": null,
      "metadata": {
        "colab": {
          "base_uri": "https://localhost:8080/"
        },
        "id": "gf0zrFzXXnRF",
        "outputId": "248e1323-b9cc-4f93-e2f7-9fa417bce114"
      },
      "outputs": [
        {
          "name": "stdout",
          "output_type": "stream",
          "text": [
            "33429432\n"
          ]
        }
      ],
      "source": [
        "l=create_sequence(x,y)\n",
        "for i in l:\n",
        "  L.append(i)\n",
        "print(len(L))"
      ]
    },
    {
      "cell_type": "markdown",
      "metadata": {
        "id": "sKh_exzlbY3P"
      },
      "source": [
        "**PATIENT-41**"
      ]
    },
    {
      "cell_type": "code",
      "execution_count": null,
      "metadata": {
        "colab": {
          "base_uri": "https://localhost:8080/"
        },
        "id": "S29NHT-MKbAL",
        "outputId": "5af74821-0d45-4a96-f218-c6100e5f709d"
      },
      "outputs": [
        {
          "name": "stdout",
          "output_type": "stream",
          "text": [
            "447360 699\n"
          ]
        }
      ],
      "source": [
        "os.chdir('/content/drive/MyDrive/PATIENTS DATA/Patient 41')\n",
        "start_index=36\n",
        "x=get_eeg('/content/drive/MyDrive/PATIENTS DATA/Patient 41')\n",
        "x=slice_eeg(start_index,x)\n",
        "df=pd.read_csv(\"NumData.csv\")\n",
        "y=get_BIS(x)\n",
        "print(len(x),len(y))"
      ]
    },
    {
      "cell_type": "code",
      "execution_count": null,
      "metadata": {
        "colab": {
          "base_uri": "https://localhost:8080/"
        },
        "id": "qUx3YrKkKa90",
        "outputId": "9ac3ce08-9d0c-4c9c-84b6-0f714b766a8f"
      },
      "outputs": [
        {
          "name": "stdout",
          "output_type": "stream",
          "text": [
            "33877491\n"
          ]
        }
      ],
      "source": [
        "l=create_sequence(x,y)\n",
        "for i in l:\n",
        "  L.append(i)\n",
        "print(len(L))"
      ]
    },
    {
      "cell_type": "markdown",
      "metadata": {
        "id": "3lHC1F1mbzpb"
      },
      "source": [
        "**PATIENT-42**"
      ]
    },
    {
      "cell_type": "markdown",
      "metadata": {
        "id": "bQQMUfzCcif-"
      },
      "source": [
        "Insufficient data"
      ]
    },
    {
      "cell_type": "markdown",
      "metadata": {
        "id": "r5WaY2Pmckoz"
      },
      "source": [
        "**PATIENT-43**"
      ]
    },
    {
      "cell_type": "code",
      "execution_count": null,
      "metadata": {
        "colab": {
          "base_uri": "https://localhost:8080/"
        },
        "id": "S6YUUsMMKa7o",
        "outputId": "bc778be6-5d25-4f73-deb8-fea67f796f8e"
      },
      "outputs": [
        {
          "name": "stdout",
          "output_type": "stream",
          "text": [
            "1441920 2253\n"
          ]
        }
      ],
      "source": [
        "os.chdir('/content/drive/MyDrive/PATIENTS DATA/Patient 43')\n",
        "start_index=525\n",
        "x=get_eeg('/content/drive/MyDrive/PATIENTS DATA/Patient 43')\n",
        "x=slice_eeg(start_index,x)\n",
        "df=pd.read_csv(\"NumData.csv\")\n",
        "y=get_BIS(x)\n",
        "print(len(x),len(y))"
      ]
    },
    {
      "cell_type": "code",
      "execution_count": null,
      "metadata": {
        "colab": {
          "base_uri": "https://localhost:8080/"
        },
        "id": "ldHuhEKNKa5f",
        "outputId": "8c026f1d-2227-4228-c3c7-fdec966da63e"
      },
      "outputs": [
        {
          "name": "stdout",
          "output_type": "stream",
          "text": [
            "35321664\n"
          ]
        }
      ],
      "source": [
        "l=create_sequence(x,y)\n",
        "for i in l:\n",
        "  L.append(i)\n",
        "print(len(L))"
      ]
    },
    {
      "cell_type": "markdown",
      "metadata": {
        "id": "NJ9TWq2hdId7"
      },
      "source": [
        "**PATIENT-44**"
      ]
    },
    {
      "cell_type": "code",
      "execution_count": null,
      "metadata": {
        "colab": {
          "base_uri": "https://localhost:8080/"
        },
        "id": "GvyNjKc-Kay1",
        "outputId": "108794df-e5be-4afa-f931-bf49c51d4d67"
      },
      "outputs": [
        {
          "name": "stdout",
          "output_type": "stream",
          "text": [
            "696320 948\n"
          ]
        }
      ],
      "source": [
        "os.chdir('/content/drive/MyDrive/PATIENTS DATA/Patient 44')\n",
        "start_index=0\n",
        "x=get_eeg('/content/drive/MyDrive/PATIENTS DATA/Patient 44')\n",
        "x=slice_eeg(start_index,x)\n",
        "df=pd.read_csv(\"NumData.csv\")\n",
        "y=get_BIS(x)\n",
        "x=x[:696320]\n",
        "print(len(x),len(y))"
      ]
    },
    {
      "cell_type": "code",
      "execution_count": null,
      "metadata": {
        "colab": {
          "base_uri": "https://localhost:8080/",
          "height": 35
        },
        "id": "AmwkBTNIb0LJ",
        "outputId": "a1efcdb1-1c58-46ee-ce93-fdbc44071a02"
      },
      "outputs": [
        {
          "data": {
            "application/vnd.google.colaboratory.intrinsic+json": {
              "type": "string"
            },
            "text/plain": [
              "'l=create_sequence(x,y)\\nfor i in l:\\n  L.append(i)\\nprint(len(L))'"
            ]
          },
          "execution_count": 91,
          "metadata": {},
          "output_type": "execute_result"
        }
      ],
      "source": [
        "'''l=create_sequence(x,y)\n",
        "for i in l:\n",
        "  L.append(i)\n",
        "print(len(L))'''"
      ]
    },
    {
      "cell_type": "markdown",
      "metadata": {
        "id": "jtHCB8tvd5BR"
      },
      "source": [
        "**PATIENT-45**"
      ]
    },
    {
      "cell_type": "code",
      "execution_count": null,
      "metadata": {
        "colab": {
          "base_uri": "https://localhost:8080/"
        },
        "id": "tPAD9Oclb05F",
        "outputId": "6bd43c28-3c4e-4428-c502-bf5101506527"
      },
      "outputs": [
        {
          "name": "stdout",
          "output_type": "stream",
          "text": [
            "736000 1150\n"
          ]
        }
      ],
      "source": [
        "os.chdir('/content/drive/MyDrive/PATIENTS DATA/Patient 45')\n",
        "start_index=8480\n",
        "x=get_eeg('/content/drive/MyDrive/PATIENTS DATA/Patient 45')\n",
        "x=slice_eeg(start_index,x)\n",
        "df=pd.read_csv(\"NumData.csv\")\n",
        "y=get_BIS(x)\n",
        "print(len(x),len(y))"
      ]
    },
    {
      "cell_type": "code",
      "execution_count": null,
      "metadata": {
        "colab": {
          "base_uri": "https://localhost:8080/"
        },
        "id": "be4ItclTb01z",
        "outputId": "774c2622-1f7e-4d3b-aa14-deebd63ac737"
      },
      "outputs": [
        {
          "name": "stdout",
          "output_type": "stream",
          "text": [
            "36058814\n"
          ]
        }
      ],
      "source": [
        "l=create_sequence(x,y)\n",
        "for i in l:\n",
        "  L.append(i)\n",
        "print(len(L))"
      ]
    },
    {
      "cell_type": "markdown",
      "metadata": {
        "id": "IBEkOHM0eQ0_"
      },
      "source": [
        "**PATIENT-46**"
      ]
    },
    {
      "cell_type": "code",
      "execution_count": null,
      "metadata": {
        "colab": {
          "base_uri": "https://localhost:8080/"
        },
        "id": "QeA6umdqb00E",
        "outputId": "e1895e72-917d-42b6-f6cd-0cc9301a1a91"
      },
      "outputs": [
        {
          "name": "stdout",
          "output_type": "stream",
          "text": [
            "1324160 2069\n"
          ]
        }
      ],
      "source": [
        "os.chdir('/content/drive/MyDrive/PATIENTS DATA/Patient 46')\n",
        "start_index=34908\n",
        "x=get_eeg('/content/drive/MyDrive/PATIENTS DATA/Patient 46')\n",
        "x=slice_eeg(start_index,x)\n",
        "df=pd.read_csv(\"NumData.csv\")\n",
        "y=get_BIS(x)\n",
        "x=x[:1337600]\n",
        "print(len(x),len(y))"
      ]
    },
    {
      "cell_type": "code",
      "execution_count": null,
      "metadata": {
        "colab": {
          "base_uri": "https://localhost:8080/"
        },
        "id": "NKWDO4I0b0w3",
        "outputId": "5767b5d7-66e1-4dc2-f118-cfd3b6dd7e0c"
      },
      "outputs": [
        {
          "name": "stdout",
          "output_type": "stream",
          "text": [
            "37385043\n"
          ]
        }
      ],
      "source": [
        "l=create_sequence(x,y)\n",
        "for i in l:\n",
        "  L.append(i)\n",
        "print(len(L))"
      ]
    },
    {
      "cell_type": "markdown",
      "metadata": {
        "id": "KHKWujMmeqYr"
      },
      "source": [
        "**PATIENT-47**"
      ]
    },
    {
      "cell_type": "code",
      "execution_count": null,
      "metadata": {
        "colab": {
          "base_uri": "https://localhost:8080/"
        },
        "id": "66HTMqc0b0uO",
        "outputId": "31faeb29-a016-48eb-b08f-0d6123f8b97f"
      },
      "outputs": [
        {
          "name": "stdout",
          "output_type": "stream",
          "text": [
            "707200 1105\n"
          ]
        }
      ],
      "source": [
        "os.chdir('/content/drive/MyDrive/PATIENTS DATA/Patient 47')\n",
        "start_index=12704\n",
        "x=get_eeg('/content/drive/MyDrive/PATIENTS DATA/Patient 47')\n",
        "x=slice_eeg(start_index,x)\n",
        "df=pd.read_csv(\"NumData.csv\")\n",
        "y=get_BIS(x)\n",
        "print(len(x),len(y))"
      ]
    },
    {
      "cell_type": "code",
      "execution_count": null,
      "metadata": {
        "colab": {
          "base_uri": "https://localhost:8080/"
        },
        "id": "aTLR82Xsb0sb",
        "outputId": "bcc48c36-b622-4fda-cb7c-442396badbc3"
      },
      "outputs": [
        {
          "name": "stdout",
          "output_type": "stream",
          "text": [
            "38093348\n"
          ]
        }
      ],
      "source": [
        "l=create_sequence(x,y)\n",
        "for i in l:\n",
        "  L.append(i)\n",
        "print(len(L))"
      ]
    },
    {
      "cell_type": "markdown",
      "metadata": {
        "id": "hrAigs3qe89r"
      },
      "source": [
        "**PATIENT-48**"
      ]
    },
    {
      "cell_type": "code",
      "execution_count": null,
      "metadata": {
        "colab": {
          "base_uri": "https://localhost:8080/"
        },
        "id": "HUpE9Ehsb0mr",
        "outputId": "f747d097-30e6-45fc-e2d7-83fc936ea5aa"
      },
      "outputs": [
        {
          "name": "stdout",
          "output_type": "stream",
          "text": [
            "544000 850\n"
          ]
        }
      ],
      "source": [
        "os.chdir('/content/drive/MyDrive/PATIENTS DATA/Patient 48')\n",
        "start_index=0\n",
        "x=get_eeg('/content/drive/MyDrive/PATIENTS DATA/Patient 48')\n",
        "x=slice_eeg(start_index,x)\n",
        "df=pd.read_csv(\"NumData.csv\")\n",
        "y=get_BIS(x)\n",
        "print(len(x),len(y))"
      ]
    },
    {
      "cell_type": "code",
      "execution_count": null,
      "metadata": {
        "colab": {
          "base_uri": "https://localhost:8080/"
        },
        "id": "DQZ-hMUpb0jh",
        "outputId": "d6095eb7-4999-4705-e643-f3bb59ae96ef"
      },
      "outputs": [
        {
          "name": "stdout",
          "output_type": "stream",
          "text": [
            "38638198\n"
          ]
        }
      ],
      "source": [
        "l=create_sequence(x,y)\n",
        "for i in l:\n",
        "  L.append(i)\n",
        "print(len(L))"
      ]
    },
    {
      "cell_type": "markdown",
      "metadata": {
        "id": "QyWNUfP-fRME"
      },
      "source": [
        "**PATIENT-49**"
      ]
    },
    {
      "cell_type": "code",
      "execution_count": null,
      "metadata": {
        "colab": {
          "base_uri": "https://localhost:8080/"
        },
        "id": "UjXZotRIb0gp",
        "outputId": "7c16300c-39b9-40e3-c6a3-50de85f2f8df"
      },
      "outputs": [
        {
          "name": "stdout",
          "output_type": "stream",
          "text": [
            "721280 1127\n"
          ]
        }
      ],
      "source": [
        "os.chdir('/content/drive/MyDrive/PATIENTS DATA/Patient 49')\n",
        "start_index=36800\n",
        "x=get_eeg('/content/drive/MyDrive/PATIENTS DATA/Patient 49')\n",
        "x=slice_eeg(start_index,x)\n",
        "df=pd.read_csv(\"NumData.csv\")\n",
        "y=get_BIS(x)\n",
        "print(len(x),len(y))"
      ]
    },
    {
      "cell_type": "code",
      "execution_count": null,
      "metadata": {
        "colab": {
          "base_uri": "https://localhost:8080/"
        },
        "id": "LOZx0q7Fb0e9",
        "outputId": "310c3a02-3e23-4aef-fea5-18f9b600b23a"
      },
      "outputs": [
        {
          "name": "stdout",
          "output_type": "stream",
          "text": [
            "39360605\n"
          ]
        }
      ],
      "source": [
        "l=create_sequence(x,y)\n",
        "for i in l:\n",
        "  L.append(i)\n",
        "print(len(L))"
      ]
    },
    {
      "cell_type": "markdown",
      "metadata": {
        "id": "d1PxYvzofkjk"
      },
      "source": [
        "**PATIENT-50**"
      ]
    },
    {
      "cell_type": "code",
      "execution_count": null,
      "metadata": {
        "colab": {
          "base_uri": "https://localhost:8080/"
        },
        "id": "dajn5ai-b0bj",
        "outputId": "b6116a27-6434-4ab1-a07d-a4c50441f93a"
      },
      "outputs": [
        {
          "name": "stdout",
          "output_type": "stream",
          "text": [
            "696320 948\n"
          ]
        }
      ],
      "source": [
        "os.chdir('/content/drive/MyDrive/PATIENTS DATA/Patient 50')\n",
        "start_index=0\n",
        "x=get_eeg('/content/drive/MyDrive/PATIENTS DATA/Patient 50')\n",
        "x=slice_eeg(start_index,x)\n",
        "df=pd.read_csv(\"NumData.csv\")\n",
        "y=get_BIS(x)\n",
        "x=x[:696320]\n",
        "print(len(x),len(y))"
      ]
    },
    {
      "cell_type": "code",
      "execution_count": null,
      "metadata": {
        "id": "1n-MMjTF0nS7"
      },
      "outputs": [],
      "source": [
        "#from sklearn import preprocessing\n",
        "#norm_x = preprocessing.normalize([x])\n",
        "#x=norm_x[0]"
      ]
    },
    {
      "cell_type": "code",
      "execution_count": null,
      "metadata": {
        "colab": {
          "base_uri": "https://localhost:8080/",
          "height": 35
        },
        "id": "agHxomjnb0Y_",
        "outputId": "694e8c28-a62e-4993-9c54-6d94a728c101"
      },
      "outputs": [
        {
          "data": {
            "application/vnd.google.colaboratory.intrinsic+json": {
              "type": "string"
            },
            "text/plain": [
              "'l=create_sequence(x,y)\\nfor i in l:\\n  L.append(i)\\nprint(len(L))'"
            ]
          },
          "execution_count": 104,
          "metadata": {},
          "output_type": "execute_result"
        }
      ],
      "source": [
        "'''l=create_sequence(x,y)\n",
        "for i in l:\n",
        "  L.append(i)\n",
        "print(len(L))'''"
      ]
    },
    {
      "cell_type": "code",
      "execution_count": null,
      "metadata": {
        "colab": {
          "base_uri": "https://localhost:8080/",
          "height": 35
        },
        "id": "XCNozNBIspLh",
        "outputId": "45e1f152-a074-4f75-b742-3ca1d16cf0ec"
      },
      "outputs": [
        {
          "data": {
            "application/vnd.google.colaboratory.intrinsic+json": {
              "type": "string"
            },
            "text/plain": [
              "'minus=0\\nfor i in L:\\n  if i==-1:\\n    minus+=1\\nprint(minus)'"
            ]
          },
          "execution_count": 105,
          "metadata": {},
          "output_type": "execute_result"
        }
      ],
      "source": [
        "'''minus=0\n",
        "for i in L:\n",
        "  if i==-1:\n",
        "    minus+=1\n",
        "print(minus)'''"
      ]
    },
    {
      "cell_type": "code",
      "execution_count": null,
      "metadata": {
        "colab": {
          "base_uri": "https://localhost:8080/",
          "height": 53
        },
        "id": "QDAGq07ofZzJ",
        "outputId": "dcbe2840-9a8f-4ca9-9704-8becc79de185"
      },
      "outputs": [
        {
          "data": {
            "application/vnd.google.colaboratory.intrinsic+json": {
              "type": "string"
            },
            "text/plain": [
              "'for i in range(640,len(L),641):\\n  if L[i]>=0 and L[i]<40:\\n    L[i]=1\\n  elif L[i]>=40 and L[i]<60:\\n    L[i]=2\\n  elif L[i]>=60 and L[i]<=100:\\n    L[i]=3'"
            ]
          },
          "execution_count": 106,
          "metadata": {},
          "output_type": "execute_result"
        }
      ],
      "source": [
        "'''for i in range(640,len(L),641):\n",
        "  if L[i]>=0 and L[i]<40:\n",
        "    L[i]=1\n",
        "  elif L[i]>=40 and L[i]<60:\n",
        "    L[i]=2\n",
        "  elif L[i]>=60 and L[i]<=100:\n",
        "    L[i]=3'''"
      ]
    },
    {
      "cell_type": "code",
      "execution_count": null,
      "metadata": {
        "id": "WV31ZG8pfSMu"
      },
      "outputs": [],
      "source": [
        "# split a univariate sequence into samples\n",
        "# multi-step data preparation\n",
        "from numpy import array\n",
        "def split_sequence(sequence, n_steps_in, n_steps_out):\n",
        "    X, Y = list(), list()\n",
        "    for i in range(0,len(sequence),641):\n",
        "        # find the end of this pattern\n",
        "        end_ix = i + n_steps_in\n",
        "        out_end_ix = end_ix + n_steps_out\n",
        "        # check if we are beyond the sequence\n",
        "        if out_end_ix > len(sequence):\n",
        "            break\n",
        "        # gather input and output parts of the pattern\n",
        "        #if i==0:\n",
        "        seq_x, seq_y = sequence[i:end_ix], sequence[end_ix]\n",
        "        #else:\n",
        "        #    seq_x, seq_y = sequence[i-1:end_ix], sequence[end_ix:out_end_ix]\n",
        "        X.append(seq_x)\n",
        "        Y.append(seq_y)\n",
        "    return array(X), array(Y)"
      ]
    },
    {
      "cell_type": "code",
      "execution_count": null,
      "metadata": {
        "id": "Yv00dRqwfSKU"
      },
      "outputs": [],
      "source": [
        "n_steps_in, n_steps_out = 640, 1\n",
        "# split into samples\n",
        "X, Y = split_sequence(L, n_steps_in, n_steps_out)"
      ]
    },
    {
      "cell_type": "code",
      "execution_count": null,
      "metadata": {
        "colab": {
          "base_uri": "https://localhost:8080/",
          "height": 35
        },
        "id": "F-y8wAbFhmeB",
        "outputId": "db6f16e7-71c3-43f8-f73d-2d1fad1e7cd4"
      },
      "outputs": [
        {
          "data": {
            "application/vnd.google.colaboratory.intrinsic+json": {
              "type": "string"
            },
            "text/plain": [
              "'scaler = StandardScaler()\\n# transform data\\nX = scaler.fit_transform(X)'"
            ]
          },
          "execution_count": 109,
          "metadata": {},
          "output_type": "execute_result"
        }
      ],
      "source": [
        "'''scaler = StandardScaler()\n",
        "# transform data\n",
        "X = scaler.fit_transform(X)'''"
      ]
    },
    {
      "cell_type": "code",
      "execution_count": null,
      "metadata": {
        "colab": {
          "base_uri": "https://localhost:8080/"
        },
        "id": "7C4-cBiXhmYq",
        "outputId": "ee256cdc-d368-4644-fdbb-f9aa80b74df7"
      },
      "outputs": [
        {
          "data": {
            "text/plain": [
              "array([[2572, 1261, 2211, ..., 2113, 1097, 1884],\n",
              "       [2015, 2113,  966, ..., 2015, 1884, 2375],\n",
              "       [1622, 2408, 1851, ..., 1556, 1490, 2473],\n",
              "       ...,\n",
              "       [2310, 2441, 2572, ..., 2015, 1916, 1818],\n",
              "       [2048, 2015, 2146, ..., 2899, 2965, 2506],\n",
              "       [2899, 2048, 1916, ..., 2048, 2048, 2048]])"
            ]
          },
          "execution_count": 110,
          "metadata": {},
          "output_type": "execute_result"
        }
      ],
      "source": [
        "X"
      ]
    },
    {
      "cell_type": "code",
      "execution_count": null,
      "metadata": {
        "colab": {
          "base_uri": "https://localhost:8080/"
        },
        "id": "49sWwTUdcP-l",
        "outputId": "6ff0085e-0373-44e9-fa77-9f29c461602d"
      },
      "outputs": [
        {
          "data": {
            "text/plain": [
              "array([96, 96, 96, ..., 64, 67, 67])"
            ]
          },
          "execution_count": 111,
          "metadata": {},
          "output_type": "execute_result"
        }
      ],
      "source": [
        "Y"
      ]
    },
    {
      "cell_type": "code",
      "execution_count": null,
      "metadata": {
        "colab": {
          "base_uri": "https://localhost:8080/"
        },
        "id": "d57WyigefR-5",
        "outputId": "0f68a093-0400-483e-921d-185fb96c0679"
      },
      "outputs": [
        {
          "data": {
            "text/plain": [
              "61405"
            ]
          },
          "execution_count": 112,
          "metadata": {},
          "output_type": "execute_result"
        }
      ],
      "source": [
        "len(Y)"
      ]
    },
    {
      "cell_type": "code",
      "execution_count": null,
      "metadata": {
        "colab": {
          "base_uri": "https://localhost:8080/",
          "height": 336
        },
        "id": "PHXsKDOf5Nn3",
        "outputId": "16300fee-0a83-4df4-8a07-46b81f278f74"
      },
      "outputs": [
        {
          "data": {
            "text/plain": [
              "(array([  122.,  6825., 14132., 22365.,  6576.,  6782.,  2001.,  1036.,\n",
              "          289.,  1277.]),\n",
              " array([12. , 20.6, 29.2, 37.8, 46.4, 55. , 63.6, 72.2, 80.8, 89.4, 98. ]),\n",
              " <a list of 10 Patch objects>)"
            ]
          },
          "execution_count": 114,
          "metadata": {},
          "output_type": "execute_result"
        },
        {
          "data": {
            "image/png": "[encoded data removed]",
            "text/plain": [
              "<Figure size 432x288 with 1 Axes>"
            ]
          },
          "metadata": {},
          "output_type": "display_data"
        }
      ],
      "source": [
        "import matplotlib.pyplot as plt\n",
        "plt.hist(Y)"
      ]
    },
    {
      "cell_type": "markdown",
      "metadata": {
        "id": "Xkij_7gM1OuH"
      },
      "source": [
        "**TESTING WITH SUBSET**"
      ]
    },
    {
      "cell_type": "code",
      "execution_count": null,
      "metadata": {
        "id": "dMHKMYzS1U1-"
      },
      "outputs": [],
      "source": [
        "x=[]\n",
        "y=[]\n",
        "cat1=0\n",
        "cat2=0\n",
        "cat3=0\n",
        "cat4=0\n",
        "\n",
        "for i in range(len(Y)):\n",
        "  if cat1<1000:\n",
        "    if Y[i]>0 and Y[i]<=25:\n",
        "      y.append(Y[i])\n",
        "      x.append(X[i])\n",
        "      cat1+=1\n",
        "  if cat2<1000:\n",
        "    if Y[i]>25 and Y[i]<=40:\n",
        "      y.append(Y[i])\n",
        "      x.append(X[i])\n",
        "      cat2+=1\n",
        "  if cat3<1000:\n",
        "    if Y[i]>50 and Y[i]<=75:\n",
        "      y.append(Y[i])\n",
        "      x.append(X[i])\n",
        "      cat3+=1\n",
        "  if cat4<1000:\n",
        "    if Y[i]>75 and Y[i]<=100:\n",
        "      y.append(Y[i])\n",
        "      x.append(X[i])\n",
        "      cat4+=1"
      ]
    },
    {
      "cell_type": "code",
      "execution_count": null,
      "metadata": {
        "colab": {
          "base_uri": "https://localhost:8080/",
          "height": 283
        },
        "id": "j7l3rV_mS9fU",
        "outputId": "5dfb70f5-6c20-498c-978f-50b998252641"
      },
      "outputs": [
        {
          "data": {
            "text/plain": [
              "[<matplotlib.lines.Line2D at 0x7f642a1c7f90>]"
            ]
          },
          "execution_count": 118,
          "metadata": {},
          "output_type": "execute_result"
        },
        {
          "data": {
            "image/png": "[encoded data removed]",
            "text/plain": [
              "<Figure size 432x288 with 1 Axes>"
            ]
          },
          "metadata": {},
          "output_type": "display_data"
        }
      ],
      "source": [
        "#@title  { run: \"auto\" }\n",
        "index = 927 #@param {type:\"slider\", min:0, max:3000, step:1}\n",
        "plt.plot(x[index])"
      ]
    },
    {
      "cell_type": "code",
      "execution_count": null,
      "metadata": {
        "id": "XO5_r9NGGw0q"
      },
      "outputs": [],
      "source": [
        "# x=[]\n",
        "# y=[]\n",
        "# bin_list=[]\n",
        "# bin_number=50\n",
        "# increment=100//bin_number\n",
        "# for a in range(bin_number):\n",
        "#   bin_list.append(0)\n",
        "# j=0\n",
        "# while(True):\n",
        "#   if bin_list[j]==100:\n",
        "#       break\n",
        "#   for j in range(len(bin_list)):\n",
        "#     for i in range(len(Y)):\n",
        "#       if bin_list[j]<100:\n",
        "#         if Y[i]>(j*increment) and Y[i]<=((j+1)*increment):\n",
        "#           y.append(Y[i])\n",
        "#           x.append(X[i])\n",
        "#           bin_list[j]+=1\n"
      ]
    },
    {
      "cell_type": "code",
      "execution_count": null,
      "metadata": {
        "colab": {
          "base_uri": "https://localhost:8080/"
        },
        "id": "vFBxBZvo-P8l",
        "outputId": "dc5b3d3b-a30c-440f-b731-a9810ec27d00"
      },
      "outputs": [
        {
          "data": {
            "text/plain": [
              "4000"
            ]
          },
          "execution_count": 120,
          "metadata": {},
          "output_type": "execute_result"
        }
      ],
      "source": [
        "len(y)"
      ]
    },
    {
      "cell_type": "code",
      "execution_count": null,
      "metadata": {
        "id": "oc6FcCG71Uzb"
      },
      "outputs": [],
      "source": [
        "x=np.array(x)\n",
        "y=np.array(y)"
      ]
    },
    {
      "cell_type": "code",
      "execution_count": null,
      "metadata": {
        "colab": {
          "base_uri": "https://localhost:8080/"
        },
        "id": "qaPHZp0c3eeI",
        "outputId": "3ebdfcb2-48da-4e40-8775-f7414aaff962"
      },
      "outputs": [
        {
          "data": {
            "text/plain": [
              "array([[2572, 1261, 2211, ..., 2113, 1097, 1884],\n",
              "       [2015, 2113,  966, ..., 2015, 1884, 2375],\n",
              "       [1622, 2408, 1851, ..., 1556, 1490, 2473],\n",
              "       ...,\n",
              "       [1523, 1458, 1392, ..., 2048, 2048, 2048],\n",
              "       [2080, 1884, 1851, ..., 2015, 2179, 2277],\n",
              "       [2408, 2408, 2277, ..., 1851, 1785, 1753]])"
            ]
          },
          "execution_count": 122,
          "metadata": {},
          "output_type": "execute_result"
        }
      ],
      "source": [
        "x"
      ]
    },
    {
      "cell_type": "code",
      "execution_count": null,
      "metadata": {
        "colab": {
          "base_uri": "https://localhost:8080/"
        },
        "id": "h9OQOZcY3TyF",
        "outputId": "77e89ac2-c126-426f-a0ea-2fd7b588bf9b"
      },
      "outputs": [
        {
          "data": {
            "text/plain": [
              "array([96, 96, 96, ..., 24, 24, 24])"
            ]
          },
          "execution_count": 123,
          "metadata": {},
          "output_type": "execute_result"
        }
      ],
      "source": [
        "y"
      ]
    },
    {
      "cell_type": "code",
      "execution_count": null,
      "metadata": {
        "colab": {
          "base_uri": "https://localhost:8080/",
          "height": 319
        },
        "id": "24w7a2TGKDYn",
        "outputId": "e55152ce-53f2-4692-d260-ad50f230a85c"
      },
      "outputs": [
        {
          "data": {
            "text/plain": [
              "(array([ 89., 911., 197., 803., 112., 667., 174., 510., 128., 409.]),\n",
              " array([12. , 20.6, 29.2, 37.8, 46.4, 55. , 63.6, 72.2, 80.8, 89.4, 98. ]),\n",
              " <a list of 10 Patch objects>)"
            ]
          },
          "execution_count": 124,
          "metadata": {},
          "output_type": "execute_result"
        },
        {
          "data": {
            "image/png": "[encoded data removed]",
            "text/plain": [
              "<Figure size 432x288 with 1 Axes>"
            ]
          },
          "metadata": {},
          "output_type": "display_data"
        }
      ],
      "source": [
        "plt.hist(y)"
      ]
    },
    {
      "cell_type": "code",
      "execution_count": null,
      "metadata": {
        "colab": {
          "base_uri": "https://localhost:8080/"
        },
        "id": "yNB7xMvl3Tvm",
        "outputId": "81b9ff59-763c-427f-a979-42b632f013a1"
      },
      "outputs": [
        {
          "data": {
            "text/plain": [
              "4000"
            ]
          },
          "execution_count": 125,
          "metadata": {},
          "output_type": "execute_result"
        }
      ],
      "source": [
        "len(x)"
      ]
    },
    {
      "cell_type": "code",
      "execution_count": null,
      "metadata": {
        "colab": {
          "base_uri": "https://localhost:8080/"
        },
        "id": "3bte0_Ei3Ts6",
        "outputId": "214b268a-422f-4df8-d9c6-27c5e0fc5d1b"
      },
      "outputs": [
        {
          "data": {
            "text/plain": [
              "4000"
            ]
          },
          "execution_count": 126,
          "metadata": {},
          "output_type": "execute_result"
        }
      ],
      "source": [
        "len(y)"
      ]
    },
    {
      "cell_type": "code",
      "execution_count": null,
      "metadata": {
        "colab": {
          "base_uri": "https://localhost:8080/"
        },
        "id": "S1j9z7Zb4rJl",
        "outputId": "37b8ecdc-ec0f-492a-babd-10e189825081"
      },
      "outputs": [
        {
          "data": {
            "text/plain": [
              "(4000, 640, 1)"
            ]
          },
          "execution_count": 127,
          "metadata": {},
          "output_type": "execute_result"
        }
      ],
      "source": [
        "x = x.reshape((x.shape[0], x.shape[1], 1))\n",
        "x.shape"
      ]
    },
    {
      "cell_type": "markdown",
      "metadata": {
        "id": "n6OImcAUrFXF"
      },
      "source": [
        "# lstm"
      ]
    },
    {
      "cell_type": "code",
      "execution_count": null,
      "metadata": {
        "id": "-2GOQyE21Ufo"
      },
      "outputs": [],
      "source": [
        "import numpy as np\n",
        "from keras.preprocessing import sequence\n",
        "from keras.models import Sequential\n",
        "from keras.layers import Dense, Dropout, Embedding, LSTM, Bidirectional"
      ]
    },
    {
      "cell_type": "code",
      "execution_count": null,
      "metadata": {
        "colab": {
          "base_uri": "https://localhost:8080/"
        },
        "id": "8MZTtLzT1Ucp",
        "outputId": "601292a0-9324-4590-e61e-8438fc6894b0"
      },
      "outputs": [
        {
          "name": "stdout",
          "output_type": "stream",
          "text": [
            "Model: \"sequential_17\"\n",
            "_________________________________________________________________\n",
            " Layer (type)                Output Shape              Param #   \n",
            "=================================================================\n",
            " lstm_72 (LSTM)              (None, 640, 64)           16896     \n",
            "                                                                 \n",
            " dropout_56 (Dropout)        (None, 640, 64)           0         \n",
            "                                                                 \n",
            " lstm_73 (LSTM)              (None, 640, 128)          98816     \n",
            "                                                                 \n",
            " dropout_57 (Dropout)        (None, 640, 128)          0         \n",
            "                                                                 \n",
            " lstm_74 (LSTM)              (None, 640, 256)          394240    \n",
            "                                                                 \n",
            " dropout_58 (Dropout)        (None, 640, 256)          0         \n",
            "                                                                 \n",
            " lstm_75 (LSTM)              (None, 640, 128)          197120    \n",
            "                                                                 \n",
            " dropout_59 (Dropout)        (None, 640, 128)          0         \n",
            "                                                                 \n",
            " lstm_76 (LSTM)              (None, 64)                49408     \n",
            "                                                                 \n",
            " dense_16 (Dense)            (None, 1)                 65        \n",
            "                                                                 \n",
            "=================================================================\n",
            "Total params: 756,545\n",
            "Trainable params: 756,545\n",
            "Non-trainable params: 0\n",
            "_________________________________________________________________\n"
          ]
        }
      ],
      "source": [
        "function='tanh'\n",
        "model = Sequential()\n",
        "model.add(LSTM(64, activation=function, recurrent_activation=\"sigmoid\", return_sequences=True, input_shape=(640,1)))\n",
        "model.add(Dropout(0.3))\n",
        "model.add(LSTM(128, activation=function, return_sequences=True))\n",
        "model.add(Dropout(0.3))\n",
        "model.add(LSTM(256, activation=function, return_sequences=True))\n",
        "model.add(Dropout(0.3))\n",
        "model.add(LSTM(128, activation=function, return_sequences=True))\n",
        "model.add(Dropout(0.3))\n",
        "model.add(LSTM(64, activation=function))\n",
        "model.add(Dense(n_steps_out))\n",
        "model.compile(loss='mae', optimizer='adam')\n",
        "model.summary()"
      ]
    },
    {
      "cell_type": "code",
      "execution_count": null,
      "metadata": {
        "id": "hugXFoZqXw2H"
      },
      "outputs": [],
      "source": []
    },
    {
      "cell_type": "code",
      "execution_count": null,
      "metadata": {
        "id": "mUPdm1uaZjb_"
      },
      "outputs": [],
      "source": [
        "# history=model.fit(x,y, epochs=100, verbose=2, batch_size=256) #validation_data=(X_validate, Y_validate))\n",
        "for i in range(10):\n",
        "    model.fit(x, y, epochs=5, batch_size=256, verbose=2)\n",
        "    test_data = x[9:10]\n",
        "    test_data_reshaped = test_data.reshape(test_data.shape[0],640,1)\n",
        "    testPredict = model.predict(test_data_reshaped, verbose=0)\n",
        "    print(testPredict)"
      ]
    },
    {
      "cell_type": "code",
      "execution_count": null,
      "metadata": {
        "id": "7hkle5Qi1cCW"
      },
      "outputs": [],
      "source": [
        "# history=model.fit(x,y, epochs=100, verbose=2, batch_size=256) #validation_data=(X_validate, Y_validate))\n",
        "for i in range(10):\n",
        "    model.fit(x, y, epochs=5, batch_size=256, verbose=2)\n",
        "    test_data = x[9:10]\n",
        "    test_data_reshaped = test_data.reshape((test_data.shape[0], 640, 1))\n",
        "    testPredict = model.predict(test_data_reshaped, verbose=0)\n",
        "    print(testPredict)\n"
      ]
    },
    {
      "cell_type": "code",
      "execution_count": null,
      "metadata": {
        "colab": {
          "base_uri": "https://localhost:8080/"
        },
        "id": "YLmwFA5K1b-F",
        "outputId": "9244a2c8-9054-4bcb-e1a0-d49a769c4685"
      },
      "outputs": [
        {
          "data": {
            "text/plain": [
              "array([[48.382366]], dtype=float32)"
            ]
          },
          "execution_count": 178,
          "metadata": {},
          "output_type": "execute_result"
        }
      ],
      "source": [
        "test_data = x[100:101]\n",
        "test_data_reshaped = test_data.reshape((test_data.shape[0], 640, 1))\n",
        "testPredict = model.predict(test_data_reshaped, verbose=0)\n",
        "testPredict"
      ]
    },
    {
      "cell_type": "code",
      "execution_count": null,
      "metadata": {
        "colab": {
          "base_uri": "https://localhost:8080/"
        },
        "id": "rSxUZ_sNNzvp",
        "outputId": "5403de26-bc15-440b-8ee5-a48fc4529d96"
      },
      "outputs": [
        {
          "data": {
            "text/plain": [
              "4400"
            ]
          },
          "execution_count": 164,
          "metadata": {},
          "output_type": "execute_result"
        }
      ],
      "source": [
        "len(test_data)"
      ]
    },
    {
      "cell_type": "code",
      "execution_count": null,
      "metadata": {
        "id": "ETwo57QuCDyV"
      },
      "outputs": [],
      "source": [
        "testPredict=list(testPredict)"
      ]
    },
    {
      "cell_type": "code",
      "execution_count": null,
      "metadata": {
        "colab": {
          "base_uri": "https://localhost:8080/"
        },
        "id": "Qy-rZCfOCuKj",
        "outputId": "96b5b262-cfbb-4abc-b170-213fbe7b05df"
      },
      "outputs": [
        {
          "data": {
            "text/plain": [
              "1"
            ]
          },
          "execution_count": 133,
          "metadata": {},
          "output_type": "execute_result"
        }
      ],
      "source": [
        "test_data.shape[0]"
      ]
    },
    {
      "cell_type": "code",
      "execution_count": null,
      "metadata": {
        "colab": {
          "base_uri": "https://localhost:8080/"
        },
        "id": "rMF2NFxQBWxr",
        "outputId": "f69745ae-f617-48cd-b568-b4b1842d6bdd"
      },
      "outputs": [
        {
          "data": {
            "text/plain": [
              "[array([47.458385], dtype=float32)]"
            ]
          },
          "execution_count": 130,
          "metadata": {},
          "output_type": "execute_result"
        }
      ],
      "source": [
        "testPredict[:len(testPredict)]"
      ]
    },
    {
      "cell_type": "code",
      "execution_count": null,
      "metadata": {
        "colab": {
          "base_uri": "https://localhost:8080/"
        },
        "id": "7GLvzy3m722u",
        "outputId": "87154b56-1221-4384-febc-b19a5500ec43"
      },
      "outputs": [
        {
          "data": {
            "text/plain": [
              "28"
            ]
          },
          "execution_count": 264,
          "metadata": {},
          "output_type": "execute_result"
        }
      ],
      "source": [
        "Y[9000]"
      ]
    },
    {
      "cell_type": "code",
      "execution_count": null,
      "metadata": {
        "id": "aBHLanBEE9Sa"
      },
      "outputs": [],
      "source": [
        "for i in range(len(y)):\n",
        "  if y[i]>=0 and y[i]<40:\n",
        "    y[i]=1\n",
        "  elif y[i]>=40 and y[i]<60:\n",
        "    y[i]=2\n",
        "  elif y[i]>=60 and y[i]<=100:\n",
        "    y[i]=3"
      ]
    },
    {
      "cell_type": "code",
      "execution_count": null,
      "metadata": {
        "colab": {
          "base_uri": "https://localhost:8080/"
        },
        "id": "FzAKrfQ9FKEL",
        "outputId": "21215b7e-c197-4d0f-9e6c-fce2179de42d"
      },
      "outputs": [
        {
          "data": {
            "text/plain": [
              "array([3, 3, 3, ..., 1, 1, 1])"
            ]
          },
          "execution_count": 318,
          "metadata": {},
          "output_type": "execute_result"
        }
      ],
      "source": [
        "y"
      ]
    },
    {
      "cell_type": "code",
      "execution_count": null,
      "metadata": {
        "colab": {
          "base_uri": "https://localhost:8080/"
        },
        "id": "LrruKj5XEuTg",
        "outputId": "73264a16-e45f-4d73-c2d8-4c5435ac5a22"
      },
      "outputs": [
        {
          "name": "stdout",
          "output_type": "stream",
          "text": [
            "Model: \"sequential_5\"\n",
            "_________________________________________________________________\n",
            " Layer (type)                Output Shape              Param #   \n",
            "=================================================================\n",
            " lstm_31 (LSTM)              (None, 640, 64)           16896     \n",
            "                                                                 \n",
            " dropout_26 (Dropout)        (None, 640, 64)           0         \n",
            "                                                                 \n",
            " lstm_32 (LSTM)              (None, 640, 128)          98816     \n",
            "                                                                 \n",
            " dropout_27 (Dropout)        (None, 640, 128)          0         \n",
            "                                                                 \n",
            " lstm_33 (LSTM)              (None, 640, 256)          394240    \n",
            "                                                                 \n",
            " dropout_28 (Dropout)        (None, 640, 256)          0         \n",
            "                                                                 \n",
            " lstm_34 (LSTM)              (None, 640, 128)          197120    \n",
            "                                                                 \n",
            " dropout_29 (Dropout)        (None, 640, 128)          0         \n",
            "                                                                 \n",
            " lstm_35 (LSTM)              (None, 64)                49408     \n",
            "                                                                 \n",
            " dense_5 (Dense)             (None, 1)                 65        \n",
            "                                                                 \n",
            "=================================================================\n",
            "Total params: 756,545\n",
            "Trainable params: 756,545\n",
            "Non-trainable params: 0\n",
            "_________________________________________________________________\n"
          ]
        }
      ],
      "source": [
        "function='tanh'\n",
        "model = Sequential()\n",
        "model.add(LSTM(64, activation=function, recurrent_activation=\"sigmoid\", return_sequences=True, input_shape=(640,1)))\n",
        "model.add(Dropout(0.3))\n",
        "model.add(LSTM(128, activation=function, return_sequences=True))\n",
        "model.add(Dropout(0.3))\n",
        "model.add(LSTM(256, activation=function, return_sequences=True))\n",
        "model.add(Dropout(0.3))\n",
        "model.add(LSTM(128, activation=function, return_sequences=True))\n",
        "model.add(Dropout(0.3))\n",
        "model.add(LSTM(64, activation=function))\n",
        "model.add(Dense(n_steps_out,activation=\"softmax\"))\n",
        "model.compile(loss='categorical_crossentropy', optimizer='adam', metrics=['accuracy'])\n",
        "model.summary()"
      ]
    },
    {
      "cell_type": "code",
      "execution_count": null,
      "metadata": {
        "colab": {
          "base_uri": "https://localhost:8080/"
        },
        "id": "sM13oDBsEuRs",
        "outputId": "da6af79f-ea0c-47e5-fdc0-0927ba3a2220"
      },
      "outputs": [
        {
          "name": "stdout",
          "output_type": "stream",
          "text": [
            "Epoch 1/30\n",
            "12/12 - 19s - loss: 0.0000e+00 - accuracy: 0.2300 - 19s/epoch - 2s/step\n",
            "Epoch 2/30\n",
            "12/12 - 4s - loss: 0.0000e+00 - accuracy: 0.2300 - 4s/epoch - 364ms/step\n",
            "Epoch 3/30\n",
            "12/12 - 4s - loss: 0.0000e+00 - accuracy: 0.2300 - 4s/epoch - 363ms/step\n",
            "Epoch 4/30\n",
            "12/12 - 4s - loss: 0.0000e+00 - accuracy: 0.2300 - 4s/epoch - 366ms/step\n",
            "Epoch 5/30\n",
            "12/12 - 4s - loss: 0.0000e+00 - accuracy: 0.2300 - 4s/epoch - 367ms/step\n",
            "Epoch 6/30\n",
            "12/12 - 4s - loss: 0.0000e+00 - accuracy: 0.2300 - 4s/epoch - 367ms/step\n",
            "Epoch 7/30\n",
            "12/12 - 4s - loss: 0.0000e+00 - accuracy: 0.2300 - 4s/epoch - 369ms/step\n",
            "Epoch 8/30\n",
            "12/12 - 4s - loss: 0.0000e+00 - accuracy: 0.2300 - 4s/epoch - 366ms/step\n",
            "Epoch 9/30\n",
            "12/12 - 4s - loss: 0.0000e+00 - accuracy: 0.2300 - 4s/epoch - 365ms/step\n",
            "Epoch 10/30\n",
            "12/12 - 4s - loss: 0.0000e+00 - accuracy: 0.2300 - 4s/epoch - 362ms/step\n",
            "Epoch 11/30\n",
            "12/12 - 4s - loss: 0.0000e+00 - accuracy: 0.2300 - 4s/epoch - 360ms/step\n",
            "Epoch 12/30\n",
            "12/12 - 4s - loss: 0.0000e+00 - accuracy: 0.2300 - 4s/epoch - 359ms/step\n",
            "Epoch 13/30\n",
            "12/12 - 4s - loss: 0.0000e+00 - accuracy: 0.2300 - 4s/epoch - 356ms/step\n",
            "Epoch 14/30\n",
            "12/12 - 4s - loss: 0.0000e+00 - accuracy: 0.2300 - 4s/epoch - 357ms/step\n",
            "Epoch 15/30\n",
            "12/12 - 4s - loss: 0.0000e+00 - accuracy: 0.2300 - 4s/epoch - 356ms/step\n",
            "Epoch 16/30\n",
            "12/12 - 4s - loss: 0.0000e+00 - accuracy: 0.2300 - 4s/epoch - 355ms/step\n",
            "Epoch 17/30\n",
            "12/12 - 4s - loss: 0.0000e+00 - accuracy: 0.2300 - 4s/epoch - 355ms/step\n",
            "Epoch 18/30\n",
            "12/12 - 4s - loss: 0.0000e+00 - accuracy: 0.2300 - 4s/epoch - 355ms/step\n",
            "Epoch 19/30\n",
            "12/12 - 4s - loss: 0.0000e+00 - accuracy: 0.2300 - 4s/epoch - 356ms/step\n",
            "Epoch 20/30\n",
            "12/12 - 4s - loss: 0.0000e+00 - accuracy: 0.2300 - 4s/epoch - 356ms/step\n",
            "Epoch 21/30\n",
            "12/12 - 4s - loss: 0.0000e+00 - accuracy: 0.2300 - 4s/epoch - 361ms/step\n",
            "Epoch 22/30\n",
            "12/12 - 4s - loss: 0.0000e+00 - accuracy: 0.2300 - 4s/epoch - 359ms/step\n",
            "Epoch 23/30\n",
            "12/12 - 4s - loss: 0.0000e+00 - accuracy: 0.2300 - 4s/epoch - 360ms/step\n",
            "Epoch 24/30\n",
            "12/12 - 4s - loss: 0.0000e+00 - accuracy: 0.2300 - 4s/epoch - 360ms/step\n",
            "Epoch 25/30\n",
            "12/12 - 4s - loss: 0.0000e+00 - accuracy: 0.2300 - 4s/epoch - 361ms/step\n",
            "Epoch 26/30\n",
            "12/12 - 4s - loss: 0.0000e+00 - accuracy: 0.2300 - 4s/epoch - 361ms/step\n",
            "Epoch 27/30\n",
            "12/12 - 4s - loss: 0.0000e+00 - accuracy: 0.2300 - 4s/epoch - 361ms/step\n",
            "Epoch 28/30\n",
            "12/12 - 4s - loss: 0.0000e+00 - accuracy: 0.2300 - 4s/epoch - 361ms/step\n",
            "Epoch 29/30\n",
            "12/12 - 4s - loss: 0.0000e+00 - accuracy: 0.2300 - 4s/epoch - 362ms/step\n",
            "Epoch 30/30\n",
            "12/12 - 4s - loss: 0.0000e+00 - accuracy: 0.2300 - 4s/epoch - 361ms/step\n"
          ]
        }
      ],
      "source": [
        "history=model.fit(x,y, epochs=30, verbose=2, batch_size=256)"
      ]
    },
    {
      "cell_type": "code",
      "execution_count": null,
      "metadata": {
        "id": "ud6Vas7KEuOf"
      },
      "outputs": [],
      "source": [
        "test_data = x\n",
        "test_data_reshaped = test_data.reshape((test_data.shape[0], 640, 1))\n",
        "testPredict = model.predict(test_data_reshaped, verbose=0)\n",
        "testPredict"
      ]
    },
    {
      "cell_type": "code",
      "execution_count": null,
      "metadata": {
        "id": "kslnmuA_EuL8"
      },
      "outputs": [],
      "source": []
    },
    {
      "cell_type": "code",
      "execution_count": null,
      "metadata": {
        "id": "mFkCxEAxEuJ4"
      },
      "outputs": [],
      "source": [
        "# design the network\n",
        "from keras.models import Sequential\n",
        "from keras.layers import Dense\n",
        "from keras.layers import LSTM\n",
        "from keras.layers import Dropout\n",
        "\n",
        "model = Sequential()\n",
        "model.add(LSTM(50, input_shape=(train_X.shape[1], train_X.shape[2])))\n",
        "model.add(Dense(1))\n",
        "model.compile(loss='mae', optimizer='adam')\n",
        "\n",
        "# fit network\n",
        "history = model.fit(train_X, train_y, epochs=50, batch_size=72, validation_data=(test_X, test_y), verbose=2, shuffle=False)\n",
        "\n",
        "# plot history\n",
        "pyplot.plot(history.history['loss'], label='train')\n",
        "pyplot.plot(history.history['val_loss'], label='test')\n",
        "pyplot.legend()\n",
        "pyplot.show()"
      ]
    },
    {
      "cell_type": "code",
      "execution_count": null,
      "metadata": {
        "id": "0MQ65gdiEuGr"
      },
      "outputs": [],
      "source": []
    },
    {
      "cell_type": "code",
      "execution_count": null,
      "metadata": {
        "id": "yORYbOquEuEN"
      },
      "outputs": [],
      "source": []
    },
    {
      "cell_type": "code",
      "execution_count": null,
      "metadata": {
        "id": "mEl8oWrxEuBi"
      },
      "outputs": [],
      "source": []
    },
    {
      "cell_type": "markdown",
      "metadata": {
        "id": "dKuEs51h1Rnv"
      },
      "source": [
        "**END OF TEST**"
      ]
    },
    {
      "cell_type": "code",
      "execution_count": null,
      "metadata": {
        "id": "xFDMvLfe1MnQ"
      },
      "outputs": [],
      "source": []
    },
    {
      "cell_type": "code",
      "execution_count": null,
      "metadata": {
        "id": "F-aXSDmA1MkT"
      },
      "outputs": [],
      "source": []
    },
    {
      "cell_type": "code",
      "execution_count": null,
      "metadata": {
        "colab": {
          "base_uri": "https://localhost:8080/"
        },
        "id": "k0TEQktGG2xb",
        "outputId": "c2b40bbd-2849-4424-b777-47817b6ed279"
      },
      "outputs": [
        {
          "name": "stdout",
          "output_type": "stream",
          "text": [
            "26093 27815 7497\n"
          ]
        }
      ],
      "source": [
        "'''deep=0\n",
        "ok=0\n",
        "light=0\n",
        "X_deep=[]\n",
        "X_ok=[]\n",
        "X_light=[]\n",
        "for i in range(len(Y)):\n",
        "  if Y[i]==1:\n",
        "    deep+=1\n",
        "    X_deep.append(X[i])\n",
        "  elif Y[i]==2:\n",
        "    ok+=1\n",
        "    X_ok.append(X[i])\n",
        "  elif Y[i]==3:\n",
        "    light+=1\n",
        "    X_light.append(X[i])\n",
        "print(deep,ok,light)\n",
        "for i in range(len(X_deep)):\n",
        "  for j in range(640):\n",
        "    X_deep[i][j]=X_deep[i][j]/10\n",
        "for i in range(len(X_light)):\n",
        "  for j in range(640):\n",
        "    X_light[i][j]=X_light[i][j]*10\n",
        "X=np.array(X_deep)\n",
        "X=np.append(X, X_light,axis = 0)\n",
        "X=np.append(X, X_ok,axis = 0)\n",
        "Y=[]\n",
        "for i in range(26093):\n",
        "  Y.append(1)\n",
        "for i in range(7497):\n",
        "  Y.append(2)\n",
        "for i in range(27815):\n",
        "  Y.append(3)\n",
        "Y=np.array(Y)'''"
      ]
    },
    {
      "cell_type": "code",
      "execution_count": null,
      "metadata": {
        "colab": {
          "base_uri": "https://localhost:8080/"
        },
        "id": "xqNM8nXWNWg-",
        "outputId": "aa9d73ab-75e7-40ad-8c7a-90af4fdec4a8"
      },
      "outputs": [
        {
          "data": {
            "text/plain": [
              "array([], dtype=float64)"
            ]
          },
          "execution_count": 280,
          "metadata": {},
          "output_type": "execute_result"
        }
      ],
      "source": [
        "X"
      ]
    },
    {
      "cell_type": "code",
      "execution_count": null,
      "metadata": {
        "colab": {
          "base_uri": "https://localhost:8080/"
        },
        "id": "CGxDPwv1NtVD",
        "outputId": "12b4f0b4-2c5a-4143-9091-fde179023252"
      },
      "outputs": [
        {
          "data": {
            "text/plain": [
              "array([96, 96, 96, ..., 64, 67, 67])"
            ]
          },
          "execution_count": 247,
          "metadata": {},
          "output_type": "execute_result"
        }
      ],
      "source": [
        "Y"
      ]
    },
    {
      "cell_type": "code",
      "execution_count": null,
      "metadata": {
        "id": "aqLW-PunNtSV"
      },
      "outputs": [],
      "source": [
        "'''scaler = StandardScaler()\n",
        "# transform data\n",
        "X = scaler.fit_transform(X)'''"
      ]
    },
    {
      "cell_type": "code",
      "execution_count": null,
      "metadata": {
        "id": "IcXj2tHLOKlf"
      },
      "outputs": [],
      "source": [
        "n_features = 1"
      ]
    },
    {
      "cell_type": "code",
      "execution_count": null,
      "metadata": {
        "id": "xvglygfUb0Po"
      },
      "outputs": [],
      "source": [
        "#n_features = 1\n",
        "#X = X.reshape((X.shape[0], X.shape[1], n_features))\n",
        "#X.shape"
      ]
    },
    {
      "cell_type": "code",
      "execution_count": null,
      "metadata": {
        "id": "s6qavnafUDFb"
      },
      "outputs": [],
      "source": [
        "X_train, X_validate, X_test = np.split(X, [int(.8*len(X)), int(.9*len(X))])\n",
        "Y_train, Y_validate, Y_test = np.split(Y, [int(.8*len(Y)), int(.9*len(Y))])"
      ]
    },
    {
      "cell_type": "code",
      "execution_count": null,
      "metadata": {
        "colab": {
          "base_uri": "https://localhost:8080/"
        },
        "id": "Wy0EKBXjVC4x",
        "outputId": "577eeea1-aed2-400d-8b79-28d5a23e0ea7"
      },
      "outputs": [
        {
          "data": {
            "text/plain": [
              "49124"
            ]
          },
          "execution_count": 252,
          "metadata": {},
          "output_type": "execute_result"
        }
      ],
      "source": [
        "len(X_train)"
      ]
    },
    {
      "cell_type": "code",
      "execution_count": null,
      "metadata": {
        "colab": {
          "base_uri": "https://localhost:8080/"
        },
        "id": "FyY6fSoyVIZg",
        "outputId": "80acd928-8b7f-4033-c8e3-1d1788d6d0c2"
      },
      "outputs": [
        {
          "data": {
            "text/plain": [
              "6140"
            ]
          },
          "execution_count": 253,
          "metadata": {},
          "output_type": "execute_result"
        }
      ],
      "source": [
        "len(X_validate)"
      ]
    },
    {
      "cell_type": "code",
      "execution_count": null,
      "metadata": {
        "colab": {
          "base_uri": "https://localhost:8080/"
        },
        "id": "W_LHAn6cVINg",
        "outputId": "5a136535-dbfb-4e9d-9ead-5ace8d66f355"
      },
      "outputs": [
        {
          "data": {
            "text/plain": [
              "6141"
            ]
          },
          "execution_count": 254,
          "metadata": {},
          "output_type": "execute_result"
        }
      ],
      "source": [
        "len(X_test)"
      ]
    },
    {
      "cell_type": "code",
      "execution_count": null,
      "metadata": {
        "colab": {
          "base_uri": "https://localhost:8080/"
        },
        "id": "wKssaiApNoM8",
        "outputId": "76950120-608a-45da-948e-c3e728535680"
      },
      "outputs": [
        {
          "data": {
            "text/plain": [
              "(49124, 640, 1)"
            ]
          },
          "execution_count": 290,
          "metadata": {},
          "output_type": "execute_result"
        }
      ],
      "source": [
        "X_train = X_train.reshape((X_train.shape[0], X_train.shape[1], n_features))\n",
        "X_train.shape"
      ]
    },
    {
      "cell_type": "code",
      "execution_count": null,
      "metadata": {
        "colab": {
          "base_uri": "https://localhost:8080/"
        },
        "id": "ao96Jr25NoKB",
        "outputId": "f57b310f-e95e-466b-a0d6-f618ee10c6da"
      },
      "outputs": [
        {
          "data": {
            "text/plain": [
              "(6140, 640, 1)"
            ]
          },
          "execution_count": 291,
          "metadata": {},
          "output_type": "execute_result"
        }
      ],
      "source": [
        "X_validate = X_validate.reshape((X_validate.shape[0], X_validate.shape[1], n_features))\n",
        "X_validate.shape"
      ]
    },
    {
      "cell_type": "code",
      "execution_count": null,
      "metadata": {
        "id": "uG-WzSCRK3jD"
      },
      "outputs": [],
      "source": [
        "from sklearn.model_selection import train_test_split\n",
        "X_train, X_test, Y_train, Y_test = train_test_split( X, Y, test_size=0.33, random_state=42,shuffle=True)"
      ]
    },
    {
      "cell_type": "markdown",
      "metadata": {
        "id": "87blTCMDhdvS"
      },
      "source": [
        "***GPU ACCELERATED MODEL***"
      ]
    },
    {
      "cell_type": "code",
      "execution_count": null,
      "metadata": {
        "id": "TALnUFNphV6M"
      },
      "outputs": [],
      "source": [
        "import numpy as np\n",
        "from keras.preprocessing import sequence\n",
        "from keras.models import Sequential\n",
        "from keras.layers import Dense, Dropout, Embedding, LSTM, Bidirectional"
      ]
    },
    {
      "cell_type": "code",
      "execution_count": null,
      "metadata": {
        "colab": {
          "base_uri": "https://localhost:8080/",
          "height": 70
        },
        "id": "vaVvU7yWDoUl",
        "outputId": "9aafea21-5196-4429-d8a7-3efc9a7aa275"
      },
      "outputs": [
        {
          "data": {
            "application/vnd.google.colaboratory.intrinsic+json": {
              "type": "string"
            },
            "text/plain": [
              "\"# define model\\nfunction='tanh'\\nmodel = Sequential()\\nmodel.add(LSTM(100, activation=function, recurrent_activation='sigmoid', return_sequences=True, input_shape=(n_steps_in, n_features)))\\nmodel.add(Dense(n_steps_out))\\nmodel.compile(optimizer='adam', loss='mae')\\nmodel.summary()\\nhistory=model.fit(X_train, Y_train, epochs=30, verbose=2, batch_size=128, validation_data=(X_validate,Y_validate))\\n\""
            ]
          },
          "execution_count": 259,
          "metadata": {},
          "output_type": "execute_result"
        }
      ],
      "source": [
        "'''# define model\n",
        "function='tanh'\n",
        "model = Sequential()\n",
        "model.add(LSTM(100, activation=function, recurrent_activation='sigmoid', return_sequences=True, input_shape=(n_steps_in, n_features)))\n",
        "model.add(Dense(n_steps_out))\n",
        "model.compile(optimizer='adam', loss='mae')\n",
        "model.summary()\n",
        "history=model.fit(X_train, Y_train, epochs=30, verbose=2, batch_size=128, validation_data=(X_validate,Y_validate))\n",
        "'''"
      ]
    },
    {
      "cell_type": "code",
      "execution_count": null,
      "metadata": {
        "colab": {
          "base_uri": "https://localhost:8080/",
          "height": 88
        },
        "id": "7UACIm7Np3gV",
        "outputId": "435d045f-e7ad-49c1-d74d-bdb6ee8a7ad5"
      },
      "outputs": [
        {
          "data": {
            "application/vnd.google.colaboratory.intrinsic+json": {
              "type": "string"
            },
            "text/plain": [
              "'testPredict = model.predict(X_test)\\nmae_test_data=[]\\ntestPredict=list(testPredict)\\nfor i in range(len(testPredict)):\\n  val=(testPredict[i][0]-Y_test[0])\\n  mae_test_data.append(val)\\nprint(\"Loss in Testing data:\",sum(mae_test_data)/len(mae_test_data))\\ntraining_loss = history.history[\\'loss\\']\\nval_loss = history.history[\\'val_loss\\']\\n# Create count of the number of epochs\\nepoch_count = range(1, len(training_loss) + 1)\\n# Visualize loss history\\nplt.plot(epoch_count, training_loss, \\'b\\')\\nplt.plot(epoch_count, val_loss, \\'orange\\')\\nplt.legend([\\'Training Loss\\', \\'Validation Loss\\'])\\nplt.xlabel(\\'Epoch\\')\\nplt.ylabel(\\'Loss\\')\\nplt.show();'"
            ]
          },
          "execution_count": 260,
          "metadata": {},
          "output_type": "execute_result"
        }
      ],
      "source": [
        "'''testPredict = model.predict(X_test)\n",
        "mae_test_data=[]\n",
        "testPredict=list(testPredict)\n",
        "for i in range(len(testPredict)):\n",
        "  val=(testPredict[i][0]-Y_test[0])\n",
        "  mae_test_data.append(val)\n",
        "print(\"Loss in Testing data:\",sum(mae_test_data)/len(mae_test_data))\n",
        "training_loss = history.history['loss']\n",
        "val_loss = history.history['val_loss']\n",
        "# Create count of the number of epochs\n",
        "epoch_count = range(1, len(training_loss) + 1)\n",
        "# Visualize loss history\n",
        "plt.plot(epoch_count, training_loss, 'b')\n",
        "plt.plot(epoch_count, val_loss, 'orange')\n",
        "plt.legend(['Training Loss', 'Validation Loss'])\n",
        "plt.xlabel('Epoch')\n",
        "plt.ylabel('Loss')\n",
        "plt.show();'''"
      ]
    },
    {
      "cell_type": "code",
      "execution_count": null,
      "metadata": {
        "colab": {
          "base_uri": "https://localhost:8080/"
        },
        "id": "oA3oAFxdpqHh",
        "outputId": "1e8a34fa-fa68-4b39-dc98-e315f3ca4b86"
      },
      "outputs": [
        {
          "name": "stdout",
          "output_type": "stream",
          "text": [
            "Model: \"sequential_3\"\n",
            "_________________________________________________________________\n",
            " Layer (type)                Output Shape              Param #   \n",
            "=================================================================\n",
            " lstm_15 (LSTM)              (None, 640, 64)           16896     \n",
            "                                                                 \n",
            " dropout_12 (Dropout)        (None, 640, 64)           0         \n",
            "                                                                 \n",
            " lstm_16 (LSTM)              (None, 640, 128)          98816     \n",
            "                                                                 \n",
            " dropout_13 (Dropout)        (None, 640, 128)          0         \n",
            "                                                                 \n",
            " lstm_17 (LSTM)              (None, 640, 256)          394240    \n",
            "                                                                 \n",
            " dropout_14 (Dropout)        (None, 640, 256)          0         \n",
            "                                                                 \n",
            " lstm_18 (LSTM)              (None, 640, 128)          197120    \n",
            "                                                                 \n",
            " dropout_15 (Dropout)        (None, 640, 128)          0         \n",
            "                                                                 \n",
            " lstm_19 (LSTM)              (None, 64)                49408     \n",
            "                                                                 \n",
            " dense_3 (Dense)             (None, 1)                 65        \n",
            "                                                                 \n",
            "=================================================================\n",
            "Total params: 756,545\n",
            "Trainable params: 756,545\n",
            "Non-trainable params: 0\n",
            "_________________________________________________________________\n"
          ]
        }
      ],
      "source": [
        "# define model\n",
        "function='tanh'\n",
        "model = Sequential()\n",
        "model.add(LSTM(64, activation=function, recurrent_activation=\"sigmoid\", return_sequences=True, input_shape=(640,1)))\n",
        "model.add(Dropout(0.3))\n",
        "model.add(LSTM(128, activation=function, return_sequences=True))\n",
        "model.add(Dropout(0.3))\n",
        "model.add(LSTM(256, activation=function, return_sequences=True))\n",
        "model.add(Dropout(0.3))\n",
        "model.add(LSTM(128, activation=function, return_sequences=True))\n",
        "model.add(Dropout(0.3))\n",
        "model.add(LSTM(64, activation=function))\n",
        "model.add(Dense(n_steps_out, activation=\"softmax\"))\n",
        "model.compile(loss='categorical_crossentropy', optimizer='adam', metrics=['accuracy'])\n",
        "model.summary()"
      ]
    },
    {
      "cell_type": "code",
      "execution_count": null,
      "metadata": {
        "colab": {
          "base_uri": "https://localhost:8080/"
        },
        "id": "Ng1FXueepvOF",
        "outputId": "fccc7c92-64f0-40b1-aee6-bb343414741a"
      },
      "outputs": [
        {
          "name": "stdout",
          "output_type": "stream",
          "text": [
            "Epoch 1/5\n",
            "192/192 - 79s - loss: 0.0000e+00 - accuracy: 0.5312 - val_loss: 0.0000e+00 - val_accuracy: 0.0000e+00 - 79s/epoch - 413ms/step\n",
            "Epoch 2/5\n",
            "192/192 - 73s - loss: 0.0000e+00 - accuracy: 0.5312 - val_loss: 0.0000e+00 - val_accuracy: 0.0000e+00 - 73s/epoch - 378ms/step\n"
          ]
        }
      ],
      "source": [
        "history=model.fit(X_train, Y_train, epochs=5, verbose=2, batch_size=256, validation_data=(X_validate, Y_validate))"
      ]
    },
    {
      "cell_type": "code",
      "execution_count": null,
      "metadata": {
        "colab": {
          "base_uri": "https://localhost:8080/",
          "height": 297
        },
        "id": "q8WgmiTwVSvN",
        "outputId": "d9ec19e8-dc6a-4aa2-a147-617502068245"
      },
      "outputs": [
        {
          "name": "stdout",
          "output_type": "stream",
          "text": [
            "Loss in Testing data: -8.00775146484375\n"
          ]
        },
        {
          "data": {
            "image/png": "[encoded data removed]",
            "text/plain": [
              "<Figure size 432x288 with 1 Axes>"
            ]
          },
          "metadata": {},
          "output_type": "display_data"
        }
      ],
      "source": [
        "test_data = X_test\n",
        "test_data_reshaped = test_data.reshape((X_test.shape[0], 640, n_features))\n",
        "testPredict = model.predict(test_data_reshaped, verbose=0)\n",
        "mae_test_data=[]\n",
        "testPredict=list(testPredict)\n",
        "for i in range(len(testPredict)):\n",
        "  val=(testPredict[i][0]-Y_test[0])\n",
        "  mae_test_data.append(val)\n",
        "print(\"Loss in Testing data:\",sum(mae_test_data)/len(mae_test_data))\n",
        "training_loss = history.history['loss']\n",
        "val_loss = history.history['val_loss']\n",
        "# Create count of the number of epochs\n",
        "epoch_count = range(1, len(training_loss) + 1)\n",
        "# Visualize loss history\n",
        "plt.plot(epoch_count, training_loss, 'b')\n",
        "plt.plot(epoch_count, val_loss, 'orange')\n",
        "plt.legend(['Training Loss', 'Validation Loss'])\n",
        "plt.xlabel('Epoch')\n",
        "plt.ylabel('Loss')\n",
        "plt.show();"
      ]
    },
    {
      "cell_type": "code",
      "execution_count": null,
      "metadata": {
        "id": "Z0i__gOZ6pAc"
      },
      "outputs": [],
      "source": [
        "testPredict=list(testPredict)\n",
        "testPredict"
      ]
    },
    {
      "cell_type": "code",
      "execution_count": null,
      "metadata": {
        "id": "ZTkERyUsfX7A"
      },
      "outputs": [],
      "source": [
        "Y_test_labels=[]\n",
        "for i in Y_test:\n",
        "  if i>=0 and i<40:\n",
        "    Y_test_labels.append(\"Anesthesia Deep\")\n",
        "  elif i>=40 and i<60:\n",
        "    Y_test_labels.append(\"Anesthesia Ok\")\n",
        "  elif i>=60 and i<=100:\n",
        "    Y_test_labels.append(\"Anesthesia Light\")\n",
        "Y_predict_labels=[]\n",
        "for i in testPredict:\n",
        "  if i>=0 and i<40:\n",
        "    Y_predict_labels.append(\"Anesthesia Deep\")\n",
        "  elif i>=40 and i<60:\n",
        "    Y_predict_labels.append(\"Anesthesia Ok\")\n",
        "  elif i>=60 and i<=100:\n",
        "    Y_predict_labels.append(\"Anesthesia Light\")"
      ]
    },
    {
      "cell_type": "code",
      "execution_count": null,
      "metadata": {
        "colab": {
          "base_uri": "https://localhost:8080/"
        },
        "id": "SA9zyVkRA9un",
        "outputId": "1044b91d-2982-4909-d5d7-e5be4ff021f9"
      },
      "outputs": [
        {
          "data": {
            "text/plain": [
              "array([34, 35, 36, ..., 64, 67, 67])"
            ]
          },
          "execution_count": 266,
          "metadata": {},
          "output_type": "execute_result"
        }
      ],
      "source": [
        "Y_test"
      ]
    },
    {
      "cell_type": "code",
      "execution_count": null,
      "metadata": {
        "colab": {
          "base_uri": "https://localhost:8080/"
        },
        "id": "cD8igtThTpaV",
        "outputId": "eff66cde-dcea-4062-b4bf-33e0cfae7670"
      },
      "outputs": [
        {
          "data": {
            "text/plain": [
              "array([47, 47, 49, ..., 35, 32, 34])"
            ]
          },
          "execution_count": 268,
          "metadata": {},
          "output_type": "execute_result"
        }
      ],
      "source": [
        "Y_validate"
      ]
    },
    {
      "cell_type": "code",
      "execution_count": null,
      "metadata": {
        "colab": {
          "base_uri": "https://localhost:8080/"
        },
        "id": "ezoFpYl4TpYP",
        "outputId": "d757ba12-795a-40b5-ab01-b56e185e68f0"
      },
      "outputs": [
        {
          "data": {
            "text/plain": [
              "array([96, 96, 96, ..., 46, 47, 47])"
            ]
          },
          "execution_count": 269,
          "metadata": {},
          "output_type": "execute_result"
        }
      ],
      "source": [
        "Y_train"
      ]
    },
    {
      "cell_type": "code",
      "execution_count": null,
      "metadata": {
        "colab": {
          "base_uri": "https://localhost:8080/"
        },
        "id": "BKMJuVqGRfap",
        "outputId": "9f98f0ed-56cd-443d-9021-05798cba010f"
      },
      "outputs": [
        {
          "data": {
            "text/plain": [
              "array([[40.99225]], dtype=float32)"
            ]
          },
          "execution_count": 277,
          "metadata": {},
          "output_type": "execute_result"
        }
      ],
      "source": [
        "test_data = X_train[0]\n",
        "test_data_reshaped = test_data.reshape((1, 640, n_features))\n",
        "testPredict = model.predict(test_data_reshaped, verbose=0)\n",
        "testPredict"
      ]
    },
    {
      "cell_type": "code",
      "execution_count": null,
      "metadata": {
        "id": "K2S9pYQYRfYW"
      },
      "outputs": [],
      "source": []
    },
    {
      "cell_type": "code",
      "execution_count": null,
      "metadata": {
        "id": "CJyQ1MDwRfVY"
      },
      "outputs": [],
      "source": []
    },
    {
      "cell_type": "code",
      "execution_count": null,
      "metadata": {
        "id": "FGOwkqhzDKhO"
      },
      "outputs": [],
      "source": [
        "X=X[0:3]\n",
        "Y=Y[0:3]"
      ]
    },
    {
      "cell_type": "code",
      "execution_count": null,
      "metadata": {
        "colab": {
          "base_uri": "https://localhost:8080/"
        },
        "id": "CdxPFfwvDKeR",
        "outputId": "84e14769-ed1e-4924-f992-437f58520109"
      },
      "outputs": [
        {
          "data": {
            "text/plain": [
              "3"
            ]
          },
          "execution_count": 174,
          "metadata": {},
          "output_type": "execute_result"
        }
      ],
      "source": [
        "len(X)"
      ]
    },
    {
      "cell_type": "code",
      "execution_count": null,
      "metadata": {
        "colab": {
          "base_uri": "https://localhost:8080/"
        },
        "id": "oydS738DDKbn",
        "outputId": "4b6e6ae2-18bb-44a4-8f87-5cbd4f0407b8"
      },
      "outputs": [
        {
          "data": {
            "text/plain": [
              "3"
            ]
          },
          "execution_count": 175,
          "metadata": {},
          "output_type": "execute_result"
        }
      ],
      "source": [
        "len(Y)"
      ]
    },
    {
      "cell_type": "code",
      "execution_count": null,
      "metadata": {
        "colab": {
          "base_uri": "https://localhost:8080/"
        },
        "id": "sfsRVF0UDjD1",
        "outputId": "371c292b-6d91-4853-b073-a5281c35de19"
      },
      "outputs": [
        {
          "data": {
            "text/plain": [
              "(3, 640, 1)"
            ]
          },
          "execution_count": 176,
          "metadata": {},
          "output_type": "execute_result"
        }
      ],
      "source": [
        "n_features = 1\n",
        "X = X.reshape((X.shape[0], X.shape[1], n_features))\n",
        "X.shape"
      ]
    },
    {
      "cell_type": "code",
      "execution_count": null,
      "metadata": {
        "id": "gs3uKAhTDjA8"
      },
      "outputs": [],
      "source": []
    },
    {
      "cell_type": "code",
      "execution_count": null,
      "metadata": {
        "id": "b8W5AQweDi-j"
      },
      "outputs": [],
      "source": []
    },
    {
      "cell_type": "code",
      "execution_count": null,
      "metadata": {
        "id": "cOky3dKZDi7a"
      },
      "outputs": [],
      "source": []
    },
    {
      "cell_type": "code",
      "execution_count": null,
      "metadata": {
        "id": "-xNGJczUDi4g"
      },
      "outputs": [],
      "source": []
    },
    {
      "cell_type": "code",
      "execution_count": null,
      "metadata": {
        "id": "rrQvOWMtDi2B"
      },
      "outputs": [],
      "source": []
    },
    {
      "cell_type": "code",
      "execution_count": null,
      "metadata": {
        "colab": {
          "base_uri": "https://localhost:8080/"
        },
        "id": "YY-U-2_GDJdb",
        "outputId": "240e93de-e3fa-4864-b4cb-eb3ffee3088e"
      },
      "outputs": [
        {
          "name": "stdout",
          "output_type": "stream",
          "text": [
            "Model: \"sequential_4\"\n",
            "_________________________________________________________________\n",
            " Layer (type)                Output Shape              Param #   \n",
            "=================================================================\n",
            " lstm_20 (LSTM)              (None, 640, 64)           16896     \n",
            "                                                                 \n",
            " dropout_16 (Dropout)        (None, 640, 64)           0         \n",
            "                                                                 \n",
            " lstm_21 (LSTM)              (None, 640, 128)          98816     \n",
            "                                                                 \n",
            " dropout_17 (Dropout)        (None, 640, 128)          0         \n",
            "                                                                 \n",
            " lstm_22 (LSTM)              (None, 640, 256)          394240    \n",
            "                                                                 \n",
            " dropout_18 (Dropout)        (None, 640, 256)          0         \n",
            "                                                                 \n",
            " lstm_23 (LSTM)              (None, 640, 128)          197120    \n",
            "                                                                 \n",
            " dropout_19 (Dropout)        (None, 640, 128)          0         \n",
            "                                                                 \n",
            " lstm_24 (LSTM)              (None, 64)                49408     \n",
            "                                                                 \n",
            " dense_4 (Dense)             (None, 1)                 65        \n",
            "                                                                 \n",
            "=================================================================\n",
            "Total params: 756,545\n",
            "Trainable params: 756,545\n",
            "Non-trainable params: 0\n",
            "_________________________________________________________________\n"
          ]
        }
      ],
      "source": [
        "# define model\n",
        "function='tanh'\n",
        "model = Sequential()\n",
        "model.add(LSTM(64, activation=function, recurrent_activation=\"sigmoid\", return_sequences=True, input_shape=(640,1)))\n",
        "model.add(Dropout(0.3))\n",
        "model.add(LSTM(128, activation=function, return_sequences=True))\n",
        "model.add(Dropout(0.3))\n",
        "model.add(LSTM(256, activation=function, return_sequences=True))\n",
        "model.add(Dropout(0.3))\n",
        "model.add(LSTM(128, activation=function, return_sequences=True))\n",
        "model.add(Dropout(0.3))\n",
        "model.add(LSTM(64, activation=function))\n",
        "model.add(Dense(n_steps_out))\n",
        "model.compile(loss='mae', optimizer='adam')\n",
        "model.summary()"
      ]
    },
    {
      "cell_type": "code",
      "execution_count": null,
      "metadata": {
        "colab": {
          "base_uri": "https://localhost:8080/"
        },
        "id": "i7DtPUQCDJbF",
        "outputId": "23265aa2-e490-41e3-fddf-0996b48ff2b3"
      },
      "outputs": [
        {
          "name": "stdout",
          "output_type": "stream",
          "text": [
            "Epoch 1/5\n",
            "1/1 - 6s - loss: 96.0036 - 6s/epoch - 6s/step\n",
            "Epoch 2/5\n",
            "1/1 - 0s - loss: 94.9798 - 168ms/epoch - 168ms/step\n",
            "Epoch 3/5\n",
            "1/1 - 0s - loss: 93.9696 - 106ms/epoch - 106ms/step\n",
            "Epoch 4/5\n",
            "1/1 - 0s - loss: 92.9155 - 116ms/epoch - 116ms/step\n",
            "Epoch 5/5\n",
            "1/1 - 0s - loss: 92.1941 - 99ms/epoch - 99ms/step\n"
          ]
        }
      ],
      "source": [
        "history=model.fit(X,Y, epochs=5, verbose=2)"
      ]
    },
    {
      "cell_type": "code",
      "execution_count": null,
      "metadata": {
        "id": "nZhaRn2aDJYv"
      },
      "outputs": [],
      "source": [
        "X[0]"
      ]
    },
    {
      "cell_type": "code",
      "execution_count": null,
      "metadata": {
        "id": "HPo8HTGPDJWR"
      },
      "outputs": [],
      "source": []
    },
    {
      "cell_type": "code",
      "execution_count": null,
      "metadata": {
        "id": "EgbFKRaoDJT4"
      },
      "outputs": [],
      "source": []
    },
    {
      "cell_type": "code",
      "execution_count": null,
      "metadata": {
        "id": "I6kMSXBiDJRY"
      },
      "outputs": [],
      "source": []
    },
    {
      "cell_type": "code",
      "execution_count": null,
      "metadata": {
        "id": "j7lG2K3gDJO1"
      },
      "outputs": [],
      "source": []
    },
    {
      "cell_type": "code",
      "execution_count": null,
      "metadata": {
        "id": "1GR5lMxuDJMR"
      },
      "outputs": [],
      "source": []
    },
    {
      "cell_type": "code",
      "execution_count": null,
      "metadata": {
        "id": "eNtJhSh-DJJ1"
      },
      "outputs": [],
      "source": []
    },
    {
      "cell_type": "code",
      "execution_count": null,
      "metadata": {
        "colab": {
          "base_uri": "https://localhost:8080/"
        },
        "id": "zdwuz96_fXze",
        "outputId": "38ecb313-f05f-4e64-cbd6-74968f75273d"
      },
      "outputs": [
        {
          "data": {
            "text/plain": [
              "0.6165119687347338"
            ]
          },
          "execution_count": 130,
          "metadata": {},
          "output_type": "execute_result"
        }
      ],
      "source": [
        "from sklearn import metrics\n",
        "Accuracy = metrics.accuracy_score(Y_test_labels,Y_predict_labels)\n",
        "Accuracy"
      ]
    },
    {
      "cell_type": "code",
      "execution_count": null,
      "metadata": {
        "colab": {
          "base_uri": "https://localhost:8080/"
        },
        "id": "i_gJJxI5jrqv",
        "outputId": "6a86feb9-6875-4cd6-f202-52fa7fef6a36"
      },
      "outputs": [
        {
          "data": {
            "text/plain": [
              "array([[   0,    0, 1699],\n",
              "       [   0,    0,  656],\n",
              "       [   0,    0, 3786]])"
            ]
          },
          "execution_count": 131,
          "metadata": {},
          "output_type": "execute_result"
        }
      ],
      "source": [
        "from sklearn.metrics import confusion_matrix, ConfusionMatrixDisplay\n",
        "confusion_matrix(Y_test_labels,Y_predict_labels)"
      ]
    },
    {
      "cell_type": "code",
      "execution_count": null,
      "metadata": {
        "colab": {
          "base_uri": "https://localhost:8080/"
        },
        "id": "xuUHda6Xjroe",
        "outputId": "3a384713-8e9f-4915-e35e-f284f5979cf9"
      },
      "outputs": [
        {
          "name": "stdout",
          "output_type": "stream",
          "text": [
            "Accuracy: 0.6165119687347338\n",
            "Precision: 0.6165119687347338\n",
            "Recall: 0.6165119687347338\n",
            "F1 Score: 0.6165119687347338\n"
          ]
        }
      ],
      "source": [
        "from sklearn.metrics import precision_score, recall_score\n",
        "from sklearn.metrics import f1_score\n",
        "Accuracy = metrics.accuracy_score(Y_test_labels,Y_predict_labels)\n",
        "print(\"Accuracy:\",Accuracy)\n",
        "print(\"Precision:\",precision_score(Y_test_labels,Y_predict_labels,average='micro'))\n",
        "print(\"Recall:\",recall_score(Y_test_labels,Y_predict_labels,average='micro'))\n",
        "print(\"F1 Score:\",f1_score(Y_test_labels,Y_predict_labels,average='micro'))"
      ]
    },
    {
      "cell_type": "code",
      "execution_count": null,
      "metadata": {
        "colab": {
          "base_uri": "https://localhost:8080/"
        },
        "id": "9ud4Bzmyqr8D",
        "outputId": "91193476-cdd4-4a7e-d05c-5c722aec8f63"
      },
      "outputs": [
        {
          "name": "stdout",
          "output_type": "stream",
          "text": [
            "['Anesthesia Deep', 'Anesthesia Light', 'Anesthesia Ok']\n"
          ]
        }
      ],
      "source": [
        "l=[\"Anesthesia Light\",\"Anesthesia Ok\",\"Anesthesia Deep\"]\n",
        "l.sort()\n",
        "print(l)"
      ]
    },
    {
      "cell_type": "code",
      "execution_count": null,
      "metadata": {
        "colab": {
          "base_uri": "https://localhost:8080/",
          "height": 279
        },
        "id": "2g3HaR2opSJu",
        "outputId": "456f8048-46b0-4b7e-a5c6-1291e39271ef"
      },
      "outputs": [
        {
          "data": {
            "image/png": "[encoded data removed]",
            "text/plain": [
              "<Figure size 432x288 with 2 Axes>"
            ]
          },
          "metadata": {},
          "output_type": "display_data"
        }
      ],
      "source": [
        "import matplotlib.pyplot as plt\n",
        "import numpy\n",
        "from sklearn import metrics\n",
        "a=round(205/6775,2)\n",
        "b=round(0,2)\n",
        "c=round(1231/6775,2)\n",
        "d=round(140/6755,2)\n",
        "e=round(0,2)\n",
        "f=round(723/6775,2)\n",
        "g=round(577/6775,2)\n",
        "h=round(0,2)\n",
        "i=round(3899/6775,2)\n",
        "cm = array([[a,    b, c],\n",
        " [ d,    e, f],\n",
        " [g,h,i]]) # your confusion matrix\n",
        "\n",
        "disp = ConfusionMatrixDisplay(confusion_matrix=cm, display_labels=['A. Deep', 'A. Light', 'A. Ok'])\n",
        "\n",
        "disp.plot(cmap=plt.cm.Blues)\n",
        "plt.show()"
      ]
    },
    {
      "cell_type": "code",
      "execution_count": null,
      "metadata": {
        "id": "oK6FHRiyy7sM"
      },
      "outputs": [],
      "source": []
    },
    {
      "cell_type": "code",
      "execution_count": null,
      "metadata": {
        "id": "DVwC3R8Sy7pt"
      },
      "outputs": [],
      "source": []
    },
    {
      "cell_type": "code",
      "execution_count": null,
      "metadata": {
        "id": "HfbLabEEy7nY"
      },
      "outputs": [],
      "source": []
    },
    {
      "cell_type": "code",
      "execution_count": null,
      "metadata": {
        "id": "QOIwtbSUy7lH"
      },
      "outputs": [],
      "source": []
    },
    {
      "cell_type": "code",
      "execution_count": null,
      "metadata": {
        "id": "wjjSZW5Dy7iu"
      },
      "outputs": [],
      "source": []
    },
    {
      "cell_type": "code",
      "execution_count": null,
      "metadata": {
        "id": "BsvwfpGyy7ge"
      },
      "outputs": [],
      "source": []
    },
    {
      "cell_type": "code",
      "execution_count": null,
      "metadata": {
        "id": "LQa4WNzHy7dQ"
      },
      "outputs": [],
      "source": []
    },
    {
      "cell_type": "code",
      "execution_count": null,
      "metadata": {
        "colab": {
          "base_uri": "https://localhost:8080/"
        },
        "id": "zB5j20tolTVp",
        "outputId": "fb4c8f5d-a2a7-43ac-ad24-f85d73855230"
      },
      "outputs": [
        {
          "name": "stdout",
          "output_type": "stream",
          "text": [
            "1609 4476 690\n"
          ]
        }
      ],
      "source": [
        "c1=0\n",
        "c2=0\n",
        "c3=0\n",
        "for i in Y_test:\n",
        "  if i[0]>=-1 and i[0]<40: c1+=1\n",
        "  elif i[0]>=40 and i[0]<60: c2+=1\n",
        "  elif i[0]>=60 and i[0]<=100: c3+=1\n",
        "print(c1,c2,c3)"
      ]
    },
    {
      "cell_type": "code",
      "execution_count": null,
      "metadata": {
        "colab": {
          "base_uri": "https://localhost:8080/"
        },
        "id": "mJXZsHRFCetu",
        "outputId": "92b8cbb1-e61f-42e7-bc9a-2c2f9cd6a895"
      },
      "outputs": [
        {
          "name": "stdout",
          "output_type": "stream",
          "text": [
            "922 5853 0\n"
          ]
        }
      ],
      "source": [
        "c1=0\n",
        "c2=0\n",
        "c3=0\n",
        "for i in testPredict:\n",
        "  if i[0]>=0 and i[0]<40: c1+=1\n",
        "  elif i[0]>=40 and i[0]<60: c2+=1\n",
        "  elif i[0]>=60 and i[0]<=100: c3+=1\n",
        "print(c1,c2,c3)"
      ]
    },
    {
      "cell_type": "code",
      "execution_count": null,
      "metadata": {
        "colab": {
          "base_uri": "https://localhost:8080/",
          "height": 1000
        },
        "id": "vVCfDnIYd7YE",
        "outputId": "63e3f23f-59fd-478e-d49c-5d040724ffae"
      },
      "outputs": [
        {
          "name": "stdout",
          "output_type": "stream",
          "text": [
            "Epoch 1/30\n",
            "353/353 - 78s - loss: 18.0871 - 78s/epoch - 220ms/step\n",
            "Epoch 2/30\n",
            "353/353 - 48s - loss: 10.7294 - 48s/epoch - 135ms/step\n",
            "Epoch 3/30\n",
            "353/353 - 48s - loss: 10.7196 - 48s/epoch - 136ms/step\n",
            "Epoch 4/30\n",
            "353/353 - 48s - loss: 10.7206 - 48s/epoch - 136ms/step\n",
            "Epoch 5/30\n",
            "353/353 - 48s - loss: 10.7206 - 48s/epoch - 137ms/step\n",
            "Epoch 6/30\n",
            "353/353 - 48s - loss: 10.7207 - 48s/epoch - 136ms/step\n",
            "Epoch 7/30\n",
            "353/353 - 48s - loss: 10.7208 - 48s/epoch - 136ms/step\n",
            "Epoch 8/30\n",
            "353/353 - 49s - loss: 10.7220 - 49s/epoch - 138ms/step\n",
            "Epoch 9/30\n",
            "353/353 - 48s - loss: 10.7223 - 48s/epoch - 136ms/step\n",
            "Epoch 10/30\n",
            "353/353 - 48s - loss: 10.7220 - 48s/epoch - 136ms/step\n",
            "Epoch 11/30\n",
            "353/353 - 48s - loss: 10.7216 - 48s/epoch - 136ms/step\n",
            "Epoch 12/30\n",
            "353/353 - 49s - loss: 10.7231 - 49s/epoch - 138ms/step\n",
            "Epoch 13/30\n",
            "353/353 - 48s - loss: 10.7219 - 48s/epoch - 136ms/step\n",
            "Epoch 14/30\n",
            "353/353 - 48s - loss: 10.7218 - 48s/epoch - 136ms/step\n",
            "Epoch 15/30\n",
            "353/353 - 48s - loss: 10.7226 - 48s/epoch - 136ms/step\n",
            "Epoch 16/30\n",
            "353/353 - 49s - loss: 10.7094 - 49s/epoch - 139ms/step\n",
            "Epoch 17/30\n",
            "353/353 - 52s - loss: 10.6269 - 52s/epoch - 148ms/step\n",
            "Epoch 18/30\n",
            "353/353 - 50s - loss: 10.5578 - 50s/epoch - 140ms/step\n",
            "Epoch 19/30\n",
            "353/353 - 49s - loss: 10.5204 - 49s/epoch - 138ms/step\n",
            "Epoch 20/30\n",
            "353/353 - 49s - loss: 10.4959 - 49s/epoch - 139ms/step\n",
            "Epoch 21/30\n",
            "353/353 - 49s - loss: 10.4606 - 49s/epoch - 138ms/step\n",
            "Epoch 22/30\n",
            "353/353 - 49s - loss: 10.4763 - 49s/epoch - 138ms/step\n",
            "Epoch 23/30\n",
            "353/353 - 49s - loss: 10.4413 - 49s/epoch - 139ms/step\n",
            "Epoch 24/30\n",
            "353/353 - 49s - loss: 10.4817 - 49s/epoch - 138ms/step\n",
            "Epoch 25/30\n",
            "353/353 - 49s - loss: 10.4227 - 49s/epoch - 139ms/step\n",
            "Epoch 26/30\n",
            "353/353 - 49s - loss: 10.3966 - 49s/epoch - 139ms/step\n",
            "Epoch 27/30\n",
            "353/353 - 49s - loss: 10.3137 - 49s/epoch - 140ms/step\n",
            "Epoch 28/30\n",
            "353/353 - 49s - loss: 10.3592 - 49s/epoch - 139ms/step\n",
            "Epoch 29/30\n",
            "353/353 - 49s - loss: 10.2957 - 49s/epoch - 139ms/step\n",
            "Epoch 30/30\n",
            "353/353 - 49s - loss: 10.3292 - 49s/epoch - 139ms/step\n"
          ]
        },
        {
          "data": {
            "image/png": "[encoded data removed]",
            "text/plain": [
              "<Figure size 432x288 with 1 Axes>"
            ]
          },
          "metadata": {},
          "output_type": "display_data"
        },
        {
          "name": "stdout",
          "output_type": "stream",
          "text": [
            "706/706 - 26s - loss: 10.0977 - 26s/epoch - 36ms/step\n",
            "Test loss: 10.097745895385742\n",
            "Accuracy: 0.5545076160113355\n",
            "Confusion matrix:\n",
            " [[4926    0 4673]\n",
            " [ 336    0 2553]\n",
            " [2499    0 7597]]\n",
            "Precision: 0.5545076160113355\n",
            "Recall: 0.5545076160113355\n",
            "F1 Score: 0.5545076160113355\n",
            "\n",
            "\n",
            "\n",
            "Epoch 1/30\n",
            "353/353 - 52s - loss: 18.6190 - 52s/epoch - 148ms/step\n",
            "Epoch 2/30\n",
            "353/353 - 48s - loss: 10.7366 - 48s/epoch - 135ms/step\n",
            "Epoch 3/30\n",
            "353/353 - 48s - loss: 10.7223 - 48s/epoch - 135ms/step\n",
            "Epoch 4/30\n",
            "353/353 - 48s - loss: 10.7225 - 48s/epoch - 136ms/step\n",
            "Epoch 5/30\n",
            "353/353 - 48s - loss: 10.7229 - 48s/epoch - 135ms/step\n",
            "Epoch 6/30\n",
            "353/353 - 48s - loss: 10.7229 - 48s/epoch - 135ms/step\n",
            "Epoch 7/30\n",
            "353/353 - 48s - loss: 10.7235 - 48s/epoch - 136ms/step\n",
            "Epoch 8/30\n",
            "353/353 - 48s - loss: 10.7236 - 48s/epoch - 135ms/step\n",
            "Epoch 9/30\n",
            "353/353 - 48s - loss: 10.7233 - 48s/epoch - 135ms/step\n",
            "Epoch 10/30\n",
            "353/353 - 48s - loss: 10.7243 - 48s/epoch - 135ms/step\n",
            "Epoch 11/30\n",
            "353/353 - 48s - loss: 10.7263 - 48s/epoch - 136ms/step\n",
            "Epoch 12/30\n",
            "353/353 - 48s - loss: 10.7245 - 48s/epoch - 135ms/step\n",
            "Epoch 13/30\n",
            "353/353 - 48s - loss: 10.7245 - 48s/epoch - 135ms/step\n",
            "Epoch 14/30\n",
            "353/353 - 48s - loss: 10.7256 - 48s/epoch - 136ms/step\n",
            "Epoch 15/30\n",
            "353/353 - 48s - loss: 10.7253 - 48s/epoch - 137ms/step\n",
            "Epoch 16/30\n",
            "353/353 - 48s - loss: 10.7254 - 48s/epoch - 137ms/step\n",
            "Epoch 17/30\n",
            "353/353 - 49s - loss: 10.6941 - 49s/epoch - 138ms/step\n",
            "Epoch 18/30\n",
            "353/353 - 48s - loss: 10.6522 - 48s/epoch - 137ms/step\n",
            "Epoch 19/30\n",
            "353/353 - 49s - loss: 10.6401 - 49s/epoch - 138ms/step\n",
            "Epoch 20/30\n",
            "353/353 - 48s - loss: 10.6249 - 48s/epoch - 137ms/step\n",
            "Epoch 21/30\n",
            "353/353 - 48s - loss: 10.7259 - 48s/epoch - 136ms/step\n",
            "Epoch 22/30\n",
            "353/353 - 48s - loss: 10.7172 - 48s/epoch - 136ms/step\n",
            "Epoch 23/30\n",
            "353/353 - 49s - loss: 10.5960 - 49s/epoch - 138ms/step\n",
            "Epoch 24/30\n",
            "353/353 - 48s - loss: 10.5759 - 48s/epoch - 137ms/step\n",
            "Epoch 25/30\n",
            "353/353 - 49s - loss: 10.5683 - 49s/epoch - 138ms/step\n",
            "Epoch 26/30\n",
            "353/353 - 49s - loss: 10.5314 - 49s/epoch - 139ms/step\n",
            "Epoch 27/30\n",
            "353/353 - 49s - loss: 10.4998 - 49s/epoch - 138ms/step\n",
            "Epoch 28/30\n",
            "353/353 - 49s - loss: 10.5318 - 49s/epoch - 138ms/step\n",
            "Epoch 29/30\n",
            "353/353 - 49s - loss: 10.4627 - 49s/epoch - 138ms/step\n",
            "Epoch 30/30\n",
            "353/353 - 49s - loss: 10.3998 - 49s/epoch - 140ms/step\n"
          ]
        },
        {
          "data": {
            "image/png": "[encoded data removed]",
            "text/plain": [
              "<Figure size 432x288 with 1 Axes>"
            ]
          },
          "metadata": {},
          "output_type": "display_data"
        },
        {
          "name": "stdout",
          "output_type": "stream",
          "text": [
            "706/706 - 26s - loss: 10.2642 - 26s/epoch - 37ms/step\n",
            "Test loss: 10.264162063598633\n",
            "Accuracy: 0.5451445777797458\n",
            "Confusion matrix:\n",
            " [[4521    0 5078]\n",
            " [ 307    0 2579]\n",
            " [2308    0 7790]]\n",
            "Precision: 0.5451445777797458\n",
            "Recall: 0.5451445777797458\n",
            "F1 Score: 0.5451445777797458\n",
            "\n",
            "\n",
            "\n",
            "Epoch 1/30\n",
            "353/353 - 53s - loss: 18.1892 - 53s/epoch - 149ms/step\n",
            "Epoch 2/30\n",
            "353/353 - 48s - loss: 10.7295 - 48s/epoch - 135ms/step\n",
            "Epoch 3/30\n",
            "353/353 - 48s - loss: 10.7213 - 48s/epoch - 136ms/step\n",
            "Epoch 4/30\n",
            "353/353 - 48s - loss: 10.7214 - 48s/epoch - 135ms/step\n",
            "Epoch 5/30\n",
            "353/353 - 48s - loss: 10.7217 - 48s/epoch - 135ms/step\n",
            "Epoch 6/30\n",
            "353/353 - 48s - loss: 10.7219 - 48s/epoch - 135ms/step\n",
            "Epoch 7/30\n",
            "353/353 - 48s - loss: 10.7223 - 48s/epoch - 136ms/step\n",
            "Epoch 8/30\n",
            "353/353 - 48s - loss: 10.7225 - 48s/epoch - 135ms/step\n",
            "Epoch 9/30\n",
            "353/353 - 48s - loss: 10.7232 - 48s/epoch - 135ms/step\n",
            "Epoch 10/30\n",
            "353/353 - 48s - loss: 10.7232 - 48s/epoch - 136ms/step\n",
            "Epoch 11/30\n",
            "353/353 - 48s - loss: 10.7226 - 48s/epoch - 135ms/step\n",
            "Epoch 12/30\n",
            "353/353 - 48s - loss: 10.7242 - 48s/epoch - 135ms/step\n",
            "Epoch 13/30\n",
            "353/353 - 48s - loss: 10.7234 - 48s/epoch - 135ms/step\n",
            "Epoch 14/30\n",
            "353/353 - 48s - loss: 10.7239 - 48s/epoch - 136ms/step\n",
            "Epoch 15/30\n",
            "353/353 - 48s - loss: 10.7239 - 48s/epoch - 136ms/step\n",
            "Epoch 16/30\n",
            "353/353 - 48s - loss: 10.7243 - 48s/epoch - 137ms/step\n",
            "Epoch 17/30\n",
            "353/353 - 48s - loss: 10.7236 - 48s/epoch - 137ms/step\n",
            "Epoch 18/30\n",
            "353/353 - 49s - loss: 10.7251 - 49s/epoch - 138ms/step\n",
            "Epoch 19/30\n",
            "353/353 - 48s - loss: 10.7269 - 48s/epoch - 136ms/step\n",
            "Epoch 20/30\n",
            "353/353 - 48s - loss: 10.9471 - 48s/epoch - 137ms/step\n",
            "Epoch 21/30\n",
            "353/353 - 48s - loss: 10.7240 - 48s/epoch - 137ms/step\n",
            "Epoch 22/30\n",
            "353/353 - 49s - loss: 10.7223 - 49s/epoch - 138ms/step\n",
            "Epoch 23/30\n",
            "353/353 - 48s - loss: 10.7221 - 48s/epoch - 137ms/step\n",
            "Epoch 24/30\n",
            "353/353 - 48s - loss: 10.7226 - 48s/epoch - 136ms/step\n",
            "Epoch 25/30\n",
            "353/353 - 49s - loss: 10.7222 - 49s/epoch - 138ms/step\n",
            "Epoch 26/30\n",
            "353/353 - 49s - loss: 10.7238 - 49s/epoch - 138ms/step\n",
            "Epoch 27/30\n",
            "353/353 - 48s - loss: 10.7217 - 48s/epoch - 137ms/step\n",
            "Epoch 28/30\n",
            "353/353 - 49s - loss: 10.7195 - 49s/epoch - 138ms/step\n",
            "Epoch 29/30\n",
            "353/353 - 49s - loss: 10.7245 - 49s/epoch - 138ms/step\n",
            "Epoch 30/30\n",
            "353/353 - 49s - loss: 10.7230 - 49s/epoch - 138ms/step\n"
          ]
        },
        {
          "data": {
            "image/png": "[encoded data removed]",
            "text/plain": [
              "<Figure size 432x288 with 1 Axes>"
            ]
          },
          "metadata": {},
          "output_type": "display_data"
        },
        {
          "name": "stdout",
          "output_type": "stream",
          "text": [
            "706/706 - 26s - loss: 10.7257 - 26s/epoch - 37ms/step\n",
            "Test loss: 10.725668907165527\n",
            "Accuracy: 0.4471505114466634\n",
            "Confusion matrix:\n",
            " [[    0     0  9600]\n",
            " [    0     0  2885]\n",
            " [    0     0 10098]]\n",
            "Precision: 0.4471505114466634\n",
            "Recall: 0.4471505114466634\n",
            "F1 Score: 0.4471505114466634\n",
            "\n",
            "\n",
            "\n"
          ]
        }
      ],
      "source": [
        "from sklearn.model_selection import StratifiedKFold\n",
        "kfold = StratifiedKFold(n_splits=3, shuffle=True, random_state=7)\n",
        "for train, test in kfold.split(X, Y):\n",
        "  function='tanh'\n",
        "  model = Sequential()\n",
        "  model.add(LSTM(100, activation=function, recurrent_activation='sigmoid', return_sequences=True, input_shape=(n_steps_in, n_features)))\n",
        "  model.add(LSTM(100, activation=function, return_sequences=True))\n",
        "  model.add(LSTM(100, activation=function, return_sequences=True))\n",
        "  model.add(LSTM(100, activation=function))\n",
        "  model.add(Dense(n_steps_out))\n",
        "  model.compile(optimizer='adam', loss='mae')\n",
        "  history=model.fit(X[train], Y[train], epochs=30, verbose=2, batch_size=128)\n",
        "\n",
        "  training_loss = history.history['loss']\n",
        "  # Create count of the number of epochs\n",
        "  epoch_count = range(1, len(training_loss) + 1)\n",
        "  # Visualize loss history\n",
        "  plt.plot(epoch_count, training_loss, 'b')\n",
        "  plt.legend(['Training Loss'])\n",
        "  plt.xlabel('Epoch')\n",
        "  plt.ylabel('Loss')\n",
        "  plt.show()\n",
        "  print(\"Test loss:\",model.evaluate(X[test], Y[test], verbose=2))\n",
        "  testPredict = model.predict(X[test])\n",
        "\n",
        "  Y_test_labels=[]\n",
        "  for i in Y[test]:\n",
        "    if i[0]>=-1 and i[0]<40:\n",
        "      Y_test_labels.append(\"Anesthesia Deep\")\n",
        "    elif i[0]>=40 and i[0]<60:\n",
        "      Y_test_labels.append(\"Anesthesia Ok\")\n",
        "    elif i[0]>=60 and i[0]<=100:\n",
        "      Y_test_labels.append(\"Anesthesia Light\")\n",
        "\n",
        "  Y_predict_labels=[]\n",
        "  for i in testPredict:\n",
        "    if i[0]>=0 and i[0]<40:\n",
        "      Y_predict_labels.append(\"Anesthesia Deep\")\n",
        "    elif i[0]>=40 and i[0]<60:\n",
        "      Y_predict_labels.append(\"Anesthesia Ok\")\n",
        "    elif i[0]>=60 and i[0]<=100:\n",
        "      Y_predict_labels.append(\"Anesthesia Light\")\n",
        "\n",
        "  from sklearn import metrics\n",
        "  from sklearn.metrics import confusion_matrix, ConfusionMatrixDisplay\n",
        "  from sklearn.metrics import precision_score, recall_score\n",
        "  from sklearn.metrics import f1_score\n",
        "  Accuracy = metrics.accuracy_score(Y_test_labels,Y_predict_labels)\n",
        "  print(\"Accuracy:\",Accuracy)\n",
        "  print(\"Confusion matrix:\\n\",confusion_matrix(Y_test_labels,Y_predict_labels))\n",
        "  print(\"Precision:\",precision_score(Y_test_labels,Y_predict_labels,average='micro'))\n",
        "  print(\"Recall:\",recall_score(Y_test_labels,Y_predict_labels,average='micro'))\n",
        "  print(\"F1 Score:\",f1_score(Y_test_labels,Y_predict_labels,average='micro'))\n",
        "\n",
        "  print()\n",
        "  print()\n",
        "  print()"
      ]
    },
    {
      "cell_type": "markdown",
      "metadata": {
        "id": "aV-TtPHfZpRk"
      },
      "source": [
        "**Epochs=30, Batch size=128**"
      ]
    },
    {
      "cell_type": "code",
      "execution_count": null,
      "metadata": {
        "colab": {
          "base_uri": "https://localhost:8080/",
          "height": 1000
        },
        "id": "XiMuXdheyrDV",
        "outputId": "24a312d4-e4dc-45c5-b913-65f0377759e5"
      },
      "outputs": [
        {
          "name": "stdout",
          "output_type": "stream",
          "text": [
            "Epoch 1/30\n",
            "353/353 - 55s - loss: 18.2112 - 55s/epoch - 155ms/step\n",
            "Epoch 2/30\n",
            "353/353 - 47s - loss: 10.7313 - 47s/epoch - 134ms/step\n",
            "Epoch 3/30\n",
            "353/353 - 48s - loss: 10.7195 - 48s/epoch - 136ms/step\n",
            "Epoch 4/30\n",
            "353/353 - 48s - loss: 10.7203 - 48s/epoch - 135ms/step\n",
            "Epoch 5/30\n",
            "353/353 - 48s - loss: 10.7206 - 48s/epoch - 135ms/step\n",
            "Epoch 6/30\n",
            "353/353 - 48s - loss: 10.7207 - 48s/epoch - 135ms/step\n",
            "Epoch 7/30\n",
            "353/353 - 48s - loss: 10.7218 - 48s/epoch - 135ms/step\n",
            "Epoch 8/30\n",
            "353/353 - 48s - loss: 10.7209 - 48s/epoch - 135ms/step\n",
            "Epoch 9/30\n",
            "353/353 - 48s - loss: 10.7218 - 48s/epoch - 135ms/step\n",
            "Epoch 10/30\n",
            "353/353 - 48s - loss: 10.7228 - 48s/epoch - 135ms/step\n",
            "Epoch 11/30\n",
            "353/353 - 48s - loss: 10.7220 - 48s/epoch - 135ms/step\n",
            "Epoch 12/30\n",
            "353/353 - 48s - loss: 10.7218 - 48s/epoch - 135ms/step\n",
            "Epoch 13/30\n",
            "353/353 - 48s - loss: 10.7212 - 48s/epoch - 136ms/step\n",
            "Epoch 14/30\n",
            "353/353 - 48s - loss: 10.7254 - 48s/epoch - 135ms/step\n",
            "Epoch 15/30\n",
            "353/353 - 48s - loss: 10.6674 - 48s/epoch - 135ms/step\n",
            "Epoch 16/30\n",
            "353/353 - 48s - loss: 10.6195 - 48s/epoch - 136ms/step\n",
            "Epoch 17/30\n",
            "353/353 - 48s - loss: 10.5792 - 48s/epoch - 136ms/step\n",
            "Epoch 18/30\n",
            "353/353 - 48s - loss: 10.5386 - 48s/epoch - 136ms/step\n",
            "Epoch 19/30\n",
            "353/353 - 48s - loss: 10.5153 - 48s/epoch - 136ms/step\n",
            "Epoch 20/30\n",
            "353/353 - 48s - loss: 10.5319 - 48s/epoch - 136ms/step\n",
            "Epoch 21/30\n",
            "353/353 - 48s - loss: 10.4678 - 48s/epoch - 136ms/step\n",
            "Epoch 22/30\n",
            "353/353 - 48s - loss: 10.4309 - 48s/epoch - 136ms/step\n",
            "Epoch 23/30\n",
            "353/353 - 48s - loss: 10.4794 - 48s/epoch - 137ms/step\n",
            "Epoch 24/30\n",
            "353/353 - 48s - loss: 10.4782 - 48s/epoch - 137ms/step\n",
            "Epoch 25/30\n",
            "353/353 - 48s - loss: 10.4471 - 48s/epoch - 137ms/step\n",
            "Epoch 26/30\n",
            "353/353 - 48s - loss: 10.5227 - 48s/epoch - 137ms/step\n",
            "Epoch 27/30\n",
            "353/353 - 48s - loss: 10.5503 - 48s/epoch - 137ms/step\n",
            "Epoch 28/30\n",
            "353/353 - 48s - loss: 10.4775 - 48s/epoch - 137ms/step\n",
            "Epoch 29/30\n",
            "353/353 - 48s - loss: 10.4654 - 48s/epoch - 136ms/step\n",
            "Epoch 30/30\n",
            "353/353 - 48s - loss: 10.4575 - 48s/epoch - 136ms/step\n"
          ]
        },
        {
          "data": {
            "image/png": "[encoded data removed]",
            "text/plain": [
              "<Figure size 432x288 with 1 Axes>"
            ]
          },
          "metadata": {},
          "output_type": "display_data"
        },
        {
          "name": "stdout",
          "output_type": "stream",
          "text": [
            "706/706 - 25s - loss: 10.4205 - 25s/epoch - 36ms/step\n",
            "Test loss: 10.420522689819336\n",
            "Accuracy: 0.51288522848034\n",
            "Confusion matrix:\n",
            " [[3744    0 5326]\n",
            " [ 397    0 3021]\n",
            " [2257    0 7839]]\n",
            "Precision: 0.51288522848034\n",
            "Recall: 0.51288522848034\n",
            "F1 Score: 0.51288522848034\n",
            "\n",
            "\n",
            "\n",
            "Epoch 1/30\n",
            "353/353 - 59s - loss: 18.5136 - 59s/epoch - 167ms/step\n",
            "Epoch 2/30\n",
            "353/353 - 50s - loss: 10.7369 - 50s/epoch - 140ms/step\n",
            "Epoch 3/30\n",
            "353/353 - 47s - loss: 10.7222 - 47s/epoch - 134ms/step\n",
            "Epoch 4/30\n",
            "353/353 - 47s - loss: 10.7227 - 47s/epoch - 133ms/step\n",
            "Epoch 5/30\n",
            "353/353 - 47s - loss: 10.7229 - 47s/epoch - 133ms/step\n",
            "Epoch 6/30\n",
            "353/353 - 47s - loss: 10.7228 - 47s/epoch - 134ms/step\n",
            "Epoch 7/30\n",
            "353/353 - 47s - loss: 10.7239 - 47s/epoch - 133ms/step\n",
            "Epoch 8/30\n",
            "353/353 - 47s - loss: 10.7241 - 47s/epoch - 133ms/step\n",
            "Epoch 9/30\n",
            "353/353 - 47s - loss: 10.7236 - 47s/epoch - 134ms/step\n",
            "Epoch 10/30\n",
            "353/353 - 47s - loss: 10.7258 - 47s/epoch - 134ms/step\n",
            "Epoch 11/30\n",
            "353/353 - 47s - loss: 10.7239 - 47s/epoch - 134ms/step\n",
            "Epoch 12/30\n",
            "353/353 - 47s - loss: 10.7247 - 47s/epoch - 134ms/step\n",
            "Epoch 13/30\n",
            "353/353 - 48s - loss: 10.7245 - 48s/epoch - 135ms/step\n",
            "Epoch 14/30\n",
            "353/353 - 48s - loss: 10.7242 - 48s/epoch - 135ms/step\n",
            "Epoch 15/30\n",
            "353/353 - 47s - loss: 10.7257 - 47s/epoch - 134ms/step\n",
            "Epoch 16/30\n",
            "353/353 - 47s - loss: 10.7260 - 47s/epoch - 134ms/step\n",
            "Epoch 17/30\n",
            "353/353 - 47s - loss: 10.7249 - 47s/epoch - 134ms/step\n",
            "Epoch 18/30\n",
            "353/353 - 47s - loss: 10.7248 - 47s/epoch - 134ms/step\n",
            "Epoch 19/30\n",
            "353/353 - 48s - loss: 10.7261 - 48s/epoch - 135ms/step\n",
            "Epoch 20/30\n",
            "353/353 - 47s - loss: 10.7250 - 47s/epoch - 134ms/step\n",
            "Epoch 21/30\n",
            "353/353 - 47s - loss: 10.7242 - 47s/epoch - 134ms/step\n",
            "Epoch 22/30\n",
            "353/353 - 47s - loss: 10.7240 - 47s/epoch - 134ms/step\n",
            "Epoch 23/30\n",
            "353/353 - 47s - loss: 10.7249 - 47s/epoch - 134ms/step\n",
            "Epoch 24/30\n",
            "353/353 - 48s - loss: 10.7031 - 48s/epoch - 135ms/step\n",
            "Epoch 25/30\n",
            "353/353 - 48s - loss: 10.6371 - 48s/epoch - 135ms/step\n",
            "Epoch 26/30\n",
            "353/353 - 48s - loss: 10.5707 - 48s/epoch - 136ms/step\n",
            "Epoch 27/30\n",
            "353/353 - 48s - loss: 10.5398 - 48s/epoch - 136ms/step\n",
            "Epoch 28/30\n",
            "353/353 - 48s - loss: 10.5704 - 48s/epoch - 136ms/step\n",
            "Epoch 29/30\n",
            "353/353 - 48s - loss: 10.4860 - 48s/epoch - 136ms/step\n",
            "Epoch 30/30\n",
            "353/353 - 48s - loss: 10.4987 - 48s/epoch - 136ms/step\n"
          ]
        },
        {
          "data": {
            "image/png": "[encoded data removed]",
            "text/plain": [
              "<Figure size 432x288 with 1 Axes>"
            ]
          },
          "metadata": {},
          "output_type": "display_data"
        },
        {
          "name": "stdout",
          "output_type": "stream",
          "text": [
            "706/706 - 24s - loss: 10.5726 - 24s/epoch - 34ms/step\n",
            "Test loss: 10.572630882263184\n",
            "Accuracy: 0.49138732675021035\n",
            "Confusion matrix:\n",
            " [[4710    0 4360]\n",
            " [ 758    0 2657]\n",
            " [3711    0 6387]]\n",
            "Precision: 0.49138732675021035\n",
            "Recall: 0.49138732675021035\n",
            "F1 Score: 0.49138732675021035\n",
            "\n",
            "\n",
            "\n",
            "Epoch 1/30\n",
            "353/353 - 52s - loss: 17.5970 - 52s/epoch - 148ms/step\n",
            "Epoch 2/30\n",
            "353/353 - 47s - loss: 10.7272 - 47s/epoch - 134ms/step\n",
            "Epoch 3/30\n",
            "353/353 - 47s - loss: 10.7210 - 47s/epoch - 134ms/step\n",
            "Epoch 4/30\n",
            "353/353 - 47s - loss: 10.7210 - 47s/epoch - 134ms/step\n",
            "Epoch 5/30\n",
            "353/353 - 47s - loss: 10.7218 - 47s/epoch - 134ms/step\n",
            "Epoch 6/30\n",
            "353/353 - 47s - loss: 10.7218 - 47s/epoch - 134ms/step\n",
            "Epoch 7/30\n",
            "353/353 - 47s - loss: 10.7225 - 47s/epoch - 134ms/step\n",
            "Epoch 8/30\n",
            "353/353 - 47s - loss: 10.7220 - 47s/epoch - 134ms/step\n",
            "Epoch 9/30\n",
            "353/353 - 47s - loss: 10.7238 - 47s/epoch - 134ms/step\n",
            "Epoch 10/30\n",
            "353/353 - 47s - loss: 10.7223 - 47s/epoch - 134ms/step\n",
            "Epoch 11/30\n",
            "353/353 - 47s - loss: 10.7243 - 47s/epoch - 134ms/step\n",
            "Epoch 12/30\n",
            "353/353 - 48s - loss: 10.7245 - 48s/epoch - 135ms/step\n",
            "Epoch 13/30\n",
            "353/353 - 48s - loss: 10.7232 - 48s/epoch - 136ms/step\n",
            "Epoch 14/30\n",
            "353/353 - 48s - loss: 10.7174 - 48s/epoch - 136ms/step\n",
            "Epoch 15/30\n",
            "353/353 - 47s - loss: 10.7235 - 47s/epoch - 134ms/step\n",
            "Epoch 16/30\n",
            "353/353 - 47s - loss: 10.7224 - 47s/epoch - 134ms/step\n",
            "Epoch 17/30\n",
            "353/353 - 47s - loss: 10.7220 - 47s/epoch - 134ms/step\n",
            "Epoch 18/30\n",
            "353/353 - 47s - loss: 10.6822 - 47s/epoch - 134ms/step\n",
            "Epoch 19/30\n",
            "353/353 - 47s - loss: 10.6436 - 47s/epoch - 134ms/step\n",
            "Epoch 20/30\n",
            "353/353 - 48s - loss: 10.6455 - 48s/epoch - 135ms/step\n",
            "Epoch 21/30\n",
            "353/353 - 48s - loss: 10.6612 - 48s/epoch - 135ms/step\n",
            "Epoch 22/30\n",
            "353/353 - 47s - loss: 10.7265 - 47s/epoch - 135ms/step\n",
            "Epoch 23/30\n",
            "353/353 - 48s - loss: 10.7245 - 48s/epoch - 135ms/step\n",
            "Epoch 24/30\n",
            "353/353 - 48s - loss: 10.7250 - 48s/epoch - 135ms/step\n",
            "Epoch 25/30\n",
            "353/353 - 48s - loss: 10.7257 - 48s/epoch - 135ms/step\n",
            "Epoch 26/30\n",
            "353/353 - 48s - loss: 10.7235 - 48s/epoch - 135ms/step\n",
            "Epoch 27/30\n",
            "353/353 - 48s - loss: 10.7237 - 48s/epoch - 135ms/step\n",
            "Epoch 28/30\n",
            "353/353 - 48s - loss: 10.7234 - 48s/epoch - 135ms/step\n",
            "Epoch 29/30\n",
            "353/353 - 48s - loss: 10.7256 - 48s/epoch - 135ms/step\n",
            "Epoch 30/30\n",
            "353/353 - 48s - loss: 10.7239 - 48s/epoch - 135ms/step\n"
          ]
        },
        {
          "data": {
            "image/png": "[encoded data removed]",
            "text/plain": [
              "<Figure size 432x288 with 1 Axes>"
            ]
          },
          "metadata": {},
          "output_type": "display_data"
        },
        {
          "name": "stdout",
          "output_type": "stream",
          "text": [
            "706/706 - 25s - loss: 10.7224 - 25s/epoch - 35ms/step\n",
            "Test loss: 10.722412109375\n",
            "Accuracy: 0.4471505114466634\n",
            "Confusion matrix:\n",
            " [[    0     0  9070]\n",
            " [    0     0  3415]\n",
            " [    0     0 10098]]\n",
            "Precision: 0.4471505114466634\n",
            "Recall: 0.4471505114466634\n",
            "F1 Score: 0.4471505114466634\n",
            "\n",
            "\n",
            "\n"
          ]
        }
      ],
      "source": [
        "from sklearn.model_selection import StratifiedKFold\n",
        "kfold = StratifiedKFold(n_splits=3, shuffle=True, random_state=7)\n",
        "for train, test in kfold.split(X, Y):\n",
        "  function='tanh'\n",
        "  model = Sequential()\n",
        "  model.add(LSTM(100, activation=function, recurrent_activation='sigmoid', return_sequences=True, input_shape=(n_steps_in, n_features)))\n",
        "  model.add(LSTM(100, activation=function, return_sequences=True))\n",
        "  model.add(LSTM(100, activation=function, return_sequences=True))\n",
        "  model.add(LSTM(100, activation=function))\n",
        "  model.add(Dense(n_steps_out))\n",
        "  model.compile(optimizer='adam', loss='mae')\n",
        "  history=model.fit(X[train], Y[train], epochs=30, verbose=2, batch_size=128)\n",
        "\n",
        "  training_loss = history.history['loss']\n",
        "  # Create count of the number of epochs\n",
        "  epoch_count = range(1, len(training_loss) + 1)\n",
        "  # Visualize loss history\n",
        "  plt.plot(epoch_count, training_loss, 'b')\n",
        "  plt.legend(['Training Loss'])\n",
        "  plt.xlabel('Epoch')\n",
        "  plt.ylabel('Loss')\n",
        "  plt.show()\n",
        "  print(\"Test loss:\",model.evaluate(X[test], Y[test], verbose=2))\n",
        "  testPredict = model.predict(X[test])\n",
        "\n",
        "  Y_test_labels=[]\n",
        "  for i in Y[test]:\n",
        "    if i[0]>=0 and i[0]<40:\n",
        "      Y_test_labels.append(\"Anesthesia Deep\")\n",
        "    elif i[0]>=40 and i[0]<60:\n",
        "      Y_test_labels.append(\"Anesthesia Ok\")\n",
        "    elif i[0]>=60 and i[0]<=100:\n",
        "      Y_test_labels.append(\"Anesthesia Light\")\n",
        "    elif i[0]==-1:\n",
        "      Y_test_labels.append(\"Anesthesia Light\")\n",
        "\n",
        "  Y_predict_labels=[]\n",
        "  for i in testPredict:\n",
        "    if i[0]>=0 and i[0]<40:\n",
        "      Y_predict_labels.append(\"Anesthesia Deep\")\n",
        "    elif i[0]>=40 and i[0]<60:\n",
        "      Y_predict_labels.append(\"Anesthesia Ok\")\n",
        "    elif i[0]>=60 and i[0]<=100:\n",
        "      Y_predict_labels.append(\"Anesthesia Light\")\n",
        "\n",
        "  from sklearn import metrics\n",
        "  from sklearn.metrics import confusion_matrix, ConfusionMatrixDisplay\n",
        "  from sklearn.metrics import precision_score, recall_score\n",
        "  from sklearn.metrics import f1_score\n",
        "  Accuracy = metrics.accuracy_score(Y_test_labels,Y_predict_labels)\n",
        "  print(\"Accuracy:\",Accuracy)\n",
        "  print(\"Confusion matrix:\\n\",confusion_matrix(Y_test_labels,Y_predict_labels))\n",
        "  print(\"Precision:\",precision_score(Y_test_labels,Y_predict_labels,average='micro'))\n",
        "  print(\"Recall:\",recall_score(Y_test_labels,Y_predict_labels,average='micro'))\n",
        "  print(\"F1 Score:\",f1_score(Y_test_labels,Y_predict_labels,average='micro'))\n",
        "\n",
        "  print()\n",
        "  print()\n",
        "  print()"
      ]
    },
    {
      "cell_type": "code",
      "execution_count": null,
      "metadata": {
        "colab": {
          "base_uri": "https://localhost:8080/",
          "height": 283
        },
        "id": "uiSNUFTjxxCp",
        "outputId": "73d754a3-586c-49d1-fb9f-16ff963724a0"
      },
      "outputs": [
        {
          "data": {
            "image/png": "[encoded data removed]",
            "text/plain": [
              "<Figure size 432x288 with 2 Axes>"
            ]
          },
          "metadata": {},
          "output_type": "display_data"
        }
      ],
      "source": [
        "import matplotlib.pyplot as plt\n",
        "import numpy\n",
        "from sklearn import metrics\n",
        "a=round(3744/22584,2)\n",
        "b=round(0/22584,2)\n",
        "c=round(5326/22584,2)\n",
        "d=round(397/22584,2)\n",
        "e=round(0/22584,2)\n",
        "f=round(3021/22584,2)\n",
        "g=round(2257/22584,2)\n",
        "h=round(0/22584,2)\n",
        "i=round(7839/22584,2)\n",
        "cm = array([[a,    b, c],\n",
        " [ d,    e, f],\n",
        " [g,h,i]]) # your confusion matrix\n",
        "\n",
        "disp = ConfusionMatrixDisplay(confusion_matrix=cm, display_labels=['A. Deep', 'A. Light', 'A. Ok'])\n",
        "\n",
        "disp.plot(cmap=plt.cm.Blues)\n",
        "plt.show()"
      ]
    },
    {
      "cell_type": "code",
      "execution_count": null,
      "metadata": {
        "colab": {
          "base_uri": "https://localhost:8080/",
          "height": 279
        },
        "id": "GLnymcn0xw8U",
        "outputId": "a2cfe54c-a6e6-484c-836c-e203e7169f73"
      },
      "outputs": [
        {
          "data": {
            "image/png": "[encoded data removed]",
            "text/plain": [
              "<Figure size 432x288 with 2 Axes>"
            ]
          },
          "metadata": {},
          "output_type": "display_data"
        }
      ],
      "source": [
        "import matplotlib.pyplot as plt\n",
        "import numpy\n",
        "from sklearn import metrics\n",
        "a=round(4710/22583,2)\n",
        "b=round(0/22583,2)\n",
        "c=round(4360/22583,2)\n",
        "d=round(758/22583,2)\n",
        "e=round(0/22583,2)\n",
        "f=round(2657/22583,2)\n",
        "g=round(3711/22583,2)\n",
        "h=round(0/22583,2)\n",
        "i=round(6387/22583,2)\n",
        "cm = array([[a,    b, c],\n",
        " [ d,    e, f],\n",
        " [g,h,i]]) # your confusion matrix\n",
        "\n",
        "disp = ConfusionMatrixDisplay(confusion_matrix=cm, display_labels=['A. Deep', 'A. Light', 'A. Ok'])\n",
        "\n",
        "disp.plot(cmap=plt.cm.Blues)\n",
        "plt.show()"
      ]
    },
    {
      "cell_type": "code",
      "execution_count": null,
      "metadata": {
        "colab": {
          "base_uri": "https://localhost:8080/",
          "height": 283
        },
        "id": "eL9sOHG4xwsV",
        "outputId": "91d2f0ea-1790-4580-ff03-5926c66dc767"
      },
      "outputs": [
        {
          "data": {
            "image/png": "[encoded data removed]",
            "text/plain": [
              "<Figure size 432x288 with 2 Axes>"
            ]
          },
          "metadata": {},
          "output_type": "display_data"
        }
      ],
      "source": [
        "import matplotlib.pyplot as plt\n",
        "import numpy\n",
        "from sklearn import metrics\n",
        "a=round(0/22583,2)\n",
        "b=round(0/22583,2)\n",
        "c=round(9070/22583,2)\n",
        "d=round(0/22583,2)\n",
        "e=round(0/22583,2)\n",
        "f=round(3415/22583,2)\n",
        "g=round(0/22583,2)\n",
        "h=round(0/22583,2)\n",
        "i=round(10098/22583,2)\n",
        "cm = array([[a,    b, c],\n",
        " [ d,    e, f],\n",
        " [g,h,i]]) # your confusion matrix\n",
        "\n",
        "disp = ConfusionMatrixDisplay(confusion_matrix=cm, display_labels=['A. Deep', 'A. Light', 'A. Ok'])\n",
        "\n",
        "disp.plot(cmap=plt.cm.Blues)\n",
        "plt.show()"
      ]
    },
    {
      "cell_type": "markdown",
      "metadata": {
        "id": "HaUC6niLZ1JO"
      },
      "source": [
        "**Epochs=30, Batch size=64**"
      ]
    },
    {
      "cell_type": "code",
      "execution_count": null,
      "metadata": {
        "colab": {
          "base_uri": "https://localhost:8080/",
          "height": 1000
        },
        "id": "dQ5Wber48iCM",
        "outputId": "239229ad-2e4f-4ea9-a2bc-da57e8096086"
      },
      "outputs": [
        {
          "name": "stdout",
          "output_type": "stream",
          "text": [
            "Epoch 1/30\n",
            "706/706 - 73s - loss: 14.2746 - 73s/epoch - 103ms/step\n",
            "Epoch 2/30\n",
            "706/706 - 68s - loss: 10.7212 - 68s/epoch - 96ms/step\n",
            "Epoch 3/30\n",
            "706/706 - 68s - loss: 10.7217 - 68s/epoch - 96ms/step\n",
            "Epoch 4/30\n",
            "706/706 - 67s - loss: 10.7231 - 67s/epoch - 95ms/step\n",
            "Epoch 5/30\n",
            "706/706 - 68s - loss: 10.7237 - 68s/epoch - 96ms/step\n",
            "Epoch 6/30\n",
            "706/706 - 68s - loss: 10.7232 - 68s/epoch - 96ms/step\n",
            "Epoch 7/30\n",
            "706/706 - 67s - loss: 10.7702 - 67s/epoch - 95ms/step\n",
            "Epoch 8/30\n",
            "706/706 - 68s - loss: 10.7242 - 68s/epoch - 96ms/step\n",
            "Epoch 9/30\n",
            "706/706 - 68s - loss: 10.7242 - 68s/epoch - 96ms/step\n",
            "Epoch 10/30\n",
            "706/706 - 68s - loss: 10.7237 - 68s/epoch - 96ms/step\n",
            "Epoch 11/30\n",
            "706/706 - 68s - loss: 10.7238 - 68s/epoch - 96ms/step\n",
            "Epoch 12/30\n",
            "706/706 - 68s - loss: 10.7243 - 68s/epoch - 96ms/step\n",
            "Epoch 13/30\n",
            "706/706 - 68s - loss: 10.7242 - 68s/epoch - 97ms/step\n",
            "Epoch 14/30\n",
            "706/706 - 68s - loss: 10.7242 - 68s/epoch - 96ms/step\n",
            "Epoch 15/30\n",
            "706/706 - 68s - loss: 10.7238 - 68s/epoch - 96ms/step\n",
            "Epoch 16/30\n",
            "706/706 - 68s - loss: 10.7250 - 68s/epoch - 97ms/step\n",
            "Epoch 17/30\n",
            "706/706 - 68s - loss: 10.7238 - 68s/epoch - 96ms/step\n",
            "Epoch 18/30\n",
            "706/706 - 68s - loss: 10.7237 - 68s/epoch - 96ms/step\n",
            "Epoch 19/30\n",
            "706/706 - 68s - loss: 10.7232 - 68s/epoch - 96ms/step\n",
            "Epoch 20/30\n",
            "706/706 - 68s - loss: 10.7240 - 68s/epoch - 96ms/step\n",
            "Epoch 21/30\n",
            "706/706 - 68s - loss: 10.7237 - 68s/epoch - 96ms/step\n",
            "Epoch 22/30\n",
            "706/706 - 68s - loss: 10.7243 - 68s/epoch - 96ms/step\n",
            "Epoch 23/30\n",
            "706/706 - 68s - loss: 10.7242 - 68s/epoch - 96ms/step\n",
            "Epoch 24/30\n",
            "706/706 - 68s - loss: 10.7206 - 68s/epoch - 96ms/step\n",
            "Epoch 25/30\n",
            "706/706 - 68s - loss: 10.7256 - 68s/epoch - 96ms/step\n",
            "Epoch 26/30\n",
            "706/706 - 79s - loss: 10.7184 - 79s/epoch - 112ms/step\n",
            "Epoch 27/30\n",
            "706/706 - 75s - loss: 10.7290 - 75s/epoch - 107ms/step\n",
            "Epoch 28/30\n",
            "706/706 - 68s - loss: 10.7206 - 68s/epoch - 96ms/step\n",
            "Epoch 29/30\n",
            "706/706 - 68s - loss: 10.7252 - 68s/epoch - 96ms/step\n",
            "Epoch 30/30\n",
            "706/706 - 68s - loss: 10.7244 - 68s/epoch - 96ms/step\n"
          ]
        },
        {
          "data": {
            "image/png": "[encoded data removed]",
            "text/plain": [
              "<Figure size 432x288 with 1 Axes>"
            ]
          },
          "metadata": {},
          "output_type": "display_data"
        },
        {
          "name": "stdout",
          "output_type": "stream",
          "text": [
            "706/706 - 24s - loss: 10.7291 - 24s/epoch - 34ms/step\n",
            "Test loss: 10.729126930236816\n",
            "Accuracy: 0.44704215373715905\n",
            "Confusion matrix:\n",
            " [[    0     0  9070]\n",
            " [    0     0  3418]\n",
            " [    0     0 10096]]\n",
            "Precision: 0.44704215373715905\n",
            "Recall: 0.44704215373715905\n",
            "F1 Score: 0.44704215373715905\n",
            "\n",
            "\n",
            "\n",
            "Epoch 1/30\n",
            "706/706 - 73s - loss: 14.2685 - 73s/epoch - 104ms/step\n",
            "Epoch 2/30\n",
            "706/706 - 68s - loss: 10.7240 - 68s/epoch - 96ms/step\n",
            "Epoch 3/30\n",
            "706/706 - 68s - loss: 10.7240 - 68s/epoch - 96ms/step\n",
            "Epoch 4/30\n",
            "706/706 - 67s - loss: 10.7259 - 67s/epoch - 96ms/step\n",
            "Epoch 5/30\n",
            "706/706 - 67s - loss: 10.7269 - 67s/epoch - 95ms/step\n",
            "Epoch 6/30\n",
            "706/706 - 67s - loss: 10.7270 - 67s/epoch - 95ms/step\n",
            "Epoch 7/30\n",
            "706/706 - 67s - loss: 10.7251 - 67s/epoch - 95ms/step\n",
            "Epoch 8/30\n",
            "706/706 - 68s - loss: 10.7243 - 68s/epoch - 96ms/step\n",
            "Epoch 9/30\n",
            "706/706 - 68s - loss: 10.7151 - 68s/epoch - 96ms/step\n",
            "Epoch 10/30\n",
            "706/706 - 68s - loss: 10.7275 - 68s/epoch - 96ms/step\n",
            "Epoch 11/30\n",
            "706/706 - 67s - loss: 10.7267 - 67s/epoch - 96ms/step\n",
            "Epoch 12/30\n",
            "706/706 - 67s - loss: 10.7286 - 67s/epoch - 95ms/step\n",
            "Epoch 13/30\n",
            "706/706 - 67s - loss: 10.7263 - 67s/epoch - 95ms/step\n",
            "Epoch 14/30\n",
            "706/706 - 67s - loss: 10.7269 - 67s/epoch - 95ms/step\n",
            "Epoch 15/30\n",
            "706/706 - 67s - loss: 10.7260 - 67s/epoch - 95ms/step\n",
            "Epoch 16/30\n",
            "706/706 - 67s - loss: 10.7274 - 67s/epoch - 95ms/step\n",
            "Epoch 17/30\n",
            "706/706 - 67s - loss: 10.7266 - 67s/epoch - 95ms/step\n",
            "Epoch 18/30\n",
            "706/706 - 67s - loss: 10.7297 - 67s/epoch - 96ms/step\n",
            "Epoch 19/30\n",
            "706/706 - 68s - loss: 10.7287 - 68s/epoch - 96ms/step\n",
            "Epoch 20/30\n",
            "706/706 - 67s - loss: 10.7272 - 67s/epoch - 95ms/step\n",
            "Epoch 21/30\n",
            "706/706 - 67s - loss: 10.7270 - 67s/epoch - 95ms/step\n",
            "Epoch 22/30\n",
            "706/706 - 69s - loss: 10.7279 - 69s/epoch - 98ms/step\n",
            "Epoch 23/30\n",
            "706/706 - 68s - loss: 10.7263 - 68s/epoch - 96ms/step\n",
            "Epoch 24/30\n",
            "706/706 - 68s - loss: 10.7271 - 68s/epoch - 96ms/step\n",
            "Epoch 25/30\n",
            "706/706 - 68s - loss: 10.7269 - 68s/epoch - 96ms/step\n",
            "Epoch 26/30\n",
            "706/706 - 68s - loss: 10.7274 - 68s/epoch - 96ms/step\n",
            "Epoch 27/30\n",
            "706/706 - 68s - loss: 10.7271 - 68s/epoch - 96ms/step\n",
            "Epoch 28/30\n",
            "706/706 - 68s - loss: 10.7273 - 68s/epoch - 96ms/step\n",
            "Epoch 29/30\n",
            "706/706 - 68s - loss: 10.7280 - 68s/epoch - 96ms/step\n",
            "Epoch 30/30\n",
            "706/706 - 67s - loss: 10.7257 - 67s/epoch - 95ms/step\n"
          ]
        },
        {
          "data": {
            "image/png": "[encoded data removed]",
            "text/plain": [
              "<Figure size 432x288 with 1 Axes>"
            ]
          },
          "metadata": {},
          "output_type": "display_data"
        },
        {
          "name": "stdout",
          "output_type": "stream",
          "text": [
            "706/706 - 24s - loss: 10.7187 - 24s/epoch - 34ms/step\n",
            "Test loss: 10.718693733215332\n",
            "Accuracy: 0.4471505114466634\n",
            "Confusion matrix:\n",
            " [[    0     0  9070]\n",
            " [    0     0  3415]\n",
            " [    0     0 10098]]\n",
            "Precision: 0.4471505114466634\n",
            "Recall: 0.4471505114466634\n",
            "F1 Score: 0.4471505114466634\n",
            "\n",
            "\n",
            "\n",
            "Epoch 1/30\n",
            "706/706 - 73s - loss: 14.6508 - 73s/epoch - 104ms/step\n",
            "Epoch 2/30\n",
            "706/706 - 68s - loss: 10.7225 - 68s/epoch - 96ms/step\n",
            "Epoch 3/30\n",
            "706/706 - 67s - loss: 10.7229 - 67s/epoch - 95ms/step\n",
            "Epoch 4/30\n",
            "706/706 - 67s - loss: 10.7238 - 67s/epoch - 96ms/step\n",
            "Epoch 5/30\n",
            "706/706 - 67s - loss: 10.7250 - 67s/epoch - 96ms/step\n",
            "Epoch 6/30\n",
            "706/706 - 67s - loss: 10.7270 - 67s/epoch - 95ms/step\n",
            "Epoch 7/30\n",
            "706/706 - 68s - loss: 10.7248 - 68s/epoch - 96ms/step\n",
            "Epoch 8/30\n",
            "706/706 - 67s - loss: 10.7264 - 67s/epoch - 95ms/step\n",
            "Epoch 9/30\n",
            "706/706 - 67s - loss: 10.7252 - 67s/epoch - 95ms/step\n",
            "Epoch 10/30\n",
            "706/706 - 67s - loss: 10.7262 - 67s/epoch - 95ms/step\n",
            "Epoch 11/30\n",
            "706/706 - 67s - loss: 10.7243 - 67s/epoch - 95ms/step\n",
            "Epoch 12/30\n",
            "706/706 - 67s - loss: 10.7261 - 67s/epoch - 95ms/step\n",
            "Epoch 13/30\n",
            "706/706 - 67s - loss: 10.7269 - 67s/epoch - 95ms/step\n",
            "Epoch 14/30\n",
            "706/706 - 67s - loss: 10.7258 - 67s/epoch - 95ms/step\n",
            "Epoch 15/30\n",
            "706/706 - 67s - loss: 10.7257 - 67s/epoch - 95ms/step\n",
            "Epoch 16/30\n",
            "706/706 - 67s - loss: 10.7249 - 67s/epoch - 95ms/step\n",
            "Epoch 17/30\n",
            "706/706 - 67s - loss: 10.7245 - 67s/epoch - 95ms/step\n",
            "Epoch 18/30\n",
            "706/706 - 67s - loss: 10.7261 - 67s/epoch - 95ms/step\n",
            "Epoch 19/30\n",
            "706/706 - 67s - loss: 10.7256 - 67s/epoch - 95ms/step\n",
            "Epoch 20/30\n",
            "706/706 - 67s - loss: 10.7266 - 67s/epoch - 95ms/step\n",
            "Epoch 21/30\n",
            "706/706 - 67s - loss: 10.7265 - 67s/epoch - 95ms/step\n",
            "Epoch 22/30\n",
            "706/706 - 67s - loss: 10.7257 - 67s/epoch - 95ms/step\n",
            "Epoch 23/30\n",
            "706/706 - 67s - loss: 10.7264 - 67s/epoch - 95ms/step\n",
            "Epoch 24/30\n",
            "706/706 - 67s - loss: 10.7247 - 67s/epoch - 95ms/step\n",
            "Epoch 25/30\n",
            "706/706 - 67s - loss: 10.7237 - 67s/epoch - 95ms/step\n",
            "Epoch 26/30\n",
            "706/706 - 67s - loss: 10.7254 - 67s/epoch - 95ms/step\n",
            "Epoch 27/30\n",
            "706/706 - 67s - loss: 10.9611 - 67s/epoch - 95ms/step\n",
            "Epoch 28/30\n",
            "706/706 - 67s - loss: 10.7153 - 67s/epoch - 96ms/step\n",
            "Epoch 29/30\n",
            "706/706 - 67s - loss: 10.7236 - 67s/epoch - 96ms/step\n",
            "Epoch 30/30\n",
            "706/706 - 67s - loss: 10.6728 - 67s/epoch - 95ms/step\n"
          ]
        },
        {
          "data": {
            "image/png": "[encoded data removed]",
            "text/plain": [
              "<Figure size 432x288 with 1 Axes>"
            ]
          },
          "metadata": {},
          "output_type": "display_data"
        },
        {
          "name": "stdout",
          "output_type": "stream",
          "text": [
            "706/706 - 24s - loss: 10.5938 - 24s/epoch - 34ms/step\n",
            "Test loss: 10.593758583068848\n",
            "Accuracy: 0.4863392817606164\n",
            "Confusion matrix:\n",
            " [[2226    0 6844]\n",
            " [ 255    0 3160]\n",
            " [1341    0 8757]]\n",
            "Precision: 0.4863392817606164\n",
            "Recall: 0.4863392817606164\n",
            "F1 Score: 0.4863392817606164\n",
            "\n",
            "\n",
            "\n"
          ]
        }
      ],
      "source": [
        "from sklearn.model_selection import StratifiedKFold\n",
        "kfold = StratifiedKFold(n_splits=3, shuffle=True, random_state=7)\n",
        "for train, test in kfold.split(X, Y):\n",
        "  function='tanh'\n",
        "  model = Sequential()\n",
        "  model.add(LSTM(100, activation=function, recurrent_activation='sigmoid', return_sequences=True, input_shape=(n_steps_in, n_features)))\n",
        "  model.add(LSTM(100, activation=function, return_sequences=True))\n",
        "  model.add(LSTM(100, activation=function, return_sequences=True))\n",
        "  model.add(LSTM(100, activation=function))\n",
        "  model.add(Dense(n_steps_out))\n",
        "  model.compile(optimizer='adam', loss='mae')\n",
        "  history=model.fit(X[train], Y[train], epochs=30, verbose=2, batch_size=64)\n",
        "\n",
        "  training_loss = history.history['loss']\n",
        "  # Create count of the number of epochs\n",
        "  epoch_count = range(1, len(training_loss) + 1)\n",
        "  # Visualize loss history\n",
        "  plt.plot(epoch_count, training_loss, 'b')\n",
        "  plt.legend(['Training Loss'])\n",
        "  plt.xlabel('Epoch')\n",
        "  plt.ylabel('Loss')\n",
        "  plt.show()\n",
        "  print(\"Test loss:\",model.evaluate(X[test], Y[test], verbose=2))\n",
        "  testPredict = model.predict(X[test])\n",
        "\n",
        "  Y_test_labels=[]\n",
        "  for i in Y[test]:\n",
        "    if i[0]>=0 and i[0]<40:\n",
        "      Y_test_labels.append(\"Anesthesia Deep\")\n",
        "    elif i[0]>=40 and i[0]<60:\n",
        "      Y_test_labels.append(\"Anesthesia Ok\")\n",
        "    elif i[0]>=60 and i[0]<=100:\n",
        "      Y_test_labels.append(\"Anesthesia Light\")\n",
        "    elif i[0]==-1:\n",
        "      Y_test_labels.append(\"Anesthesia Light\")\n",
        "\n",
        "  Y_predict_labels=[]\n",
        "  for i in testPredict:\n",
        "    if i[0]>=0 and i[0]<40:\n",
        "      Y_predict_labels.append(\"Anesthesia Deep\")\n",
        "    elif i[0]>=40 and i[0]<60:\n",
        "      Y_predict_labels.append(\"Anesthesia Ok\")\n",
        "    elif i[0]>=60 and i[0]<=100:\n",
        "      Y_predict_labels.append(\"Anesthesia Light\")\n",
        "\n",
        "  from sklearn import metrics\n",
        "  from sklearn.metrics import confusion_matrix, ConfusionMatrixDisplay\n",
        "  from sklearn.metrics import precision_score, recall_score\n",
        "  from sklearn.metrics import f1_score\n",
        "  Accuracy = metrics.accuracy_score(Y_test_labels,Y_predict_labels)\n",
        "  print(\"Accuracy:\",Accuracy)\n",
        "  print(\"Confusion matrix:\\n\",confusion_matrix(Y_test_labels,Y_predict_labels))\n",
        "  print(\"Precision:\",precision_score(Y_test_labels,Y_predict_labels,average='micro'))\n",
        "  print(\"Recall:\",recall_score(Y_test_labels,Y_predict_labels,average='micro'))\n",
        "  print(\"F1 Score:\",f1_score(Y_test_labels,Y_predict_labels,average='micro'))\n",
        "\n",
        "  print()\n",
        "  print()\n",
        "  print()"
      ]
    },
    {
      "cell_type": "code",
      "execution_count": null,
      "metadata": {
        "colab": {
          "base_uri": "https://localhost:8080/",
          "height": 283
        },
        "id": "t3s6B5jW3Cl5",
        "outputId": "11e5cfd3-e398-4958-ee50-8e6e045f2980"
      },
      "outputs": [
        {
          "data": {
            "image/png": "[encoded data removed]",
            "text/plain": [
              "<Figure size 432x288 with 2 Axes>"
            ]
          },
          "metadata": {},
          "output_type": "display_data"
        }
      ],
      "source": [
        "import matplotlib.pyplot as plt\n",
        "import numpy\n",
        "from sklearn import metrics\n",
        "a=round(0/22584,2)\n",
        "b=round(0/22584,2)\n",
        "c=round(9070/22584,2)\n",
        "d=round(0/22584,2)\n",
        "e=round(0/22584,2)\n",
        "f=round(3418/22584,2)\n",
        "g=round(0/22584,2)\n",
        "h=round(0/22584,2)\n",
        "i=round(10096/22584,2)\n",
        "cm = array([[a,    b, c],\n",
        " [ d,    e, f],\n",
        " [g,h,i]]) # your confusion matrix\n",
        "\n",
        "disp = ConfusionMatrixDisplay(confusion_matrix=cm, display_labels=['A. Deep', 'A. Light', 'A. Ok'])\n",
        "\n",
        "disp.plot(cmap=plt.cm.Blues)\n",
        "plt.show()"
      ]
    },
    {
      "cell_type": "code",
      "execution_count": null,
      "metadata": {
        "colab": {
          "base_uri": "https://localhost:8080/",
          "height": 283
        },
        "id": "sKSFQTYH3CfP",
        "outputId": "968fb96c-6fee-45fe-b453-9c7bc212c9f9"
      },
      "outputs": [
        {
          "data": {
            "image/png": "[encoded data removed]",
            "text/plain": [
              "<Figure size 432x288 with 2 Axes>"
            ]
          },
          "metadata": {},
          "output_type": "display_data"
        }
      ],
      "source": [
        "import matplotlib.pyplot as plt\n",
        "import numpy\n",
        "from sklearn import metrics\n",
        "a=round(0/22583,2)\n",
        "b=round(0/22583,2)\n",
        "c=round(9070/22583,2)\n",
        "d=round(0/22583,2)\n",
        "e=round(0/22583,2)\n",
        "f=round(3415/22583,2)\n",
        "g=round(0/22583,2)\n",
        "h=round(0/22583,2)\n",
        "i=round(10098/22583,2)\n",
        "cm = array([[a,    b, c],\n",
        " [ d,    e, f],\n",
        " [g,h,i]]) # your confusion matrix\n",
        "\n",
        "disp = ConfusionMatrixDisplay(confusion_matrix=cm, display_labels=['A. Deep', 'A. Light', 'A. Ok'])\n",
        "\n",
        "disp.plot(cmap=plt.cm.Blues)\n",
        "plt.show()"
      ]
    },
    {
      "cell_type": "code",
      "execution_count": null,
      "metadata": {
        "colab": {
          "base_uri": "https://localhost:8080/",
          "height": 279
        },
        "id": "ZX3gSiB23CVf",
        "outputId": "e32aa987-8816-4b5c-a50d-457a77bc0b9e"
      },
      "outputs": [
        {
          "data": {
            "image/png": "[encoded data removed]",
            "text/plain": [
              "<Figure size 432x288 with 2 Axes>"
            ]
          },
          "metadata": {},
          "output_type": "display_data"
        }
      ],
      "source": [
        "import matplotlib.pyplot as plt\n",
        "import numpy\n",
        "from sklearn import metrics\n",
        "a=round(2226/22583,2)\n",
        "b=round(0/22583,2)\n",
        "c=round(6844/22583,2)\n",
        "d=round(255/22583,2)\n",
        "e=round(0/22583,2)\n",
        "f=round(3160/22583,2)\n",
        "g=round(1341/22583,2)\n",
        "h=round(0/22583,2)\n",
        "i=round(8757/22583,2)\n",
        "cm = array([[a,    b, c],\n",
        " [ d,    e, f],\n",
        " [g,h,i]]) # your confusion matrix\n",
        "\n",
        "disp = ConfusionMatrixDisplay(confusion_matrix=cm, display_labels=['A. Deep', 'A. Light', 'A. Ok'])\n",
        "\n",
        "disp.plot(cmap=plt.cm.Blues)\n",
        "plt.show()"
      ]
    },
    {
      "cell_type": "markdown",
      "metadata": {
        "id": "DMeFCJAJaA9f"
      },
      "source": [
        "**Epochs=30, Batch size=256**"
      ]
    },
    {
      "cell_type": "code",
      "execution_count": null,
      "metadata": {
        "colab": {
          "background_save": true,
          "base_uri": "https://localhost:8080/",
          "height": 1000
        },
        "id": "_-vUIWBFOpZF",
        "outputId": "2f5c0a51-14c0-4191-cebd-3f15f6b499d9"
      },
      "outputs": [
        {
          "name": "stdout",
          "output_type": "stream",
          "text": [
            "Epoch 1/30\n",
            "177/177 - 48s - loss: 23.4147 - 48s/epoch - 268ms/step\n",
            "Epoch 2/30\n",
            "177/177 - 35s - loss: 12.0353 - 35s/epoch - 197ms/step\n",
            "Epoch 3/30\n",
            "177/177 - 35s - loss: 10.7346 - 35s/epoch - 196ms/step\n",
            "Epoch 4/30\n",
            "177/177 - 35s - loss: 10.7190 - 35s/epoch - 199ms/step\n",
            "Epoch 5/30\n",
            "177/177 - 35s - loss: 10.7192 - 35s/epoch - 198ms/step\n",
            "Epoch 6/30\n",
            "177/177 - 37s - loss: 10.7193 - 37s/epoch - 208ms/step\n",
            "Epoch 7/30\n",
            "177/177 - 35s - loss: 10.7192 - 35s/epoch - 198ms/step\n",
            "Epoch 8/30\n",
            "177/177 - 35s - loss: 10.7198 - 35s/epoch - 199ms/step\n",
            "Epoch 9/30\n",
            "177/177 - 35s - loss: 10.7197 - 35s/epoch - 198ms/step\n",
            "Epoch 10/30\n",
            "177/177 - 35s - loss: 10.7193 - 35s/epoch - 197ms/step\n",
            "Epoch 11/30\n",
            "177/177 - 35s - loss: 10.7195 - 35s/epoch - 197ms/step\n",
            "Epoch 12/30\n",
            "177/177 - 35s - loss: 10.7201 - 35s/epoch - 197ms/step\n",
            "Epoch 13/30\n",
            "177/177 - 35s - loss: 10.7197 - 35s/epoch - 198ms/step\n",
            "Epoch 14/30\n",
            "177/177 - 35s - loss: 10.7198 - 35s/epoch - 198ms/step\n",
            "Epoch 15/30\n",
            "177/177 - 35s - loss: 10.7201 - 35s/epoch - 197ms/step\n",
            "Epoch 16/30\n",
            "177/177 - 35s - loss: 10.7199 - 35s/epoch - 197ms/step\n",
            "Epoch 17/30\n",
            "177/177 - 35s - loss: 10.7202 - 35s/epoch - 198ms/step\n",
            "Epoch 18/30\n",
            "177/177 - 35s - loss: 10.7197 - 35s/epoch - 198ms/step\n",
            "Epoch 19/30\n",
            "177/177 - 35s - loss: 10.7197 - 35s/epoch - 198ms/step\n",
            "Epoch 20/30\n",
            "177/177 - 35s - loss: 10.7210 - 35s/epoch - 198ms/step\n",
            "Epoch 21/30\n",
            "177/177 - 35s - loss: 10.7209 - 35s/epoch - 198ms/step\n",
            "Epoch 22/30\n",
            "177/177 - 35s - loss: 10.7212 - 35s/epoch - 197ms/step\n",
            "Epoch 23/30\n",
            "177/177 - 35s - loss: 10.7206 - 35s/epoch - 198ms/step\n",
            "Epoch 24/30\n",
            "177/177 - 35s - loss: 10.7212 - 35s/epoch - 198ms/step\n",
            "Epoch 25/30\n",
            "177/177 - 35s - loss: 10.7208 - 35s/epoch - 198ms/step\n",
            "Epoch 26/30\n",
            "177/177 - 35s - loss: 10.7208 - 35s/epoch - 198ms/step\n",
            "Epoch 27/30\n",
            "177/177 - 35s - loss: 10.7227 - 35s/epoch - 198ms/step\n",
            "Epoch 28/30\n",
            "177/177 - 35s - loss: 10.7224 - 35s/epoch - 198ms/step\n",
            "Epoch 29/30\n",
            "177/177 - 35s - loss: 10.7207 - 35s/epoch - 199ms/step\n",
            "Epoch 30/30\n",
            "177/177 - 35s - loss: 10.7204 - 35s/epoch - 199ms/step\n"
          ]
        },
        {
          "data": {
            "image/png": "[encoded data removed]",
            "text/plain": [
              "<Figure size 432x288 with 1 Axes>"
            ]
          },
          "metadata": {},
          "output_type": "display_data"
        },
        {
          "name": "stdout",
          "output_type": "stream",
          "text": [
            "706/706 - 24s - loss: 10.7248 - 24s/epoch - 34ms/step\n",
            "Test loss: 10.724757194519043\n",
            "Accuracy: 0.44704215373715905\n",
            "Confusion matrix:\n",
            " [[    0     0  9070]\n",
            " [    0     0  3418]\n",
            " [    0     0 10096]]\n",
            "Precision: 0.44704215373715905\n",
            "Recall: 0.44704215373715905\n",
            "F1 Score: 0.44704215373715905\n",
            "\n",
            "\n",
            "\n",
            "Epoch 1/30\n",
            "177/177 - 41s - loss: 24.1097 - 41s/epoch - 232ms/step\n",
            "Epoch 2/30\n",
            "177/177 - 35s - loss: 12.2761 - 35s/epoch - 197ms/step\n",
            "Epoch 3/30\n",
            "177/177 - 35s - loss: 10.7442 - 35s/epoch - 197ms/step\n",
            "Epoch 4/30\n",
            "177/177 - 35s - loss: 10.7217 - 35s/epoch - 197ms/step\n",
            "Epoch 5/30\n",
            "177/177 - 35s - loss: 10.7218 - 35s/epoch - 197ms/step\n",
            "Epoch 6/30\n",
            "177/177 - 35s - loss: 10.7222 - 35s/epoch - 197ms/step\n",
            "Epoch 7/30\n",
            "177/177 - 35s - loss: 10.7219 - 35s/epoch - 197ms/step\n",
            "Epoch 8/30\n",
            "177/177 - 35s - loss: 10.7221 - 35s/epoch - 197ms/step\n",
            "Epoch 9/30\n",
            "177/177 - 35s - loss: 10.7224 - 35s/epoch - 197ms/step\n",
            "Epoch 10/30\n",
            "177/177 - 35s - loss: 10.7226 - 35s/epoch - 197ms/step\n",
            "Epoch 11/30\n",
            "177/177 - 35s - loss: 10.7222 - 35s/epoch - 197ms/step\n",
            "Epoch 12/30\n",
            "177/177 - 35s - loss: 10.7227 - 35s/epoch - 197ms/step\n",
            "Epoch 13/30\n",
            "177/177 - 35s - loss: 10.7231 - 35s/epoch - 197ms/step\n",
            "Epoch 14/30\n",
            "177/177 - 35s - loss: 10.7224 - 35s/epoch - 197ms/step\n",
            "Epoch 15/30\n",
            "177/177 - 35s - loss: 10.7225 - 35s/epoch - 197ms/step\n",
            "Epoch 16/30\n",
            "177/177 - 35s - loss: 10.7222 - 35s/epoch - 197ms/step\n",
            "Epoch 17/30\n",
            "177/177 - 35s - loss: 10.7223 - 35s/epoch - 197ms/step\n",
            "Epoch 18/30\n",
            "177/177 - 35s - loss: 10.7230 - 35s/epoch - 197ms/step\n",
            "Epoch 19/30\n",
            "177/177 - 35s - loss: 10.7234 - 35s/epoch - 197ms/step\n",
            "Epoch 20/30\n",
            "177/177 - 35s - loss: 10.7227 - 35s/epoch - 197ms/step\n",
            "Epoch 21/30\n",
            "177/177 - 35s - loss: 10.7237 - 35s/epoch - 197ms/step\n",
            "Epoch 22/30\n",
            "177/177 - 35s - loss: 10.7234 - 35s/epoch - 197ms/step\n",
            "Epoch 23/30\n",
            "177/177 - 35s - loss: 10.7237 - 35s/epoch - 197ms/step\n",
            "Epoch 24/30\n",
            "177/177 - 35s - loss: 10.7229 - 35s/epoch - 199ms/step\n",
            "Epoch 25/30\n",
            "177/177 - 35s - loss: 10.7226 - 35s/epoch - 199ms/step\n",
            "Epoch 26/30\n",
            "177/177 - 35s - loss: 10.7235 - 35s/epoch - 200ms/step\n",
            "Epoch 27/30\n",
            "177/177 - 35s - loss: 10.7311 - 35s/epoch - 199ms/step\n",
            "Epoch 28/30\n",
            "177/177 - 35s - loss: 10.7225 - 35s/epoch - 199ms/step\n",
            "Epoch 29/30\n",
            "177/177 - 35s - loss: 10.7243 - 35s/epoch - 197ms/step\n",
            "Epoch 30/30\n",
            "177/177 - 35s - loss: 10.6921 - 35s/epoch - 198ms/step\n"
          ]
        },
        {
          "data": {
            "image/png": "[encoded data removed]",
            "text/plain": [
              "<Figure size 432x288 with 1 Axes>"
            ]
          },
          "metadata": {},
          "output_type": "display_data"
        },
        {
          "name": "stdout",
          "output_type": "stream",
          "text": [
            "706/706 - 24s - loss: 10.6132 - 24s/epoch - 34ms/step\n",
            "Test loss: 10.61317253112793\n",
            "Accuracy: 0.48191117212062173\n",
            "Confusion matrix:\n",
            " [[1510    0 7560]\n",
            " [ 141    0 3274]\n",
            " [ 725    0 9373]]\n",
            "Precision: 0.48191117212062173\n",
            "Recall: 0.48191117212062173\n",
            "F1 Score: 0.48191117212062173\n",
            "\n",
            "\n",
            "\n",
            "Epoch 1/30\n",
            "177/177 - 41s - loss: 23.2385 - 41s/epoch - 231ms/step\n",
            "Epoch 2/30\n",
            "177/177 - 35s - loss: 11.9474 - 35s/epoch - 199ms/step\n",
            "Epoch 3/30\n",
            "177/177 - 35s - loss: 10.7341 - 35s/epoch - 198ms/step\n",
            "Epoch 4/30\n",
            "177/177 - 35s - loss: 10.7204 - 35s/epoch - 198ms/step\n",
            "Epoch 5/30\n",
            "177/177 - 35s - loss: 10.7212 - 35s/epoch - 198ms/step\n",
            "Epoch 6/30\n",
            "177/177 - 35s - loss: 10.7207 - 35s/epoch - 198ms/step\n",
            "Epoch 7/30\n",
            "177/177 - 35s - loss: 10.7206 - 35s/epoch - 198ms/step\n",
            "Epoch 8/30\n",
            "177/177 - 35s - loss: 10.7211 - 35s/epoch - 198ms/step\n",
            "Epoch 9/30\n",
            "177/177 - 35s - loss: 10.7212 - 35s/epoch - 198ms/step\n",
            "Epoch 10/30\n",
            "177/177 - 35s - loss: 10.7212 - 35s/epoch - 198ms/step\n",
            "Epoch 11/30\n",
            "177/177 - 35s - loss: 10.7214 - 35s/epoch - 197ms/step\n",
            "Epoch 12/30\n",
            "177/177 - 35s - loss: 10.7223 - 35s/epoch - 198ms/step\n",
            "Epoch 13/30\n",
            "177/177 - 35s - loss: 10.7215 - 35s/epoch - 198ms/step\n",
            "Epoch 14/30\n",
            "177/177 - 35s - loss: 10.7214 - 35s/epoch - 198ms/step\n",
            "Epoch 15/30\n",
            "177/177 - 35s - loss: 10.7227 - 35s/epoch - 198ms/step\n",
            "Epoch 16/30\n",
            "177/177 - 35s - loss: 10.7216 - 35s/epoch - 198ms/step\n",
            "Epoch 17/30\n",
            "177/177 - 35s - loss: 10.7214 - 35s/epoch - 198ms/step\n",
            "Epoch 18/30\n",
            "177/177 - 35s - loss: 10.7211 - 35s/epoch - 198ms/step\n",
            "Epoch 19/30\n",
            "177/177 - 35s - loss: 10.7232 - 35s/epoch - 198ms/step\n",
            "Epoch 20/30\n",
            "177/177 - 35s - loss: 10.7224 - 35s/epoch - 198ms/step\n",
            "Epoch 21/30\n",
            "177/177 - 35s - loss: 10.7215 - 35s/epoch - 198ms/step\n",
            "Epoch 22/30\n",
            "177/177 - 35s - loss: 10.7234 - 35s/epoch - 199ms/step\n",
            "Epoch 23/30\n",
            "177/177 - 35s - loss: 10.7223 - 35s/epoch - 199ms/step\n",
            "Epoch 24/30\n",
            "177/177 - 35s - loss: 10.7222 - 35s/epoch - 199ms/step\n",
            "Epoch 25/30\n",
            "177/177 - 35s - loss: 10.7225 - 35s/epoch - 199ms/step\n",
            "Epoch 26/30\n",
            "177/177 - 35s - loss: 10.7215 - 35s/epoch - 200ms/step\n",
            "Epoch 27/30\n",
            "177/177 - 35s - loss: 10.7223 - 35s/epoch - 199ms/step\n",
            "Epoch 28/30\n",
            "177/177 - 35s - loss: 10.7213 - 35s/epoch - 200ms/step\n",
            "Epoch 29/30\n",
            "177/177 - 35s - loss: 10.8007 - 35s/epoch - 200ms/step\n",
            "Epoch 30/30\n",
            "177/177 - 35s - loss: 10.7259 - 35s/epoch - 199ms/step\n"
          ]
        },
        {
          "data": {
            "image/png": "[encoded data removed]",
            "text/plain": [
              "<Figure size 432x288 with 1 Axes>"
            ]
          },
          "metadata": {},
          "output_type": "display_data"
        },
        {
          "name": "stdout",
          "output_type": "stream",
          "text": [
            "706/706 - 24s - loss: 10.7203 - 24s/epoch - 34ms/step\n",
            "Test loss: 10.720321655273438\n",
            "Accuracy: 0.4471505114466634\n",
            "Confusion matrix:\n",
            " [[    0     0  9070]\n",
            " [    0     0  3415]\n",
            " [    0     0 10098]]\n",
            "Precision: 0.4471505114466634\n",
            "Recall: 0.4471505114466634\n",
            "F1 Score: 0.4471505114466634\n",
            "\n",
            "\n",
            "\n"
          ]
        }
      ],
      "source": [
        "from sklearn.model_selection import StratifiedKFold\n",
        "kfold = StratifiedKFold(n_splits=3, shuffle=True, random_state=7)\n",
        "for train, test in kfold.split(X, Y):\n",
        "  function='tanh'\n",
        "  model = Sequential()\n",
        "  model.add(LSTM(100, activation=function, recurrent_activation='sigmoid', return_sequences=True, input_shape=(n_steps_in, n_features)))\n",
        "  model.add(LSTM(100, activation=function, return_sequences=True))\n",
        "  model.add(LSTM(100, activation=function, return_sequences=True))\n",
        "  model.add(LSTM(100, activation=function))\n",
        "  model.add(Dense(n_steps_out))\n",
        "  model.compile(optimizer='adam', loss='mae')\n",
        "  history=model.fit(X[train], Y[train], epochs=30, verbose=2, batch_size=256)\n",
        "\n",
        "  training_loss = history.history['loss']\n",
        "  # Create count of the number of epochs\n",
        "  epoch_count = range(1, len(training_loss) + 1)\n",
        "  # Visualize loss history\n",
        "  plt.plot(epoch_count, training_loss, 'b')\n",
        "  plt.legend(['Training Loss'])\n",
        "  plt.xlabel('Epoch')\n",
        "  plt.ylabel('Loss')\n",
        "  plt.show()\n",
        "  print(\"Test loss:\",model.evaluate(X[test], Y[test], verbose=2))\n",
        "  testPredict = model.predict(X[test])\n",
        "\n",
        "  Y_test_labels=[]\n",
        "  for i in Y[test]:\n",
        "    if i[0]>=0 and i[0]<40:\n",
        "      Y_test_labels.append(\"Anesthesia Deep\")\n",
        "    elif i[0]>=40 and i[0]<60:\n",
        "      Y_test_labels.append(\"Anesthesia Ok\")\n",
        "    elif i[0]>=60 and i[0]<=100:\n",
        "      Y_test_labels.append(\"Anesthesia Light\")\n",
        "    elif i[0]==-1:\n",
        "      Y_test_labels.append(\"Anesthesia Light\")\n",
        "\n",
        "  Y_predict_labels=[]\n",
        "  for i in testPredict:\n",
        "    if i[0]>=0 and i[0]<40:\n",
        "      Y_predict_labels.append(\"Anesthesia Deep\")\n",
        "    elif i[0]>=40 and i[0]<60:\n",
        "      Y_predict_labels.append(\"Anesthesia Ok\")\n",
        "    elif i[0]>=60 and i[0]<=100:\n",
        "      Y_predict_labels.append(\"Anesthesia Light\")\n",
        "\n",
        "  from sklearn import metrics\n",
        "  from sklearn.metrics import confusion_matrix, ConfusionMatrixDisplay\n",
        "  from sklearn.metrics import precision_score, recall_score\n",
        "  from sklearn.metrics import f1_score\n",
        "  Accuracy = metrics.accuracy_score(Y_test_labels,Y_predict_labels)\n",
        "  print(\"Accuracy:\",Accuracy)\n",
        "  print(\"Confusion matrix:\\n\",confusion_matrix(Y_test_labels,Y_predict_labels))\n",
        "  print(\"Precision:\",precision_score(Y_test_labels,Y_predict_labels,average='micro'))\n",
        "  print(\"Recall:\",recall_score(Y_test_labels,Y_predict_labels,average='micro'))\n",
        "  print(\"F1 Score:\",f1_score(Y_test_labels,Y_predict_labels,average='micro'))\n",
        "\n",
        "  print()\n",
        "  print()\n",
        "  print()"
      ]
    },
    {
      "cell_type": "code",
      "execution_count": null,
      "metadata": {
        "colab": {
          "base_uri": "https://localhost:8080/",
          "height": 283
        },
        "id": "24Wr7oT_3EBZ",
        "outputId": "b89846e5-4f35-49bf-d415-2f75a6dfd00d"
      },
      "outputs": [
        {
          "data": {
            "image/png": "[encoded data removed]",
            "text/plain": [
              "<Figure size 432x288 with 2 Axes>"
            ]
          },
          "metadata": {},
          "output_type": "display_data"
        }
      ],
      "source": [
        "import matplotlib.pyplot as plt\n",
        "import numpy\n",
        "from sklearn import metrics\n",
        "a=round(0/22584,2)\n",
        "b=round(0/22584,2)\n",
        "c=round(9070/22584,2)\n",
        "d=round(0/22584,2)\n",
        "e=round(0/22584,2)\n",
        "f=round(3418/22584,2)\n",
        "g=round(0/22584,2)\n",
        "h=round(0/22584,2)\n",
        "i=round(10096/22584,2)\n",
        "cm = array([[a,    b, c],\n",
        " [ d,    e, f],\n",
        " [g,h,i]]) # your confusion matrix\n",
        "\n",
        "disp = ConfusionMatrixDisplay(confusion_matrix=cm, display_labels=['A. Deep', 'A. Light', 'A. Ok'])\n",
        "\n",
        "disp.plot(cmap=plt.cm.Blues)\n",
        "plt.show()"
      ]
    },
    {
      "cell_type": "code",
      "execution_count": null,
      "metadata": {
        "colab": {
          "base_uri": "https://localhost:8080/",
          "height": 279
        },
        "id": "bCA8CQ_I3D_A",
        "outputId": "29fc960d-0a9a-4d4d-df5c-02740aa13787"
      },
      "outputs": [
        {
          "data": {
            "image/png": "[encoded data removed]",
            "text/plain": [
              "<Figure size 432x288 with 2 Axes>"
            ]
          },
          "metadata": {},
          "output_type": "display_data"
        }
      ],
      "source": [
        "import matplotlib.pyplot as plt\n",
        "import numpy\n",
        "from sklearn import metrics\n",
        "a=round(1510/22583,2)\n",
        "b=round(0/22583,2)\n",
        "c=round(7560/22583,2)\n",
        "d=round(141/22583,2)\n",
        "e=round(0/22583,2)\n",
        "f=round(3247/22583,2)\n",
        "g=round(725/22583,2)\n",
        "h=round(0/22583,2)\n",
        "i=round(9373/22583,2)\n",
        "cm = array([[a,    b, c],\n",
        " [ d,    e, f],\n",
        " [g,h,i]]) # your confusion matrix\n",
        "\n",
        "disp = ConfusionMatrixDisplay(confusion_matrix=cm, display_labels=['A. Deep', 'A. Light', 'A. Ok'])\n",
        "\n",
        "disp.plot(cmap=plt.cm.Blues)\n",
        "plt.show()"
      ]
    },
    {
      "cell_type": "code",
      "execution_count": null,
      "metadata": {
        "colab": {
          "base_uri": "https://localhost:8080/",
          "height": 283
        },
        "id": "pkqXOtkH3D8q",
        "outputId": "f7c73ca9-e8d4-44b4-c850-82e4a3c7b598"
      },
      "outputs": [
        {
          "data": {
            "image/png": "[encoded data removed]",
            "text/plain": [
              "<Figure size 432x288 with 2 Axes>"
            ]
          },
          "metadata": {},
          "output_type": "display_data"
        }
      ],
      "source": [
        "import matplotlib.pyplot as plt\n",
        "import numpy\n",
        "from sklearn import metrics\n",
        "a=round(0/22583,2)\n",
        "b=round(0/22583,2)\n",
        "c=round(9070/22583,2)\n",
        "d=round(0/22583,2)\n",
        "e=round(0/22583,2)\n",
        "f=round(3415/22583,2)\n",
        "g=round(0/22583,2)\n",
        "h=round(0/22583,2)\n",
        "i=round(10098/22583,2)\n",
        "cm = array([[a,    b, c],\n",
        " [ d,    e, f],\n",
        " [g,h,i]]) # your confusion matrix\n",
        "\n",
        "disp = ConfusionMatrixDisplay(confusion_matrix=cm, display_labels=['A. Deep', 'A. Light', 'A. Ok'])\n",
        "\n",
        "disp.plot(cmap=plt.cm.Blues)\n",
        "plt.show()"
      ]
    },
    {
      "cell_type": "markdown",
      "metadata": {
        "id": "aH_I8W3-C6kv"
      },
      "source": [
        "**Epochs=100, Batch size=128**"
      ]
    },
    {
      "cell_type": "code",
      "execution_count": null,
      "metadata": {
        "colab": {
          "base_uri": "https://localhost:8080/",
          "height": 1000
        },
        "id": "5VBjqPfE8pIA",
        "outputId": "0bf20ef1-949f-4dd9-9afd-fe6f24d1863d"
      },
      "outputs": [
        {
          "name": "stdout",
          "output_type": "stream",
          "text": [
            "Epoch 1/100\n",
            "353/353 - 54s - loss: 17.8235 - 54s/epoch - 152ms/step\n",
            "Epoch 2/100\n",
            "353/353 - 45s - loss: 10.7268 - 45s/epoch - 128ms/step\n",
            "Epoch 3/100\n",
            "353/353 - 45s - loss: 10.7197 - 45s/epoch - 128ms/step\n",
            "Epoch 4/100\n",
            "353/353 - 46s - loss: 10.7200 - 46s/epoch - 132ms/step\n",
            "Epoch 5/100\n",
            "353/353 - 46s - loss: 10.7204 - 46s/epoch - 131ms/step\n",
            "Epoch 6/100\n",
            "353/353 - 46s - loss: 10.7207 - 46s/epoch - 132ms/step\n",
            "Epoch 7/100\n",
            "353/353 - 47s - loss: 10.7218 - 47s/epoch - 132ms/step\n",
            "Epoch 8/100\n",
            "353/353 - 47s - loss: 10.7215 - 47s/epoch - 132ms/step\n",
            "Epoch 9/100\n",
            "353/353 - 47s - loss: 10.7211 - 47s/epoch - 133ms/step\n",
            "Epoch 10/100\n",
            "353/353 - 47s - loss: 10.7216 - 47s/epoch - 133ms/step\n",
            "Epoch 11/100\n",
            "353/353 - 47s - loss: 10.7234 - 47s/epoch - 133ms/step\n",
            "Epoch 12/100\n",
            "353/353 - 47s - loss: 10.7224 - 47s/epoch - 133ms/step\n",
            "Epoch 13/100\n",
            "353/353 - 47s - loss: 10.7220 - 47s/epoch - 133ms/step\n",
            "Epoch 14/100\n",
            "353/353 - 47s - loss: 10.7199 - 47s/epoch - 134ms/step\n",
            "Epoch 15/100\n",
            "353/353 - 47s - loss: 10.7211 - 47s/epoch - 134ms/step\n",
            "Epoch 16/100\n",
            "353/353 - 47s - loss: 10.7208 - 47s/epoch - 134ms/step\n",
            "Epoch 17/100\n",
            "353/353 - 47s - loss: 10.7176 - 47s/epoch - 134ms/step\n",
            "Epoch 18/100\n",
            "353/353 - 48s - loss: 10.9001 - 48s/epoch - 135ms/step\n",
            "Epoch 19/100\n",
            "353/353 - 48s - loss: 10.7136 - 48s/epoch - 136ms/step\n",
            "Epoch 20/100\n",
            "353/353 - 48s - loss: 10.6713 - 48s/epoch - 136ms/step\n",
            "Epoch 21/100\n",
            "353/353 - 48s - loss: 10.6566 - 48s/epoch - 136ms/step\n",
            "Epoch 22/100\n",
            "353/353 - 48s - loss: 10.6814 - 48s/epoch - 136ms/step\n",
            "Epoch 23/100\n",
            "353/353 - 48s - loss: 10.7011 - 48s/epoch - 135ms/step\n",
            "Epoch 24/100\n",
            "353/353 - 48s - loss: 10.6940 - 48s/epoch - 135ms/step\n",
            "Epoch 25/100\n",
            "353/353 - 48s - loss: 10.6571 - 48s/epoch - 136ms/step\n",
            "Epoch 26/100\n",
            "353/353 - 48s - loss: 10.6399 - 48s/epoch - 136ms/step\n",
            "Epoch 27/100\n",
            "353/353 - 48s - loss: 10.6242 - 48s/epoch - 136ms/step\n",
            "Epoch 28/100\n",
            "353/353 - 48s - loss: 10.6555 - 48s/epoch - 136ms/step\n",
            "Epoch 29/100\n",
            "353/353 - 48s - loss: 10.6239 - 48s/epoch - 135ms/step\n",
            "Epoch 30/100\n",
            "353/353 - 48s - loss: 10.6393 - 48s/epoch - 136ms/step\n",
            "Epoch 31/100\n",
            "353/353 - 48s - loss: 10.5296 - 48s/epoch - 136ms/step\n",
            "Epoch 32/100\n",
            "353/353 - 48s - loss: 10.5346 - 48s/epoch - 136ms/step\n",
            "Epoch 33/100\n",
            "353/353 - 48s - loss: 10.5007 - 48s/epoch - 135ms/step\n",
            "Epoch 34/100\n",
            "353/353 - 48s - loss: 10.4905 - 48s/epoch - 136ms/step\n",
            "Epoch 35/100\n",
            "353/353 - 48s - loss: 10.4430 - 48s/epoch - 136ms/step\n",
            "Epoch 36/100\n",
            "353/353 - 48s - loss: 10.4392 - 48s/epoch - 136ms/step\n",
            "Epoch 37/100\n",
            "353/353 - 48s - loss: 10.5404 - 48s/epoch - 135ms/step\n",
            "Epoch 38/100\n",
            "353/353 - 48s - loss: 10.5704 - 48s/epoch - 136ms/step\n",
            "Epoch 39/100\n",
            "353/353 - 48s - loss: 10.5792 - 48s/epoch - 135ms/step\n",
            "Epoch 40/100\n",
            "353/353 - 48s - loss: 10.5069 - 48s/epoch - 136ms/step\n",
            "Epoch 41/100\n",
            "353/353 - 48s - loss: 10.4685 - 48s/epoch - 136ms/step\n",
            "Epoch 42/100\n",
            "353/353 - 48s - loss: 10.4827 - 48s/epoch - 136ms/step\n",
            "Epoch 43/100\n",
            "353/353 - 48s - loss: 10.4111 - 48s/epoch - 136ms/step\n",
            "Epoch 44/100\n",
            "353/353 - 48s - loss: 10.3820 - 48s/epoch - 136ms/step\n",
            "Epoch 45/100\n",
            "353/353 - 48s - loss: 10.5141 - 48s/epoch - 136ms/step\n",
            "Epoch 46/100\n",
            "353/353 - 48s - loss: 10.3575 - 48s/epoch - 136ms/step\n",
            "Epoch 47/100\n",
            "353/353 - 48s - loss: 10.4035 - 48s/epoch - 136ms/step\n",
            "Epoch 48/100\n",
            "353/353 - 48s - loss: 10.3380 - 48s/epoch - 135ms/step\n",
            "Epoch 49/100\n",
            "353/353 - 48s - loss: 10.3401 - 48s/epoch - 136ms/step\n",
            "Epoch 50/100\n",
            "353/353 - 48s - loss: 10.2586 - 48s/epoch - 135ms/step\n",
            "Epoch 51/100\n",
            "353/353 - 48s - loss: 10.2667 - 48s/epoch - 136ms/step\n",
            "Epoch 52/100\n",
            "353/353 - 48s - loss: 10.5151 - 48s/epoch - 136ms/step\n",
            "Epoch 53/100\n",
            "353/353 - 48s - loss: 10.4116 - 48s/epoch - 136ms/step\n",
            "Epoch 54/100\n",
            "353/353 - 48s - loss: 10.3823 - 48s/epoch - 136ms/step\n",
            "Epoch 55/100\n",
            "353/353 - 48s - loss: 10.2839 - 48s/epoch - 136ms/step\n",
            "Epoch 56/100\n",
            "353/353 - 48s - loss: 10.2741 - 48s/epoch - 136ms/step\n",
            "Epoch 57/100\n",
            "353/353 - 48s - loss: 10.5994 - 48s/epoch - 136ms/step\n",
            "Epoch 58/100\n",
            "353/353 - 48s - loss: 10.5365 - 48s/epoch - 136ms/step\n",
            "Epoch 59/100\n",
            "353/353 - 48s - loss: 10.5090 - 48s/epoch - 136ms/step\n",
            "Epoch 60/100\n",
            "353/353 - 48s - loss: 10.4860 - 48s/epoch - 136ms/step\n",
            "Epoch 61/100\n",
            "353/353 - 48s - loss: 10.4677 - 48s/epoch - 136ms/step\n",
            "Epoch 62/100\n",
            "353/353 - 48s - loss: 10.4536 - 48s/epoch - 136ms/step\n",
            "Epoch 63/100\n",
            "353/353 - 48s - loss: 10.4776 - 48s/epoch - 136ms/step\n",
            "Epoch 64/100\n",
            "353/353 - 48s - loss: 10.4679 - 48s/epoch - 136ms/step\n",
            "Epoch 65/100\n",
            "353/353 - 48s - loss: 10.4308 - 48s/epoch - 136ms/step\n",
            "Epoch 66/100\n",
            "353/353 - 48s - loss: 10.4569 - 48s/epoch - 136ms/step\n",
            "Epoch 67/100\n",
            "353/353 - 48s - loss: 10.4113 - 48s/epoch - 136ms/step\n",
            "Epoch 68/100\n",
            "353/353 - 48s - loss: 10.4305 - 48s/epoch - 136ms/step\n",
            "Epoch 69/100\n",
            "353/353 - 48s - loss: 10.4089 - 48s/epoch - 136ms/step\n",
            "Epoch 70/100\n",
            "353/353 - 48s - loss: 10.3427 - 48s/epoch - 136ms/step\n",
            "Epoch 71/100\n",
            "353/353 - 48s - loss: 10.3206 - 48s/epoch - 136ms/step\n",
            "Epoch 72/100\n",
            "353/353 - 48s - loss: 10.2692 - 48s/epoch - 136ms/step\n",
            "Epoch 73/100\n",
            "353/353 - 48s - loss: 10.5194 - 48s/epoch - 135ms/step\n",
            "Epoch 74/100\n",
            "353/353 - 48s - loss: 10.4872 - 48s/epoch - 136ms/step\n",
            "Epoch 75/100\n",
            "353/353 - 48s - loss: 10.4367 - 48s/epoch - 135ms/step\n",
            "Epoch 76/100\n",
            "353/353 - 48s - loss: 10.3918 - 48s/epoch - 136ms/step\n",
            "Epoch 77/100\n",
            "353/353 - 48s - loss: 10.3797 - 48s/epoch - 136ms/step\n",
            "Epoch 78/100\n",
            "353/353 - 48s - loss: 10.4038 - 48s/epoch - 135ms/step\n",
            "Epoch 79/100\n",
            "353/353 - 48s - loss: 10.4400 - 48s/epoch - 136ms/step\n",
            "Epoch 80/100\n",
            "353/353 - 48s - loss: 10.3809 - 48s/epoch - 135ms/step\n",
            "Epoch 81/100\n",
            "353/353 - 48s - loss: 10.3798 - 48s/epoch - 136ms/step\n",
            "Epoch 82/100\n",
            "353/353 - 48s - loss: 10.3421 - 48s/epoch - 135ms/step\n",
            "Epoch 83/100\n",
            "353/353 - 48s - loss: 10.3153 - 48s/epoch - 135ms/step\n",
            "Epoch 84/100\n",
            "353/353 - 48s - loss: 10.2786 - 48s/epoch - 136ms/step\n",
            "Epoch 85/100\n",
            "353/353 - 48s - loss: 10.1993 - 48s/epoch - 135ms/step\n",
            "Epoch 86/100\n",
            "353/353 - 48s - loss: 10.2262 - 48s/epoch - 136ms/step\n",
            "Epoch 87/100\n",
            "353/353 - 48s - loss: 10.1793 - 48s/epoch - 135ms/step\n",
            "Epoch 88/100\n",
            "353/353 - 48s - loss: 10.5514 - 48s/epoch - 135ms/step\n",
            "Epoch 89/100\n",
            "353/353 - 48s - loss: 10.4414 - 48s/epoch - 135ms/step\n",
            "Epoch 90/100\n",
            "353/353 - 48s - loss: 10.4023 - 48s/epoch - 136ms/step\n",
            "Epoch 91/100\n",
            "353/353 - 48s - loss: 10.3887 - 48s/epoch - 136ms/step\n",
            "Epoch 92/100\n",
            "353/353 - 48s - loss: 10.4573 - 48s/epoch - 135ms/step\n",
            "Epoch 93/100\n",
            "353/353 - 48s - loss: 10.6428 - 48s/epoch - 136ms/step\n",
            "Epoch 94/100\n",
            "353/353 - 48s - loss: 10.5984 - 48s/epoch - 135ms/step\n",
            "Epoch 95/100\n",
            "353/353 - 48s - loss: 10.6213 - 48s/epoch - 135ms/step\n",
            "Epoch 96/100\n",
            "353/353 - 48s - loss: 10.5970 - 48s/epoch - 135ms/step\n",
            "Epoch 97/100\n",
            "353/353 - 48s - loss: 10.6260 - 48s/epoch - 135ms/step\n",
            "Epoch 98/100\n",
            "353/353 - 48s - loss: 10.6201 - 48s/epoch - 136ms/step\n",
            "Epoch 99/100\n",
            "353/353 - 48s - loss: 10.5343 - 48s/epoch - 135ms/step\n",
            "Epoch 100/100\n",
            "353/353 - 48s - loss: 10.5106 - 48s/epoch - 136ms/step\n"
          ]
        },
        {
          "data": {
            "image/png": "[encoded data removed]",
            "text/plain": [
              "<Figure size 432x288 with 1 Axes>"
            ]
          },
          "metadata": {},
          "output_type": "display_data"
        },
        {
          "name": "stdout",
          "output_type": "stream",
          "text": [
            "706/706 - 25s - loss: 10.4515 - 25s/epoch - 35ms/step\n",
            "Test loss: 10.451532363891602\n",
            "Accuracy: 0.5092543393552957\n",
            "Confusion matrix:\n",
            " [[2475    0 6595]\n",
            " [ 200    0 3218]\n",
            " [1070    0 9026]]\n",
            "Precision: 0.5092543393552957\n",
            "Recall: 0.5092543393552957\n",
            "F1 Score: 0.5092543393552957\n",
            "\n",
            "\n",
            "\n",
            "Epoch 1/100\n"
          ]
        }
      ],
      "source": [
        "from sklearn.model_selection import StratifiedKFold\n",
        "kfold = StratifiedKFold(n_splits=3, shuffle=True, random_state=7)\n",
        "for train, test in kfold.split(X, Y):\n",
        "  function='tanh'\n",
        "  model = Sequential()\n",
        "  model.add(LSTM(100, activation=function, recurrent_activation='sigmoid', return_sequences=True, input_shape=(n_steps_in, n_features)))\n",
        "  model.add(LSTM(100, activation=function, return_sequences=True))\n",
        "  model.add(LSTM(100, activation=function, return_sequences=True))\n",
        "  model.add(LSTM(100, activation=function))\n",
        "  model.add(Dense(n_steps_out))\n",
        "  model.compile(optimizer='adam', loss='mae')\n",
        "  history=model.fit(X[train], Y[train], epochs=100, verbose=2, batch_size=128)\n",
        "\n",
        "  training_loss = history.history['loss']\n",
        "  # Create count of the number of epochs\n",
        "  epoch_count = range(1, len(training_loss) + 1)\n",
        "  # Visualize loss history\n",
        "  plt.plot(epoch_count, training_loss, 'b')\n",
        "  plt.legend(['Training Loss'])\n",
        "  plt.xlabel('Epoch')\n",
        "  plt.ylabel('Loss')\n",
        "  plt.show()\n",
        "  print(\"Test loss:\",model.evaluate(X[test], Y[test], verbose=2))\n",
        "  testPredict = model.predict(X[test])\n",
        "\n",
        "  Y_test_labels=[]\n",
        "  for i in Y[test]:\n",
        "    if i[0]>=0 and i[0]<40:\n",
        "      Y_test_labels.append(\"Anesthesia Deep\")\n",
        "    elif i[0]>=40 and i[0]<60:\n",
        "      Y_test_labels.append(\"Anesthesia Ok\")\n",
        "    elif i[0]>=60 and i[0]<=100:\n",
        "      Y_test_labels.append(\"Anesthesia Light\")\n",
        "    elif i[0]==-1:\n",
        "      Y_test_labels.append(\"Anesthesia Light\")\n",
        "\n",
        "  Y_predict_labels=[]\n",
        "  for i in testPredict:\n",
        "    if i[0]>=0 and i[0]<40:\n",
        "      Y_predict_labels.append(\"Anesthesia Deep\")\n",
        "    elif i[0]>=40 and i[0]<60:\n",
        "      Y_predict_labels.append(\"Anesthesia Ok\")\n",
        "    elif i[0]>=60 and i[0]<=100:\n",
        "      Y_predict_labels.append(\"Anesthesia Light\")\n",
        "\n",
        "  from sklearn import metrics\n",
        "  from sklearn.metrics import confusion_matrix, ConfusionMatrixDisplay\n",
        "  from sklearn.metrics import precision_score, recall_score\n",
        "  from sklearn.metrics import f1_score\n",
        "  Accuracy = metrics.accuracy_score(Y_test_labels,Y_predict_labels)\n",
        "  print(\"Accuracy:\",Accuracy)\n",
        "  print(\"Confusion matrix:\\n\",confusion_matrix(Y_test_labels,Y_predict_labels))\n",
        "  print(\"Precision:\",precision_score(Y_test_labels,Y_predict_labels,average='micro'))\n",
        "  print(\"Recall:\",recall_score(Y_test_labels,Y_predict_labels,average='micro'))\n",
        "  print(\"F1 Score:\",f1_score(Y_test_labels,Y_predict_labels,average='micro'))\n",
        "\n",
        "  print()\n",
        "  print()\n",
        "  print()"
      ]
    },
    {
      "cell_type": "markdown",
      "metadata": {
        "id": "GfaamtiPrHlx"
      },
      "source": [
        "# TS fresh based classification"
      ]
    },
    {
      "cell_type": "code",
      "execution_count": null,
      "metadata": {
        "id": "Etn7wWPsrLWq"
      },
      "outputs": [],
      "source": [
        "pip install tsfresh"
      ]
    },
    {
      "cell_type": "code",
      "execution_count": null,
      "metadata": {
        "id": "41WuEAXBzF01",
        "colab": {
          "base_uri": "https://localhost:8080/"
        },
        "outputId": "87e95de0-4f0c-4306-e52a-7bc724e1dee4"
      },
      "outputs": [
        {
          "output_type": "stream",
          "name": "stderr",
          "text": [
            "ERROR:numba.cuda.cudadrv.driver:Call to cuInit results in CUDA_ERROR_NO_DEVICE\n"
          ]
        }
      ],
      "source": [
        "import tsfresh"
      ]
    },
    {
      "cell_type": "code",
      "execution_count": null,
      "metadata": {
        "id": "VlUsM1vPhGcX"
      },
      "outputs": [],
      "source": [
        "df = pd.read_csv('/content/drive/MyDrive/df.csv',index_col=0)"
      ]
    },
    {
      "cell_type": "code",
      "execution_count": null,
      "metadata": {
        "id": "iBDMt3keUxdt"
      },
      "outputs": [],
      "source": [
        "y_tsfresh = pd.read_pickle(\"/content/drive/MyDrive/PATIENTS DATA/y_values.pkl\")"
      ]
    },
    {
      "cell_type": "code",
      "execution_count": null,
      "metadata": {
        "id": "qSTihiVntjtH",
        "colab": {
          "base_uri": "https://localhost:8080/",
          "height": 424
        },
        "outputId": "b17deb38-d84d-4e3d-bcb5-e356865ded85"
      },
      "outputs": [
        {
          "output_type": "execute_result",
          "data": {
            "text/plain": [
              "          value     id\n",
              "0          2572      0\n",
              "1          1261      0\n",
              "2          2211      0\n",
              "3          1294      0\n",
              "4          1392      0\n",
              "...         ...    ...\n",
              "39299195   2048  61404\n",
              "39299196   2048  61404\n",
              "39299197   2048  61404\n",
              "39299198   2048  61404\n",
              "39299199   2048  61404\n",
              "\n",
              "[39299200 rows x 2 columns]"
            ],
            "text/html": [
              "\n",
              "  <div id=\"df-bef48528-b04d-4df7-842c-b67d81f908e9\">\n",
              "    <div class=\"colab-df-container\">\n",
              "      <div>\n",
              "<style scoped>\n",
              "    .dataframe tbody tr th:only-of-type {\n",
              "        vertical-align: middle;\n",
              "    }\n",
              "\n",
              "    .dataframe tbody tr th {\n",
              "        vertical-align: top;\n",
              "    }\n",
              "\n",
              "    .dataframe thead th {\n",
              "        text-align: right;\n",
              "    }\n",
              "</style>\n",
              "<table border=\"1\" class=\"dataframe\">\n",
              "  <thead>\n",
              "    <tr style=\"text-align: right;\">\n",
              "      <th></th>\n",
              "      <th>value</th>\n",
              "      <th>id</th>\n",
              "    </tr>\n",
              "  </thead>\n",
              "  <tbody>\n",
              "    <tr>\n",
              "      <th>0</th>\n",
              "      <td>2572</td>\n",
              "      <td>0</td>\n",
              "    </tr>\n",
              "    <tr>\n",
              "      <th>1</th>\n",
              "      <td>1261</td>\n",
              "      <td>0</td>\n",
              "    </tr>\n",
              "    <tr>\n",
              "      <th>2</th>\n",
              "      <td>2211</td>\n",
              "      <td>0</td>\n",
              "    </tr>\n",
              "    <tr>\n",
              "      <th>3</th>\n",
              "      <td>1294</td>\n",
              "      <td>0</td>\n",
              "    </tr>\n",
              "    <tr>\n",
              "      <th>4</th>\n",
              "      <td>1392</td>\n",
              "      <td>0</td>\n",
              "    </tr>\n",
              "    <tr>\n",
              "      <th>...</th>\n",
              "      <td>...</td>\n",
              "      <td>...</td>\n",
              "    </tr>\n",
              "    <tr>\n",
              "      <th>39299195</th>\n",
              "      <td>2048</td>\n",
              "      <td>61404</td>\n",
              "    </tr>\n",
              "    <tr>\n",
              "      <th>39299196</th>\n",
              "      <td>2048</td>\n",
              "      <td>61404</td>\n",
              "    </tr>\n",
              "    <tr>\n",
              "      <th>39299197</th>\n",
              "      <td>2048</td>\n",
              "      <td>61404</td>\n",
              "    </tr>\n",
              "    <tr>\n",
              "      <th>39299198</th>\n",
              "      <td>2048</td>\n",
              "      <td>61404</td>\n",
              "    </tr>\n",
              "    <tr>\n",
              "      <th>39299199</th>\n",
              "      <td>2048</td>\n",
              "      <td>61404</td>\n",
              "    </tr>\n",
              "  </tbody>\n",
              "</table>\n",
              "<p>39299200 rows × 2 columns</p>\n",
              "</div>\n",
              "      <button class=\"colab-df-convert\" onclick=\"convertToInteractive('df-bef48528-b04d-4df7-842c-b67d81f908e9')\"\n",
              "              title=\"Convert this dataframe to an interactive table.\"\n",
              "              style=\"display:none;\">\n",
              "        \n",
              "  <svg xmlns=\"http://www.w3.org/2000/svg\" height=\"24px\"viewBox=\"0 0 24 24\"\n",
              "       width=\"24px\">\n",
              "    <path d=\"M0 0h24v24H0V0z\" fill=\"none\"/>\n",
              "    <path d=\"M18.56 5.44l.94 2.06.94-2.06 2.06-.94-2.06-.94-.94-2.06-.94 2.06-2.06.94zm-11 1L8.5 8.5l.94-2.06 2.06-.94-2.06-.94L8.5 2.5l-.94 2.06-2.06.94zm10 10l.94 2.06.94-2.06 2.06-.94-2.06-.94-.94-2.06-.94 2.06-2.06.94z\"/><path d=\"M17.41 7.96l-1.37-1.37c-.4-.4-.92-.59-1.43-.59-.52 0-1.04.2-1.43.59L10.3 9.45l-7.72 7.72c-.78.78-.78 2.05 0 2.83L4 21.41c.39.39.9.59 1.41.59.51 0 1.02-.2 1.41-.59l7.78-7.78 2.81-2.81c.8-.78.8-2.07 0-2.86zM5.41 20L4 18.59l7.72-7.72 1.47 1.35L5.41 20z\"/>\n",
              "  </svg>\n",
              "      </button>\n",
              "      \n",
              "  <style>\n",
              "    .colab-df-container {\n",
              "      display:flex;\n",
              "      flex-wrap:wrap;\n",
              "      gap: 12px;\n",
              "    }\n",
              "\n",
              "    .colab-df-convert {\n",
              "      background-color: #E8F0FE;\n",
              "      border: none;\n",
              "      border-radius: 50%;\n",
              "      cursor: pointer;\n",
              "      display: none;\n",
              "      fill: #1967D2;\n",
              "      height: 32px;\n",
              "      padding: 0 0 0 0;\n",
              "      width: 32px;\n",
              "    }\n",
              "\n",
              "    .colab-df-convert:hover {\n",
              "      background-color: #E2EBFA;\n",
              "      box-shadow: 0px 1px 2px rgba(60, 64, 67, 0.3), 0px 1px 3px 1px rgba(60, 64, 67, 0.15);\n",
              "      fill: #174EA6;\n",
              "    }\n",
              "\n",
              "    [theme=dark] .colab-df-convert {\n",
              "      background-color: #3B4455;\n",
              "      fill: #D2E3FC;\n",
              "    }\n",
              "\n",
              "    [theme=dark] .colab-df-convert:hover {\n",
              "      background-color: #434B5C;\n",
              "      box-shadow: 0px 1px 3px 1px rgba(0, 0, 0, 0.15);\n",
              "      filter: drop-shadow(0px 1px 2px rgba(0, 0, 0, 0.3));\n",
              "      fill: #FFFFFF;\n",
              "    }\n",
              "  </style>\n",
              "\n",
              "      <script>\n",
              "        const buttonEl =\n",
              "          document.querySelector('#df-bef48528-b04d-4df7-842c-b67d81f908e9 button.colab-df-convert');\n",
              "        buttonEl.style.display =\n",
              "          google.colab.kernel.accessAllowed ? 'block' : 'none';\n",
              "\n",
              "        async function convertToInteractive(key) {\n",
              "          const element = document.querySelector('#df-bef48528-b04d-4df7-842c-b67d81f908e9');\n",
              "          const dataTable =\n",
              "            await google.colab.kernel.invokeFunction('convertToInteractive',\n",
              "                                                     [key], {});\n",
              "          if (!dataTable) return;\n",
              "\n",
              "          const docLinkHtml = 'Like what you see? Visit the ' +\n",
              "            '<a target=\"_blank\" href=https://colab.research.google.com/notebooks/data_table.ipynb>data table notebook</a>'\n",
              "            + ' to learn more about interactive tables.';\n",
              "          element.innerHTML = '';\n",
              "          dataTable['output_type'] = 'display_data';\n",
              "          await google.colab.output.renderOutput(dataTable, element);\n",
              "          const docLink = document.createElement('div');\n",
              "          docLink.innerHTML = docLinkHtml;\n",
              "          element.appendChild(docLink);\n",
              "        }\n",
              "      </script>\n",
              "    </div>\n",
              "  </div>\n",
              "  "
            ]
          },
          "metadata": {},
          "execution_count": 57
        }
      ],
      "source": [
        "df"
      ]
    },
    {
      "cell_type": "code",
      "execution_count": null,
      "metadata": {
        "id": "zzjsEvsxt5Gr"
      },
      "outputs": [],
      "source": [
        "from tsfresh import extract_relevant_features\n",
        "from tsfresh import extract_features, extract_relevant_features, select_features"
      ]
    },
    {
      "cell_type": "code",
      "source": [
        "tf=extract_relevant_features(df, y_tsfresh, column_id='id',n_jobs=1)"
      ],
      "metadata": {
        "colab": {
          "base_uri": "https://localhost:8080/"
        },
        "id": "ZD1bmvL1uy9q",
        "outputId": "1f0f57fc-5147-4754-b4a5-a85112dd3072"
      },
      "execution_count": null,
      "outputs": [
        {
          "output_type": "stream",
          "name": "stderr",
          "text": [
            "Feature Extraction: 100%|██████████| 61405/61405 [6:15:39<00:00,  2.72it/s]\n"
          ]
        }
      ]
    },
    {
      "cell_type": "markdown",
      "metadata": {
        "id": "XOsx7_OmyvLu"
      },
      "source": [
        "experiments with the extrcted features"
      ]
    },
    {
      "cell_type": "code",
      "source": [
        "tf.to_csv('/content/sample_data/tsfresh_features.csv')"
      ],
      "metadata": {
        "id": "ux4QIFHM-c4j"
      },
      "execution_count": null,
      "outputs": []
    },
    {
      "cell_type": "code",
      "source": [
        "import os\n",
        "os.chdir('/content/drive/MyDrive')"
      ],
      "metadata": {
        "id": "0omg7lTZ-moS"
      },
      "execution_count": null,
      "outputs": []
    },
    {
      "cell_type": "code",
      "source": [
        "tf.to_csv('/content/drive/MyDrive/PATIENTS DATA/tsfresh_features.csv')"
      ],
      "metadata": {
        "id": "bmA-sXEI-jcL"
      },
      "execution_count": null,
      "outputs": []
    },
    {
      "cell_type": "code",
      "source": [
        "tf = pd.read_csv('/content/drive/MyDrive/PATIENTS DATA/tsfresh_features.csv',index_col=0)"
      ],
      "metadata": {
        "id": "Na1ivVUDKQpl"
      },
      "execution_count": null,
      "outputs": []
    },
    {
      "cell_type": "code",
      "execution_count": null,
      "metadata": {
        "id": "RBEAfIq5y7Xx",
        "colab": {
          "base_uri": "https://localhost:8080/",
          "height": 488
        },
        "outputId": "3cd308aa-5810-4b10-ba98-ca31bfc5113c"
      },
      "outputs": [
        {
          "output_type": "execute_result",
          "data": {
            "text/plain": [
              "       value__fft_coefficient__attr_\"abs\"__coeff_42  \\\n",
              "0                                      11363.868801   \n",
              "1                                       8289.196071   \n",
              "2                                       7625.628849   \n",
              "3                                      21486.309763   \n",
              "4                                      13321.364446   \n",
              "...                                             ...   \n",
              "61400                                   9817.628515   \n",
              "61401                                  28791.670619   \n",
              "61402                                  14160.140247   \n",
              "61403                                  16417.093465   \n",
              "61404                                  23789.490864   \n",
              "\n",
              "       value__ar_coefficient__coeff_9__k_10  \\\n",
              "0                                  0.039685   \n",
              "1                                 -0.069121   \n",
              "2                                 -0.114375   \n",
              "3                                 -0.073766   \n",
              "4                                 -0.061995   \n",
              "...                                     ...   \n",
              "61400                             -0.034873   \n",
              "61401                             -0.000072   \n",
              "61402                              0.008855   \n",
              "61403                              0.038850   \n",
              "61404                              0.020596   \n",
              "\n",
              "       value__agg_linear_trend__attr_\"stderr\"__chunk_len_10__f_agg_\"min\"  \\\n",
              "0                                               2.738076                   \n",
              "1                                               1.953488                   \n",
              "2                                               2.210377                   \n",
              "3                                               4.088338                   \n",
              "4                                               1.502003                   \n",
              "...                                                  ...                   \n",
              "61400                                           3.994959                   \n",
              "61401                                           2.389433                   \n",
              "61402                                           5.415865                   \n",
              "61403                                           4.298475                   \n",
              "61404                                           3.135259                   \n",
              "\n",
              "       value__fft_coefficient__attr_\"abs\"__coeff_45  \\\n",
              "0                                      12409.616172   \n",
              "1                                       9531.888861   \n",
              "2                                      11108.911071   \n",
              "3                                       6012.428802   \n",
              "4                                      10659.653790   \n",
              "...                                             ...   \n",
              "61400                                  13966.227061   \n",
              "61401                                  17374.879941   \n",
              "61402                                  38860.520389   \n",
              "61403                                  15541.623429   \n",
              "61404                                  25104.031063   \n",
              "\n",
              "       value__fft_coefficient__attr_\"abs\"__coeff_43  \\\n",
              "0                                       9048.067324   \n",
              "1                                       6947.717607   \n",
              "2                                      12164.099719   \n",
              "3                                       7899.257982   \n",
              "4                                       3622.860830   \n",
              "...                                             ...   \n",
              "61400                                  22923.141382   \n",
              "61401                                   9616.394790   \n",
              "61402                                   6026.925423   \n",
              "61403                                  13204.203112   \n",
              "61404                                  10528.363576   \n",
              "\n",
              "       value__binned_entropy__max_bins_10  value__number_peaks__n_3  \\\n",
              "0                                2.104297                      83.0   \n",
              "1                                2.034639                      83.0   \n",
              "2                                2.149722                      77.0   \n",
              "3                                2.168779                      71.0   \n",
              "4                                2.052826                      85.0   \n",
              "...                                   ...                       ...   \n",
              "61400                            1.897762                      40.0   \n",
              "61401                            1.868837                      53.0   \n",
              "61402                            2.054380                      51.0   \n",
              "61403                            2.053276                      66.0   \n",
              "61404                            1.595350                      30.0   \n",
              "\n",
              "       value__number_peaks__n_1  value__number_cwt_peaks__n_5  \\\n",
              "0                         215.0                          63.0   \n",
              "1                         213.0                          47.0   \n",
              "2                         204.0                          46.0   \n",
              "3                         207.0                          58.0   \n",
              "4                         218.0                          58.0   \n",
              "...                         ...                           ...   \n",
              "61400                     108.0                          55.0   \n",
              "61401                     132.0                          60.0   \n",
              "61402                     119.0                          60.0   \n",
              "61403                     173.0                          56.0   \n",
              "61404                      81.0                          29.0   \n",
              "\n",
              "       value__ar_coefficient__coeff_8__k_10  ...  \\\n",
              "0                                  0.116222  ...   \n",
              "1                                  0.070795  ...   \n",
              "2                                 -0.013756  ...   \n",
              "3                                  0.002504  ...   \n",
              "4                                  0.117971  ...   \n",
              "...                                     ...  ...   \n",
              "61400                              0.364801  ...   \n",
              "61401                              0.022844  ...   \n",
              "61402                              0.049108  ...   \n",
              "61403                             -0.042409  ...   \n",
              "61404                              0.107784  ...   \n",
              "\n",
              "       value__change_quantiles__f_agg_\"mean\"__isabs_False__qh_0.6__ql_0.2  \\\n",
              "0                                              24.358974                    \n",
              "1                                              -9.550562                    \n",
              "2                                              16.217391                    \n",
              "3                                              24.628099                    \n",
              "4                                               5.194690                    \n",
              "...                                                  ...                    \n",
              "61400                                          -8.536232                    \n",
              "61401                                           0.342105                    \n",
              "61402                                           5.698020                    \n",
              "61403                                           2.075949                    \n",
              "61404                                          -1.575342                    \n",
              "\n",
              "       value__change_quantiles__f_agg_\"var\"__isabs_False__qh_0.6__ql_0.2  \\\n",
              "0                                           95224.042078                   \n",
              "1                                           83489.595758                   \n",
              "2                                          123785.578828                   \n",
              "3                                          126950.745987                   \n",
              "4                                           98746.333777                   \n",
              "...                                                  ...                   \n",
              "61400                                       16699.417769                   \n",
              "61401                                       14950.109280                   \n",
              "61402                                       19509.636531                   \n",
              "61403                                       41819.006890                   \n",
              "61404                                         743.888159                   \n",
              "\n",
              "       value__linear_trend__attr_\"pvalue\"  \\\n",
              "0                            7.089484e-01   \n",
              "1                            7.200482e-01   \n",
              "2                            5.017798e-02   \n",
              "3                            3.934260e-01   \n",
              "4                            1.516697e-01   \n",
              "...                                   ...   \n",
              "61400                        3.950585e-79   \n",
              "61401                        3.684715e-21   \n",
              "61402                        8.763550e-03   \n",
              "61403                        3.846169e-04   \n",
              "61404                        3.895796e-01   \n",
              "\n",
              "       value__change_quantiles__f_agg_\"mean\"__isabs_False__qh_1.0__ql_0.2  \\\n",
              "0                                               0.322581                    \n",
              "1                                               1.610294                    \n",
              "2                                               2.295775                    \n",
              "3                                               3.460432                    \n",
              "4                                              13.575829                    \n",
              "...                                                  ...                    \n",
              "61400                                          -1.629400                    \n",
              "61401                                          -2.123690                    \n",
              "61402                                           0.208333                    \n",
              "61403                                          -3.023810                    \n",
              "61404                                          -6.632568                    \n",
              "\n",
              "       value__index_mass_quantile__q_0.9  \\\n",
              "0                               0.901563   \n",
              "1                               0.903125   \n",
              "2                               0.912500   \n",
              "3                               0.893750   \n",
              "4                               0.898438   \n",
              "...                                  ...   \n",
              "61400                           0.929688   \n",
              "61401                           0.904687   \n",
              "61402                           0.887500   \n",
              "61403                           0.920312   \n",
              "61404                           0.898438   \n",
              "\n",
              "       value__energy_ratio_by_chunks__num_segments_10__segment_focus_9  \\\n",
              "0                                               0.099899                 \n",
              "1                                               0.099133                 \n",
              "2                                               0.127968                 \n",
              "3                                               0.082818                 \n",
              "4                                               0.094474                 \n",
              "...                                                  ...                 \n",
              "61400                                           0.194739                 \n",
              "61401                                           0.105157                 \n",
              "61402                                           0.069507                 \n",
              "61403                                           0.137339                 \n",
              "61404                                           0.087437                 \n",
              "\n",
              "       value__friedrich_coefficients__coeff_0__m_3__r_30  \\\n",
              "0                                           7.960656e-08   \n",
              "1                                           1.740062e-07   \n",
              "2                                           2.822995e-07   \n",
              "3                                          -8.731128e-09   \n",
              "4                                           3.457952e-07   \n",
              "...                                                  ...   \n",
              "61400                                      -8.731128e-09   \n",
              "61401                                      -8.731128e-09   \n",
              "61402                                      -8.731128e-09   \n",
              "61403                                      -8.731128e-09   \n",
              "61404                                      -8.731128e-09   \n",
              "\n",
              "       value__partial_autocorrelation__lag_5  \\\n",
              "0                                   0.199972   \n",
              "1                                   0.176077   \n",
              "2                                   0.261554   \n",
              "3                                   0.165086   \n",
              "4                                   0.157004   \n",
              "...                                      ...   \n",
              "61400                               0.056334   \n",
              "61401                               0.118372   \n",
              "61402                               0.002871   \n",
              "61403                               0.047509   \n",
              "61404                              -0.025355   \n",
              "\n",
              "       value__agg_autocorrelation__f_agg_\"mean\"__maxlag_40  \\\n",
              "0                                               0.117552     \n",
              "1                                              -0.001947     \n",
              "2                                               0.088643     \n",
              "3                                               0.074387     \n",
              "4                                               0.007975     \n",
              "...                                                  ...     \n",
              "61400                                           0.645775     \n",
              "61401                                           0.337902     \n",
              "61402                                           0.685263     \n",
              "61403                                           0.114680     \n",
              "61404                                           0.093256     \n",
              "\n",
              "       value__agg_linear_trend__attr_\"intercept\"__chunk_len_5__f_agg_\"var\"  \n",
              "0                                          284088.045785                    \n",
              "1                                          238810.306541                    \n",
              "2                                          316172.299971                    \n",
              "3                                          323891.212238                    \n",
              "4                                          247175.067035                    \n",
              "...                                                  ...                    \n",
              "61400                                       19762.392703                    \n",
              "61401                                       63841.490058                    \n",
              "61402                                       27183.686453                    \n",
              "61403                                      110124.806831                    \n",
              "61404                                      121456.907965                    \n",
              "\n",
              "[61405 rows x 369 columns]"
            ],
            "text/html": [
              "\n",
              "  <div id=\"df-ea8da8fd-5307-4786-bddf-f22f3eddc2da\">\n",
              "    <div class=\"colab-df-container\">\n",
              "      <div>\n",
              "<style scoped>\n",
              "    .dataframe tbody tr th:only-of-type {\n",
              "        vertical-align: middle;\n",
              "    }\n",
              "\n",
              "    .dataframe tbody tr th {\n",
              "        vertical-align: top;\n",
              "    }\n",
              "\n",
              "    .dataframe thead th {\n",
              "        text-align: right;\n",
              "    }\n",
              "</style>\n",
              "<table border=\"1\" class=\"dataframe\">\n",
              "  <thead>\n",
              "    <tr style=\"text-align: right;\">\n",
              "      <th></th>\n",
              "      <th>value__fft_coefficient__attr_\"abs\"__coeff_42</th>\n",
              "      <th>value__ar_coefficient__coeff_9__k_10</th>\n",
              "      <th>value__agg_linear_trend__attr_\"stderr\"__chunk_len_10__f_agg_\"min\"</th>\n",
              "      <th>value__fft_coefficient__attr_\"abs\"__coeff_45</th>\n",
              "      <th>value__fft_coefficient__attr_\"abs\"__coeff_43</th>\n",
              "      <th>value__binned_entropy__max_bins_10</th>\n",
              "      <th>value__number_peaks__n_3</th>\n",
              "      <th>value__number_peaks__n_1</th>\n",
              "      <th>value__number_cwt_peaks__n_5</th>\n",
              "      <th>value__ar_coefficient__coeff_8__k_10</th>\n",
              "      <th>...</th>\n",
              "      <th>value__change_quantiles__f_agg_\"mean\"__isabs_False__qh_0.6__ql_0.2</th>\n",
              "      <th>value__change_quantiles__f_agg_\"var\"__isabs_False__qh_0.6__ql_0.2</th>\n",
              "      <th>value__linear_trend__attr_\"pvalue\"</th>\n",
              "      <th>value__change_quantiles__f_agg_\"mean\"__isabs_False__qh_1.0__ql_0.2</th>\n",
              "      <th>value__index_mass_quantile__q_0.9</th>\n",
              "      <th>value__energy_ratio_by_chunks__num_segments_10__segment_focus_9</th>\n",
              "      <th>value__friedrich_coefficients__coeff_0__m_3__r_30</th>\n",
              "      <th>value__partial_autocorrelation__lag_5</th>\n",
              "      <th>value__agg_autocorrelation__f_agg_\"mean\"__maxlag_40</th>\n",
              "      <th>value__agg_linear_trend__attr_\"intercept\"__chunk_len_5__f_agg_\"var\"</th>\n",
              "    </tr>\n",
              "  </thead>\n",
              "  <tbody>\n",
              "    <tr>\n",
              "      <th>0</th>\n",
              "      <td>11363.868801</td>\n",
              "      <td>0.039685</td>\n",
              "      <td>2.738076</td>\n",
              "      <td>12409.616172</td>\n",
              "      <td>9048.067324</td>\n",
              "      <td>2.104297</td>\n",
              "      <td>83.0</td>\n",
              "      <td>215.0</td>\n",
              "      <td>63.0</td>\n",
              "      <td>0.116222</td>\n",
              "      <td>...</td>\n",
              "      <td>24.358974</td>\n",
              "      <td>95224.042078</td>\n",
              "      <td>7.089484e-01</td>\n",
              "      <td>0.322581</td>\n",
              "      <td>0.901563</td>\n",
              "      <td>0.099899</td>\n",
              "      <td>7.960656e-08</td>\n",
              "      <td>0.199972</td>\n",
              "      <td>0.117552</td>\n",
              "      <td>284088.045785</td>\n",
              "    </tr>\n",
              "    <tr>\n",
              "      <th>1</th>\n",
              "      <td>8289.196071</td>\n",
              "      <td>-0.069121</td>\n",
              "      <td>1.953488</td>\n",
              "      <td>9531.888861</td>\n",
              "      <td>6947.717607</td>\n",
              "      <td>2.034639</td>\n",
              "      <td>83.0</td>\n",
              "      <td>213.0</td>\n",
              "      <td>47.0</td>\n",
              "      <td>0.070795</td>\n",
              "      <td>...</td>\n",
              "      <td>-9.550562</td>\n",
              "      <td>83489.595758</td>\n",
              "      <td>7.200482e-01</td>\n",
              "      <td>1.610294</td>\n",
              "      <td>0.903125</td>\n",
              "      <td>0.099133</td>\n",
              "      <td>1.740062e-07</td>\n",
              "      <td>0.176077</td>\n",
              "      <td>-0.001947</td>\n",
              "      <td>238810.306541</td>\n",
              "    </tr>\n",
              "    <tr>\n",
              "      <th>2</th>\n",
              "      <td>7625.628849</td>\n",
              "      <td>-0.114375</td>\n",
              "      <td>2.210377</td>\n",
              "      <td>11108.911071</td>\n",
              "      <td>12164.099719</td>\n",
              "      <td>2.149722</td>\n",
              "      <td>77.0</td>\n",
              "      <td>204.0</td>\n",
              "      <td>46.0</td>\n",
              "      <td>-0.013756</td>\n",
              "      <td>...</td>\n",
              "      <td>16.217391</td>\n",
              "      <td>123785.578828</td>\n",
              "      <td>5.017798e-02</td>\n",
              "      <td>2.295775</td>\n",
              "      <td>0.912500</td>\n",
              "      <td>0.127968</td>\n",
              "      <td>2.822995e-07</td>\n",
              "      <td>0.261554</td>\n",
              "      <td>0.088643</td>\n",
              "      <td>316172.299971</td>\n",
              "    </tr>\n",
              "    <tr>\n",
              "      <th>3</th>\n",
              "      <td>21486.309763</td>\n",
              "      <td>-0.073766</td>\n",
              "      <td>4.088338</td>\n",
              "      <td>6012.428802</td>\n",
              "      <td>7899.257982</td>\n",
              "      <td>2.168779</td>\n",
              "      <td>71.0</td>\n",
              "      <td>207.0</td>\n",
              "      <td>58.0</td>\n",
              "      <td>0.002504</td>\n",
              "      <td>...</td>\n",
              "      <td>24.628099</td>\n",
              "      <td>126950.745987</td>\n",
              "      <td>3.934260e-01</td>\n",
              "      <td>3.460432</td>\n",
              "      <td>0.893750</td>\n",
              "      <td>0.082818</td>\n",
              "      <td>-8.731128e-09</td>\n",
              "      <td>0.165086</td>\n",
              "      <td>0.074387</td>\n",
              "      <td>323891.212238</td>\n",
              "    </tr>\n",
              "    <tr>\n",
              "      <th>4</th>\n",
              "      <td>13321.364446</td>\n",
              "      <td>-0.061995</td>\n",
              "      <td>1.502003</td>\n",
              "      <td>10659.653790</td>\n",
              "      <td>3622.860830</td>\n",
              "      <td>2.052826</td>\n",
              "      <td>85.0</td>\n",
              "      <td>218.0</td>\n",
              "      <td>58.0</td>\n",
              "      <td>0.117971</td>\n",
              "      <td>...</td>\n",
              "      <td>5.194690</td>\n",
              "      <td>98746.333777</td>\n",
              "      <td>1.516697e-01</td>\n",
              "      <td>13.575829</td>\n",
              "      <td>0.898438</td>\n",
              "      <td>0.094474</td>\n",
              "      <td>3.457952e-07</td>\n",
              "      <td>0.157004</td>\n",
              "      <td>0.007975</td>\n",
              "      <td>247175.067035</td>\n",
              "    </tr>\n",
              "    <tr>\n",
              "      <th>...</th>\n",
              "      <td>...</td>\n",
              "      <td>...</td>\n",
              "      <td>...</td>\n",
              "      <td>...</td>\n",
              "      <td>...</td>\n",
              "      <td>...</td>\n",
              "      <td>...</td>\n",
              "      <td>...</td>\n",
              "      <td>...</td>\n",
              "      <td>...</td>\n",
              "      <td>...</td>\n",
              "      <td>...</td>\n",
              "      <td>...</td>\n",
              "      <td>...</td>\n",
              "      <td>...</td>\n",
              "      <td>...</td>\n",
              "      <td>...</td>\n",
              "      <td>...</td>\n",
              "      <td>...</td>\n",
              "      <td>...</td>\n",
              "      <td>...</td>\n",
              "    </tr>\n",
              "    <tr>\n",
              "      <th>61400</th>\n",
              "      <td>9817.628515</td>\n",
              "      <td>-0.034873</td>\n",
              "      <td>3.994959</td>\n",
              "      <td>13966.227061</td>\n",
              "      <td>22923.141382</td>\n",
              "      <td>1.897762</td>\n",
              "      <td>40.0</td>\n",
              "      <td>108.0</td>\n",
              "      <td>55.0</td>\n",
              "      <td>0.364801</td>\n",
              "      <td>...</td>\n",
              "      <td>-8.536232</td>\n",
              "      <td>16699.417769</td>\n",
              "      <td>3.950585e-79</td>\n",
              "      <td>-1.629400</td>\n",
              "      <td>0.929688</td>\n",
              "      <td>0.194739</td>\n",
              "      <td>-8.731128e-09</td>\n",
              "      <td>0.056334</td>\n",
              "      <td>0.645775</td>\n",
              "      <td>19762.392703</td>\n",
              "    </tr>\n",
              "    <tr>\n",
              "      <th>61401</th>\n",
              "      <td>28791.670619</td>\n",
              "      <td>-0.000072</td>\n",
              "      <td>2.389433</td>\n",
              "      <td>17374.879941</td>\n",
              "      <td>9616.394790</td>\n",
              "      <td>1.868837</td>\n",
              "      <td>53.0</td>\n",
              "      <td>132.0</td>\n",
              "      <td>60.0</td>\n",
              "      <td>0.022844</td>\n",
              "      <td>...</td>\n",
              "      <td>0.342105</td>\n",
              "      <td>14950.109280</td>\n",
              "      <td>3.684715e-21</td>\n",
              "      <td>-2.123690</td>\n",
              "      <td>0.904687</td>\n",
              "      <td>0.105157</td>\n",
              "      <td>-8.731128e-09</td>\n",
              "      <td>0.118372</td>\n",
              "      <td>0.337902</td>\n",
              "      <td>63841.490058</td>\n",
              "    </tr>\n",
              "    <tr>\n",
              "      <th>61402</th>\n",
              "      <td>14160.140247</td>\n",
              "      <td>0.008855</td>\n",
              "      <td>5.415865</td>\n",
              "      <td>38860.520389</td>\n",
              "      <td>6026.925423</td>\n",
              "      <td>2.054380</td>\n",
              "      <td>51.0</td>\n",
              "      <td>119.0</td>\n",
              "      <td>60.0</td>\n",
              "      <td>0.049108</td>\n",
              "      <td>...</td>\n",
              "      <td>5.698020</td>\n",
              "      <td>19509.636531</td>\n",
              "      <td>8.763550e-03</td>\n",
              "      <td>0.208333</td>\n",
              "      <td>0.887500</td>\n",
              "      <td>0.069507</td>\n",
              "      <td>-8.731128e-09</td>\n",
              "      <td>0.002871</td>\n",
              "      <td>0.685263</td>\n",
              "      <td>27183.686453</td>\n",
              "    </tr>\n",
              "    <tr>\n",
              "      <th>61403</th>\n",
              "      <td>16417.093465</td>\n",
              "      <td>0.038850</td>\n",
              "      <td>4.298475</td>\n",
              "      <td>15541.623429</td>\n",
              "      <td>13204.203112</td>\n",
              "      <td>2.053276</td>\n",
              "      <td>66.0</td>\n",
              "      <td>173.0</td>\n",
              "      <td>56.0</td>\n",
              "      <td>-0.042409</td>\n",
              "      <td>...</td>\n",
              "      <td>2.075949</td>\n",
              "      <td>41819.006890</td>\n",
              "      <td>3.846169e-04</td>\n",
              "      <td>-3.023810</td>\n",
              "      <td>0.920312</td>\n",
              "      <td>0.137339</td>\n",
              "      <td>-8.731128e-09</td>\n",
              "      <td>0.047509</td>\n",
              "      <td>0.114680</td>\n",
              "      <td>110124.806831</td>\n",
              "    </tr>\n",
              "    <tr>\n",
              "      <th>61404</th>\n",
              "      <td>23789.490864</td>\n",
              "      <td>0.020596</td>\n",
              "      <td>3.135259</td>\n",
              "      <td>25104.031063</td>\n",
              "      <td>10528.363576</td>\n",
              "      <td>1.595350</td>\n",
              "      <td>30.0</td>\n",
              "      <td>81.0</td>\n",
              "      <td>29.0</td>\n",
              "      <td>0.107784</td>\n",
              "      <td>...</td>\n",
              "      <td>-1.575342</td>\n",
              "      <td>743.888159</td>\n",
              "      <td>3.895796e-01</td>\n",
              "      <td>-6.632568</td>\n",
              "      <td>0.898438</td>\n",
              "      <td>0.087437</td>\n",
              "      <td>-8.731128e-09</td>\n",
              "      <td>-0.025355</td>\n",
              "      <td>0.093256</td>\n",
              "      <td>121456.907965</td>\n",
              "    </tr>\n",
              "  </tbody>\n",
              "</table>\n",
              "<p>61405 rows × 369 columns</p>\n",
              "</div>\n",
              "      <button class=\"colab-df-convert\" onclick=\"convertToInteractive('df-ea8da8fd-5307-4786-bddf-f22f3eddc2da')\"\n",
              "              title=\"Convert this dataframe to an interactive table.\"\n",
              "              style=\"display:none;\">\n",
              "        \n",
              "  <svg xmlns=\"http://www.w3.org/2000/svg\" height=\"24px\"viewBox=\"0 0 24 24\"\n",
              "       width=\"24px\">\n",
              "    <path d=\"M0 0h24v24H0V0z\" fill=\"none\"/>\n",
              "    <path d=\"M18.56 5.44l.94 2.06.94-2.06 2.06-.94-2.06-.94-.94-2.06-.94 2.06-2.06.94zm-11 1L8.5 8.5l.94-2.06 2.06-.94-2.06-.94L8.5 2.5l-.94 2.06-2.06.94zm10 10l.94 2.06.94-2.06 2.06-.94-2.06-.94-.94-2.06-.94 2.06-2.06.94z\"/><path d=\"M17.41 7.96l-1.37-1.37c-.4-.4-.92-.59-1.43-.59-.52 0-1.04.2-1.43.59L10.3 9.45l-7.72 7.72c-.78.78-.78 2.05 0 2.83L4 21.41c.39.39.9.59 1.41.59.51 0 1.02-.2 1.41-.59l7.78-7.78 2.81-2.81c.8-.78.8-2.07 0-2.86zM5.41 20L4 18.59l7.72-7.72 1.47 1.35L5.41 20z\"/>\n",
              "  </svg>\n",
              "      </button>\n",
              "      \n",
              "  <style>\n",
              "    .colab-df-container {\n",
              "      display:flex;\n",
              "      flex-wrap:wrap;\n",
              "      gap: 12px;\n",
              "    }\n",
              "\n",
              "    .colab-df-convert {\n",
              "      background-color: #E8F0FE;\n",
              "      border: none;\n",
              "      border-radius: 50%;\n",
              "      cursor: pointer;\n",
              "      display: none;\n",
              "      fill: #1967D2;\n",
              "      height: 32px;\n",
              "      padding: 0 0 0 0;\n",
              "      width: 32px;\n",
              "    }\n",
              "\n",
              "    .colab-df-convert:hover {\n",
              "      background-color: #E2EBFA;\n",
              "      box-shadow: 0px 1px 2px rgba(60, 64, 67, 0.3), 0px 1px 3px 1px rgba(60, 64, 67, 0.15);\n",
              "      fill: #174EA6;\n",
              "    }\n",
              "\n",
              "    [theme=dark] .colab-df-convert {\n",
              "      background-color: #3B4455;\n",
              "      fill: #D2E3FC;\n",
              "    }\n",
              "\n",
              "    [theme=dark] .colab-df-convert:hover {\n",
              "      background-color: #434B5C;\n",
              "      box-shadow: 0px 1px 3px 1px rgba(0, 0, 0, 0.15);\n",
              "      filter: drop-shadow(0px 1px 2px rgba(0, 0, 0, 0.3));\n",
              "      fill: #FFFFFF;\n",
              "    }\n",
              "  </style>\n",
              "\n",
              "      <script>\n",
              "        const buttonEl =\n",
              "          document.querySelector('#df-ea8da8fd-5307-4786-bddf-f22f3eddc2da button.colab-df-convert');\n",
              "        buttonEl.style.display =\n",
              "          google.colab.kernel.accessAllowed ? 'block' : 'none';\n",
              "\n",
              "        async function convertToInteractive(key) {\n",
              "          const element = document.querySelector('#df-ea8da8fd-5307-4786-bddf-f22f3eddc2da');\n",
              "          const dataTable =\n",
              "            await google.colab.kernel.invokeFunction('convertToInteractive',\n",
              "                                                     [key], {});\n",
              "          if (!dataTable) return;\n",
              "\n",
              "          const docLinkHtml = 'Like what you see? Visit the ' +\n",
              "            '<a target=\"_blank\" href=https://colab.research.google.com/notebooks/data_table.ipynb>data table notebook</a>'\n",
              "            + ' to learn more about interactive tables.';\n",
              "          element.innerHTML = '';\n",
              "          dataTable['output_type'] = 'display_data';\n",
              "          await google.colab.output.renderOutput(dataTable, element);\n",
              "          const docLink = document.createElement('div');\n",
              "          docLink.innerHTML = docLinkHtml;\n",
              "          element.appendChild(docLink);\n",
              "        }\n",
              "      </script>\n",
              "    </div>\n",
              "  </div>\n",
              "  "
            ]
          },
          "metadata": {},
          "execution_count": 7
        }
      ],
      "source": [
        "tf"
      ]
    },
    {
      "cell_type": "markdown",
      "source": [
        "# feature importances"
      ],
      "metadata": {
        "id": "LnZKBThus3Mk"
      }
    },
    {
      "cell_type": "code",
      "source": [
        "import numpy as np\n",
        "from sklearn.ensemble import ExtraTreesClassifier\n",
        "# Building the model\n",
        "extra_tree_forest = ExtraTreesClassifier(n_estimators = 700,\n",
        "\t\t\t\t\t\t\t\t\t\tcriterion ='entropy', max_features = 2, random_state=0)\n",
        "\n",
        "# Training the model\n",
        "extra_tree_forest.fit(tf, y_tsfresh)\n",
        "\n",
        "# Computing the importance of each feature\n",
        "feature_importance = extra_tree_forest.feature_importances_\n",
        "\n",
        "# Normalizing the individual importances\n",
        "feature_importance_normalized = np.std([tree.feature_importances_ for tree in\n",
        "\t\t\t\t\t\t\t\t\t\textra_tree_forest.estimators_],\n",
        "\t\t\t\t\t\t\t\t\t\taxis = 0)"
      ],
      "metadata": {
        "id": "4gT2DcvUqr5f"
      },
      "execution_count": null,
      "outputs": []
    },
    {
      "cell_type": "code",
      "source": [
        "# Plotting a Bar Graph to compare the models\n",
        "plt.figure(figsize=(13,3))\n",
        "plt.bar(tf.columns[:50], feature_importance_normalized[:50])\n",
        "# plt.bar(X_indices - 0.05, feature_importance_normalized, width=0.2)\n",
        "plt.xlabel('Feature Labels')\n",
        "plt.ylabel('Feature Importances')\n",
        "plt.title('Comparison of different Feature Importances')\n",
        "plt.xticks(rotation=90)\n",
        "plt.show()"
      ],
      "metadata": {
        "colab": {
          "base_uri": "https://localhost:8080/",
          "height": 583
        },
        "id": "z5Z6INrhrL1F",
        "outputId": "3516cd4a-cc16-466c-9e66-5595e22a8925"
      },
      "execution_count": null,
      "outputs": [
        {
          "output_type": "display_data",
          "data": {
            "text/plain": [
              "<Figure size 936x216 with 1 Axes>"
            ],
            "image/png": "[encoded data removed]"
          },
          "metadata": {
            "needs_background": "light"
          }
        }
      ]
    },
    {
      "cell_type": "code",
      "source": [
        "#\n",
        "X_features=feature_importance_normalized"
      ],
      "metadata": {
        "id": "DmH7nuVh-kgN"
      },
      "execution_count": null,
      "outputs": []
    },
    {
      "cell_type": "code",
      "source": [
        "#@title  { run: \"auto\" }\n",
        "important_feature_names=[]\n",
        "important_feature_vals=[]\n",
        "for i in range(len(X_features)):\n",
        "  threshold = 0.006 #@param {type:\"slider\", min:0.005, max:0.015, step:0.001}\n",
        "  if X_features[i]>=threshold:\n",
        "    important_feature_names.append(tf.columns[i])\n",
        "    important_feature_vals.append(X_features[i])\n",
        "print(len(important_feature_names))"
      ],
      "metadata": {
        "colab": {
          "base_uri": "https://localhost:8080/"
        },
        "id": "IqoD77X8PvAu",
        "outputId": "9b07fa46-d09e-4157-a862-ca3c5c51a851"
      },
      "execution_count": null,
      "outputs": [
        {
          "output_type": "stream",
          "name": "stdout",
          "text": [
            "22\n"
          ]
        }
      ]
    },
    {
      "cell_type": "code",
      "source": [
        "print(important_feature_names)"
      ],
      "metadata": {
        "colab": {
          "base_uri": "https://localhost:8080/"
        },
        "id": "aV_x8dGzQ7kw",
        "outputId": "9c90a173-0607-4fbf-ab90-9b1535cc6d94"
      },
      "execution_count": null,
      "outputs": [
        {
          "output_type": "stream",
          "name": "stdout",
          "text": [
            "['value__number_peaks__n_3', 'value__number_peaks__n_1', 'value__autocorrelation__lag_2', 'value__fft_aggregated__aggtype_\"variance\"', 'value__fourier_entropy__bins_100', 'value__permutation_entropy__dimension_3__tau_1', 'value__ar_coefficient__coeff_1__k_10', 'value__permutation_entropy__dimension_4__tau_1', 'value__permutation_entropy__dimension_5__tau_1', 'value__permutation_entropy__dimension_6__tau_1', 'value__permutation_entropy__dimension_7__tau_1', 'value__approximate_entropy__m_2__r_0.9', 'value__approximate_entropy__m_2__r_0.7', 'value__approximate_entropy__m_2__r_0.5', 'value__approximate_entropy__m_2__r_0.3', 'value__ar_coefficient__coeff_3__k_10', 'value__fft_aggregated__aggtype_\"skew\"', 'value__number_peaks__n_5', 'value__cid_ce__normalize_True', 'value__sample_entropy', 'value__autocorrelation__lag_4', 'value__autocorrelation__lag_5']\n"
          ]
        }
      ]
    },
    {
      "cell_type": "code",
      "source": [
        "imp=sorted(zip(important_feature_vals,important_feature_names))\n",
        "\n",
        "features_df=pd.DataFrame(imp,columns=['value','name'])\n",
        "display(features_df)"
      ],
      "metadata": {
        "colab": {
          "base_uri": "https://localhost:8080/",
          "height": 739
        },
        "id": "9RfxRfgvO6zO",
        "outputId": "ea2b432b-4b49-4a04-c2e1-f6a413a50275"
      },
      "execution_count": null,
      "outputs": [
        {
          "output_type": "display_data",
          "data": {
            "text/plain": [
              "       value                                            name\n",
              "0   0.006599                   value__autocorrelation__lag_5\n",
              "1   0.006648            value__ar_coefficient__coeff_3__k_10\n",
              "2   0.006785                           value__sample_entropy\n",
              "3   0.006793                value__fourier_entropy__bins_100\n",
              "4   0.007093                   value__cid_ce__normalize_True\n",
              "5   0.007098       value__fft_aggregated__aggtype_\"variance\"\n",
              "6   0.007157           value__fft_aggregated__aggtype_\"skew\"\n",
              "7   0.007183            value__ar_coefficient__coeff_1__k_10\n",
              "8   0.007342  value__permutation_entropy__dimension_4__tau_1\n",
              "9   0.007832  value__permutation_entropy__dimension_6__tau_1\n",
              "10  0.008453          value__approximate_entropy__m_2__r_0.9\n",
              "11  0.008751                   value__autocorrelation__lag_4\n",
              "12  0.008981          value__approximate_entropy__m_2__r_0.3\n",
              "13  0.009027                        value__number_peaks__n_5\n",
              "14  0.009084  value__permutation_entropy__dimension_3__tau_1\n",
              "15  0.009135          value__approximate_entropy__m_2__r_0.7\n",
              "16  0.009155                        value__number_peaks__n_3\n",
              "17  0.009296  value__permutation_entropy__dimension_7__tau_1\n",
              "18  0.009473                        value__number_peaks__n_1\n",
              "19  0.009563                   value__autocorrelation__lag_2\n",
              "20  0.009738  value__permutation_entropy__dimension_5__tau_1\n",
              "21  0.009982          value__approximate_entropy__m_2__r_0.5"
            ],
            "text/html": [
              "\n",
              "  <div id=\"df-b9fcffe0-4366-490b-8c50-a0c0bc0a3870\">\n",
              "    <div class=\"colab-df-container\">\n",
              "      <div>\n",
              "<style scoped>\n",
              "    .dataframe tbody tr th:only-of-type {\n",
              "        vertical-align: middle;\n",
              "    }\n",
              "\n",
              "    .dataframe tbody tr th {\n",
              "        vertical-align: top;\n",
              "    }\n",
              "\n",
              "    .dataframe thead th {\n",
              "        text-align: right;\n",
              "    }\n",
              "</style>\n",
              "<table border=\"1\" class=\"dataframe\">\n",
              "  <thead>\n",
              "    <tr style=\"text-align: right;\">\n",
              "      <th></th>\n",
              "      <th>value</th>\n",
              "      <th>name</th>\n",
              "    </tr>\n",
              "  </thead>\n",
              "  <tbody>\n",
              "    <tr>\n",
              "      <th>0</th>\n",
              "      <td>0.006599</td>\n",
              "      <td>value__autocorrelation__lag_5</td>\n",
              "    </tr>\n",
              "    <tr>\n",
              "      <th>1</th>\n",
              "      <td>0.006648</td>\n",
              "      <td>value__ar_coefficient__coeff_3__k_10</td>\n",
              "    </tr>\n",
              "    <tr>\n",
              "      <th>2</th>\n",
              "      <td>0.006785</td>\n",
              "      <td>value__sample_entropy</td>\n",
              "    </tr>\n",
              "    <tr>\n",
              "      <th>3</th>\n",
              "      <td>0.006793</td>\n",
              "      <td>value__fourier_entropy__bins_100</td>\n",
              "    </tr>\n",
              "    <tr>\n",
              "      <th>4</th>\n",
              "      <td>0.007093</td>\n",
              "      <td>value__cid_ce__normalize_True</td>\n",
              "    </tr>\n",
              "    <tr>\n",
              "      <th>5</th>\n",
              "      <td>0.007098</td>\n",
              "      <td>value__fft_aggregated__aggtype_\"variance\"</td>\n",
              "    </tr>\n",
              "    <tr>\n",
              "      <th>6</th>\n",
              "      <td>0.007157</td>\n",
              "      <td>value__fft_aggregated__aggtype_\"skew\"</td>\n",
              "    </tr>\n",
              "    <tr>\n",
              "      <th>7</th>\n",
              "      <td>0.007183</td>\n",
              "      <td>value__ar_coefficient__coeff_1__k_10</td>\n",
              "    </tr>\n",
              "    <tr>\n",
              "      <th>8</th>\n",
              "      <td>0.007342</td>\n",
              "      <td>value__permutation_entropy__dimension_4__tau_1</td>\n",
              "    </tr>\n",
              "    <tr>\n",
              "      <th>9</th>\n",
              "      <td>0.007832</td>\n",
              "      <td>value__permutation_entropy__dimension_6__tau_1</td>\n",
              "    </tr>\n",
              "    <tr>\n",
              "      <th>10</th>\n",
              "      <td>0.008453</td>\n",
              "      <td>value__approximate_entropy__m_2__r_0.9</td>\n",
              "    </tr>\n",
              "    <tr>\n",
              "      <th>11</th>\n",
              "      <td>0.008751</td>\n",
              "      <td>value__autocorrelation__lag_4</td>\n",
              "    </tr>\n",
              "    <tr>\n",
              "      <th>12</th>\n",
              "      <td>0.008981</td>\n",
              "      <td>value__approximate_entropy__m_2__r_0.3</td>\n",
              "    </tr>\n",
              "    <tr>\n",
              "      <th>13</th>\n",
              "      <td>0.009027</td>\n",
              "      <td>value__number_peaks__n_5</td>\n",
              "    </tr>\n",
              "    <tr>\n",
              "      <th>14</th>\n",
              "      <td>0.009084</td>\n",
              "      <td>value__permutation_entropy__dimension_3__tau_1</td>\n",
              "    </tr>\n",
              "    <tr>\n",
              "      <th>15</th>\n",
              "      <td>0.009135</td>\n",
              "      <td>value__approximate_entropy__m_2__r_0.7</td>\n",
              "    </tr>\n",
              "    <tr>\n",
              "      <th>16</th>\n",
              "      <td>0.009155</td>\n",
              "      <td>value__number_peaks__n_3</td>\n",
              "    </tr>\n",
              "    <tr>\n",
              "      <th>17</th>\n",
              "      <td>0.009296</td>\n",
              "      <td>value__permutation_entropy__dimension_7__tau_1</td>\n",
              "    </tr>\n",
              "    <tr>\n",
              "      <th>18</th>\n",
              "      <td>0.009473</td>\n",
              "      <td>value__number_peaks__n_1</td>\n",
              "    </tr>\n",
              "    <tr>\n",
              "      <th>19</th>\n",
              "      <td>0.009563</td>\n",
              "      <td>value__autocorrelation__lag_2</td>\n",
              "    </tr>\n",
              "    <tr>\n",
              "      <th>20</th>\n",
              "      <td>0.009738</td>\n",
              "      <td>value__permutation_entropy__dimension_5__tau_1</td>\n",
              "    </tr>\n",
              "    <tr>\n",
              "      <th>21</th>\n",
              "      <td>0.009982</td>\n",
              "      <td>value__approximate_entropy__m_2__r_0.5</td>\n",
              "    </tr>\n",
              "  </tbody>\n",
              "</table>\n",
              "</div>\n",
              "      <button class=\"colab-df-convert\" onclick=\"convertToInteractive('df-b9fcffe0-4366-490b-8c50-a0c0bc0a3870')\"\n",
              "              title=\"Convert this dataframe to an interactive table.\"\n",
              "              style=\"display:none;\">\n",
              "        \n",
              "  <svg xmlns=\"http://www.w3.org/2000/svg\" height=\"24px\"viewBox=\"0 0 24 24\"\n",
              "       width=\"24px\">\n",
              "    <path d=\"M0 0h24v24H0V0z\" fill=\"none\"/>\n",
              "    <path d=\"M18.56 5.44l.94 2.06.94-2.06 2.06-.94-2.06-.94-.94-2.06-.94 2.06-2.06.94zm-11 1L8.5 8.5l.94-2.06 2.06-.94-2.06-.94L8.5 2.5l-.94 2.06-2.06.94zm10 10l.94 2.06.94-2.06 2.06-.94-2.06-.94-.94-2.06-.94 2.06-2.06.94z\"/><path d=\"M17.41 7.96l-1.37-1.37c-.4-.4-.92-.59-1.43-.59-.52 0-1.04.2-1.43.59L10.3 9.45l-7.72 7.72c-.78.78-.78 2.05 0 2.83L4 21.41c.39.39.9.59 1.41.59.51 0 1.02-.2 1.41-.59l7.78-7.78 2.81-2.81c.8-.78.8-2.07 0-2.86zM5.41 20L4 18.59l7.72-7.72 1.47 1.35L5.41 20z\"/>\n",
              "  </svg>\n",
              "      </button>\n",
              "      \n",
              "  <style>\n",
              "    .colab-df-container {\n",
              "      display:flex;\n",
              "      flex-wrap:wrap;\n",
              "      gap: 12px;\n",
              "    }\n",
              "\n",
              "    .colab-df-convert {\n",
              "      background-color: #E8F0FE;\n",
              "      border: none;\n",
              "      border-radius: 50%;\n",
              "      cursor: pointer;\n",
              "      display: none;\n",
              "      fill: #1967D2;\n",
              "      height: 32px;\n",
              "      padding: 0 0 0 0;\n",
              "      width: 32px;\n",
              "    }\n",
              "\n",
              "    .colab-df-convert:hover {\n",
              "      background-color: #E2EBFA;\n",
              "      box-shadow: 0px 1px 2px rgba(60, 64, 67, 0.3), 0px 1px 3px 1px rgba(60, 64, 67, 0.15);\n",
              "      fill: #174EA6;\n",
              "    }\n",
              "\n",
              "    [theme=dark] .colab-df-convert {\n",
              "      background-color: #3B4455;\n",
              "      fill: #D2E3FC;\n",
              "    }\n",
              "\n",
              "    [theme=dark] .colab-df-convert:hover {\n",
              "      background-color: #434B5C;\n",
              "      box-shadow: 0px 1px 3px 1px rgba(0, 0, 0, 0.15);\n",
              "      filter: drop-shadow(0px 1px 2px rgba(0, 0, 0, 0.3));\n",
              "      fill: #FFFFFF;\n",
              "    }\n",
              "  </style>\n",
              "\n",
              "      <script>\n",
              "        const buttonEl =\n",
              "          document.querySelector('#df-b9fcffe0-4366-490b-8c50-a0c0bc0a3870 button.colab-df-convert');\n",
              "        buttonEl.style.display =\n",
              "          google.colab.kernel.accessAllowed ? 'block' : 'none';\n",
              "\n",
              "        async function convertToInteractive(key) {\n",
              "          const element = document.querySelector('#df-b9fcffe0-4366-490b-8c50-a0c0bc0a3870');\n",
              "          const dataTable =\n",
              "            await google.colab.kernel.invokeFunction('convertToInteractive',\n",
              "                                                     [key], {});\n",
              "          if (!dataTable) return;\n",
              "\n",
              "          const docLinkHtml = 'Like what you see? Visit the ' +\n",
              "            '<a target=\"_blank\" href=https://colab.research.google.com/notebooks/data_table.ipynb>data table notebook</a>'\n",
              "            + ' to learn more about interactive tables.';\n",
              "          element.innerHTML = '';\n",
              "          dataTable['output_type'] = 'display_data';\n",
              "          await google.colab.output.renderOutput(dataTable, element);\n",
              "          const docLink = document.createElement('div');\n",
              "          docLink.innerHTML = docLinkHtml;\n",
              "          element.appendChild(docLink);\n",
              "        }\n",
              "      </script>\n",
              "    </div>\n",
              "  </div>\n",
              "  "
            ]
          },
          "metadata": {}
        }
      ]
    },
    {
      "cell_type": "code",
      "source": [
        "from sklearn.model_selection import train_test_split\n",
        "X_train, X_test, y_train, y_test = train_test_split(tf[important_feature_names], y_tsfresh,stratify=y_tsfresh, random_state=0,test_size=0.2)"
      ],
      "metadata": {
        "id": "khHwHEYyPjVX"
      },
      "execution_count": null,
      "outputs": []
    },
    {
      "cell_type": "markdown",
      "source": [
        "**DECISION TREE CLASSIFIER**"
      ],
      "metadata": {
        "id": "F03LcLKAkMOa"
      }
    },
    {
      "cell_type": "code",
      "execution_count": null,
      "metadata": {
        "colab": {
          "base_uri": "https://localhost:8080/"
        },
        "outputId": "0b5c11bd-5592-45ef-9acb-e03352c86d3f",
        "id": "xoJ2Eoi_1o8O"
      },
      "outputs": [
        {
          "output_type": "stream",
          "name": "stdout",
          "text": [
            "              precision    recall  f1-score   support\n",
            "\n",
            "           1       0.72      0.73      0.73      5947\n",
            "           2       0.60      0.59      0.60      4988\n",
            "           3       0.50      0.51      0.50      1346\n",
            "\n",
            "    accuracy                           0.65     12281\n",
            "   macro avg       0.61      0.61      0.61     12281\n",
            "weighted avg       0.65      0.65      0.65     12281\n",
            "\n"
          ]
        }
      ],
      "source": [
        "import sklearn.tree as sktree\n",
        "from sklearn.metrics import classification_report\n",
        "classifier_feature = sktree.DecisionTreeClassifier()\n",
        "classifier_feature.fit(X_train, y_train)\n",
        "print(classification_report(y_test, classifier_feature.predict(X_test)))\n"
      ]
    },
    {
      "cell_type": "code",
      "execution_count": null,
      "metadata": {
        "id": "jz5aahbm1o8P"
      },
      "outputs": [],
      "source": [
        "from sklearn.metrics import confusion_matrix,ConfusionMatrixDisplay\n",
        "cf=confusion_matrix(y_test,classifier_feature.predict(X_test))"
      ]
    },
    {
      "cell_type": "code",
      "source": [
        "disp=ConfusionMatrixDisplay(cf)\n",
        "disp.plot()"
      ],
      "metadata": {
        "colab": {
          "base_uri": "https://localhost:8080/",
          "height": 296
        },
        "outputId": "686ee259-fd69-4e9b-94fe-fe12b371fa8d",
        "id": "2sM_zEzo1o8P"
      },
      "execution_count": null,
      "outputs": [
        {
          "output_type": "execute_result",
          "data": {
            "text/plain": [
              "<sklearn.metrics._plot.confusion_matrix.ConfusionMatrixDisplay at 0x7f7ccdf23cd0>"
            ]
          },
          "metadata": {},
          "execution_count": 24
        },
        {
          "output_type": "display_data",
          "data": {
            "text/plain": [
              "<Figure size 432x288 with 2 Axes>"
            ],
            "image/png": "[encoded data removed]"
          },
          "metadata": {
            "needs_background": "light"
          }
        }
      ]
    },
    {
      "cell_type": "markdown",
      "source": [
        "**SUPPORT VECTOR CLASSIFIER**"
      ],
      "metadata": {
        "id": "3fpgjXlaIkiW"
      }
    },
    {
      "cell_type": "code",
      "source": [
        "clf = SVC(kernel='rbf', C=1E8)\n",
        "clf.fit(X_train, y_train)"
      ],
      "metadata": {
        "colab": {
          "base_uri": "https://localhost:8080/"
        },
        "id": "nMqvrnb-0uml",
        "outputId": "645b3675-17ae-4a12-fdfa-c6c14c750dc6"
      },
      "execution_count": null,
      "outputs": [
        {
          "output_type": "execute_result",
          "data": {
            "text/plain": [
              "SVC(C=100000000.0)"
            ]
          },
          "metadata": {},
          "execution_count": 25
        }
      ]
    },
    {
      "cell_type": "code",
      "source": [
        "y_pred = clf.predict(X_test)"
      ],
      "metadata": {
        "id": "O-dnWfSIUM2c"
      },
      "execution_count": null,
      "outputs": []
    },
    {
      "cell_type": "code",
      "source": [
        "import pickle\n",
        "# save the classifier\n",
        "with open('/content/drive/MyDrive/PATIENTS DATA/svc_model.pkl', 'wb') as fid:\n",
        "    pickle.dump(clf, fid)\n"
      ],
      "metadata": {
        "id": "5FRhSYmKAvj0"
      },
      "execution_count": null,
      "outputs": []
    },
    {
      "cell_type": "code",
      "source": [
        "from sklearn.metrics import confusion_matrix,ConfusionMatrixDisplay\n",
        "cf=confusion_matrix(y_test,y_pred)"
      ],
      "metadata": {
        "id": "2rPOKGZZ_n44",
        "colab": {
          "base_uri": "https://localhost:8080/",
          "height": 183
        },
        "outputId": "1592b0be-40bc-468c-87f5-b7302a3cceb3"
      },
      "execution_count": null,
      "outputs": [
        {
          "output_type": "error",
          "ename": "NameError",
          "evalue": "ignored",
          "traceback": [
            "\u001b[0;31m---------------------------------------------------------------------------\u001b[0m",
            "\u001b[0;31mNameError\u001b[0m                                 Traceback (most recent call last)",
            "\u001b[0;32m<ipython-input-3-42eb99cb0785>\u001b[0m in \u001b[0;36m<module>\u001b[0;34m\u001b[0m\n\u001b[1;32m      1\u001b[0m \u001b[0;32mfrom\u001b[0m \u001b[0msklearn\u001b[0m\u001b[0;34m.\u001b[0m\u001b[0mmetrics\u001b[0m \u001b[0;32mimport\u001b[0m \u001b[0mconfusion_matrix\u001b[0m\u001b[0;34m,\u001b[0m\u001b[0mConfusionMatrixDisplay\u001b[0m\u001b[0;34m\u001b[0m\u001b[0;34m\u001b[0m\u001b[0m\n\u001b[0;32m----> 2\u001b[0;31m \u001b[0mcf\u001b[0m\u001b[0;34m=\u001b[0m\u001b[0mconfusion_matrix\u001b[0m\u001b[0;34m(\u001b[0m\u001b[0my_test\u001b[0m\u001b[0;34m,\u001b[0m\u001b[0my_pred\u001b[0m\u001b[0;34m)\u001b[0m\u001b[0;34m\u001b[0m\u001b[0;34m\u001b[0m\u001b[0m\n\u001b[0m",
            "\u001b[0;31mNameError\u001b[0m: name 'y_test' is not defined"
          ]
        }
      ]
    },
    {
      "cell_type": "code",
      "source": [
        "print(classification_report(y_test, y_pred))\n"
      ],
      "metadata": {
        "colab": {
          "base_uri": "https://localhost:8080/"
        },
        "id": "TJwiy8o8_49P",
        "outputId": "15172a9a-c085-4dbc-b53d-20059192904c"
      },
      "execution_count": null,
      "outputs": [
        {
          "output_type": "stream",
          "name": "stdout",
          "text": [
            "              precision    recall  f1-score   support\n",
            "\n",
            "           1       0.76      0.81      0.78      5947\n",
            "           2       0.66      0.67      0.66      4988\n",
            "           3       0.68      0.41      0.51      1346\n",
            "\n",
            "    accuracy                           0.71     12281\n",
            "   macro avg       0.70      0.63      0.65     12281\n",
            "weighted avg       0.71      0.71      0.70     12281\n",
            "\n"
          ]
        }
      ]
    },
    {
      "cell_type": "code",
      "source": [
        "disp=ConfusionMatrixDisplay(cf)\n",
        "disp.plot()"
      ],
      "metadata": {
        "colab": {
          "base_uri": "https://localhost:8080/",
          "height": 296
        },
        "id": "d547q11l_1Je",
        "outputId": "62074b0b-59a8-4a0e-fbe1-23962a33641c"
      },
      "execution_count": null,
      "outputs": [
        {
          "output_type": "execute_result",
          "data": {
            "text/plain": [
              "<sklearn.metrics._plot.confusion_matrix.ConfusionMatrixDisplay at 0x7f7ccdda4ad0>"
            ]
          },
          "metadata": {},
          "execution_count": 28
        },
        {
          "output_type": "display_data",
          "data": {
            "text/plain": [
              "<Figure size 432x288 with 2 Axes>"
            ],
            "image/png": "[encoded data removed]"
          },
          "metadata": {
            "needs_background": "light"
          }
        }
      ]
    },
    {
      "cell_type": "code",
      "source": [
        "from sklearn import metrics\n",
        "\n",
        "print(\"Accuracy:\",metrics.accuracy_score(y_test, y_pred))"
      ],
      "metadata": {
        "colab": {
          "base_uri": "https://localhost:8080/"
        },
        "id": "H94WGnuRUtLX",
        "outputId": "5b485703-a5e7-4818-e862-1f5706f88232"
      },
      "execution_count": null,
      "outputs": [
        {
          "output_type": "stream",
          "name": "stdout",
          "text": [
            "Accuracy: 0.7088999267160655\n"
          ]
        }
      ]
    },
    {
      "cell_type": "markdown",
      "source": [
        "**XGBOOST CLASSIFIER**"
      ],
      "metadata": {
        "id": "Nh0sqYS27yaB"
      }
    },
    {
      "cell_type": "code",
      "source": [
        "from xgboost import XGBClassifier\n",
        "model = XGBClassifier()\n",
        "model.fit(X_train, y_train)"
      ],
      "metadata": {
        "colab": {
          "base_uri": "https://localhost:8080/"
        },
        "id": "UKrlwwHB3wSd",
        "outputId": "60ea9988-b9df-4c79-f484-5666db727c17"
      },
      "execution_count": null,
      "outputs": [
        {
          "output_type": "execute_result",
          "data": {
            "text/plain": [
              "XGBClassifier(objective='multi:softprob')"
            ]
          },
          "metadata": {},
          "execution_count": 73
        }
      ]
    },
    {
      "cell_type": "code",
      "source": [
        "y_pred = model.predict(X_test)\n",
        "print(classification_report(y_test, y_pred))"
      ],
      "metadata": {
        "colab": {
          "base_uri": "https://localhost:8080/"
        },
        "id": "JXF0Pl-b3wNO",
        "outputId": "35c8eee6-8964-435c-edc8-311a559a9ae4"
      },
      "execution_count": null,
      "outputs": [
        {
          "output_type": "stream",
          "name": "stdout",
          "text": [
            "              precision    recall  f1-score   support\n",
            "\n",
            "           1       0.77      0.81      0.79      5947\n",
            "           2       0.67      0.69      0.68      4988\n",
            "           3       0.69      0.47      0.56      1346\n",
            "\n",
            "    accuracy                           0.72     12281\n",
            "   macro avg       0.71      0.65      0.67     12281\n",
            "weighted avg       0.72      0.72      0.72     12281\n",
            "\n"
          ]
        }
      ]
    },
    {
      "cell_type": "code",
      "source": [
        "from sklearn.metrics import confusion_matrix,ConfusionMatrixDisplay\n",
        "cf=confusion_matrix(y_test,y_pred)\n",
        "disp=ConfusionMatrixDisplay(cf)\n",
        "disp.plot()"
      ],
      "metadata": {
        "colab": {
          "base_uri": "https://localhost:8080/",
          "height": 296
        },
        "id": "V-M92vnk7EDz",
        "outputId": "a33cd2b7-f3d6-4d73-dffe-ff55d400f8e5"
      },
      "execution_count": null,
      "outputs": [
        {
          "output_type": "execute_result",
          "data": {
            "text/plain": [
              "<sklearn.metrics._plot.confusion_matrix.ConfusionMatrixDisplay at 0x7f7c6e1e3b10>"
            ]
          },
          "metadata": {},
          "execution_count": 75
        },
        {
          "output_type": "display_data",
          "data": {
            "text/plain": [
              "<Figure size 432x288 with 2 Axes>"
            ],
            "image/png": "[encoded data removed]"
          },
          "metadata": {
            "needs_background": "light"
          }
        }
      ]
    },
    {
      "cell_type": "markdown",
      "source": [
        "**GRADIENTBOOST CLASSIFIER**"
      ],
      "metadata": {
        "id": "UAinPiB873-R"
      }
    },
    {
      "cell_type": "code",
      "source": [
        "from sklearn.ensemble import GradientBoostingClassifier\n",
        "model = GradientBoostingClassifier()\n",
        "# fit the model on the whole dataset\n",
        "model.fit(X_train,y_train)"
      ],
      "metadata": {
        "colab": {
          "base_uri": "https://localhost:8080/"
        },
        "id": "-j4t8eXD6i7L",
        "outputId": "1929cbb8-8941-426b-ba27-505544aae9e4"
      },
      "execution_count": null,
      "outputs": [
        {
          "output_type": "execute_result",
          "data": {
            "text/plain": [
              "GradientBoostingClassifier()"
            ]
          },
          "metadata": {},
          "execution_count": 76
        }
      ]
    },
    {
      "cell_type": "code",
      "source": [
        "y_pred = model.predict(X_test)\n",
        "print(classification_report(y_test, y_pred))"
      ],
      "metadata": {
        "colab": {
          "base_uri": "https://localhost:8080/"
        },
        "id": "i1d0wgqs5iBQ",
        "outputId": "b7f9d0ca-5be7-450a-d430-8ebfdd81063b"
      },
      "execution_count": null,
      "outputs": [
        {
          "output_type": "stream",
          "name": "stdout",
          "text": [
            "              precision    recall  f1-score   support\n",
            "\n",
            "           1       0.78      0.81      0.79      5947\n",
            "           2       0.67      0.69      0.68      4988\n",
            "           3       0.69      0.48      0.57      1346\n",
            "\n",
            "    accuracy                           0.73     12281\n",
            "   macro avg       0.71      0.66      0.68     12281\n",
            "weighted avg       0.73      0.73      0.72     12281\n",
            "\n"
          ]
        }
      ]
    },
    {
      "cell_type": "code",
      "source": [
        "cf=confusion_matrix(y_test,y_pred)\n",
        "disp=ConfusionMatrixDisplay(cf)\n",
        "disp.plot()"
      ],
      "metadata": {
        "colab": {
          "base_uri": "https://localhost:8080/",
          "height": 296
        },
        "id": "RrQegUYa3wIl",
        "outputId": "52f3365f-e42f-4779-8378-d02a9a756b49"
      },
      "execution_count": null,
      "outputs": [
        {
          "output_type": "execute_result",
          "data": {
            "text/plain": [
              "<sklearn.metrics._plot.confusion_matrix.ConfusionMatrixDisplay at 0x7f7c70e6a890>"
            ]
          },
          "metadata": {},
          "execution_count": 78
        },
        {
          "output_type": "display_data",
          "data": {
            "text/plain": [
              "<Figure size 432x288 with 2 Axes>"
            ],
            "image/png": "[encoded data removed]"
          },
          "metadata": {
            "needs_background": "light"
          }
        }
      ]
    },
    {
      "cell_type": "code",
      "source": [
        "# evaluate gradient boosting algorithm for classification\n",
        "from numpy import mean\n",
        "from numpy import std\n",
        "from sklearn.model_selection import cross_val_score\n",
        "from sklearn.model_selection import RepeatedStratifiedKFold\n",
        "model = GradientBoostingClassifier()\n",
        "# define the evaluation method\n",
        "cv = RepeatedStratifiedKFold(n_splits=5, n_repeats=3, random_state=1)\n",
        "# evaluate the model on the dataset\n",
        "n_scores = cross_val_score(model, X_train,y_train, scoring='accuracy', cv=cv, n_jobs=-1)\n",
        "# report performance\n",
        "print('Mean Accuracy: %.3f (%.3f)' % (mean(n_scores), std(n_scores)))"
      ],
      "metadata": {
        "colab": {
          "base_uri": "https://localhost:8080/"
        },
        "id": "zsnPDfEb3wDT",
        "outputId": "cd725aa6-4329-496e-b9d5-091821e70797"
      },
      "execution_count": null,
      "outputs": [
        {
          "output_type": "stream",
          "name": "stdout",
          "text": [
            "Mean Accuracy: 0.737 (0.005)\n"
          ]
        }
      ]
    },
    {
      "cell_type": "code",
      "source": [
        "n_scores"
      ],
      "metadata": {
        "colab": {
          "base_uri": "https://localhost:8080/"
        },
        "id": "kz84co3rCnyI",
        "outputId": "116878b1-471d-49ad-bd45-05ae05f433bd"
      },
      "execution_count": null,
      "outputs": [
        {
          "output_type": "execute_result",
          "data": {
            "text/plain": [
              "array([0.73557252, 0.7389313 , 0.73435115, 0.73821883, 0.73595277,\n",
              "       0.74513995, 0.73608142, 0.73150127, 0.74310433, 0.73055782,\n",
              "       0.73170483, 0.74391858, 0.74412214, 0.73587786, 0.73188111])"
            ]
          },
          "metadata": {},
          "execution_count": 80
        }
      ]
    },
    {
      "cell_type": "markdown",
      "source": [
        "**MAKING THE DATASET BALANCED**"
      ],
      "metadata": {
        "id": "NQyfcv-tO3JN"
      }
    },
    {
      "cell_type": "code",
      "source": [
        "import imblearn\n",
        "from imblearn.over_sampling import RandomOverSampler\n",
        "oversample = RandomOverSampler(sampling_strategy='minority')\n",
        "X,Y = oversample.fit_resample(tf[important_feature_names],y_tsfresh )"
      ],
      "metadata": {
        "id": "CIcOGGTHPn0p"
      },
      "execution_count": null,
      "outputs": []
    },
    {
      "cell_type": "code",
      "source": [
        "from sklearn.model_selection import train_test_split\n",
        "from sklearn.svm import SVC\n",
        "X_train, X_test, y_train, y_test = train_test_split(X,Y,stratify=Y, random_state=0,test_size=0.2)"
      ],
      "metadata": {
        "id": "C1GIVAWmPnvq"
      },
      "execution_count": null,
      "outputs": []
    },
    {
      "cell_type": "code",
      "source": [
        "print(len(X_test),len(y_test))"
      ],
      "metadata": {
        "colab": {
          "base_uri": "https://localhost:8080/"
        },
        "id": "dlt7kHCmikjT",
        "outputId": "dcf84055-215c-47df-bb2b-764703cc65a7"
      },
      "execution_count": null,
      "outputs": [
        {
          "output_type": "stream",
          "name": "stdout",
          "text": [
            "16882 16882\n"
          ]
        }
      ]
    },
    {
      "cell_type": "markdown",
      "source": [
        "**DECISION TREE CLASSIFIER**"
      ],
      "metadata": {
        "id": "wZwHwuZeQ-Os"
      }
    },
    {
      "cell_type": "code",
      "source": [
        "import sklearn.tree as sktree\n",
        "from sklearn.metrics import classification_report\n",
        "classifier_feature = sktree.DecisionTreeClassifier()\n",
        "classifier_feature.fit(X_train, y_train)\n",
        "print(classification_report(y_test, classifier_feature.predict(X_test)))"
      ],
      "metadata": {
        "colab": {
          "base_uri": "https://localhost:8080/"
        },
        "id": "-mVac0dLPnrO",
        "outputId": "06328d09-3adb-4b37-97aa-bf89a2d6f47f"
      },
      "execution_count": null,
      "outputs": [
        {
          "output_type": "stream",
          "name": "stdout",
          "text": [
            "              precision    recall  f1-score   support\n",
            "\n",
            "           1       0.74      0.72      0.73      5947\n",
            "           2       0.65      0.58      0.61      4988\n",
            "           3       0.88      0.99      0.93      5947\n",
            "\n",
            "    accuracy                           0.77     16882\n",
            "   macro avg       0.76      0.76      0.76     16882\n",
            "weighted avg       0.76      0.77      0.77     16882\n",
            "\n"
          ]
        }
      ]
    },
    {
      "cell_type": "code",
      "source": [
        "from sklearn.metrics import confusion_matrix,ConfusionMatrixDisplay\n",
        "cf=confusion_matrix(y_test,classifier_feature.predict(X_test))\n",
        "disp=ConfusionMatrixDisplay(cf)\n",
        "disp.plot()"
      ],
      "metadata": {
        "colab": {
          "base_uri": "https://localhost:8080/",
          "height": 296
        },
        "id": "DyAygapMPnnx",
        "outputId": "debc8d8e-acf1-4c1d-c797-6a945e0431ab"
      },
      "execution_count": null,
      "outputs": [
        {
          "output_type": "execute_result",
          "data": {
            "text/plain": [
              "<sklearn.metrics._plot.confusion_matrix.ConfusionMatrixDisplay at 0x7f7c6a0aa210>"
            ]
          },
          "metadata": {},
          "execution_count": 99
        },
        {
          "output_type": "display_data",
          "data": {
            "text/plain": [
              "<Figure size 432x288 with 2 Axes>"
            ],
            "image/png": "[encoded data removed]"
          },
          "metadata": {
            "needs_background": "light"
          }
        }
      ]
    },
    {
      "cell_type": "code",
      "source": [
        "deep = 5762\n",
        "ok = 4425\n",
        "light = 6695\n",
        "import matplotlib.pyplot as plt\n",
        "import numpy\n",
        "from sklearn import metrics\n",
        "a=round(4280/deep,2)\n",
        "b=round(1495/ok,2)\n",
        "c=round(172/light,2)\n",
        "d=round(1464/deep,2)\n",
        "e=round(2876/ok,2)\n",
        "f=round(648/light,2)\n",
        "g=round(18/deep,2)\n",
        "h=round(54/ok,2)\n",
        "i=round(5875/light,2)\n",
        "cm = np.array([[a,    b, c],\n",
        " [ d,    e, f],\n",
        " [g,h,i]]) # your confusion matrix\n",
        "disp = ConfusionMatrixDisplay(confusion_matrix=cm, display_labels=['A. Deep', 'A. Ok', 'A. Light'])\n",
        "disp.plot()\n",
        "plt.show()"
      ],
      "metadata": {
        "colab": {
          "base_uri": "https://localhost:8080/",
          "height": 279
        },
        "id": "45lUj3w6sqvU",
        "outputId": "87d9310b-5bf4-46c6-b356-1e7bf7908ea2"
      },
      "execution_count": null,
      "outputs": [
        {
          "output_type": "display_data",
          "data": {
            "text/plain": [
              "<Figure size 432x288 with 2 Axes>"
            ],
            "image/png": "[encoded data removed]"
          },
          "metadata": {
            "needs_background": "light"
          }
        }
      ]
    },
    {
      "cell_type": "code",
      "source": [
        "from sklearn import metrics\n",
        "print(\"Accuracy:\",metrics.accuracy_score(y_test, classifier_feature.predict(X_test)))"
      ],
      "metadata": {
        "colab": {
          "base_uri": "https://localhost:8080/"
        },
        "id": "NZk8YFMbR8Ck",
        "outputId": "5c995036-8f30-4c31-9336-967016cfec7d"
      },
      "execution_count": null,
      "outputs": [
        {
          "output_type": "stream",
          "name": "stdout",
          "text": [
            "Accuracy: 0.7718872171543656\n"
          ]
        }
      ]
    },
    {
      "cell_type": "markdown",
      "source": [
        "**RANDOM FOREST CLASSIFIER**"
      ],
      "metadata": {
        "id": "mh4P7G79dZyL"
      }
    },
    {
      "cell_type": "code",
      "source": [
        "from sklearn.ensemble import RandomForestClassifier\n",
        "clf = RandomForestClassifier()\n",
        "clf.fit(X_train, y_train)\n",
        "y_pred = clf.predict(X_test)\n",
        "print(classification_report(y_test, y_pred))"
      ],
      "metadata": {
        "colab": {
          "base_uri": "https://localhost:8080/"
        },
        "id": "chMkEAaIdZRH",
        "outputId": "8162dbb8-5ade-49f5-bdfd-065a7698aff7"
      },
      "execution_count": null,
      "outputs": [
        {
          "output_type": "stream",
          "name": "stdout",
          "text": [
            "              precision    recall  f1-score   support\n",
            "\n",
            "           1       0.79      0.82      0.81      5947\n",
            "           2       0.76      0.66      0.71      4988\n",
            "           3       0.92      0.99      0.95      5947\n",
            "\n",
            "    accuracy                           0.83     16882\n",
            "   macro avg       0.82      0.82      0.82     16882\n",
            "weighted avg       0.83      0.83      0.83     16882\n",
            "\n"
          ]
        }
      ]
    },
    {
      "cell_type": "code",
      "source": [
        "from sklearn.metrics import confusion_matrix,ConfusionMatrixDisplay\n",
        "cf=confusion_matrix(y_test,clf.predict(X_test))\n",
        "disp=ConfusionMatrixDisplay(cf)\n",
        "disp.plot()"
      ],
      "metadata": {
        "colab": {
          "base_uri": "https://localhost:8080/",
          "height": 296
        },
        "id": "zd-3EZgtdh5Z",
        "outputId": "5362342d-20cf-44b5-f1eb-d364b692fde9"
      },
      "execution_count": null,
      "outputs": [
        {
          "output_type": "execute_result",
          "data": {
            "text/plain": [
              "<sklearn.metrics._plot.confusion_matrix.ConfusionMatrixDisplay at 0x7f7c75e2bed0>"
            ]
          },
          "metadata": {},
          "execution_count": 115
        },
        {
          "output_type": "display_data",
          "data": {
            "text/plain": [
              "<Figure size 432x288 with 2 Axes>"
            ],
            "image/png": "[encoded data removed]"
          },
          "metadata": {
            "needs_background": "light"
          }
        }
      ]
    },
    {
      "cell_type": "code",
      "source": [
        "deep = 6152\n",
        "ok = 4305\n",
        "light = 6425\n",
        "import matplotlib.pyplot as plt\n",
        "import numpy\n",
        "from sklearn import metrics\n",
        "a=round(4878/deep,2)\n",
        "b=round(956/ok,2)\n",
        "c=round(113/light,2)\n",
        "d=round(1266/deep,2)\n",
        "e=round(3292/ok,2)\n",
        "f=round(430/light,2)\n",
        "g=round(8/deep,2)\n",
        "h=round(57/ok,2)\n",
        "i=round(5882/light,2)\n",
        "cm = np.array([[a,    b, c],\n",
        " [ d,    e, f],\n",
        " [g,h,i]]) # your confusion matrix\n",
        "disp = ConfusionMatrixDisplay(confusion_matrix=cm, display_labels=['A. Light', 'A. Ok', 'A. Deep'])\n",
        "disp.plot()\n",
        "plt.show()"
      ],
      "metadata": {
        "colab": {
          "base_uri": "https://localhost:8080/",
          "height": 279
        },
        "id": "ccYgKlkxuvkq",
        "outputId": "0902e66c-add0-4978-a880-41f98b51ea0b"
      },
      "execution_count": null,
      "outputs": [
        {
          "output_type": "display_data",
          "data": {
            "text/plain": [
              "<Figure size 432x288 with 2 Axes>"
            ],
            "image/png": "[encoded data removed]"
          },
          "metadata": {
            "needs_background": "light"
          }
        }
      ]
    },
    {
      "cell_type": "code",
      "source": [
        "from sklearn import metrics\n",
        "print(\"Accuracy:\",metrics.accuracy_score(y_test, clf.predict(X_test)))"
      ],
      "metadata": {
        "colab": {
          "base_uri": "https://localhost:8080/"
        },
        "id": "bI_FeN-Ddh3J",
        "outputId": "826ed8d6-60b8-4860-e242-0131cd175e61"
      },
      "execution_count": null,
      "outputs": [
        {
          "output_type": "stream",
          "name": "stdout",
          "text": [
            "Accuracy: 0.8323658334320578\n"
          ]
        }
      ]
    },
    {
      "cell_type": "markdown",
      "source": [
        "Cross validation performance using random forest"
      ],
      "metadata": {
        "id": "8jrbL6FohsOv"
      }
    },
    {
      "cell_type": "code",
      "source": [
        "from numpy import mean\n",
        "from numpy import std\n",
        "from sklearn.model_selection import cross_val_score\n",
        "from sklearn.model_selection import RepeatedStratifiedKFold\n",
        "model = RandomForestClassifier()\n",
        "# define the evaluation method\n",
        "cv = RepeatedStratifiedKFold(n_splits=5, n_repeats=3, random_state=1)\n",
        "# evaluate the model on the dataset\n",
        "n_scores = cross_val_score(model, X_train,y_train, scoring='accuracy', cv=cv, n_jobs=-1)\n",
        "# report performance\n",
        "print('Mean Accuracy: %.3f (%.3f)' % (mean(n_scores), std(n_scores)))"
      ],
      "metadata": {
        "colab": {
          "base_uri": "https://localhost:8080/"
        },
        "id": "tyinip1xf5Wh",
        "outputId": "b21eb152-4882-4424-c189-1689ff3aa8fb"
      },
      "execution_count": null,
      "outputs": [
        {
          "output_type": "stream",
          "name": "stdout",
          "text": [
            "Mean Accuracy: 0.828 (0.003)\n"
          ]
        }
      ]
    },
    {
      "cell_type": "markdown",
      "source": [
        "**SUPPORT VECTOR CLASSIFIER**"
      ],
      "metadata": {
        "id": "7jqsJfgWR1b5"
      }
    },
    {
      "cell_type": "code",
      "source": [
        "from sklearn.svm import SVC\n",
        "clf = SVC(kernel='rbf', C=1E5)\n",
        "clf.fit(X_train, y_train)"
      ],
      "metadata": {
        "colab": {
          "base_uri": "https://localhost:8080/"
        },
        "id": "NHrMMqoUPnlm",
        "outputId": "acaedb63-9579-41e7-a810-261d22a35c88"
      },
      "execution_count": null,
      "outputs": [
        {
          "output_type": "execute_result",
          "data": {
            "text/plain": [
              "SVC(C=100000.0)"
            ]
          },
          "metadata": {},
          "execution_count": 110
        }
      ]
    },
    {
      "cell_type": "code",
      "source": [
        "y_pred = clf.predict(X_test)\n",
        "from sklearn.metrics import confusion_matrix,ConfusionMatrixDisplay\n",
        "cf=confusion_matrix(y_test,y_pred)\n",
        "disp=ConfusionMatrixDisplay(cf)\n",
        "disp.plot()"
      ],
      "metadata": {
        "colab": {
          "base_uri": "https://localhost:8080/",
          "height": 296
        },
        "id": "aCZsRX6tPnix",
        "outputId": "ee03c031-fdf3-4524-c71a-fc53290b6ea3"
      },
      "execution_count": null,
      "outputs": [
        {
          "output_type": "execute_result",
          "data": {
            "text/plain": [
              "<sklearn.metrics._plot.confusion_matrix.ConfusionMatrixDisplay at 0x7f7c70680e50>"
            ]
          },
          "metadata": {},
          "execution_count": 111
        },
        {
          "output_type": "display_data",
          "data": {
            "text/plain": [
              "<Figure size 432x288 with 2 Axes>"
            ],
            "image/png": "[encoded data removed]"
          },
          "metadata": {
            "needs_background": "light"
          }
        }
      ]
    },
    {
      "cell_type": "code",
      "source": [
        "deep = 6546\n",
        "ok = 3516\n",
        "light = 6820\n",
        "import matplotlib.pyplot as plt\n",
        "import numpy\n",
        "from sklearn import metrics\n",
        "a=round(4811/deep,2)\n",
        "b=round(730/ok,2)\n",
        "c=round(406/light,2)\n",
        "d=round(1435/deep,2)\n",
        "e=round(2118/ok,2)\n",
        "f=round(1435/light,2)\n",
        "g=round(300/deep,2)\n",
        "h=round(668/ok,2)\n",
        "i=round(4979/light,2)\n",
        "cm = np.array([[a,    b, c],\n",
        " [ d,    e, f],\n",
        " [g,h,i]]) # your confusion matrix\n",
        "disp = ConfusionMatrixDisplay(confusion_matrix=cm, display_labels=['A. Deep', 'A. Ok', 'A. Light'])\n",
        "disp.plot()\n",
        "plt.show()"
      ],
      "metadata": {
        "colab": {
          "base_uri": "https://localhost:8080/",
          "height": 279
        },
        "id": "2Tp3gz4DwHgl",
        "outputId": "41e0dc5c-8ba0-420f-eff3-7ccdab6bf420"
      },
      "execution_count": null,
      "outputs": [
        {
          "output_type": "display_data",
          "data": {
            "text/plain": [
              "<Figure size 432x288 with 2 Axes>"
            ],
            "image/png": "[encoded data removed]"
          },
          "metadata": {
            "needs_background": "light"
          }
        }
      ]
    },
    {
      "cell_type": "code",
      "source": [
        "print(classification_report(y_test, y_pred))"
      ],
      "metadata": {
        "colab": {
          "base_uri": "https://localhost:8080/"
        },
        "id": "a4aUZ4F3Sbbm",
        "outputId": "5af9febc-595d-40b4-de23-43cc128ff1c1"
      },
      "execution_count": null,
      "outputs": [
        {
          "output_type": "stream",
          "name": "stdout",
          "text": [
            "              precision    recall  f1-score   support\n",
            "\n",
            "           1       0.73      0.81      0.77      5947\n",
            "           2       0.60      0.42      0.50      4988\n",
            "           3       0.73      0.84      0.78      5947\n",
            "\n",
            "    accuracy                           0.71     16882\n",
            "   macro avg       0.69      0.69      0.68     16882\n",
            "weighted avg       0.69      0.71      0.69     16882\n",
            "\n"
          ]
        }
      ]
    },
    {
      "cell_type": "code",
      "source": [
        "from sklearn import metrics\n",
        "print(\"Accuracy:\",metrics.accuracy_score(y_test, y_pred))"
      ],
      "metadata": {
        "colab": {
          "base_uri": "https://localhost:8080/"
        },
        "id": "bH-dP8tyPngR",
        "outputId": "27e28a68-dc9d-4c38-fa5b-739b0eb04b8e"
      },
      "execution_count": null,
      "outputs": [
        {
          "output_type": "stream",
          "name": "stdout",
          "text": [
            "Accuracy: 0.7053666627176874\n"
          ]
        }
      ]
    },
    {
      "cell_type": "markdown",
      "source": [
        "**XGBOOST CLASSIFIER**"
      ],
      "metadata": {
        "id": "gQ98nUzASy8t"
      }
    },
    {
      "cell_type": "code",
      "source": [
        "from xgboost import XGBClassifier\n",
        "model = XGBClassifier()\n",
        "model.fit(X_train, y_train)"
      ],
      "metadata": {
        "colab": {
          "base_uri": "https://localhost:8080/"
        },
        "id": "pD--ve8pPneQ",
        "outputId": "e7602a70-f95f-402e-b1d6-c37fde2889f6"
      },
      "execution_count": null,
      "outputs": [
        {
          "output_type": "execute_result",
          "data": {
            "text/plain": [
              "XGBClassifier(objective='multi:softprob')"
            ]
          },
          "metadata": {},
          "execution_count": 101
        }
      ]
    },
    {
      "cell_type": "code",
      "source": [
        "y_pred = model.predict(X_test)\n",
        "from sklearn.metrics import confusion_matrix,ConfusionMatrixDisplay\n",
        "cf=confusion_matrix(y_test,y_pred)\n",
        "disp=ConfusionMatrixDisplay(cf)\n",
        "disp.plot()"
      ],
      "metadata": {
        "colab": {
          "base_uri": "https://localhost:8080/",
          "height": 297
        },
        "id": "LSS-b234Pnbn",
        "outputId": "b7b92de2-fe1a-4a19-af21-dd14ceb16323"
      },
      "execution_count": null,
      "outputs": [
        {
          "output_type": "execute_result",
          "data": {
            "text/plain": [
              "<sklearn.metrics._plot.confusion_matrix.ConfusionMatrixDisplay at 0x7f7c711a27d0>"
            ]
          },
          "metadata": {},
          "execution_count": 103
        },
        {
          "output_type": "display_data",
          "data": {
            "text/plain": [
              "<Figure size 432x288 with 2 Axes>"
            ],
            "image/png": "[encoded data removed]"
          },
          "metadata": {
            "needs_background": "light"
          }
        }
      ]
    },
    {
      "cell_type": "code",
      "source": [
        "deep = 6297\n",
        "ok = 3805\n",
        "light = 6780\n",
        "import matplotlib.pyplot as plt\n",
        "import numpy\n",
        "from sklearn import metrics\n",
        "a=round(4781/deep,2)\n",
        "b=round(791/ok,2)\n",
        "c=round(375/light,2)\n",
        "d=round(1318/deep,2)\n",
        "e=round(2341/ok,2)\n",
        "f=round(1329/light,2)\n",
        "g=round(198/deep,2)\n",
        "h=round(673/ok,2)\n",
        "i=round(5076/light,2)\n",
        "cm = np.array([[a,    b, c],\n",
        " [ d,    e, f],\n",
        " [g,h,i]]) # your confusion matrix\n",
        "disp = ConfusionMatrixDisplay(confusion_matrix=cm, display_labels=['A. Deep', 'A. Ok', 'A. Light'])\n",
        "disp.plot()\n",
        "plt.show()"
      ],
      "metadata": {
        "colab": {
          "base_uri": "https://localhost:8080/",
          "height": 279
        },
        "id": "OSCjVaiTxWLx",
        "outputId": "d6fbd1ec-2028-4e48-d32f-c1e2ad930b5a"
      },
      "execution_count": null,
      "outputs": [
        {
          "output_type": "display_data",
          "data": {
            "text/plain": [
              "<Figure size 432x288 with 2 Axes>"
            ],
            "image/png": "[encoded data removed]"
          },
          "metadata": {
            "needs_background": "light"
          }
        }
      ]
    },
    {
      "cell_type": "code",
      "source": [
        "print(classification_report(y_test, y_pred))"
      ],
      "metadata": {
        "colab": {
          "base_uri": "https://localhost:8080/"
        },
        "id": "XmFTJIFwTZb5",
        "outputId": "9b7d702a-9c14-4f72-a82e-dd8dfee05c9e"
      },
      "execution_count": null,
      "outputs": [
        {
          "output_type": "stream",
          "name": "stdout",
          "text": [
            "              precision    recall  f1-score   support\n",
            "\n",
            "           1       0.76      0.80      0.78      5947\n",
            "           2       0.62      0.47      0.53      4988\n",
            "           3       0.75      0.85      0.80      5947\n",
            "\n",
            "    accuracy                           0.72     16882\n",
            "   macro avg       0.71      0.71      0.70     16882\n",
            "weighted avg       0.71      0.72      0.71     16882\n",
            "\n"
          ]
        }
      ]
    },
    {
      "cell_type": "code",
      "source": [
        "from sklearn import metrics\n",
        "print(\"Accuracy:\",metrics.accuracy_score(y_test, y_pred))"
      ],
      "metadata": {
        "colab": {
          "base_uri": "https://localhost:8080/"
        },
        "id": "ex1ti_MtPnY5",
        "outputId": "e3472b15-88b7-403f-c0b4-7bb423635a87"
      },
      "execution_count": null,
      "outputs": [
        {
          "output_type": "stream",
          "name": "stdout",
          "text": [
            "Accuracy: 0.7225447221893141\n"
          ]
        }
      ]
    },
    {
      "cell_type": "markdown",
      "source": [
        "**GRADIENTBOOST CLASSIFIER**"
      ],
      "metadata": {
        "id": "YKpfzS2nTv16"
      }
    },
    {
      "cell_type": "code",
      "source": [
        "from sklearn.ensemble import GradientBoostingClassifier\n",
        "model = GradientBoostingClassifier()\n",
        "# fit the model on the whole dataset\n",
        "model.fit(X_train,y_train)"
      ],
      "metadata": {
        "colab": {
          "base_uri": "https://localhost:8080/"
        },
        "id": "mXj-YBPdPnWl",
        "outputId": "ee2cac07-0076-4389-a1b7-8792e72821a7"
      },
      "execution_count": null,
      "outputs": [
        {
          "output_type": "execute_result",
          "data": {
            "text/plain": [
              "GradientBoostingClassifier()"
            ]
          },
          "metadata": {},
          "execution_count": 106
        }
      ]
    },
    {
      "cell_type": "code",
      "source": [
        "y_pred = model.predict(X_test)\n",
        "from sklearn.metrics import confusion_matrix,ConfusionMatrixDisplay\n",
        "cf=confusion_matrix(y_test,y_pred)\n",
        "disp=ConfusionMatrixDisplay(cf)\n",
        "disp.plot()"
      ],
      "metadata": {
        "colab": {
          "base_uri": "https://localhost:8080/",
          "height": 296
        },
        "id": "PFTjDoIEPnUG",
        "outputId": "8a880d94-885d-4caf-dc55-9f63895a9ae7"
      },
      "execution_count": null,
      "outputs": [
        {
          "output_type": "execute_result",
          "data": {
            "text/plain": [
              "<sklearn.metrics._plot.confusion_matrix.ConfusionMatrixDisplay at 0x7f7c70a4cdd0>"
            ]
          },
          "metadata": {},
          "execution_count": 107
        },
        {
          "output_type": "display_data",
          "data": {
            "text/plain": [
              "<Figure size 432x288 with 2 Axes>"
            ],
            "image/png": "[encoded data removed]"
          },
          "metadata": {
            "needs_background": "light"
          }
        }
      ]
    },
    {
      "cell_type": "code",
      "source": [
        "deep = 6198\n",
        "ok = 3992\n",
        "light = 6692\n",
        "import matplotlib.pyplot as plt\n",
        "import numpy\n",
        "from sklearn import metrics\n",
        "a=round(4763/deep,2)\n",
        "b=round(828/ok,2)\n",
        "c=round(356/light,2)\n",
        "d=round(1280/deep,2)\n",
        "e=round(2473/ok,2)\n",
        "f=round(1235/light,2)\n",
        "g=round(155/deep,2)\n",
        "h=round(691/ok,2)\n",
        "i=round(5101/light,2)\n",
        "cm = np.array([[a,    b, c],\n",
        " [ d,    e, f],\n",
        " [g,h,i]]) # your confusion matrix\n",
        "disp = ConfusionMatrixDisplay(confusion_matrix=cm, display_labels=['A. Deep', 'A. Ok', 'A. Light'])\n",
        "disp.plot()\n",
        "plt.show()"
      ],
      "metadata": {
        "colab": {
          "base_uri": "https://localhost:8080/",
          "height": 279
        },
        "id": "utee8rLexXPI",
        "outputId": "94ed72c7-8f7d-40ba-c690-c44d52af00ca"
      },
      "execution_count": null,
      "outputs": [
        {
          "output_type": "display_data",
          "data": {
            "text/plain": [
              "<Figure size 432x288 with 2 Axes>"
            ],
            "image/png": "[encoded data removed]"
          },
          "metadata": {
            "needs_background": "light"
          }
        }
      ]
    },
    {
      "cell_type": "code",
      "source": [
        "print(classification_report(y_test, y_pred))"
      ],
      "metadata": {
        "colab": {
          "base_uri": "https://localhost:8080/"
        },
        "id": "If9IeNWBPnRo",
        "outputId": "2047f5fe-8783-47e8-f72a-0cbb5163ff92"
      },
      "execution_count": null,
      "outputs": [
        {
          "output_type": "stream",
          "name": "stdout",
          "text": [
            "              precision    recall  f1-score   support\n",
            "\n",
            "           1       0.77      0.80      0.78      5947\n",
            "           2       0.62      0.50      0.55      4988\n",
            "           3       0.76      0.86      0.81      5947\n",
            "\n",
            "    accuracy                           0.73     16882\n",
            "   macro avg       0.72      0.72      0.71     16882\n",
            "weighted avg       0.72      0.73      0.72     16882\n",
            "\n"
          ]
        }
      ]
    },
    {
      "cell_type": "code",
      "source": [
        "from sklearn import metrics\n",
        "print(\"Accuracy:\",metrics.accuracy_score(y_test, y_pred))"
      ],
      "metadata": {
        "colab": {
          "base_uri": "https://localhost:8080/"
        },
        "id": "tsLtRS2DT3Ea",
        "outputId": "76fb6626-c876-4dc1-d183-cd67aa34eaa7"
      },
      "execution_count": null,
      "outputs": [
        {
          "output_type": "stream",
          "name": "stdout",
          "text": [
            "Accuracy: 0.7307783437981282\n"
          ]
        }
      ]
    },
    {
      "cell_type": "markdown",
      "source": [
        "**DEEP LEARNING**"
      ],
      "metadata": {
        "id": "iWjeHHJTzwkz"
      }
    },
    {
      "cell_type": "code",
      "source": [
        "X=X.to_numpy()"
      ],
      "metadata": {
        "id": "MKkn3GSVsbJK"
      },
      "execution_count": null,
      "outputs": []
    },
    {
      "cell_type": "code",
      "source": [
        "Y=Y.to_numpy()"
      ],
      "metadata": {
        "id": "hDfBPysTzzp-"
      },
      "execution_count": null,
      "outputs": []
    },
    {
      "cell_type": "code",
      "source": [
        "X"
      ],
      "metadata": {
        "colab": {
          "base_uri": "https://localhost:8080/"
        },
        "id": "I3hRjwG6z0CK",
        "outputId": "e4ff3415-770c-4d3d-818b-952d8c41b80a"
      },
      "execution_count": null,
      "outputs": [
        {
          "output_type": "execute_result",
          "data": {
            "text/plain": [
              "array([[8.30000000e+01, 2.15000000e+02, 3.24383334e-01, ...,\n",
              "        2.01681507e+00, 2.16689256e-01, 3.76099874e-01],\n",
              "       [8.30000000e+01, 2.13000000e+02, 1.47074256e-01, ...,\n",
              "        2.21669197e+00, 5.21968390e-02, 2.41223223e-01],\n",
              "       [7.70000000e+01, 2.04000000e+02, 3.58747152e-01, ...,\n",
              "        1.80724322e+00, 2.24721705e-01, 4.44793905e-01],\n",
              "       ...,\n",
              "       [4.40000000e+01, 7.00000000e+01, 6.99132574e-01, ...,\n",
              "        9.08646985e-01, 2.85788969e-01, 1.03672812e-01],\n",
              "       [4.00000000e+01, 1.36000000e+02, 8.88916294e-01, ...,\n",
              "        9.16804152e-01, 6.90339271e-01, 5.63073360e-01],\n",
              "       [2.00000000e+01, 8.40000000e+01, 4.66183117e-01, ...,\n",
              "        3.45795077e-01, 2.91328974e-01, 2.58440381e-01]])"
            ]
          },
          "metadata": {},
          "execution_count": 23
        }
      ]
    },
    {
      "cell_type": "code",
      "source": [
        "Y"
      ],
      "metadata": {
        "colab": {
          "base_uri": "https://localhost:8080/"
        },
        "id": "J1cJ8XVPz6H6",
        "outputId": "1b3b4cf3-3685-4c28-d8dc-fed4230e5965"
      },
      "execution_count": null,
      "outputs": [
        {
          "output_type": "execute_result",
          "data": {
            "text/plain": [
              "array([3, 3, 3, ..., 3, 3, 3])"
            ]
          },
          "metadata": {},
          "execution_count": 24
        }
      ]
    },
    {
      "cell_type": "code",
      "source": [
        "import numpy as np\n",
        "from keras.preprocessing import sequence\n",
        "from keras.models import Sequential\n",
        "from keras.layers import Dense, Dropout, Embedding, LSTM, Bidirectional"
      ],
      "metadata": {
        "id": "XHOFC-Ch02hu"
      },
      "execution_count": null,
      "outputs": []
    },
    {
      "cell_type": "code",
      "source": [
        "X_train, X_validate, X_test = np.split(X, [int(.8*len(X)), int(.9*len(X))])\n",
        "Y_train, Y_validate, Y_test = np.split(Y, [int(.8*len(Y)), int(.9*len(Y))])"
      ],
      "metadata": {
        "id": "liDsV3rS1PVt"
      },
      "execution_count": null,
      "outputs": []
    },
    {
      "cell_type": "code",
      "source": [
        "X_train = X_train.reshape((X_train.shape[0], X_train.shape[1], 1))\n",
        "X_train.shape"
      ],
      "metadata": {
        "colab": {
          "base_uri": "https://localhost:8080/"
        },
        "id": "qWTUJDh609Wz",
        "outputId": "9df8f924-1741-48a0-e4a4-b3f5dc4a1cca"
      },
      "execution_count": null,
      "outputs": [
        {
          "output_type": "execute_result",
          "data": {
            "text/plain": [
              "(67528, 22, 1)"
            ]
          },
          "metadata": {},
          "execution_count": 31
        }
      ]
    },
    {
      "cell_type": "code",
      "source": [
        "X_validate = X_validate.reshape((X_validate.shape[0], X_validate.shape[1], 1))\n",
        "X_validate.shape"
      ],
      "metadata": {
        "colab": {
          "base_uri": "https://localhost:8080/"
        },
        "id": "JaMNQYUk1BOY",
        "outputId": "ad155ce4-adc5-40f4-eaa9-abd7e1d4082d"
      },
      "execution_count": null,
      "outputs": [
        {
          "output_type": "execute_result",
          "data": {
            "text/plain": [
              "(8441, 22, 1)"
            ]
          },
          "metadata": {},
          "execution_count": 32
        }
      ]
    },
    {
      "cell_type": "code",
      "source": [
        "function='tanh'\n",
        "model = Sequential()\n",
        "model.add(LSTM(64, activation=function, recurrent_activation=\"sigmoid\", return_sequences=True, input_shape=(22,1)))\n",
        "model.add(Dropout(0.3))\n",
        "model.add(LSTM(128, activation=function, return_sequences=True))\n",
        "model.add(Dropout(0.3))\n",
        "model.add(LSTM(256, activation=function, return_sequences=True))\n",
        "model.add(Dropout(0.3))\n",
        "model.add(LSTM(128, activation=function, return_sequences=True))\n",
        "model.add(Dropout(0.3))\n",
        "model.add(LSTM(64, activation=function))\n",
        "model.add(Dense(1,activation=\"softmax\"))\n",
        "model.compile(loss='categorical_crossentropy', optimizer='adam', metrics=['accuracy'])\n",
        "model.summary()"
      ],
      "metadata": {
        "colab": {
          "base_uri": "https://localhost:8080/"
        },
        "id": "XQm_TLccz6Zi",
        "outputId": "3e60973a-2006-45d5-b400-1a2d097419d9"
      },
      "execution_count": null,
      "outputs": [
        {
          "output_type": "stream",
          "name": "stdout",
          "text": [
            "Model: \"sequential_1\"\n",
            "_________________________________________________________________\n",
            " Layer (type)                Output Shape              Param #   \n",
            "=================================================================\n",
            " lstm_5 (LSTM)               (None, 22, 64)            16896     \n",
            "                                                                 \n",
            " dropout_4 (Dropout)         (None, 22, 64)            0         \n",
            "                                                                 \n",
            " lstm_6 (LSTM)               (None, 22, 128)           98816     \n",
            "                                                                 \n",
            " dropout_5 (Dropout)         (None, 22, 128)           0         \n",
            "                                                                 \n",
            " lstm_7 (LSTM)               (None, 22, 256)           394240    \n",
            "                                                                 \n",
            " dropout_6 (Dropout)         (None, 22, 256)           0         \n",
            "                                                                 \n",
            " lstm_8 (LSTM)               (None, 22, 128)           197120    \n",
            "                                                                 \n",
            " dropout_7 (Dropout)         (None, 22, 128)           0         \n",
            "                                                                 \n",
            " lstm_9 (LSTM)               (None, 64)                49408     \n",
            "                                                                 \n",
            " dense_1 (Dense)             (None, 1)                 65        \n",
            "                                                                 \n",
            "=================================================================\n",
            "Total params: 756,545\n",
            "Trainable params: 756,545\n",
            "Non-trainable params: 0\n",
            "_________________________________________________________________\n"
          ]
        }
      ]
    },
    {
      "cell_type": "code",
      "source": [
        "history=model.fit(X_train,Y_train, epochs=5, verbose=2, batch_size=256, validation_data=(X_validate, Y_validate))"
      ],
      "metadata": {
        "colab": {
          "base_uri": "https://localhost:8080/",
          "height": 398
        },
        "id": "icJn9L4D10ft",
        "outputId": "3d6c6d35-0092-4404-d16d-b25c9abf1281"
      },
      "execution_count": null,
      "outputs": [
        {
          "output_type": "stream",
          "name": "stdout",
          "text": [
            "Epoch 1/5\n",
            "264/264 - 243s - loss: 0.0000e+00 - accuracy: 0.4404 - val_loss: 0.0000e+00 - val_accuracy: 0.0000e+00 - 243s/epoch - 921ms/step\n",
            "Epoch 2/5\n",
            "264/264 - 218s - loss: 0.0000e+00 - accuracy: 0.4404 - val_loss: 0.0000e+00 - val_accuracy: 0.0000e+00 - 218s/epoch - 824ms/step\n",
            "Epoch 3/5\n"
          ]
        },
        {
          "output_type": "error",
          "ename": "KeyboardInterrupt",
          "evalue": "ignored",
          "traceback": [
            "\u001b[0;31m---------------------------------------------------------------------------\u001b[0m",
            "\u001b[0;31mKeyboardInterrupt\u001b[0m                         Traceback (most recent call last)",
            "\u001b[0;32m<ipython-input-36-0dd9dc8d2e3f>\u001b[0m in \u001b[0;36m<module>\u001b[0;34m\u001b[0m\n\u001b[0;32m----> 1\u001b[0;31m \u001b[0mhistory\u001b[0m\u001b[0;34m=\u001b[0m\u001b[0mmodel\u001b[0m\u001b[0;34m.\u001b[0m\u001b[0mfit\u001b[0m\u001b[0;34m(\u001b[0m\u001b[0mX_train\u001b[0m\u001b[0;34m,\u001b[0m\u001b[0mY_train\u001b[0m\u001b[0;34m,\u001b[0m \u001b[0mepochs\u001b[0m\u001b[0;34m=\u001b[0m\u001b[0;36m5\u001b[0m\u001b[0;34m,\u001b[0m \u001b[0mverbose\u001b[0m\u001b[0;34m=\u001b[0m\u001b[0;36m2\u001b[0m\u001b[0;34m,\u001b[0m \u001b[0mbatch_size\u001b[0m\u001b[0;34m=\u001b[0m\u001b[0;36m256\u001b[0m\u001b[0;34m,\u001b[0m \u001b[0mvalidation_data\u001b[0m\u001b[0;34m=\u001b[0m\u001b[0;34m(\u001b[0m\u001b[0mX_validate\u001b[0m\u001b[0;34m,\u001b[0m \u001b[0mY_validate\u001b[0m\u001b[0;34m)\u001b[0m\u001b[0;34m)\u001b[0m\u001b[0;34m\u001b[0m\u001b[0;34m\u001b[0m\u001b[0m\n\u001b[0m",
            "\u001b[0;32m/usr/local/lib/python3.7/dist-packages/keras/utils/traceback_utils.py\u001b[0m in \u001b[0;36merror_handler\u001b[0;34m(*args, **kwargs)\u001b[0m\n\u001b[1;32m     62\u001b[0m     \u001b[0mfiltered_tb\u001b[0m \u001b[0;34m=\u001b[0m \u001b[0;32mNone\u001b[0m\u001b[0;34m\u001b[0m\u001b[0;34m\u001b[0m\u001b[0m\n\u001b[1;32m     63\u001b[0m     \u001b[0;32mtry\u001b[0m\u001b[0;34m:\u001b[0m\u001b[0;34m\u001b[0m\u001b[0;34m\u001b[0m\u001b[0m\n\u001b[0;32m---> 64\u001b[0;31m       \u001b[0;32mreturn\u001b[0m \u001b[0mfn\u001b[0m\u001b[0;34m(\u001b[0m\u001b[0;34m*\u001b[0m\u001b[0margs\u001b[0m\u001b[0;34m,\u001b[0m \u001b[0;34m**\u001b[0m\u001b[0mkwargs\u001b[0m\u001b[0;34m)\u001b[0m\u001b[0;34m\u001b[0m\u001b[0;34m\u001b[0m\u001b[0m\n\u001b[0m\u001b[1;32m     65\u001b[0m     \u001b[0;32mexcept\u001b[0m \u001b[0mException\u001b[0m \u001b[0;32mas\u001b[0m \u001b[0me\u001b[0m\u001b[0;34m:\u001b[0m  \u001b[0;31m# pylint: disable=broad-except\u001b[0m\u001b[0;34m\u001b[0m\u001b[0;34m\u001b[0m\u001b[0m\n\u001b[1;32m     66\u001b[0m       \u001b[0mfiltered_tb\u001b[0m \u001b[0;34m=\u001b[0m \u001b[0m_process_traceback_frames\u001b[0m\u001b[0;34m(\u001b[0m\u001b[0me\u001b[0m\u001b[0;34m.\u001b[0m\u001b[0m__traceback__\u001b[0m\u001b[0;34m)\u001b[0m\u001b[0;34m\u001b[0m\u001b[0;34m\u001b[0m\u001b[0m\n",
            "\u001b[0;32m/usr/local/lib/python3.7/dist-packages/keras/engine/training.py\u001b[0m in \u001b[0;36mfit\u001b[0;34m(self, x, y, batch_size, epochs, verbose, callbacks, validation_split, validation_data, shuffle, class_weight, sample_weight, initial_epoch, steps_per_epoch, validation_steps, validation_batch_size, validation_freq, max_queue_size, workers, use_multiprocessing)\u001b[0m\n\u001b[1;32m   1407\u001b[0m                 _r=1):\n\u001b[1;32m   1408\u001b[0m               \u001b[0mcallbacks\u001b[0m\u001b[0;34m.\u001b[0m\u001b[0mon_train_batch_begin\u001b[0m\u001b[0;34m(\u001b[0m\u001b[0mstep\u001b[0m\u001b[0;34m)\u001b[0m\u001b[0;34m\u001b[0m\u001b[0;34m\u001b[0m\u001b[0m\n\u001b[0;32m-> 1409\u001b[0;31m               \u001b[0mtmp_logs\u001b[0m \u001b[0;34m=\u001b[0m \u001b[0mself\u001b[0m\u001b[0;34m.\u001b[0m\u001b[0mtrain_function\u001b[0m\u001b[0;34m(\u001b[0m\u001b[0miterator\u001b[0m\u001b[0;34m)\u001b[0m\u001b[0;34m\u001b[0m\u001b[0;34m\u001b[0m\u001b[0m\n\u001b[0m\u001b[1;32m   1410\u001b[0m               \u001b[0;32mif\u001b[0m \u001b[0mdata_handler\u001b[0m\u001b[0;34m.\u001b[0m\u001b[0mshould_sync\u001b[0m\u001b[0;34m:\u001b[0m\u001b[0;34m\u001b[0m\u001b[0;34m\u001b[0m\u001b[0m\n\u001b[1;32m   1411\u001b[0m                 \u001b[0mcontext\u001b[0m\u001b[0;34m.\u001b[0m\u001b[0masync_wait\u001b[0m\u001b[0;34m(\u001b[0m\u001b[0;34m)\u001b[0m\u001b[0;34m\u001b[0m\u001b[0;34m\u001b[0m\u001b[0m\n",
            "\u001b[0;32m/usr/local/lib/python3.7/dist-packages/tensorflow/python/util/traceback_utils.py\u001b[0m in \u001b[0;36merror_handler\u001b[0;34m(*args, **kwargs)\u001b[0m\n\u001b[1;32m    148\u001b[0m     \u001b[0mfiltered_tb\u001b[0m \u001b[0;34m=\u001b[0m \u001b[0;32mNone\u001b[0m\u001b[0;34m\u001b[0m\u001b[0;34m\u001b[0m\u001b[0m\n\u001b[1;32m    149\u001b[0m     \u001b[0;32mtry\u001b[0m\u001b[0;34m:\u001b[0m\u001b[0;34m\u001b[0m\u001b[0;34m\u001b[0m\u001b[0m\n\u001b[0;32m--> 150\u001b[0;31m       \u001b[0;32mreturn\u001b[0m \u001b[0mfn\u001b[0m\u001b[0;34m(\u001b[0m\u001b[0;34m*\u001b[0m\u001b[0margs\u001b[0m\u001b[0;34m,\u001b[0m \u001b[0;34m**\u001b[0m\u001b[0mkwargs\u001b[0m\u001b[0;34m)\u001b[0m\u001b[0;34m\u001b[0m\u001b[0;34m\u001b[0m\u001b[0m\n\u001b[0m\u001b[1;32m    151\u001b[0m     \u001b[0;32mexcept\u001b[0m \u001b[0mException\u001b[0m \u001b[0;32mas\u001b[0m \u001b[0me\u001b[0m\u001b[0;34m:\u001b[0m\u001b[0;34m\u001b[0m\u001b[0;34m\u001b[0m\u001b[0m\n\u001b[1;32m    152\u001b[0m       \u001b[0mfiltered_tb\u001b[0m \u001b[0;34m=\u001b[0m \u001b[0m_process_traceback_frames\u001b[0m\u001b[0;34m(\u001b[0m\u001b[0me\u001b[0m\u001b[0;34m.\u001b[0m\u001b[0m__traceback__\u001b[0m\u001b[0;34m)\u001b[0m\u001b[0;34m\u001b[0m\u001b[0;34m\u001b[0m\u001b[0m\n",
            "\u001b[0;32m/usr/local/lib/python3.7/dist-packages/tensorflow/python/eager/def_function.py\u001b[0m in \u001b[0;36m__call__\u001b[0;34m(self, *args, **kwds)\u001b[0m\n\u001b[1;32m    913\u001b[0m \u001b[0;34m\u001b[0m\u001b[0m\n\u001b[1;32m    914\u001b[0m       \u001b[0;32mwith\u001b[0m \u001b[0mOptionalXlaContext\u001b[0m\u001b[0;34m(\u001b[0m\u001b[0mself\u001b[0m\u001b[0;34m.\u001b[0m\u001b[0m_jit_compile\u001b[0m\u001b[0;34m)\u001b[0m\u001b[0;34m:\u001b[0m\u001b[0;34m\u001b[0m\u001b[0;34m\u001b[0m\u001b[0m\n\u001b[0;32m--> 915\u001b[0;31m         \u001b[0mresult\u001b[0m \u001b[0;34m=\u001b[0m \u001b[0mself\u001b[0m\u001b[0;34m.\u001b[0m\u001b[0m_call\u001b[0m\u001b[0;34m(\u001b[0m\u001b[0;34m*\u001b[0m\u001b[0margs\u001b[0m\u001b[0;34m,\u001b[0m \u001b[0;34m**\u001b[0m\u001b[0mkwds\u001b[0m\u001b[0;34m)\u001b[0m\u001b[0;34m\u001b[0m\u001b[0;34m\u001b[0m\u001b[0m\n\u001b[0m\u001b[1;32m    916\u001b[0m \u001b[0;34m\u001b[0m\u001b[0m\n\u001b[1;32m    917\u001b[0m       \u001b[0mnew_tracing_count\u001b[0m \u001b[0;34m=\u001b[0m \u001b[0mself\u001b[0m\u001b[0;34m.\u001b[0m\u001b[0mexperimental_get_tracing_count\u001b[0m\u001b[0;34m(\u001b[0m\u001b[0;34m)\u001b[0m\u001b[0;34m\u001b[0m\u001b[0;34m\u001b[0m\u001b[0m\n",
            "\u001b[0;32m/usr/local/lib/python3.7/dist-packages/tensorflow/python/eager/def_function.py\u001b[0m in \u001b[0;36m_call\u001b[0;34m(self, *args, **kwds)\u001b[0m\n\u001b[1;32m    945\u001b[0m       \u001b[0;31m# In this case we have created variables on the first call, so we run the\u001b[0m\u001b[0;34m\u001b[0m\u001b[0;34m\u001b[0m\u001b[0;34m\u001b[0m\u001b[0m\n\u001b[1;32m    946\u001b[0m       \u001b[0;31m# defunned version which is guaranteed to never create variables.\u001b[0m\u001b[0;34m\u001b[0m\u001b[0;34m\u001b[0m\u001b[0;34m\u001b[0m\u001b[0m\n\u001b[0;32m--> 947\u001b[0;31m       \u001b[0;32mreturn\u001b[0m \u001b[0mself\u001b[0m\u001b[0;34m.\u001b[0m\u001b[0m_stateless_fn\u001b[0m\u001b[0;34m(\u001b[0m\u001b[0;34m*\u001b[0m\u001b[0margs\u001b[0m\u001b[0;34m,\u001b[0m \u001b[0;34m**\u001b[0m\u001b[0mkwds\u001b[0m\u001b[0;34m)\u001b[0m  \u001b[0;31m# pylint: disable=not-callable\u001b[0m\u001b[0;34m\u001b[0m\u001b[0;34m\u001b[0m\u001b[0m\n\u001b[0m\u001b[1;32m    948\u001b[0m     \u001b[0;32melif\u001b[0m \u001b[0mself\u001b[0m\u001b[0;34m.\u001b[0m\u001b[0m_stateful_fn\u001b[0m \u001b[0;32mis\u001b[0m \u001b[0;32mnot\u001b[0m \u001b[0;32mNone\u001b[0m\u001b[0;34m:\u001b[0m\u001b[0;34m\u001b[0m\u001b[0;34m\u001b[0m\u001b[0m\n\u001b[1;32m    949\u001b[0m       \u001b[0;31m# Release the lock early so that multiple threads can perform the call\u001b[0m\u001b[0;34m\u001b[0m\u001b[0;34m\u001b[0m\u001b[0;34m\u001b[0m\u001b[0m\n",
            "\u001b[0;32m/usr/local/lib/python3.7/dist-packages/tensorflow/python/eager/function.py\u001b[0m in \u001b[0;36m__call__\u001b[0;34m(self, *args, **kwargs)\u001b[0m\n\u001b[1;32m   2452\u001b[0m        filtered_flat_args) = self._maybe_define_function(args, kwargs)\n\u001b[1;32m   2453\u001b[0m     return graph_function._call_flat(\n\u001b[0;32m-> 2454\u001b[0;31m         filtered_flat_args, captured_inputs=graph_function.captured_inputs)  # pylint: disable=protected-access\n\u001b[0m\u001b[1;32m   2455\u001b[0m \u001b[0;34m\u001b[0m\u001b[0m\n\u001b[1;32m   2456\u001b[0m   \u001b[0;34m@\u001b[0m\u001b[0mproperty\u001b[0m\u001b[0;34m\u001b[0m\u001b[0;34m\u001b[0m\u001b[0m\n",
            "\u001b[0;32m/usr/local/lib/python3.7/dist-packages/tensorflow/python/eager/function.py\u001b[0m in \u001b[0;36m_call_flat\u001b[0;34m(self, args, captured_inputs, cancellation_manager)\u001b[0m\n\u001b[1;32m   1859\u001b[0m       \u001b[0;31m# No tape is watching; skip to running the function.\u001b[0m\u001b[0;34m\u001b[0m\u001b[0;34m\u001b[0m\u001b[0;34m\u001b[0m\u001b[0m\n\u001b[1;32m   1860\u001b[0m       return self._build_call_outputs(self._inference_function.call(\n\u001b[0;32m-> 1861\u001b[0;31m           ctx, args, cancellation_manager=cancellation_manager))\n\u001b[0m\u001b[1;32m   1862\u001b[0m     forward_backward = self._select_forward_and_backward_functions(\n\u001b[1;32m   1863\u001b[0m         \u001b[0margs\u001b[0m\u001b[0;34m,\u001b[0m\u001b[0;34m\u001b[0m\u001b[0;34m\u001b[0m\u001b[0m\n",
            "\u001b[0;32m/usr/local/lib/python3.7/dist-packages/tensorflow/python/eager/function.py\u001b[0m in \u001b[0;36mcall\u001b[0;34m(self, ctx, args, cancellation_manager)\u001b[0m\n\u001b[1;32m    500\u001b[0m               \u001b[0minputs\u001b[0m\u001b[0;34m=\u001b[0m\u001b[0margs\u001b[0m\u001b[0;34m,\u001b[0m\u001b[0;34m\u001b[0m\u001b[0;34m\u001b[0m\u001b[0m\n\u001b[1;32m    501\u001b[0m               \u001b[0mattrs\u001b[0m\u001b[0;34m=\u001b[0m\u001b[0mattrs\u001b[0m\u001b[0;34m,\u001b[0m\u001b[0;34m\u001b[0m\u001b[0;34m\u001b[0m\u001b[0m\n\u001b[0;32m--> 502\u001b[0;31m               ctx=ctx)\n\u001b[0m\u001b[1;32m    503\u001b[0m         \u001b[0;32melse\u001b[0m\u001b[0;34m:\u001b[0m\u001b[0;34m\u001b[0m\u001b[0;34m\u001b[0m\u001b[0m\n\u001b[1;32m    504\u001b[0m           outputs = execute.execute_with_cancellation(\n",
            "\u001b[0;32m/usr/local/lib/python3.7/dist-packages/tensorflow/python/eager/execute.py\u001b[0m in \u001b[0;36mquick_execute\u001b[0;34m(op_name, num_outputs, inputs, attrs, ctx, name)\u001b[0m\n\u001b[1;32m     53\u001b[0m     \u001b[0mctx\u001b[0m\u001b[0;34m.\u001b[0m\u001b[0mensure_initialized\u001b[0m\u001b[0;34m(\u001b[0m\u001b[0;34m)\u001b[0m\u001b[0;34m\u001b[0m\u001b[0;34m\u001b[0m\u001b[0m\n\u001b[1;32m     54\u001b[0m     tensors = pywrap_tfe.TFE_Py_Execute(ctx._handle, device_name, op_name,\n\u001b[0;32m---> 55\u001b[0;31m                                         inputs, attrs, num_outputs)\n\u001b[0m\u001b[1;32m     56\u001b[0m   \u001b[0;32mexcept\u001b[0m \u001b[0mcore\u001b[0m\u001b[0;34m.\u001b[0m\u001b[0m_NotOkStatusException\u001b[0m \u001b[0;32mas\u001b[0m \u001b[0me\u001b[0m\u001b[0;34m:\u001b[0m\u001b[0;34m\u001b[0m\u001b[0;34m\u001b[0m\u001b[0m\n\u001b[1;32m     57\u001b[0m     \u001b[0;32mif\u001b[0m \u001b[0mname\u001b[0m \u001b[0;32mis\u001b[0m \u001b[0;32mnot\u001b[0m \u001b[0;32mNone\u001b[0m\u001b[0;34m:\u001b[0m\u001b[0;34m\u001b[0m\u001b[0;34m\u001b[0m\u001b[0m\n",
            "\u001b[0;31mKeyboardInterrupt\u001b[0m: "
          ]
        }
      ]
    }
  ],
  "metadata": {
    "colab": {
      "collapsed_sections": [
        "uK_8hN9tnbvv",
        "n6OImcAUrFXF"
      ],
      "provenance": [],
      "gpuClass": "premium"
    },
    "gpuClass": "premium",
    "kernelspec": {
      "display_name": "Python 3",
      "language": "python",
      "name": "python3"
    },
    "language_info": {
      "codemirror_mode": {
        "name": "ipython",
        "version": 3
      },
      "file_extension": ".py",
      "mimetype": "text/x-python",
      "name": "python",
      "nbconvert_exporter": "python",
      "pygments_lexer": "ipython3",
      "version": "3.8.5"
    }
  },
  "nbformat": 4,
  "nbformat_minor": 0
}